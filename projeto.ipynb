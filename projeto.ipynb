{
 "cells": [
  {
   "cell_type": "markdown",
   "metadata": {},
   "source": [
    "# AVALIAÇÃO 2 - PROGRAMAÇÃO EM FINANÇAS\n",
    "#### Professor: Julio Russo\n",
    "#### Disciplina: Programação em Finanças\n",
    "#### Turma: 2025.1\n",
    "#### Alunos: Lucas dos Santos Marques, Luiz Fernando M. Meirinho , Victor A. S. de Souza e Victor Flávio P. Dornelos\n",
    "#### Data: 05/06/2025"
   ]
  },
  {
   "cell_type": "code",
   "execution_count": 1,
   "metadata": {},
   "outputs": [],
   "source": [
    "#pip install -r requirements.txt"
   ]
  },
  {
   "cell_type": "code",
   "execution_count": 2,
   "metadata": {},
   "outputs": [],
   "source": [
    "# Bibliotecas necessárias\n",
    "import pandas as pd\n",
    "import numpy as np\n",
    "import matplotlib.pyplot as plt\n",
    "import seaborn as sns\n",
    "import plotly.express as px\n",
    "from IPython.display import display, Markdown\n",
    "from tabulate import tabulate\n",
    "import numpy_financial as npf\n",
    "from help import simulador_carro\n"
   ]
  },
  {
   "cell_type": "markdown",
   "metadata": {},
   "source": [
    "# Questão 1:"
   ]
  },
  {
   "cell_type": "markdown",
   "metadata": {},
   "source": [
    "### 1)\n",
    "- FINANCIAMENTO DE AUTOMÓVEL (USADO OU ZEROKM)\n",
    "VIA TABELA PRICE COM A ENTRADA MÍNIMA EXIGIDA\n",
    "PELA INSTITUIÇÃO.\n",
    "- ANALISAR O TOTAL DE JUROS PAGOS\n",
    "- ANALISAR O PROPORCIONAL DE QUANTAS VEZES SE\n",
    "PAGA SOBRE O VALOR A VISTA\n",
    "- COMPROVAR A FONTE DOS DADOS NO RELATÓRIO"
   ]
  },
  {
   "cell_type": "code",
   "execution_count": 3,
   "metadata": {},
   "outputs": [
    {
     "name": "stdout",
     "output_type": "stream",
     "text": [
      "Valor total do bem: R$100000.00\n",
      "Entrada (10.0%): R$10000.00\n"
     ]
    },
    {
     "data": {
      "application/vnd.plotly.v1+json": {
       "config": {
        "plotlyServerURL": "https://plot.ly"
       },
       "data": [
        {
         "hovertemplate": "Categoria=Juros Acumulados (R$)<br>Mês=%{x}<br>Valor (R$)=%{y}<extra></extra>",
         "legendgroup": "Juros Acumulados (R$)",
         "line": {
          "color": "green",
          "dash": "solid"
         },
         "marker": {
          "symbol": "circle"
         },
         "mode": "lines",
         "name": "Juros Acumulados (R$)",
         "orientation": "v",
         "showlegend": true,
         "type": "scatter",
         "x": {
          "bdata": "AQIDBAUGBwgJCgsMDQ4PEBESExQVFhcYGRobHB0eHyAhIiMkJSYnKCkqKywtLi8wMTIzNDU2Nzg5Ojs8",
          "dtype": "i1"
         },
         "xaxis": "x",
         "y": {
          "bdata": "AAAAAABwh0AK16NwPUmXQB6F61G4WaFAhOtRuB77pkBbj8L1qIisQKNwPQoXAbFA/////7+zs0AUrkfhOly2QDMzMzNz+rhAuB6F61GOu0AAAAAAwBe+QK5H4XpUS8BAFK5H4XqFwUDhehSuR7rCQML1KFyv6cNAZmZmZqYTxUB6FK5HITjGQK1H4XoUV8dArUfhenRwyECtR+F6NITJQFuPwvVIkspAZWZmZqaay0D/////P53MQNajcD0Kms1Ao3A9CveQzkAUrkfh+oHPQOtRuB6FNtBAUbgehQup0EDWo3A9ihjRQBOuR+H6hNFAonA9Clfu0UAdhetRmFTSQOB6FK63t9JAhOtRuK4X00BlZmZmdnTTQB2F61EIztNACdejcF0k1ECE61G4bnfUQChcj8I1x9RAFK5H4aoT1UCjcD0Kx1zVQHA9CteDotVAmZmZmdnk1UA9CtejwCPWQLgehesxX9ZAZmZmZiaX1kBmZmZmlsvWQNejcD16/NZAFK5H4cop10AAAAAAgFPXQPYoXI+SeddA16NwPfqb10DD9Shcr7rXQNejcD2q1ddA9ihcj+Ls10A+CtejUADYQM3MzMzsD9hASOF6FK4b2EDNzMzMjCPYQAAAAACAJ9hA",
          "dtype": "f8"
         },
         "yaxis": "y"
        },
        {
         "hovertemplate": "Categoria=Amortização Acumulada (R$)<br>Mês=%{x}<br>Valor (R$)=%{y}<extra></extra>",
         "legendgroup": "Amortização Acumulada (R$)",
         "line": {
          "color": "blue",
          "dash": "solid"
         },
         "marker": {
          "symbol": "circle"
         },
         "mode": "lines",
         "name": "Amortização Acumulada (R$)",
         "orientation": "v",
         "showlegend": true,
         "type": "scatter",
         "x": {
          "bdata": "AQIDBAUGBwgJCgsMDQ4PEBESExQVFhcYGRobHB0eHyAhIiMkJSYnKCkqKywtLi8wMTIzNDU2Nzg5Ojs8",
          "dtype": "i1"
         },
         "xaxis": "x",
         "y": {
          "bdata": "UrgehesokkDNzMzMTDyiQEjhehSud6tAhetRuF5jskCuR+F61BS3QM3MzMxM0LtAw/UoXO9KwEDD9Shcz7LCQD4K16PQH8VAhutRuP6Rx0DsUbgeZQnKQEjhehQOhsxAZ2ZmZgYIz0BSuB6Fq8fQQGZmZmYGDtJAmZmZmRlX00AUrkfh6qLUQAAAAACA8dVAhetRuN5C10AK16NwDZfYQLgehesR7tlAuB6F6/FH20BwPQrXs6TcQEfhehReBN5AZmZmZvZm30CZmZmZQWbgQArXo3CFGuFAuB6F60nQ4UC4HoXrkYfiQFyPwvVgQONA16NwPbr640B7FK5HobbkQFyPwvUYdOVAzczMzCQz5kAfhetRyPPmQIXrUbgGtudAUrgeheN56EDXo3A9Yj/pQGZmZmaGBupAMzMzM1PP6kCuR+F6zJnrQClcj8L1ZexA9ihcj9Iz7UBnZmZmZgPuQOxRuB611O5A2KNwPcKn70Bdj8L1SD7wQOJ6FK6TqfBAw/UoXMMV8UApXI/C2YLxQFyPwvXY8PFAhetRuMJf8kDrUbgemc/yQEfhehReQPNA4XoUrhOy80BwPQrXuyT0QD0K16NYmPRAAAAAAOwM9UCPwvUoeIL1QKNwPQr/+PVA",
          "dtype": "f8"
         },
         "yaxis": "y"
        },
        {
         "hovertemplate": "Categoria=Saldo Devedor (R$)<br>Mês=%{x}<br>Valor (R$)=%{y}<extra></extra>",
         "legendgroup": "Saldo Devedor (R$)",
         "line": {
          "color": "red",
          "dash": "solid"
         },
         "marker": {
          "symbol": "circle"
         },
         "mode": "lines",
         "name": "Saldo Devedor (R$)",
         "orientation": "v",
         "showlegend": true,
         "type": "scatter",
         "x": {
          "bdata": "AQIDBAUGBwgJCgsMDQ4PEBESExQVFhcYGRobHB0eHyAhIiMkJSYnKCkqKywtLi8wMTIzNDU2Nzg5Ojs8",
          "dtype": "i1"
         },
         "xaxis": "x",
         "y": {
          "bdata": "H4XrUVyw9UCamZmZHWf1QPYoXI9CHfVASOF6FMrS9ECF61G4sof0QKRwPQr7O/RAuB6F66Hv80C4HoXrpaLzQClcj8IFVfNAcT0K178G80CkcD0K07fyQLgehes9aPJAFK5H4f4X8kDNzMzMFMfxQEjhehR+dfFA7FG4Hjkj8UDNzMzMRNDwQFK4HoWffPBAcT0K10co8EAfhetReKbvQEjhehT2+u5ASOF6FAZO7kDNzMzMpJ/tQAAAAADQ7+xAcT0K14M+7EAK16NwvYvrQJqZmZl51+pA7FG4HrUh6kDsUbgebWrpQEjhehSesehArkfhekT350ApXI/CXTvnQClcj8LlfeZAuB6F69m+5UBmZmZmNv7kQAAAAAD4O+RAFK5H4Rp440CPwvUonLLiQB+F61F46+FAMzMzM6si4UC4HoXrMVjgQLgehesRGN9AH4XrUVh83UA9CtejMN3bQPYoXI+SOtpAH4XrUXiU2EBcj8L12OrWQEjhehSuPdVAw/UoXO+M00ApXI/CldjRQFyPwvWYINBAcT0K1+PJzEA9CtejMEvJQOF6FK4HxcVAFK5H4Vo3wkAzMzMzM0S9QGZmZmZmCrZAexSuR2GCrUAfhetRuKGdQAAAAAAAAACA",
          "dtype": "f8"
         },
         "yaxis": "y"
        }
       ],
       "layout": {
        "legend": {
         "title": {
          "text": "Categoria"
         },
         "tracegroupgap": 0
        },
        "template": {
         "data": {
          "bar": [
           {
            "error_x": {
             "color": "#2a3f5f"
            },
            "error_y": {
             "color": "#2a3f5f"
            },
            "marker": {
             "line": {
              "color": "#E5ECF6",
              "width": 0.5
             },
             "pattern": {
              "fillmode": "overlay",
              "size": 10,
              "solidity": 0.2
             }
            },
            "type": "bar"
           }
          ],
          "barpolar": [
           {
            "marker": {
             "line": {
              "color": "#E5ECF6",
              "width": 0.5
             },
             "pattern": {
              "fillmode": "overlay",
              "size": 10,
              "solidity": 0.2
             }
            },
            "type": "barpolar"
           }
          ],
          "carpet": [
           {
            "aaxis": {
             "endlinecolor": "#2a3f5f",
             "gridcolor": "white",
             "linecolor": "white",
             "minorgridcolor": "white",
             "startlinecolor": "#2a3f5f"
            },
            "baxis": {
             "endlinecolor": "#2a3f5f",
             "gridcolor": "white",
             "linecolor": "white",
             "minorgridcolor": "white",
             "startlinecolor": "#2a3f5f"
            },
            "type": "carpet"
           }
          ],
          "choropleth": [
           {
            "colorbar": {
             "outlinewidth": 0,
             "ticks": ""
            },
            "type": "choropleth"
           }
          ],
          "contour": [
           {
            "colorbar": {
             "outlinewidth": 0,
             "ticks": ""
            },
            "colorscale": [
             [
              0,
              "#0d0887"
             ],
             [
              0.1111111111111111,
              "#46039f"
             ],
             [
              0.2222222222222222,
              "#7201a8"
             ],
             [
              0.3333333333333333,
              "#9c179e"
             ],
             [
              0.4444444444444444,
              "#bd3786"
             ],
             [
              0.5555555555555556,
              "#d8576b"
             ],
             [
              0.6666666666666666,
              "#ed7953"
             ],
             [
              0.7777777777777778,
              "#fb9f3a"
             ],
             [
              0.8888888888888888,
              "#fdca26"
             ],
             [
              1,
              "#f0f921"
             ]
            ],
            "type": "contour"
           }
          ],
          "contourcarpet": [
           {
            "colorbar": {
             "outlinewidth": 0,
             "ticks": ""
            },
            "type": "contourcarpet"
           }
          ],
          "heatmap": [
           {
            "colorbar": {
             "outlinewidth": 0,
             "ticks": ""
            },
            "colorscale": [
             [
              0,
              "#0d0887"
             ],
             [
              0.1111111111111111,
              "#46039f"
             ],
             [
              0.2222222222222222,
              "#7201a8"
             ],
             [
              0.3333333333333333,
              "#9c179e"
             ],
             [
              0.4444444444444444,
              "#bd3786"
             ],
             [
              0.5555555555555556,
              "#d8576b"
             ],
             [
              0.6666666666666666,
              "#ed7953"
             ],
             [
              0.7777777777777778,
              "#fb9f3a"
             ],
             [
              0.8888888888888888,
              "#fdca26"
             ],
             [
              1,
              "#f0f921"
             ]
            ],
            "type": "heatmap"
           }
          ],
          "histogram": [
           {
            "marker": {
             "pattern": {
              "fillmode": "overlay",
              "size": 10,
              "solidity": 0.2
             }
            },
            "type": "histogram"
           }
          ],
          "histogram2d": [
           {
            "colorbar": {
             "outlinewidth": 0,
             "ticks": ""
            },
            "colorscale": [
             [
              0,
              "#0d0887"
             ],
             [
              0.1111111111111111,
              "#46039f"
             ],
             [
              0.2222222222222222,
              "#7201a8"
             ],
             [
              0.3333333333333333,
              "#9c179e"
             ],
             [
              0.4444444444444444,
              "#bd3786"
             ],
             [
              0.5555555555555556,
              "#d8576b"
             ],
             [
              0.6666666666666666,
              "#ed7953"
             ],
             [
              0.7777777777777778,
              "#fb9f3a"
             ],
             [
              0.8888888888888888,
              "#fdca26"
             ],
             [
              1,
              "#f0f921"
             ]
            ],
            "type": "histogram2d"
           }
          ],
          "histogram2dcontour": [
           {
            "colorbar": {
             "outlinewidth": 0,
             "ticks": ""
            },
            "colorscale": [
             [
              0,
              "#0d0887"
             ],
             [
              0.1111111111111111,
              "#46039f"
             ],
             [
              0.2222222222222222,
              "#7201a8"
             ],
             [
              0.3333333333333333,
              "#9c179e"
             ],
             [
              0.4444444444444444,
              "#bd3786"
             ],
             [
              0.5555555555555556,
              "#d8576b"
             ],
             [
              0.6666666666666666,
              "#ed7953"
             ],
             [
              0.7777777777777778,
              "#fb9f3a"
             ],
             [
              0.8888888888888888,
              "#fdca26"
             ],
             [
              1,
              "#f0f921"
             ]
            ],
            "type": "histogram2dcontour"
           }
          ],
          "mesh3d": [
           {
            "colorbar": {
             "outlinewidth": 0,
             "ticks": ""
            },
            "type": "mesh3d"
           }
          ],
          "parcoords": [
           {
            "line": {
             "colorbar": {
              "outlinewidth": 0,
              "ticks": ""
             }
            },
            "type": "parcoords"
           }
          ],
          "pie": [
           {
            "automargin": true,
            "type": "pie"
           }
          ],
          "scatter": [
           {
            "fillpattern": {
             "fillmode": "overlay",
             "size": 10,
             "solidity": 0.2
            },
            "type": "scatter"
           }
          ],
          "scatter3d": [
           {
            "line": {
             "colorbar": {
              "outlinewidth": 0,
              "ticks": ""
             }
            },
            "marker": {
             "colorbar": {
              "outlinewidth": 0,
              "ticks": ""
             }
            },
            "type": "scatter3d"
           }
          ],
          "scattercarpet": [
           {
            "marker": {
             "colorbar": {
              "outlinewidth": 0,
              "ticks": ""
             }
            },
            "type": "scattercarpet"
           }
          ],
          "scattergeo": [
           {
            "marker": {
             "colorbar": {
              "outlinewidth": 0,
              "ticks": ""
             }
            },
            "type": "scattergeo"
           }
          ],
          "scattergl": [
           {
            "marker": {
             "colorbar": {
              "outlinewidth": 0,
              "ticks": ""
             }
            },
            "type": "scattergl"
           }
          ],
          "scattermap": [
           {
            "marker": {
             "colorbar": {
              "outlinewidth": 0,
              "ticks": ""
             }
            },
            "type": "scattermap"
           }
          ],
          "scattermapbox": [
           {
            "marker": {
             "colorbar": {
              "outlinewidth": 0,
              "ticks": ""
             }
            },
            "type": "scattermapbox"
           }
          ],
          "scatterpolar": [
           {
            "marker": {
             "colorbar": {
              "outlinewidth": 0,
              "ticks": ""
             }
            },
            "type": "scatterpolar"
           }
          ],
          "scatterpolargl": [
           {
            "marker": {
             "colorbar": {
              "outlinewidth": 0,
              "ticks": ""
             }
            },
            "type": "scatterpolargl"
           }
          ],
          "scatterternary": [
           {
            "marker": {
             "colorbar": {
              "outlinewidth": 0,
              "ticks": ""
             }
            },
            "type": "scatterternary"
           }
          ],
          "surface": [
           {
            "colorbar": {
             "outlinewidth": 0,
             "ticks": ""
            },
            "colorscale": [
             [
              0,
              "#0d0887"
             ],
             [
              0.1111111111111111,
              "#46039f"
             ],
             [
              0.2222222222222222,
              "#7201a8"
             ],
             [
              0.3333333333333333,
              "#9c179e"
             ],
             [
              0.4444444444444444,
              "#bd3786"
             ],
             [
              0.5555555555555556,
              "#d8576b"
             ],
             [
              0.6666666666666666,
              "#ed7953"
             ],
             [
              0.7777777777777778,
              "#fb9f3a"
             ],
             [
              0.8888888888888888,
              "#fdca26"
             ],
             [
              1,
              "#f0f921"
             ]
            ],
            "type": "surface"
           }
          ],
          "table": [
           {
            "cells": {
             "fill": {
              "color": "#EBF0F8"
             },
             "line": {
              "color": "white"
             }
            },
            "header": {
             "fill": {
              "color": "#C8D4E3"
             },
             "line": {
              "color": "white"
             }
            },
            "type": "table"
           }
          ]
         },
         "layout": {
          "annotationdefaults": {
           "arrowcolor": "#2a3f5f",
           "arrowhead": 0,
           "arrowwidth": 1
          },
          "autotypenumbers": "strict",
          "coloraxis": {
           "colorbar": {
            "outlinewidth": 0,
            "ticks": ""
           }
          },
          "colorscale": {
           "diverging": [
            [
             0,
             "#8e0152"
            ],
            [
             0.1,
             "#c51b7d"
            ],
            [
             0.2,
             "#de77ae"
            ],
            [
             0.3,
             "#f1b6da"
            ],
            [
             0.4,
             "#fde0ef"
            ],
            [
             0.5,
             "#f7f7f7"
            ],
            [
             0.6,
             "#e6f5d0"
            ],
            [
             0.7,
             "#b8e186"
            ],
            [
             0.8,
             "#7fbc41"
            ],
            [
             0.9,
             "#4d9221"
            ],
            [
             1,
             "#276419"
            ]
           ],
           "sequential": [
            [
             0,
             "#0d0887"
            ],
            [
             0.1111111111111111,
             "#46039f"
            ],
            [
             0.2222222222222222,
             "#7201a8"
            ],
            [
             0.3333333333333333,
             "#9c179e"
            ],
            [
             0.4444444444444444,
             "#bd3786"
            ],
            [
             0.5555555555555556,
             "#d8576b"
            ],
            [
             0.6666666666666666,
             "#ed7953"
            ],
            [
             0.7777777777777778,
             "#fb9f3a"
            ],
            [
             0.8888888888888888,
             "#fdca26"
            ],
            [
             1,
             "#f0f921"
            ]
           ],
           "sequentialminus": [
            [
             0,
             "#0d0887"
            ],
            [
             0.1111111111111111,
             "#46039f"
            ],
            [
             0.2222222222222222,
             "#7201a8"
            ],
            [
             0.3333333333333333,
             "#9c179e"
            ],
            [
             0.4444444444444444,
             "#bd3786"
            ],
            [
             0.5555555555555556,
             "#d8576b"
            ],
            [
             0.6666666666666666,
             "#ed7953"
            ],
            [
             0.7777777777777778,
             "#fb9f3a"
            ],
            [
             0.8888888888888888,
             "#fdca26"
            ],
            [
             1,
             "#f0f921"
            ]
           ]
          },
          "colorway": [
           "#636efa",
           "#EF553B",
           "#00cc96",
           "#ab63fa",
           "#FFA15A",
           "#19d3f3",
           "#FF6692",
           "#B6E880",
           "#FF97FF",
           "#FECB52"
          ],
          "font": {
           "color": "#2a3f5f"
          },
          "geo": {
           "bgcolor": "white",
           "lakecolor": "white",
           "landcolor": "#E5ECF6",
           "showlakes": true,
           "showland": true,
           "subunitcolor": "white"
          },
          "hoverlabel": {
           "align": "left"
          },
          "hovermode": "closest",
          "mapbox": {
           "style": "light"
          },
          "paper_bgcolor": "white",
          "plot_bgcolor": "#E5ECF6",
          "polar": {
           "angularaxis": {
            "gridcolor": "white",
            "linecolor": "white",
            "ticks": ""
           },
           "bgcolor": "#E5ECF6",
           "radialaxis": {
            "gridcolor": "white",
            "linecolor": "white",
            "ticks": ""
           }
          },
          "scene": {
           "xaxis": {
            "backgroundcolor": "#E5ECF6",
            "gridcolor": "white",
            "gridwidth": 2,
            "linecolor": "white",
            "showbackground": true,
            "ticks": "",
            "zerolinecolor": "white"
           },
           "yaxis": {
            "backgroundcolor": "#E5ECF6",
            "gridcolor": "white",
            "gridwidth": 2,
            "linecolor": "white",
            "showbackground": true,
            "ticks": "",
            "zerolinecolor": "white"
           },
           "zaxis": {
            "backgroundcolor": "#E5ECF6",
            "gridcolor": "white",
            "gridwidth": 2,
            "linecolor": "white",
            "showbackground": true,
            "ticks": "",
            "zerolinecolor": "white"
           }
          },
          "shapedefaults": {
           "line": {
            "color": "#2a3f5f"
           }
          },
          "ternary": {
           "aaxis": {
            "gridcolor": "white",
            "linecolor": "white",
            "ticks": ""
           },
           "baxis": {
            "gridcolor": "white",
            "linecolor": "white",
            "ticks": ""
           },
           "bgcolor": "#E5ECF6",
           "caxis": {
            "gridcolor": "white",
            "linecolor": "white",
            "ticks": ""
           }
          },
          "title": {
           "x": 0.05
          },
          "xaxis": {
           "automargin": true,
           "gridcolor": "white",
           "linecolor": "white",
           "ticks": "",
           "title": {
            "standoff": 15
           },
           "zerolinecolor": "white",
           "zerolinewidth": 2
          },
          "yaxis": {
           "automargin": true,
           "gridcolor": "white",
           "linecolor": "white",
           "ticks": "",
           "title": {
            "standoff": 15
           },
           "zerolinecolor": "white",
           "zerolinewidth": 2
          }
         }
        },
        "title": {
         "text": "Evolução do Financiamento"
        },
        "xaxis": {
         "anchor": "y",
         "domain": [
          0,
          1
         ],
         "title": {
          "text": "Mês"
         }
        },
        "yaxis": {
         "anchor": "x",
         "domain": [
          0,
          1
         ],
         "title": {
          "text": "Valor (R$)"
         }
        }
       }
      }
     },
     "metadata": {},
     "output_type": "display_data"
    },
    {
     "data": {
      "image/png": "[encoded data removed]",
      "text/plain": [
       "<Figure size 1200x600 with 1 Axes>"
      ]
     },
     "metadata": {},
     "output_type": "display_data"
    },
    {
     "name": "stdout",
     "output_type": "stream",
     "text": [
      "Total pago em prestações: R$114733.80\n",
      "Valor total pago (incluindo entrada): R$124733.80\n",
      "Relação (Total pago / Valor do carro): 1.25\n"
     ]
    },
    {
     "data": {
      "text/html": [
       "<div>\n",
       "<style scoped>\n",
       "    .dataframe tbody tr th:only-of-type {\n",
       "        vertical-align: middle;\n",
       "    }\n",
       "\n",
       "    .dataframe tbody tr th {\n",
       "        vertical-align: top;\n",
       "    }\n",
       "\n",
       "    .dataframe thead th {\n",
       "        text-align: right;\n",
       "    }\n",
       "</style>\n",
       "<table border=\"1\" class=\"dataframe\">\n",
       "  <thead>\n",
       "    <tr style=\"text-align: right;\">\n",
       "      <th></th>\n",
       "      <th>Mês</th>\n",
       "      <th>Prestação Mensal (R$)</th>\n",
       "      <th>Parcela de Juros (R$)</th>\n",
       "      <th>Amortização do Principal (R$)</th>\n",
       "      <th>Saldo Devedor (R$)</th>\n",
       "      <th>Juros Acumulados (R$)</th>\n",
       "      <th>Amortização Acumulada (R$)</th>\n",
       "    </tr>\n",
       "  </thead>\n",
       "  <tbody>\n",
       "    <tr>\n",
       "      <th>0</th>\n",
       "      <td>1</td>\n",
       "      <td>1912.23</td>\n",
       "      <td>750.00</td>\n",
       "      <td>1162.23</td>\n",
       "      <td>88837.77</td>\n",
       "      <td>750.00</td>\n",
       "      <td>1162.23</td>\n",
       "    </tr>\n",
       "    <tr>\n",
       "      <th>1</th>\n",
       "      <td>2</td>\n",
       "      <td>1912.23</td>\n",
       "      <td>740.31</td>\n",
       "      <td>1171.92</td>\n",
       "      <td>87665.85</td>\n",
       "      <td>1490.31</td>\n",
       "      <td>2334.15</td>\n",
       "    </tr>\n",
       "    <tr>\n",
       "      <th>2</th>\n",
       "      <td>3</td>\n",
       "      <td>1912.23</td>\n",
       "      <td>730.55</td>\n",
       "      <td>1181.69</td>\n",
       "      <td>86484.16</td>\n",
       "      <td>2220.86</td>\n",
       "      <td>3515.84</td>\n",
       "    </tr>\n",
       "    <tr>\n",
       "      <th>3</th>\n",
       "      <td>4</td>\n",
       "      <td>1912.23</td>\n",
       "      <td>720.70</td>\n",
       "      <td>1191.53</td>\n",
       "      <td>85292.63</td>\n",
       "      <td>2941.56</td>\n",
       "      <td>4707.37</td>\n",
       "    </tr>\n",
       "    <tr>\n",
       "      <th>4</th>\n",
       "      <td>5</td>\n",
       "      <td>1912.23</td>\n",
       "      <td>710.77</td>\n",
       "      <td>1201.46</td>\n",
       "      <td>84091.17</td>\n",
       "      <td>3652.33</td>\n",
       "      <td>5908.83</td>\n",
       "    </tr>\n",
       "    <tr>\n",
       "      <th>5</th>\n",
       "      <td>6</td>\n",
       "      <td>1912.23</td>\n",
       "      <td>700.76</td>\n",
       "      <td>1211.47</td>\n",
       "      <td>82879.69</td>\n",
       "      <td>4353.09</td>\n",
       "      <td>7120.30</td>\n",
       "    </tr>\n",
       "    <tr>\n",
       "      <th>6</th>\n",
       "      <td>7</td>\n",
       "      <td>1912.23</td>\n",
       "      <td>690.66</td>\n",
       "      <td>1221.57</td>\n",
       "      <td>81658.12</td>\n",
       "      <td>5043.75</td>\n",
       "      <td>8341.87</td>\n",
       "    </tr>\n",
       "    <tr>\n",
       "      <th>7</th>\n",
       "      <td>8</td>\n",
       "      <td>1912.23</td>\n",
       "      <td>680.48</td>\n",
       "      <td>1231.75</td>\n",
       "      <td>80426.37</td>\n",
       "      <td>5724.23</td>\n",
       "      <td>9573.62</td>\n",
       "    </tr>\n",
       "    <tr>\n",
       "      <th>8</th>\n",
       "      <td>9</td>\n",
       "      <td>1912.23</td>\n",
       "      <td>670.22</td>\n",
       "      <td>1242.01</td>\n",
       "      <td>79184.36</td>\n",
       "      <td>6394.45</td>\n",
       "      <td>10815.63</td>\n",
       "    </tr>\n",
       "    <tr>\n",
       "      <th>9</th>\n",
       "      <td>10</td>\n",
       "      <td>1912.23</td>\n",
       "      <td>659.87</td>\n",
       "      <td>1252.36</td>\n",
       "      <td>77931.99</td>\n",
       "      <td>7054.32</td>\n",
       "      <td>12067.99</td>\n",
       "    </tr>\n",
       "    <tr>\n",
       "      <th>10</th>\n",
       "      <td>11</td>\n",
       "      <td>1912.23</td>\n",
       "      <td>649.43</td>\n",
       "      <td>1262.80</td>\n",
       "      <td>76669.19</td>\n",
       "      <td>7703.75</td>\n",
       "      <td>13330.79</td>\n",
       "    </tr>\n",
       "    <tr>\n",
       "      <th>11</th>\n",
       "      <td>12</td>\n",
       "      <td>1912.23</td>\n",
       "      <td>638.91</td>\n",
       "      <td>1273.32</td>\n",
       "      <td>75395.87</td>\n",
       "      <td>8342.66</td>\n",
       "      <td>14604.11</td>\n",
       "    </tr>\n",
       "    <tr>\n",
       "      <th>12</th>\n",
       "      <td>13</td>\n",
       "      <td>1912.23</td>\n",
       "      <td>628.30</td>\n",
       "      <td>1283.94</td>\n",
       "      <td>74111.93</td>\n",
       "      <td>8970.96</td>\n",
       "      <td>15888.05</td>\n",
       "    </tr>\n",
       "    <tr>\n",
       "      <th>13</th>\n",
       "      <td>14</td>\n",
       "      <td>1912.23</td>\n",
       "      <td>617.60</td>\n",
       "      <td>1294.63</td>\n",
       "      <td>72817.30</td>\n",
       "      <td>9588.56</td>\n",
       "      <td>17182.68</td>\n",
       "    </tr>\n",
       "    <tr>\n",
       "      <th>14</th>\n",
       "      <td>15</td>\n",
       "      <td>1912.23</td>\n",
       "      <td>606.81</td>\n",
       "      <td>1305.42</td>\n",
       "      <td>71511.88</td>\n",
       "      <td>10195.37</td>\n",
       "      <td>18488.10</td>\n",
       "    </tr>\n",
       "    <tr>\n",
       "      <th>15</th>\n",
       "      <td>16</td>\n",
       "      <td>1912.23</td>\n",
       "      <td>595.93</td>\n",
       "      <td>1316.30</td>\n",
       "      <td>70195.57</td>\n",
       "      <td>10791.30</td>\n",
       "      <td>19804.40</td>\n",
       "    </tr>\n",
       "    <tr>\n",
       "      <th>16</th>\n",
       "      <td>17</td>\n",
       "      <td>1912.23</td>\n",
       "      <td>584.96</td>\n",
       "      <td>1327.27</td>\n",
       "      <td>68868.30</td>\n",
       "      <td>11376.26</td>\n",
       "      <td>21131.67</td>\n",
       "    </tr>\n",
       "    <tr>\n",
       "      <th>17</th>\n",
       "      <td>18</td>\n",
       "      <td>1912.23</td>\n",
       "      <td>573.90</td>\n",
       "      <td>1338.33</td>\n",
       "      <td>67529.97</td>\n",
       "      <td>11950.16</td>\n",
       "      <td>22470.00</td>\n",
       "    </tr>\n",
       "    <tr>\n",
       "      <th>18</th>\n",
       "      <td>19</td>\n",
       "      <td>1912.23</td>\n",
       "      <td>562.75</td>\n",
       "      <td>1349.48</td>\n",
       "      <td>66180.49</td>\n",
       "      <td>12512.91</td>\n",
       "      <td>23819.48</td>\n",
       "    </tr>\n",
       "    <tr>\n",
       "      <th>19</th>\n",
       "      <td>20</td>\n",
       "      <td>1912.23</td>\n",
       "      <td>551.50</td>\n",
       "      <td>1360.73</td>\n",
       "      <td>64819.76</td>\n",
       "      <td>13064.41</td>\n",
       "      <td>25180.21</td>\n",
       "    </tr>\n",
       "    <tr>\n",
       "      <th>20</th>\n",
       "      <td>21</td>\n",
       "      <td>1912.23</td>\n",
       "      <td>540.16</td>\n",
       "      <td>1372.07</td>\n",
       "      <td>63447.69</td>\n",
       "      <td>13604.57</td>\n",
       "      <td>26552.28</td>\n",
       "    </tr>\n",
       "    <tr>\n",
       "      <th>21</th>\n",
       "      <td>22</td>\n",
       "      <td>1912.23</td>\n",
       "      <td>528.73</td>\n",
       "      <td>1383.50</td>\n",
       "      <td>62064.19</td>\n",
       "      <td>14133.30</td>\n",
       "      <td>27935.78</td>\n",
       "    </tr>\n",
       "    <tr>\n",
       "      <th>22</th>\n",
       "      <td>23</td>\n",
       "      <td>1912.23</td>\n",
       "      <td>517.20</td>\n",
       "      <td>1395.03</td>\n",
       "      <td>60669.15</td>\n",
       "      <td>14650.50</td>\n",
       "      <td>29330.81</td>\n",
       "    </tr>\n",
       "    <tr>\n",
       "      <th>23</th>\n",
       "      <td>24</td>\n",
       "      <td>1912.23</td>\n",
       "      <td>505.58</td>\n",
       "      <td>1406.66</td>\n",
       "      <td>59262.50</td>\n",
       "      <td>15156.08</td>\n",
       "      <td>30737.47</td>\n",
       "    </tr>\n",
       "    <tr>\n",
       "      <th>24</th>\n",
       "      <td>25</td>\n",
       "      <td>1912.23</td>\n",
       "      <td>493.85</td>\n",
       "      <td>1418.38</td>\n",
       "      <td>57844.12</td>\n",
       "      <td>15649.93</td>\n",
       "      <td>32155.85</td>\n",
       "    </tr>\n",
       "    <tr>\n",
       "      <th>25</th>\n",
       "      <td>26</td>\n",
       "      <td>1912.23</td>\n",
       "      <td>482.03</td>\n",
       "      <td>1430.20</td>\n",
       "      <td>56413.92</td>\n",
       "      <td>16131.96</td>\n",
       "      <td>33586.05</td>\n",
       "    </tr>\n",
       "    <tr>\n",
       "      <th>26</th>\n",
       "      <td>27</td>\n",
       "      <td>1912.23</td>\n",
       "      <td>470.12</td>\n",
       "      <td>1442.12</td>\n",
       "      <td>54971.80</td>\n",
       "      <td>16602.08</td>\n",
       "      <td>35028.17</td>\n",
       "    </tr>\n",
       "    <tr>\n",
       "      <th>27</th>\n",
       "      <td>28</td>\n",
       "      <td>1912.23</td>\n",
       "      <td>458.10</td>\n",
       "      <td>1454.14</td>\n",
       "      <td>53517.66</td>\n",
       "      <td>17060.18</td>\n",
       "      <td>36482.31</td>\n",
       "    </tr>\n",
       "    <tr>\n",
       "      <th>28</th>\n",
       "      <td>29</td>\n",
       "      <td>1912.23</td>\n",
       "      <td>445.98</td>\n",
       "      <td>1466.25</td>\n",
       "      <td>52051.41</td>\n",
       "      <td>17506.16</td>\n",
       "      <td>37948.56</td>\n",
       "    </tr>\n",
       "    <tr>\n",
       "      <th>29</th>\n",
       "      <td>30</td>\n",
       "      <td>1912.23</td>\n",
       "      <td>433.76</td>\n",
       "      <td>1478.47</td>\n",
       "      <td>50572.94</td>\n",
       "      <td>17939.92</td>\n",
       "      <td>39427.03</td>\n",
       "    </tr>\n",
       "    <tr>\n",
       "      <th>30</th>\n",
       "      <td>31</td>\n",
       "      <td>1912.23</td>\n",
       "      <td>421.44</td>\n",
       "      <td>1490.79</td>\n",
       "      <td>49082.14</td>\n",
       "      <td>18361.36</td>\n",
       "      <td>40917.82</td>\n",
       "    </tr>\n",
       "    <tr>\n",
       "      <th>31</th>\n",
       "      <td>32</td>\n",
       "      <td>1912.23</td>\n",
       "      <td>409.02</td>\n",
       "      <td>1503.22</td>\n",
       "      <td>47578.93</td>\n",
       "      <td>18770.38</td>\n",
       "      <td>42421.04</td>\n",
       "    </tr>\n",
       "    <tr>\n",
       "      <th>32</th>\n",
       "      <td>33</td>\n",
       "      <td>1912.23</td>\n",
       "      <td>396.49</td>\n",
       "      <td>1515.74</td>\n",
       "      <td>46063.18</td>\n",
       "      <td>19166.87</td>\n",
       "      <td>43936.78</td>\n",
       "    </tr>\n",
       "    <tr>\n",
       "      <th>33</th>\n",
       "      <td>34</td>\n",
       "      <td>1912.23</td>\n",
       "      <td>383.86</td>\n",
       "      <td>1528.37</td>\n",
       "      <td>44534.81</td>\n",
       "      <td>19550.73</td>\n",
       "      <td>45465.15</td>\n",
       "    </tr>\n",
       "    <tr>\n",
       "      <th>34</th>\n",
       "      <td>35</td>\n",
       "      <td>1912.23</td>\n",
       "      <td>371.12</td>\n",
       "      <td>1541.11</td>\n",
       "      <td>42993.70</td>\n",
       "      <td>19921.85</td>\n",
       "      <td>47006.26</td>\n",
       "    </tr>\n",
       "    <tr>\n",
       "      <th>35</th>\n",
       "      <td>36</td>\n",
       "      <td>1912.23</td>\n",
       "      <td>358.28</td>\n",
       "      <td>1553.95</td>\n",
       "      <td>41439.75</td>\n",
       "      <td>20280.13</td>\n",
       "      <td>48560.21</td>\n",
       "    </tr>\n",
       "    <tr>\n",
       "      <th>36</th>\n",
       "      <td>37</td>\n",
       "      <td>1912.23</td>\n",
       "      <td>345.33</td>\n",
       "      <td>1566.90</td>\n",
       "      <td>39872.84</td>\n",
       "      <td>20625.46</td>\n",
       "      <td>50127.11</td>\n",
       "    </tr>\n",
       "    <tr>\n",
       "      <th>37</th>\n",
       "      <td>38</td>\n",
       "      <td>1912.23</td>\n",
       "      <td>332.27</td>\n",
       "      <td>1579.96</td>\n",
       "      <td>38292.88</td>\n",
       "      <td>20957.73</td>\n",
       "      <td>51707.07</td>\n",
       "    </tr>\n",
       "    <tr>\n",
       "      <th>38</th>\n",
       "      <td>39</td>\n",
       "      <td>1912.23</td>\n",
       "      <td>319.11</td>\n",
       "      <td>1593.13</td>\n",
       "      <td>36699.76</td>\n",
       "      <td>21276.84</td>\n",
       "      <td>53300.20</td>\n",
       "    </tr>\n",
       "    <tr>\n",
       "      <th>39</th>\n",
       "      <td>40</td>\n",
       "      <td>1912.23</td>\n",
       "      <td>305.83</td>\n",
       "      <td>1606.40</td>\n",
       "      <td>35093.35</td>\n",
       "      <td>21582.67</td>\n",
       "      <td>54906.60</td>\n",
       "    </tr>\n",
       "    <tr>\n",
       "      <th>40</th>\n",
       "      <td>41</td>\n",
       "      <td>1912.23</td>\n",
       "      <td>292.44</td>\n",
       "      <td>1619.79</td>\n",
       "      <td>33473.56</td>\n",
       "      <td>21875.11</td>\n",
       "      <td>56526.39</td>\n",
       "    </tr>\n",
       "    <tr>\n",
       "      <th>41</th>\n",
       "      <td>42</td>\n",
       "      <td>1912.23</td>\n",
       "      <td>278.95</td>\n",
       "      <td>1633.29</td>\n",
       "      <td>31840.28</td>\n",
       "      <td>22154.06</td>\n",
       "      <td>58159.68</td>\n",
       "    </tr>\n",
       "    <tr>\n",
       "      <th>42</th>\n",
       "      <td>43</td>\n",
       "      <td>1912.23</td>\n",
       "      <td>265.34</td>\n",
       "      <td>1646.90</td>\n",
       "      <td>30193.38</td>\n",
       "      <td>22419.40</td>\n",
       "      <td>59806.58</td>\n",
       "    </tr>\n",
       "    <tr>\n",
       "      <th>43</th>\n",
       "      <td>44</td>\n",
       "      <td>1912.23</td>\n",
       "      <td>251.61</td>\n",
       "      <td>1660.62</td>\n",
       "      <td>28532.76</td>\n",
       "      <td>22671.01</td>\n",
       "      <td>61467.20</td>\n",
       "    </tr>\n",
       "    <tr>\n",
       "      <th>44</th>\n",
       "      <td>45</td>\n",
       "      <td>1912.23</td>\n",
       "      <td>237.77</td>\n",
       "      <td>1674.46</td>\n",
       "      <td>26858.29</td>\n",
       "      <td>22908.78</td>\n",
       "      <td>63141.66</td>\n",
       "    </tr>\n",
       "    <tr>\n",
       "      <th>45</th>\n",
       "      <td>46</td>\n",
       "      <td>1912.23</td>\n",
       "      <td>223.82</td>\n",
       "      <td>1688.41</td>\n",
       "      <td>25169.88</td>\n",
       "      <td>23132.60</td>\n",
       "      <td>64830.07</td>\n",
       "    </tr>\n",
       "    <tr>\n",
       "      <th>46</th>\n",
       "      <td>47</td>\n",
       "      <td>1912.23</td>\n",
       "      <td>209.75</td>\n",
       "      <td>1702.49</td>\n",
       "      <td>23467.39</td>\n",
       "      <td>23342.35</td>\n",
       "      <td>66532.56</td>\n",
       "    </tr>\n",
       "    <tr>\n",
       "      <th>47</th>\n",
       "      <td>48</td>\n",
       "      <td>1912.23</td>\n",
       "      <td>195.56</td>\n",
       "      <td>1716.67</td>\n",
       "      <td>21750.72</td>\n",
       "      <td>23537.91</td>\n",
       "      <td>68249.23</td>\n",
       "    </tr>\n",
       "    <tr>\n",
       "      <th>48</th>\n",
       "      <td>49</td>\n",
       "      <td>1912.23</td>\n",
       "      <td>181.26</td>\n",
       "      <td>1730.98</td>\n",
       "      <td>20019.74</td>\n",
       "      <td>23719.17</td>\n",
       "      <td>69980.21</td>\n",
       "    </tr>\n",
       "    <tr>\n",
       "      <th>49</th>\n",
       "      <td>50</td>\n",
       "      <td>1912.23</td>\n",
       "      <td>166.83</td>\n",
       "      <td>1745.40</td>\n",
       "      <td>18274.34</td>\n",
       "      <td>23886.00</td>\n",
       "      <td>71725.61</td>\n",
       "    </tr>\n",
       "    <tr>\n",
       "      <th>50</th>\n",
       "      <td>51</td>\n",
       "      <td>1912.23</td>\n",
       "      <td>152.29</td>\n",
       "      <td>1759.95</td>\n",
       "      <td>16514.39</td>\n",
       "      <td>24038.29</td>\n",
       "      <td>73485.56</td>\n",
       "    </tr>\n",
       "    <tr>\n",
       "      <th>51</th>\n",
       "      <td>52</td>\n",
       "      <td>1912.23</td>\n",
       "      <td>137.62</td>\n",
       "      <td>1774.61</td>\n",
       "      <td>14739.78</td>\n",
       "      <td>24175.91</td>\n",
       "      <td>75260.17</td>\n",
       "    </tr>\n",
       "    <tr>\n",
       "      <th>52</th>\n",
       "      <td>53</td>\n",
       "      <td>1912.23</td>\n",
       "      <td>122.83</td>\n",
       "      <td>1789.40</td>\n",
       "      <td>12950.38</td>\n",
       "      <td>24298.74</td>\n",
       "      <td>77049.57</td>\n",
       "    </tr>\n",
       "    <tr>\n",
       "      <th>53</th>\n",
       "      <td>54</td>\n",
       "      <td>1912.23</td>\n",
       "      <td>107.92</td>\n",
       "      <td>1804.31</td>\n",
       "      <td>11146.06</td>\n",
       "      <td>24406.66</td>\n",
       "      <td>78853.88</td>\n",
       "    </tr>\n",
       "    <tr>\n",
       "      <th>54</th>\n",
       "      <td>55</td>\n",
       "      <td>1912.23</td>\n",
       "      <td>92.88</td>\n",
       "      <td>1819.35</td>\n",
       "      <td>9326.71</td>\n",
       "      <td>24499.54</td>\n",
       "      <td>80673.23</td>\n",
       "    </tr>\n",
       "    <tr>\n",
       "      <th>55</th>\n",
       "      <td>56</td>\n",
       "      <td>1912.23</td>\n",
       "      <td>77.72</td>\n",
       "      <td>1834.51</td>\n",
       "      <td>7492.20</td>\n",
       "      <td>24577.26</td>\n",
       "      <td>82507.74</td>\n",
       "    </tr>\n",
       "    <tr>\n",
       "      <th>56</th>\n",
       "      <td>57</td>\n",
       "      <td>1912.23</td>\n",
       "      <td>62.44</td>\n",
       "      <td>1849.80</td>\n",
       "      <td>5642.40</td>\n",
       "      <td>24639.70</td>\n",
       "      <td>84357.54</td>\n",
       "    </tr>\n",
       "    <tr>\n",
       "      <th>57</th>\n",
       "      <td>58</td>\n",
       "      <td>1912.23</td>\n",
       "      <td>47.02</td>\n",
       "      <td>1865.21</td>\n",
       "      <td>3777.19</td>\n",
       "      <td>24686.72</td>\n",
       "      <td>86222.75</td>\n",
       "    </tr>\n",
       "    <tr>\n",
       "      <th>58</th>\n",
       "      <td>59</td>\n",
       "      <td>1912.23</td>\n",
       "      <td>31.48</td>\n",
       "      <td>1880.76</td>\n",
       "      <td>1896.43</td>\n",
       "      <td>24718.20</td>\n",
       "      <td>88103.51</td>\n",
       "    </tr>\n",
       "    <tr>\n",
       "      <th>59</th>\n",
       "      <td>60</td>\n",
       "      <td>1912.23</td>\n",
       "      <td>15.80</td>\n",
       "      <td>1896.43</td>\n",
       "      <td>-0.00</td>\n",
       "      <td>24734.00</td>\n",
       "      <td>89999.94</td>\n",
       "    </tr>\n",
       "  </tbody>\n",
       "</table>\n",
       "</div>"
      ],
      "text/plain": [
       "    Mês  Prestação Mensal (R$)  Parcela de Juros (R$)  \\\n",
       "0     1                1912.23                 750.00   \n",
       "1     2                1912.23                 740.31   \n",
       "2     3                1912.23                 730.55   \n",
       "3     4                1912.23                 720.70   \n",
       "4     5                1912.23                 710.77   \n",
       "5     6                1912.23                 700.76   \n",
       "6     7                1912.23                 690.66   \n",
       "7     8                1912.23                 680.48   \n",
       "8     9                1912.23                 670.22   \n",
       "9    10                1912.23                 659.87   \n",
       "10   11                1912.23                 649.43   \n",
       "11   12                1912.23                 638.91   \n",
       "12   13                1912.23                 628.30   \n",
       "13   14                1912.23                 617.60   \n",
       "14   15                1912.23                 606.81   \n",
       "15   16                1912.23                 595.93   \n",
       "16   17                1912.23                 584.96   \n",
       "17   18                1912.23                 573.90   \n",
       "18   19                1912.23                 562.75   \n",
       "19   20                1912.23                 551.50   \n",
       "20   21                1912.23                 540.16   \n",
       "21   22                1912.23                 528.73   \n",
       "22   23                1912.23                 517.20   \n",
       "23   24                1912.23                 505.58   \n",
       "24   25                1912.23                 493.85   \n",
       "25   26                1912.23                 482.03   \n",
       "26   27                1912.23                 470.12   \n",
       "27   28                1912.23                 458.10   \n",
       "28   29                1912.23                 445.98   \n",
       "29   30                1912.23                 433.76   \n",
       "30   31                1912.23                 421.44   \n",
       "31   32                1912.23                 409.02   \n",
       "32   33                1912.23                 396.49   \n",
       "33   34                1912.23                 383.86   \n",
       "34   35                1912.23                 371.12   \n",
       "35   36                1912.23                 358.28   \n",
       "36   37                1912.23                 345.33   \n",
       "37   38                1912.23                 332.27   \n",
       "38   39                1912.23                 319.11   \n",
       "39   40                1912.23                 305.83   \n",
       "40   41                1912.23                 292.44   \n",
       "41   42                1912.23                 278.95   \n",
       "42   43                1912.23                 265.34   \n",
       "43   44                1912.23                 251.61   \n",
       "44   45                1912.23                 237.77   \n",
       "45   46                1912.23                 223.82   \n",
       "46   47                1912.23                 209.75   \n",
       "47   48                1912.23                 195.56   \n",
       "48   49                1912.23                 181.26   \n",
       "49   50                1912.23                 166.83   \n",
       "50   51                1912.23                 152.29   \n",
       "51   52                1912.23                 137.62   \n",
       "52   53                1912.23                 122.83   \n",
       "53   54                1912.23                 107.92   \n",
       "54   55                1912.23                  92.88   \n",
       "55   56                1912.23                  77.72   \n",
       "56   57                1912.23                  62.44   \n",
       "57   58                1912.23                  47.02   \n",
       "58   59                1912.23                  31.48   \n",
       "59   60                1912.23                  15.80   \n",
       "\n",
       "    Amortização do Principal (R$)  Saldo Devedor (R$)  Juros Acumulados (R$)  \\\n",
       "0                         1162.23            88837.77                 750.00   \n",
       "1                         1171.92            87665.85                1490.31   \n",
       "2                         1181.69            86484.16                2220.86   \n",
       "3                         1191.53            85292.63                2941.56   \n",
       "4                         1201.46            84091.17                3652.33   \n",
       "5                         1211.47            82879.69                4353.09   \n",
       "6                         1221.57            81658.12                5043.75   \n",
       "7                         1231.75            80426.37                5724.23   \n",
       "8                         1242.01            79184.36                6394.45   \n",
       "9                         1252.36            77931.99                7054.32   \n",
       "10                        1262.80            76669.19                7703.75   \n",
       "11                        1273.32            75395.87                8342.66   \n",
       "12                        1283.94            74111.93                8970.96   \n",
       "13                        1294.63            72817.30                9588.56   \n",
       "14                        1305.42            71511.88               10195.37   \n",
       "15                        1316.30            70195.57               10791.30   \n",
       "16                        1327.27            68868.30               11376.26   \n",
       "17                        1338.33            67529.97               11950.16   \n",
       "18                        1349.48            66180.49               12512.91   \n",
       "19                        1360.73            64819.76               13064.41   \n",
       "20                        1372.07            63447.69               13604.57   \n",
       "21                        1383.50            62064.19               14133.30   \n",
       "22                        1395.03            60669.15               14650.50   \n",
       "23                        1406.66            59262.50               15156.08   \n",
       "24                        1418.38            57844.12               15649.93   \n",
       "25                        1430.20            56413.92               16131.96   \n",
       "26                        1442.12            54971.80               16602.08   \n",
       "27                        1454.14            53517.66               17060.18   \n",
       "28                        1466.25            52051.41               17506.16   \n",
       "29                        1478.47            50572.94               17939.92   \n",
       "30                        1490.79            49082.14               18361.36   \n",
       "31                        1503.22            47578.93               18770.38   \n",
       "32                        1515.74            46063.18               19166.87   \n",
       "33                        1528.37            44534.81               19550.73   \n",
       "34                        1541.11            42993.70               19921.85   \n",
       "35                        1553.95            41439.75               20280.13   \n",
       "36                        1566.90            39872.84               20625.46   \n",
       "37                        1579.96            38292.88               20957.73   \n",
       "38                        1593.13            36699.76               21276.84   \n",
       "39                        1606.40            35093.35               21582.67   \n",
       "40                        1619.79            33473.56               21875.11   \n",
       "41                        1633.29            31840.28               22154.06   \n",
       "42                        1646.90            30193.38               22419.40   \n",
       "43                        1660.62            28532.76               22671.01   \n",
       "44                        1674.46            26858.29               22908.78   \n",
       "45                        1688.41            25169.88               23132.60   \n",
       "46                        1702.49            23467.39               23342.35   \n",
       "47                        1716.67            21750.72               23537.91   \n",
       "48                        1730.98            20019.74               23719.17   \n",
       "49                        1745.40            18274.34               23886.00   \n",
       "50                        1759.95            16514.39               24038.29   \n",
       "51                        1774.61            14739.78               24175.91   \n",
       "52                        1789.40            12950.38               24298.74   \n",
       "53                        1804.31            11146.06               24406.66   \n",
       "54                        1819.35             9326.71               24499.54   \n",
       "55                        1834.51             7492.20               24577.26   \n",
       "56                        1849.80             5642.40               24639.70   \n",
       "57                        1865.21             3777.19               24686.72   \n",
       "58                        1880.76             1896.43               24718.20   \n",
       "59                        1896.43               -0.00               24734.00   \n",
       "\n",
       "    Amortização Acumulada (R$)  \n",
       "0                      1162.23  \n",
       "1                      2334.15  \n",
       "2                      3515.84  \n",
       "3                      4707.37  \n",
       "4                      5908.83  \n",
       "5                      7120.30  \n",
       "6                      8341.87  \n",
       "7                      9573.62  \n",
       "8                     10815.63  \n",
       "9                     12067.99  \n",
       "10                    13330.79  \n",
       "11                    14604.11  \n",
       "12                    15888.05  \n",
       "13                    17182.68  \n",
       "14                    18488.10  \n",
       "15                    19804.40  \n",
       "16                    21131.67  \n",
       "17                    22470.00  \n",
       "18                    23819.48  \n",
       "19                    25180.21  \n",
       "20                    26552.28  \n",
       "21                    27935.78  \n",
       "22                    29330.81  \n",
       "23                    30737.47  \n",
       "24                    32155.85  \n",
       "25                    33586.05  \n",
       "26                    35028.17  \n",
       "27                    36482.31  \n",
       "28                    37948.56  \n",
       "29                    39427.03  \n",
       "30                    40917.82  \n",
       "31                    42421.04  \n",
       "32                    43936.78  \n",
       "33                    45465.15  \n",
       "34                    47006.26  \n",
       "35                    48560.21  \n",
       "36                    50127.11  \n",
       "37                    51707.07  \n",
       "38                    53300.20  \n",
       "39                    54906.60  \n",
       "40                    56526.39  \n",
       "41                    58159.68  \n",
       "42                    59806.58  \n",
       "43                    61467.20  \n",
       "44                    63141.66  \n",
       "45                    64830.07  \n",
       "46                    66532.56  \n",
       "47                    68249.23  \n",
       "48                    69980.21  \n",
       "49                    71725.61  \n",
       "50                    73485.56  \n",
       "51                    75260.17  \n",
       "52                    77049.57  \n",
       "53                    78853.88  \n",
       "54                    80673.23  \n",
       "55                    82507.74  \n",
       "56                    84357.54  \n",
       "57                    86222.75  \n",
       "58                    88103.51  \n",
       "59                    89999.94  "
      ]
     },
     "execution_count": 3,
     "metadata": {},
     "output_type": "execute_result"
    }
   ],
   "source": [
    "simulador_carro(r=0.10, t=60, valor_total_bem=100000, entrada_percentual=0.1)"
   ]
  },
  {
   "cell_type": "markdown",
   "metadata": {},
   "source": [
    "# Questão 2:"
   ]
  },
  {
   "cell_type": "code",
   "execution_count": null,
   "metadata": {},
   "outputs": [],
   "source": []
  }
 ],
 "metadata": {
  "kernelspec": {
   "display_name": ".venv",
   "language": "python",
   "name": "python3"
  },
  "language_info": {
   "codemirror_mode": {
    "name": "ipython",
    "version": 3
   },
   "file_extension": ".py",
   "mimetype": "text/x-python",
   "name": "python",
   "nbconvert_exporter": "python",
   "pygments_lexer": "ipython3",
   "version": "3.13.2"
  }
 },
 "nbformat": 4,
 "nbformat_minor": 2
}
