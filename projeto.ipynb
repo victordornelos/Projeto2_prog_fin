{
 "cells": [
  {
   "cell_type": "markdown",
   "metadata": {},
   "source": [
    "# AVALIAÇÃO 2 - PROGRAMAÇÃO EM FINANÇAS\n",
    "#### Professor: Julio Russo\n",
    "#### Disciplina: Programação em Finanças\n",
    "#### Turma: 2025.1\n",
    "#### Alunos: Lucas dos Santos Marques, Luiz Fernando M. Meirinho , Victor A. S. de Souza e Victor Flávio P. Dornelos\n",
    "#### Data: 04/06/2025"
   ]
  },
  {
   "cell_type": "code",
   "execution_count": null,
   "metadata": {},
   "outputs": [
    {
     "name": "stdout",
     "output_type": "stream",
     "text": [
      "\u001b[31mERROR: Could not open requirements file: [Errno 2] No such file or directory: 'requirements.txt'\u001b[0m\u001b[31m\n",
      "\u001b[0mNote: you may need to restart the kernel to use updated packages.\n"
     ]
    }
   ],
   "source": [
    "#pip install -r requirements.txt"
   ]
  },
  {
   "cell_type": "code",
   "execution_count": 3,
   "metadata": {},
   "outputs": [],
   "source": [
    "# Bibliotecas necessárias\n",
    "import pandas as pd\n",
    "import numpy as np\n",
    "import matplotlib.pyplot as plt\n",
    "import seaborn as sns\n",
    "import plotly.express as px\n",
    "from IPython.display import display, Markdown\n",
    "from tabulate import tabulate\n",
    "import numpy_financial as npf\n",
    "from help import simulador_carro\n",
    "from help import simulador_casa\n"
   ]
  },
  {
   "cell_type": "markdown",
   "metadata": {},
   "source": [
    "# Questão 1:"
   ]
  },
  {
   "cell_type": "markdown",
   "metadata": {},
   "source": [
    "### 1)\n",
    "- FINANCIAMENTO DE AUTOMÓVEL (USADO OU ZEROKM)\n",
    "VIA TABELA PRICE COM A ENTRADA MÍNIMA EXIGIDA\n",
    "PELA INSTITUIÇÃO.\n",
    "- ANALISAR O TOTAL DE JUROS PAGOS\n",
    "- ANALISAR O PROPORCIONAL DE QUANTAS VEZES SE\n",
    "PAGA SOBRE O VALOR A VISTA\n",
    "- COMPROVAR A FONTE DOS DADOS NO RELATÓRIO\n",
    "\n",
    "##### Premissas:\n",
    "- Carro: Polo Sense \n",
    "- Banco  de financiamento: Caixa econômica\n",
    "- Juros: 1,49 % a.m\n",
    "- IOF: 3,8%\n",
    "- Entrada: 20%\n",
    "- Parcelas: 60 meses\n",
    "\n",
    "Fonte carro: https://www.vw.com.br/pt/configurador.html/__app/polo/polo-sense.app?---=%7B%22configuration-step-navigation-service%22%3A%22%2F%3FconfigStep%3D%257B%2522context%2522%253A%252230318-34579-Polo%2BSense%2522%252C%2522selectedStep%2522%253A%2522summary%2522%257D%22%7D&carlineId-app=30318&modelId-app=BZ3SK3&modelVersion-app=0&modelYear-app=2026&salesGroupId-app=34579&category-app=private&trimName-app=Polo+Sense&exteriorId-app=F14+A1A1&interiorId-app=F56+++++WK&options-app=GPR5PR5&buildabilityStatus-app=buildable\n",
    "\n",
    "Fonte financiamento: https://www.caixa.gov.br/voce/credito-financiamento/financiamentos/Paginas/default.aspx"
   ]
  },
  {
   "cell_type": "code",
   "execution_count": 4,
   "metadata": {},
   "outputs": [],
   "source": [
    "mensal = 0.0149\n",
    "anual_efetiva = (1 + mensal)**12 - 1"
   ]
  },
  {
   "cell_type": "code",
   "execution_count": 5,
   "metadata": {},
   "outputs": [
    {
     "name": "stdout",
     "output_type": "stream",
     "text": [
      "Valor total do bem: R$109710.00\n",
      "Entrada (20.0%): R$21942.00\n",
      "IOF Total aplicado: R$2966.56 (3.38%)\n",
      "Valor financiado com IOF: R$90734.56\n"
     ]
    },
    {
     "data": {
      "application/vnd.plotly.v1+json": {
       "config": {
        "plotlyServerURL": "https://plot.ly"
       },
       "data": [
        {
         "hovertemplate": "Categoria=Juros Acumulados (R$)<br>Mês=%{x}<br>Valor (R$)=%{y}<extra></extra>",
         "legendgroup": "Juros Acumulados (R$)",
         "line": {
          "color": "green",
          "dash": "solid"
         },
         "marker": {
          "symbol": "circle"
         },
         "mode": "lines",
         "name": "Juros Acumulados (R$)",
         "orientation": "v",
         "showlegend": true,
         "type": "scatter",
         "x": [
          1,
          2,
          3,
          4,
          5,
          6,
          7,
          8,
          9,
          10,
          11,
          12,
          13,
          14,
          15,
          16,
          17,
          18,
          19,
          20,
          21,
          22,
          23,
          24,
          25,
          26,
          27,
          28,
          29,
          30,
          31,
          32,
          33,
          34,
          35,
          36,
          37,
          38,
          39,
          40,
          41,
          42,
          43,
          44,
          45,
          46,
          47,
          48,
          49,
          50,
          51,
          52,
          53,
          54,
          55,
          56,
          57,
          58,
          59,
          60
         ],
         "xaxis": "x",
         "y": [
          1468.43,
          2922.19,
          4361.05,
          5784.76,
          7193.08,
          8585.76,
          9962.54,
          11323.170000000002,
          12667.390000000001,
          13994.93,
          15305.52,
          16598.89,
          17874.76,
          19132.85,
          20372.87,
          21594.52,
          22797.510000000002,
          23981.54,
          25146.3,
          26291.47,
          27416.75,
          28521.8,
          29606.309999999998,
          30669.929999999997,
          31712.339999999997,
          32733.179999999997,
          33732.10999999999,
          34708.77999999999,
          35662.81999999999,
          36593.869999999995,
          37501.549999999996,
          38385.49,
          39245.299999999996,
          40080.6,
          40890.979999999996,
          41676.03999999999,
          42435.37999999999,
          43168.56999999999,
          43875.19999999999,
          44554.82999999999,
          45207.029999999984,
          45831.349999999984,
          46427.33999999998,
          46994.53999999998,
          47532.489999999976,
          48040.70999999998,
          48518.729999999974,
          48966.049999999974,
          49382.17999999997,
          49766.60999999997,
          50118.82999999997,
          50438.31999999997,
          50724.53999999997,
          50976.95999999997,
          51195.03999999997,
          51378.20999999997,
          51525.91999999997,
          51637.57999999997,
          51712.61999999997,
          51750.43999999997
         ],
         "yaxis": "y"
        },
        {
         "hovertemplate": "Categoria=Amortização Acumulada (R$)<br>Mês=%{x}<br>Valor (R$)=%{y}<extra></extra>",
         "legendgroup": "Amortização Acumulada (R$)",
         "line": {
          "color": "blue",
          "dash": "solid"
         },
         "marker": {
          "symbol": "circle"
         },
         "mode": "lines",
         "name": "Amortização Acumulada (R$)",
         "orientation": "v",
         "showlegend": true,
         "type": "scatter",
         "x": [
          1,
          2,
          3,
          4,
          5,
          6,
          7,
          8,
          9,
          10,
          11,
          12,
          13,
          14,
          15,
          16,
          17,
          18,
          19,
          20,
          21,
          22,
          23,
          24,
          25,
          26,
          27,
          28,
          29,
          30,
          31,
          32,
          33,
          34,
          35,
          36,
          37,
          38,
          39,
          40,
          41,
          42,
          43,
          44,
          45,
          46,
          47,
          48,
          49,
          50,
          51,
          52,
          53,
          54,
          55,
          56,
          57,
          58,
          59,
          60
         ],
         "xaxis": "x",
         "y": [
          906.32,
          1827.31,
          2763.2,
          3714.24,
          4680.67,
          5662.74,
          6660.71,
          7674.83,
          8705.36,
          9752.57,
          10816.72,
          11898.099999999999,
          12996.98,
          14113.64,
          15248.369999999999,
          16401.469999999998,
          17573.229999999996,
          18763.949999999997,
          19973.94,
          21203.519999999997,
          22452.989999999998,
          23722.69,
          25012.93,
          26324.06,
          27656.4,
          29010.31,
          30386.13,
          31784.21,
          33204.92,
          34648.619999999995,
          36115.689999999995,
          37606.49999999999,
          39121.439999999995,
          40660.88999999999,
          42225.259999999995,
          43814.95,
          45430.36,
          47071.92,
          48740.04,
          50435.16,
          52157.71000000001,
          53908.14000000001,
          55686.90000000001,
          57494.45000000001,
          59331.250000000015,
          61197.78000000001,
          63094.51000000002,
          65021.94000000002,
          66980.56000000001,
          68970.88000000002,
          70993.41000000002,
          73048.67000000001,
          75137.20000000001,
          77259.53000000001,
          79416.20000000001,
          81607.78000000001,
          83834.82,
          86097.91,
          88397.62000000001,
          90734.55
         ],
         "yaxis": "y"
        },
        {
         "hovertemplate": "Categoria=Saldo Devedor (R$)<br>Mês=%{x}<br>Valor (R$)=%{y}<extra></extra>",
         "legendgroup": "Saldo Devedor (R$)",
         "line": {
          "color": "red",
          "dash": "solid"
         },
         "marker": {
          "symbol": "circle"
         },
         "mode": "lines",
         "name": "Saldo Devedor (R$)",
         "orientation": "v",
         "showlegend": true,
         "type": "scatter",
         "x": [
          1,
          2,
          3,
          4,
          5,
          6,
          7,
          8,
          9,
          10,
          11,
          12,
          13,
          14,
          15,
          16,
          17,
          18,
          19,
          20,
          21,
          22,
          23,
          24,
          25,
          26,
          27,
          28,
          29,
          30,
          31,
          32,
          33,
          34,
          35,
          36,
          37,
          38,
          39,
          40,
          41,
          42,
          43,
          44,
          45,
          46,
          47,
          48,
          49,
          50,
          51,
          52,
          53,
          54,
          55,
          56,
          57,
          58,
          59,
          60
         ],
         "xaxis": "x",
         "y": [
          89828.24,
          88907.25,
          87971.35,
          87020.31,
          86053.88,
          85071.81,
          84073.84,
          83059.72,
          82029.2,
          80981.99,
          79917.83,
          78836.46,
          77737.58,
          76620.92,
          75486.18,
          74333.08,
          73161.33,
          71970.6,
          70760.61,
          69531.03,
          68281.56,
          67011.86,
          65721.62,
          64410.49,
          63078.15,
          61724.24,
          60348.42,
          58950.34,
          57529.63,
          56085.93,
          54618.86,
          53128.05,
          51613.11,
          50073.66,
          48509.29,
          46919.6,
          45304.19,
          43662.63,
          41994.51,
          40299.39,
          38576.84,
          36826.4,
          35047.65,
          33240.1,
          31403.3,
          29536.77,
          27640.04,
          25712.61,
          23753.99,
          21763.67,
          19741.14,
          17685.87,
          15597.35,
          13475.02,
          11318.35,
          9126.77,
          6899.73,
          4636.64,
          2336.93,
          0
         ],
         "yaxis": "y"
        }
       ],
       "layout": {
        "legend": {
         "title": {
          "text": "Categoria"
         },
         "tracegroupgap": 0
        },
        "template": {
         "data": {
          "bar": [
           {
            "error_x": {
             "color": "#2a3f5f"
            },
            "error_y": {
             "color": "#2a3f5f"
            },
            "marker": {
             "line": {
              "color": "#E5ECF6",
              "width": 0.5
             },
             "pattern": {
              "fillmode": "overlay",
              "size": 10,
              "solidity": 0.2
             }
            },
            "type": "bar"
           }
          ],
          "barpolar": [
           {
            "marker": {
             "line": {
              "color": "#E5ECF6",
              "width": 0.5
             },
             "pattern": {
              "fillmode": "overlay",
              "size": 10,
              "solidity": 0.2
             }
            },
            "type": "barpolar"
           }
          ],
          "carpet": [
           {
            "aaxis": {
             "endlinecolor": "#2a3f5f",
             "gridcolor": "white",
             "linecolor": "white",
             "minorgridcolor": "white",
             "startlinecolor": "#2a3f5f"
            },
            "baxis": {
             "endlinecolor": "#2a3f5f",
             "gridcolor": "white",
             "linecolor": "white",
             "minorgridcolor": "white",
             "startlinecolor": "#2a3f5f"
            },
            "type": "carpet"
           }
          ],
          "choropleth": [
           {
            "colorbar": {
             "outlinewidth": 0,
             "ticks": ""
            },
            "type": "choropleth"
           }
          ],
          "contour": [
           {
            "colorbar": {
             "outlinewidth": 0,
             "ticks": ""
            },
            "colorscale": [
             [
              0,
              "#0d0887"
             ],
             [
              0.1111111111111111,
              "#46039f"
             ],
             [
              0.2222222222222222,
              "#7201a8"
             ],
             [
              0.3333333333333333,
              "#9c179e"
             ],
             [
              0.4444444444444444,
              "#bd3786"
             ],
             [
              0.5555555555555556,
              "#d8576b"
             ],
             [
              0.6666666666666666,
              "#ed7953"
             ],
             [
              0.7777777777777778,
              "#fb9f3a"
             ],
             [
              0.8888888888888888,
              "#fdca26"
             ],
             [
              1,
              "#f0f921"
             ]
            ],
            "type": "contour"
           }
          ],
          "contourcarpet": [
           {
            "colorbar": {
             "outlinewidth": 0,
             "ticks": ""
            },
            "type": "contourcarpet"
           }
          ],
          "heatmap": [
           {
            "colorbar": {
             "outlinewidth": 0,
             "ticks": ""
            },
            "colorscale": [
             [
              0,
              "#0d0887"
             ],
             [
              0.1111111111111111,
              "#46039f"
             ],
             [
              0.2222222222222222,
              "#7201a8"
             ],
             [
              0.3333333333333333,
              "#9c179e"
             ],
             [
              0.4444444444444444,
              "#bd3786"
             ],
             [
              0.5555555555555556,
              "#d8576b"
             ],
             [
              0.6666666666666666,
              "#ed7953"
             ],
             [
              0.7777777777777778,
              "#fb9f3a"
             ],
             [
              0.8888888888888888,
              "#fdca26"
             ],
             [
              1,
              "#f0f921"
             ]
            ],
            "type": "heatmap"
           }
          ],
          "heatmapgl": [
           {
            "colorbar": {
             "outlinewidth": 0,
             "ticks": ""
            },
            "colorscale": [
             [
              0,
              "#0d0887"
             ],
             [
              0.1111111111111111,
              "#46039f"
             ],
             [
              0.2222222222222222,
              "#7201a8"
             ],
             [
              0.3333333333333333,
              "#9c179e"
             ],
             [
              0.4444444444444444,
              "#bd3786"
             ],
             [
              0.5555555555555556,
              "#d8576b"
             ],
             [
              0.6666666666666666,
              "#ed7953"
             ],
             [
              0.7777777777777778,
              "#fb9f3a"
             ],
             [
              0.8888888888888888,
              "#fdca26"
             ],
             [
              1,
              "#f0f921"
             ]
            ],
            "type": "heatmapgl"
           }
          ],
          "histogram": [
           {
            "marker": {
             "pattern": {
              "fillmode": "overlay",
              "size": 10,
              "solidity": 0.2
             }
            },
            "type": "histogram"
           }
          ],
          "histogram2d": [
           {
            "colorbar": {
             "outlinewidth": 0,
             "ticks": ""
            },
            "colorscale": [
             [
              0,
              "#0d0887"
             ],
             [
              0.1111111111111111,
              "#46039f"
             ],
             [
              0.2222222222222222,
              "#7201a8"
             ],
             [
              0.3333333333333333,
              "#9c179e"
             ],
             [
              0.4444444444444444,
              "#bd3786"
             ],
             [
              0.5555555555555556,
              "#d8576b"
             ],
             [
              0.6666666666666666,
              "#ed7953"
             ],
             [
              0.7777777777777778,
              "#fb9f3a"
             ],
             [
              0.8888888888888888,
              "#fdca26"
             ],
             [
              1,
              "#f0f921"
             ]
            ],
            "type": "histogram2d"
           }
          ],
          "histogram2dcontour": [
           {
            "colorbar": {
             "outlinewidth": 0,
             "ticks": ""
            },
            "colorscale": [
             [
              0,
              "#0d0887"
             ],
             [
              0.1111111111111111,
              "#46039f"
             ],
             [
              0.2222222222222222,
              "#7201a8"
             ],
             [
              0.3333333333333333,
              "#9c179e"
             ],
             [
              0.4444444444444444,
              "#bd3786"
             ],
             [
              0.5555555555555556,
              "#d8576b"
             ],
             [
              0.6666666666666666,
              "#ed7953"
             ],
             [
              0.7777777777777778,
              "#fb9f3a"
             ],
             [
              0.8888888888888888,
              "#fdca26"
             ],
             [
              1,
              "#f0f921"
             ]
            ],
            "type": "histogram2dcontour"
           }
          ],
          "mesh3d": [
           {
            "colorbar": {
             "outlinewidth": 0,
             "ticks": ""
            },
            "type": "mesh3d"
           }
          ],
          "parcoords": [
           {
            "line": {
             "colorbar": {
              "outlinewidth": 0,
              "ticks": ""
             }
            },
            "type": "parcoords"
           }
          ],
          "pie": [
           {
            "automargin": true,
            "type": "pie"
           }
          ],
          "scatter": [
           {
            "fillpattern": {
             "fillmode": "overlay",
             "size": 10,
             "solidity": 0.2
            },
            "type": "scatter"
           }
          ],
          "scatter3d": [
           {
            "line": {
             "colorbar": {
              "outlinewidth": 0,
              "ticks": ""
             }
            },
            "marker": {
             "colorbar": {
              "outlinewidth": 0,
              "ticks": ""
             }
            },
            "type": "scatter3d"
           }
          ],
          "scattercarpet": [
           {
            "marker": {
             "colorbar": {
              "outlinewidth": 0,
              "ticks": ""
             }
            },
            "type": "scattercarpet"
           }
          ],
          "scattergeo": [
           {
            "marker": {
             "colorbar": {
              "outlinewidth": 0,
              "ticks": ""
             }
            },
            "type": "scattergeo"
           }
          ],
          "scattergl": [
           {
            "marker": {
             "colorbar": {
              "outlinewidth": 0,
              "ticks": ""
             }
            },
            "type": "scattergl"
           }
          ],
          "scattermapbox": [
           {
            "marker": {
             "colorbar": {
              "outlinewidth": 0,
              "ticks": ""
             }
            },
            "type": "scattermapbox"
           }
          ],
          "scatterpolar": [
           {
            "marker": {
             "colorbar": {
              "outlinewidth": 0,
              "ticks": ""
             }
            },
            "type": "scatterpolar"
           }
          ],
          "scatterpolargl": [
           {
            "marker": {
             "colorbar": {
              "outlinewidth": 0,
              "ticks": ""
             }
            },
            "type": "scatterpolargl"
           }
          ],
          "scatterternary": [
           {
            "marker": {
             "colorbar": {
              "outlinewidth": 0,
              "ticks": ""
             }
            },
            "type": "scatterternary"
           }
          ],
          "surface": [
           {
            "colorbar": {
             "outlinewidth": 0,
             "ticks": ""
            },
            "colorscale": [
             [
              0,
              "#0d0887"
             ],
             [
              0.1111111111111111,
              "#46039f"
             ],
             [
              0.2222222222222222,
              "#7201a8"
             ],
             [
              0.3333333333333333,
              "#9c179e"
             ],
             [
              0.4444444444444444,
              "#bd3786"
             ],
             [
              0.5555555555555556,
              "#d8576b"
             ],
             [
              0.6666666666666666,
              "#ed7953"
             ],
             [
              0.7777777777777778,
              "#fb9f3a"
             ],
             [
              0.8888888888888888,
              "#fdca26"
             ],
             [
              1,
              "#f0f921"
             ]
            ],
            "type": "surface"
           }
          ],
          "table": [
           {
            "cells": {
             "fill": {
              "color": "#EBF0F8"
             },
             "line": {
              "color": "white"
             }
            },
            "header": {
             "fill": {
              "color": "#C8D4E3"
             },
             "line": {
              "color": "white"
             }
            },
            "type": "table"
           }
          ]
         },
         "layout": {
          "annotationdefaults": {
           "arrowcolor": "#2a3f5f",
           "arrowhead": 0,
           "arrowwidth": 1
          },
          "autotypenumbers": "strict",
          "coloraxis": {
           "colorbar": {
            "outlinewidth": 0,
            "ticks": ""
           }
          },
          "colorscale": {
           "diverging": [
            [
             0,
             "#8e0152"
            ],
            [
             0.1,
             "#c51b7d"
            ],
            [
             0.2,
             "#de77ae"
            ],
            [
             0.3,
             "#f1b6da"
            ],
            [
             0.4,
             "#fde0ef"
            ],
            [
             0.5,
             "#f7f7f7"
            ],
            [
             0.6,
             "#e6f5d0"
            ],
            [
             0.7,
             "#b8e186"
            ],
            [
             0.8,
             "#7fbc41"
            ],
            [
             0.9,
             "#4d9221"
            ],
            [
             1,
             "#276419"
            ]
           ],
           "sequential": [
            [
             0,
             "#0d0887"
            ],
            [
             0.1111111111111111,
             "#46039f"
            ],
            [
             0.2222222222222222,
             "#7201a8"
            ],
            [
             0.3333333333333333,
             "#9c179e"
            ],
            [
             0.4444444444444444,
             "#bd3786"
            ],
            [
             0.5555555555555556,
             "#d8576b"
            ],
            [
             0.6666666666666666,
             "#ed7953"
            ],
            [
             0.7777777777777778,
             "#fb9f3a"
            ],
            [
             0.8888888888888888,
             "#fdca26"
            ],
            [
             1,
             "#f0f921"
            ]
           ],
           "sequentialminus": [
            [
             0,
             "#0d0887"
            ],
            [
             0.1111111111111111,
             "#46039f"
            ],
            [
             0.2222222222222222,
             "#7201a8"
            ],
            [
             0.3333333333333333,
             "#9c179e"
            ],
            [
             0.4444444444444444,
             "#bd3786"
            ],
            [
             0.5555555555555556,
             "#d8576b"
            ],
            [
             0.6666666666666666,
             "#ed7953"
            ],
            [
             0.7777777777777778,
             "#fb9f3a"
            ],
            [
             0.8888888888888888,
             "#fdca26"
            ],
            [
             1,
             "#f0f921"
            ]
           ]
          },
          "colorway": [
           "#636efa",
           "#EF553B",
           "#00cc96",
           "#ab63fa",
           "#FFA15A",
           "#19d3f3",
           "#FF6692",
           "#B6E880",
           "#FF97FF",
           "#FECB52"
          ],
          "font": {
           "color": "#2a3f5f"
          },
          "geo": {
           "bgcolor": "white",
           "lakecolor": "white",
           "landcolor": "#E5ECF6",
           "showlakes": true,
           "showland": true,
           "subunitcolor": "white"
          },
          "hoverlabel": {
           "align": "left"
          },
          "hovermode": "closest",
          "mapbox": {
           "style": "light"
          },
          "paper_bgcolor": "white",
          "plot_bgcolor": "#E5ECF6",
          "polar": {
           "angularaxis": {
            "gridcolor": "white",
            "linecolor": "white",
            "ticks": ""
           },
           "bgcolor": "#E5ECF6",
           "radialaxis": {
            "gridcolor": "white",
            "linecolor": "white",
            "ticks": ""
           }
          },
          "scene": {
           "xaxis": {
            "backgroundcolor": "#E5ECF6",
            "gridcolor": "white",
            "gridwidth": 2,
            "linecolor": "white",
            "showbackground": true,
            "ticks": "",
            "zerolinecolor": "white"
           },
           "yaxis": {
            "backgroundcolor": "#E5ECF6",
            "gridcolor": "white",
            "gridwidth": 2,
            "linecolor": "white",
            "showbackground": true,
            "ticks": "",
            "zerolinecolor": "white"
           },
           "zaxis": {
            "backgroundcolor": "#E5ECF6",
            "gridcolor": "white",
            "gridwidth": 2,
            "linecolor": "white",
            "showbackground": true,
            "ticks": "",
            "zerolinecolor": "white"
           }
          },
          "shapedefaults": {
           "line": {
            "color": "#2a3f5f"
           }
          },
          "ternary": {
           "aaxis": {
            "gridcolor": "white",
            "linecolor": "white",
            "ticks": ""
           },
           "baxis": {
            "gridcolor": "white",
            "linecolor": "white",
            "ticks": ""
           },
           "bgcolor": "#E5ECF6",
           "caxis": {
            "gridcolor": "white",
            "linecolor": "white",
            "ticks": ""
           }
          },
          "title": {
           "x": 0.05
          },
          "xaxis": {
           "automargin": true,
           "gridcolor": "white",
           "linecolor": "white",
           "ticks": "",
           "title": {
            "standoff": 15
           },
           "zerolinecolor": "white",
           "zerolinewidth": 2
          },
          "yaxis": {
           "automargin": true,
           "gridcolor": "white",
           "linecolor": "white",
           "ticks": "",
           "title": {
            "standoff": 15
           },
           "zerolinecolor": "white",
           "zerolinewidth": 2
          }
         }
        },
        "title": {
         "text": "Evolução do Financiamento com IOF"
        },
        "xaxis": {
         "anchor": "y",
         "domain": [
          0,
          1
         ],
         "title": {
          "text": "Mês"
         }
        },
        "yaxis": {
         "anchor": "x",
         "domain": [
          0,
          1
         ],
         "title": {
          "text": "Valor (R$)"
         }
        }
       }
      }
     },
     "metadata": {},
     "output_type": "display_data"
    },
    {
     "data": {
      "image/png": "[encoded data removed]",
      "text/plain": [
       "<Figure size 1200x600 with 1 Axes>"
      ]
     },
     "metadata": {},
     "output_type": "display_data"
    },
    {
     "name": "stdout",
     "output_type": "stream",
     "text": [
      "Total pago em prestações: R$142485.00\n",
      "Valor total pago (incluindo entrada): R$164427.00\n",
      "Relação (Total pago / Valor do bem à vista): 1.50\n",
      "Tabela salva como 'simulador_carro_com_iof.xlsx'.\n"
     ]
    },
    {
     "data": {
      "text/html": [
       "<div>\n",
       "<style scoped>\n",
       "    .dataframe tbody tr th:only-of-type {\n",
       "        vertical-align: middle;\n",
       "    }\n",
       "\n",
       "    .dataframe tbody tr th {\n",
       "        vertical-align: top;\n",
       "    }\n",
       "\n",
       "    .dataframe thead th {\n",
       "        text-align: right;\n",
       "    }\n",
       "</style>\n",
       "<table border=\"1\" class=\"dataframe\">\n",
       "  <thead>\n",
       "    <tr style=\"text-align: right;\">\n",
       "      <th></th>\n",
       "      <th>Mês</th>\n",
       "      <th>Prestação Mensal (R$)</th>\n",
       "      <th>Parcela de Juros (R$)</th>\n",
       "      <th>Amortização do Principal (R$)</th>\n",
       "      <th>Saldo Devedor (R$)</th>\n",
       "      <th>Juros Acumulados (R$)</th>\n",
       "      <th>Amortização Acumulada (R$)</th>\n",
       "    </tr>\n",
       "  </thead>\n",
       "  <tbody>\n",
       "    <tr>\n",
       "      <th>0</th>\n",
       "      <td>1</td>\n",
       "      <td>2374.75</td>\n",
       "      <td>1468.43</td>\n",
       "      <td>906.32</td>\n",
       "      <td>89828.24</td>\n",
       "      <td>1468.43</td>\n",
       "      <td>906.32</td>\n",
       "    </tr>\n",
       "    <tr>\n",
       "      <th>1</th>\n",
       "      <td>2</td>\n",
       "      <td>2374.75</td>\n",
       "      <td>1453.76</td>\n",
       "      <td>920.99</td>\n",
       "      <td>88907.25</td>\n",
       "      <td>2922.19</td>\n",
       "      <td>1827.31</td>\n",
       "    </tr>\n",
       "    <tr>\n",
       "      <th>2</th>\n",
       "      <td>3</td>\n",
       "      <td>2374.75</td>\n",
       "      <td>1438.86</td>\n",
       "      <td>935.89</td>\n",
       "      <td>87971.35</td>\n",
       "      <td>4361.05</td>\n",
       "      <td>2763.20</td>\n",
       "    </tr>\n",
       "    <tr>\n",
       "      <th>3</th>\n",
       "      <td>4</td>\n",
       "      <td>2374.75</td>\n",
       "      <td>1423.71</td>\n",
       "      <td>951.04</td>\n",
       "      <td>87020.31</td>\n",
       "      <td>5784.76</td>\n",
       "      <td>3714.24</td>\n",
       "    </tr>\n",
       "    <tr>\n",
       "      <th>4</th>\n",
       "      <td>5</td>\n",
       "      <td>2374.75</td>\n",
       "      <td>1408.32</td>\n",
       "      <td>966.43</td>\n",
       "      <td>86053.88</td>\n",
       "      <td>7193.08</td>\n",
       "      <td>4680.67</td>\n",
       "    </tr>\n",
       "    <tr>\n",
       "      <th>5</th>\n",
       "      <td>6</td>\n",
       "      <td>2374.75</td>\n",
       "      <td>1392.68</td>\n",
       "      <td>982.07</td>\n",
       "      <td>85071.81</td>\n",
       "      <td>8585.76</td>\n",
       "      <td>5662.74</td>\n",
       "    </tr>\n",
       "    <tr>\n",
       "      <th>6</th>\n",
       "      <td>7</td>\n",
       "      <td>2374.75</td>\n",
       "      <td>1376.78</td>\n",
       "      <td>997.97</td>\n",
       "      <td>84073.84</td>\n",
       "      <td>9962.54</td>\n",
       "      <td>6660.71</td>\n",
       "    </tr>\n",
       "    <tr>\n",
       "      <th>7</th>\n",
       "      <td>8</td>\n",
       "      <td>2374.75</td>\n",
       "      <td>1360.63</td>\n",
       "      <td>1014.12</td>\n",
       "      <td>83059.72</td>\n",
       "      <td>11323.17</td>\n",
       "      <td>7674.83</td>\n",
       "    </tr>\n",
       "    <tr>\n",
       "      <th>8</th>\n",
       "      <td>9</td>\n",
       "      <td>2374.75</td>\n",
       "      <td>1344.22</td>\n",
       "      <td>1030.53</td>\n",
       "      <td>82029.20</td>\n",
       "      <td>12667.39</td>\n",
       "      <td>8705.36</td>\n",
       "    </tr>\n",
       "    <tr>\n",
       "      <th>9</th>\n",
       "      <td>10</td>\n",
       "      <td>2374.75</td>\n",
       "      <td>1327.54</td>\n",
       "      <td>1047.21</td>\n",
       "      <td>80981.99</td>\n",
       "      <td>13994.93</td>\n",
       "      <td>9752.57</td>\n",
       "    </tr>\n",
       "    <tr>\n",
       "      <th>10</th>\n",
       "      <td>11</td>\n",
       "      <td>2374.75</td>\n",
       "      <td>1310.59</td>\n",
       "      <td>1064.15</td>\n",
       "      <td>79917.83</td>\n",
       "      <td>15305.52</td>\n",
       "      <td>10816.72</td>\n",
       "    </tr>\n",
       "    <tr>\n",
       "      <th>11</th>\n",
       "      <td>12</td>\n",
       "      <td>2374.75</td>\n",
       "      <td>1293.37</td>\n",
       "      <td>1081.38</td>\n",
       "      <td>78836.46</td>\n",
       "      <td>16598.89</td>\n",
       "      <td>11898.10</td>\n",
       "    </tr>\n",
       "    <tr>\n",
       "      <th>12</th>\n",
       "      <td>13</td>\n",
       "      <td>2374.75</td>\n",
       "      <td>1275.87</td>\n",
       "      <td>1098.88</td>\n",
       "      <td>77737.58</td>\n",
       "      <td>17874.76</td>\n",
       "      <td>12996.98</td>\n",
       "    </tr>\n",
       "    <tr>\n",
       "      <th>13</th>\n",
       "      <td>14</td>\n",
       "      <td>2374.75</td>\n",
       "      <td>1258.09</td>\n",
       "      <td>1116.66</td>\n",
       "      <td>76620.92</td>\n",
       "      <td>19132.85</td>\n",
       "      <td>14113.64</td>\n",
       "    </tr>\n",
       "    <tr>\n",
       "      <th>14</th>\n",
       "      <td>15</td>\n",
       "      <td>2374.75</td>\n",
       "      <td>1240.02</td>\n",
       "      <td>1134.73</td>\n",
       "      <td>75486.18</td>\n",
       "      <td>20372.87</td>\n",
       "      <td>15248.37</td>\n",
       "    </tr>\n",
       "    <tr>\n",
       "      <th>15</th>\n",
       "      <td>16</td>\n",
       "      <td>2374.75</td>\n",
       "      <td>1221.65</td>\n",
       "      <td>1153.10</td>\n",
       "      <td>74333.08</td>\n",
       "      <td>21594.52</td>\n",
       "      <td>16401.47</td>\n",
       "    </tr>\n",
       "    <tr>\n",
       "      <th>16</th>\n",
       "      <td>17</td>\n",
       "      <td>2374.75</td>\n",
       "      <td>1202.99</td>\n",
       "      <td>1171.76</td>\n",
       "      <td>73161.33</td>\n",
       "      <td>22797.51</td>\n",
       "      <td>17573.23</td>\n",
       "    </tr>\n",
       "    <tr>\n",
       "      <th>17</th>\n",
       "      <td>18</td>\n",
       "      <td>2374.75</td>\n",
       "      <td>1184.03</td>\n",
       "      <td>1190.72</td>\n",
       "      <td>71970.60</td>\n",
       "      <td>23981.54</td>\n",
       "      <td>18763.95</td>\n",
       "    </tr>\n",
       "    <tr>\n",
       "      <th>18</th>\n",
       "      <td>19</td>\n",
       "      <td>2374.75</td>\n",
       "      <td>1164.76</td>\n",
       "      <td>1209.99</td>\n",
       "      <td>70760.61</td>\n",
       "      <td>25146.30</td>\n",
       "      <td>19973.94</td>\n",
       "    </tr>\n",
       "    <tr>\n",
       "      <th>19</th>\n",
       "      <td>20</td>\n",
       "      <td>2374.75</td>\n",
       "      <td>1145.17</td>\n",
       "      <td>1229.58</td>\n",
       "      <td>69531.03</td>\n",
       "      <td>26291.47</td>\n",
       "      <td>21203.52</td>\n",
       "    </tr>\n",
       "    <tr>\n",
       "      <th>20</th>\n",
       "      <td>21</td>\n",
       "      <td>2374.75</td>\n",
       "      <td>1125.28</td>\n",
       "      <td>1249.47</td>\n",
       "      <td>68281.56</td>\n",
       "      <td>27416.75</td>\n",
       "      <td>22452.99</td>\n",
       "    </tr>\n",
       "    <tr>\n",
       "      <th>21</th>\n",
       "      <td>22</td>\n",
       "      <td>2374.75</td>\n",
       "      <td>1105.05</td>\n",
       "      <td>1269.70</td>\n",
       "      <td>67011.86</td>\n",
       "      <td>28521.80</td>\n",
       "      <td>23722.69</td>\n",
       "    </tr>\n",
       "    <tr>\n",
       "      <th>22</th>\n",
       "      <td>23</td>\n",
       "      <td>2374.75</td>\n",
       "      <td>1084.51</td>\n",
       "      <td>1290.24</td>\n",
       "      <td>65721.62</td>\n",
       "      <td>29606.31</td>\n",
       "      <td>25012.93</td>\n",
       "    </tr>\n",
       "    <tr>\n",
       "      <th>23</th>\n",
       "      <td>24</td>\n",
       "      <td>2374.75</td>\n",
       "      <td>1063.62</td>\n",
       "      <td>1311.13</td>\n",
       "      <td>64410.49</td>\n",
       "      <td>30669.93</td>\n",
       "      <td>26324.06</td>\n",
       "    </tr>\n",
       "    <tr>\n",
       "      <th>24</th>\n",
       "      <td>25</td>\n",
       "      <td>2374.75</td>\n",
       "      <td>1042.41</td>\n",
       "      <td>1332.34</td>\n",
       "      <td>63078.15</td>\n",
       "      <td>31712.34</td>\n",
       "      <td>27656.40</td>\n",
       "    </tr>\n",
       "    <tr>\n",
       "      <th>25</th>\n",
       "      <td>26</td>\n",
       "      <td>2374.75</td>\n",
       "      <td>1020.84</td>\n",
       "      <td>1353.91</td>\n",
       "      <td>61724.24</td>\n",
       "      <td>32733.18</td>\n",
       "      <td>29010.31</td>\n",
       "    </tr>\n",
       "    <tr>\n",
       "      <th>26</th>\n",
       "      <td>27</td>\n",
       "      <td>2374.75</td>\n",
       "      <td>998.93</td>\n",
       "      <td>1375.82</td>\n",
       "      <td>60348.42</td>\n",
       "      <td>33732.11</td>\n",
       "      <td>30386.13</td>\n",
       "    </tr>\n",
       "    <tr>\n",
       "      <th>27</th>\n",
       "      <td>28</td>\n",
       "      <td>2374.75</td>\n",
       "      <td>976.67</td>\n",
       "      <td>1398.08</td>\n",
       "      <td>58950.34</td>\n",
       "      <td>34708.78</td>\n",
       "      <td>31784.21</td>\n",
       "    </tr>\n",
       "    <tr>\n",
       "      <th>28</th>\n",
       "      <td>29</td>\n",
       "      <td>2374.75</td>\n",
       "      <td>954.04</td>\n",
       "      <td>1420.71</td>\n",
       "      <td>57529.63</td>\n",
       "      <td>35662.82</td>\n",
       "      <td>33204.92</td>\n",
       "    </tr>\n",
       "    <tr>\n",
       "      <th>29</th>\n",
       "      <td>30</td>\n",
       "      <td>2374.75</td>\n",
       "      <td>931.05</td>\n",
       "      <td>1443.70</td>\n",
       "      <td>56085.93</td>\n",
       "      <td>36593.87</td>\n",
       "      <td>34648.62</td>\n",
       "    </tr>\n",
       "    <tr>\n",
       "      <th>30</th>\n",
       "      <td>31</td>\n",
       "      <td>2374.75</td>\n",
       "      <td>907.68</td>\n",
       "      <td>1467.07</td>\n",
       "      <td>54618.86</td>\n",
       "      <td>37501.55</td>\n",
       "      <td>36115.69</td>\n",
       "    </tr>\n",
       "    <tr>\n",
       "      <th>31</th>\n",
       "      <td>32</td>\n",
       "      <td>2374.75</td>\n",
       "      <td>883.94</td>\n",
       "      <td>1490.81</td>\n",
       "      <td>53128.05</td>\n",
       "      <td>38385.49</td>\n",
       "      <td>37606.50</td>\n",
       "    </tr>\n",
       "    <tr>\n",
       "      <th>32</th>\n",
       "      <td>33</td>\n",
       "      <td>2374.75</td>\n",
       "      <td>859.81</td>\n",
       "      <td>1514.94</td>\n",
       "      <td>51613.11</td>\n",
       "      <td>39245.30</td>\n",
       "      <td>39121.44</td>\n",
       "    </tr>\n",
       "    <tr>\n",
       "      <th>33</th>\n",
       "      <td>34</td>\n",
       "      <td>2374.75</td>\n",
       "      <td>835.30</td>\n",
       "      <td>1539.45</td>\n",
       "      <td>50073.66</td>\n",
       "      <td>40080.60</td>\n",
       "      <td>40660.89</td>\n",
       "    </tr>\n",
       "    <tr>\n",
       "      <th>34</th>\n",
       "      <td>35</td>\n",
       "      <td>2374.75</td>\n",
       "      <td>810.38</td>\n",
       "      <td>1564.37</td>\n",
       "      <td>48509.29</td>\n",
       "      <td>40890.98</td>\n",
       "      <td>42225.26</td>\n",
       "    </tr>\n",
       "    <tr>\n",
       "      <th>35</th>\n",
       "      <td>36</td>\n",
       "      <td>2374.75</td>\n",
       "      <td>785.06</td>\n",
       "      <td>1589.69</td>\n",
       "      <td>46919.60</td>\n",
       "      <td>41676.04</td>\n",
       "      <td>43814.95</td>\n",
       "    </tr>\n",
       "    <tr>\n",
       "      <th>36</th>\n",
       "      <td>37</td>\n",
       "      <td>2374.75</td>\n",
       "      <td>759.34</td>\n",
       "      <td>1615.41</td>\n",
       "      <td>45304.19</td>\n",
       "      <td>42435.38</td>\n",
       "      <td>45430.36</td>\n",
       "    </tr>\n",
       "    <tr>\n",
       "      <th>37</th>\n",
       "      <td>38</td>\n",
       "      <td>2374.75</td>\n",
       "      <td>733.19</td>\n",
       "      <td>1641.56</td>\n",
       "      <td>43662.63</td>\n",
       "      <td>43168.57</td>\n",
       "      <td>47071.92</td>\n",
       "    </tr>\n",
       "    <tr>\n",
       "      <th>38</th>\n",
       "      <td>39</td>\n",
       "      <td>2374.75</td>\n",
       "      <td>706.63</td>\n",
       "      <td>1668.12</td>\n",
       "      <td>41994.51</td>\n",
       "      <td>43875.20</td>\n",
       "      <td>48740.04</td>\n",
       "    </tr>\n",
       "    <tr>\n",
       "      <th>39</th>\n",
       "      <td>40</td>\n",
       "      <td>2374.75</td>\n",
       "      <td>679.63</td>\n",
       "      <td>1695.12</td>\n",
       "      <td>40299.39</td>\n",
       "      <td>44554.83</td>\n",
       "      <td>50435.16</td>\n",
       "    </tr>\n",
       "    <tr>\n",
       "      <th>40</th>\n",
       "      <td>41</td>\n",
       "      <td>2374.75</td>\n",
       "      <td>652.20</td>\n",
       "      <td>1722.55</td>\n",
       "      <td>38576.84</td>\n",
       "      <td>45207.03</td>\n",
       "      <td>52157.71</td>\n",
       "    </tr>\n",
       "    <tr>\n",
       "      <th>41</th>\n",
       "      <td>42</td>\n",
       "      <td>2374.75</td>\n",
       "      <td>624.32</td>\n",
       "      <td>1750.43</td>\n",
       "      <td>36826.40</td>\n",
       "      <td>45831.35</td>\n",
       "      <td>53908.14</td>\n",
       "    </tr>\n",
       "    <tr>\n",
       "      <th>42</th>\n",
       "      <td>43</td>\n",
       "      <td>2374.75</td>\n",
       "      <td>595.99</td>\n",
       "      <td>1778.76</td>\n",
       "      <td>35047.65</td>\n",
       "      <td>46427.34</td>\n",
       "      <td>55686.90</td>\n",
       "    </tr>\n",
       "    <tr>\n",
       "      <th>43</th>\n",
       "      <td>44</td>\n",
       "      <td>2374.75</td>\n",
       "      <td>567.20</td>\n",
       "      <td>1807.55</td>\n",
       "      <td>33240.10</td>\n",
       "      <td>46994.54</td>\n",
       "      <td>57494.45</td>\n",
       "    </tr>\n",
       "    <tr>\n",
       "      <th>44</th>\n",
       "      <td>45</td>\n",
       "      <td>2374.75</td>\n",
       "      <td>537.95</td>\n",
       "      <td>1836.80</td>\n",
       "      <td>31403.30</td>\n",
       "      <td>47532.49</td>\n",
       "      <td>59331.25</td>\n",
       "    </tr>\n",
       "    <tr>\n",
       "      <th>45</th>\n",
       "      <td>46</td>\n",
       "      <td>2374.75</td>\n",
       "      <td>508.22</td>\n",
       "      <td>1866.53</td>\n",
       "      <td>29536.77</td>\n",
       "      <td>48040.71</td>\n",
       "      <td>61197.78</td>\n",
       "    </tr>\n",
       "    <tr>\n",
       "      <th>46</th>\n",
       "      <td>47</td>\n",
       "      <td>2374.75</td>\n",
       "      <td>478.02</td>\n",
       "      <td>1896.73</td>\n",
       "      <td>27640.04</td>\n",
       "      <td>48518.73</td>\n",
       "      <td>63094.51</td>\n",
       "    </tr>\n",
       "    <tr>\n",
       "      <th>47</th>\n",
       "      <td>48</td>\n",
       "      <td>2374.75</td>\n",
       "      <td>447.32</td>\n",
       "      <td>1927.43</td>\n",
       "      <td>25712.61</td>\n",
       "      <td>48966.05</td>\n",
       "      <td>65021.94</td>\n",
       "    </tr>\n",
       "    <tr>\n",
       "      <th>48</th>\n",
       "      <td>49</td>\n",
       "      <td>2374.75</td>\n",
       "      <td>416.13</td>\n",
       "      <td>1958.62</td>\n",
       "      <td>23753.99</td>\n",
       "      <td>49382.18</td>\n",
       "      <td>66980.56</td>\n",
       "    </tr>\n",
       "    <tr>\n",
       "      <th>49</th>\n",
       "      <td>50</td>\n",
       "      <td>2374.75</td>\n",
       "      <td>384.43</td>\n",
       "      <td>1990.32</td>\n",
       "      <td>21763.67</td>\n",
       "      <td>49766.61</td>\n",
       "      <td>68970.88</td>\n",
       "    </tr>\n",
       "    <tr>\n",
       "      <th>50</th>\n",
       "      <td>51</td>\n",
       "      <td>2374.75</td>\n",
       "      <td>352.22</td>\n",
       "      <td>2022.53</td>\n",
       "      <td>19741.14</td>\n",
       "      <td>50118.83</td>\n",
       "      <td>70993.41</td>\n",
       "    </tr>\n",
       "    <tr>\n",
       "      <th>51</th>\n",
       "      <td>52</td>\n",
       "      <td>2374.75</td>\n",
       "      <td>319.49</td>\n",
       "      <td>2055.26</td>\n",
       "      <td>17685.87</td>\n",
       "      <td>50438.32</td>\n",
       "      <td>73048.67</td>\n",
       "    </tr>\n",
       "    <tr>\n",
       "      <th>52</th>\n",
       "      <td>53</td>\n",
       "      <td>2374.75</td>\n",
       "      <td>286.22</td>\n",
       "      <td>2088.53</td>\n",
       "      <td>15597.35</td>\n",
       "      <td>50724.54</td>\n",
       "      <td>75137.20</td>\n",
       "    </tr>\n",
       "    <tr>\n",
       "      <th>53</th>\n",
       "      <td>54</td>\n",
       "      <td>2374.75</td>\n",
       "      <td>252.42</td>\n",
       "      <td>2122.33</td>\n",
       "      <td>13475.02</td>\n",
       "      <td>50976.96</td>\n",
       "      <td>77259.53</td>\n",
       "    </tr>\n",
       "    <tr>\n",
       "      <th>54</th>\n",
       "      <td>55</td>\n",
       "      <td>2374.75</td>\n",
       "      <td>218.08</td>\n",
       "      <td>2156.67</td>\n",
       "      <td>11318.35</td>\n",
       "      <td>51195.04</td>\n",
       "      <td>79416.20</td>\n",
       "    </tr>\n",
       "    <tr>\n",
       "      <th>55</th>\n",
       "      <td>56</td>\n",
       "      <td>2374.75</td>\n",
       "      <td>183.17</td>\n",
       "      <td>2191.58</td>\n",
       "      <td>9126.77</td>\n",
       "      <td>51378.21</td>\n",
       "      <td>81607.78</td>\n",
       "    </tr>\n",
       "    <tr>\n",
       "      <th>56</th>\n",
       "      <td>57</td>\n",
       "      <td>2374.75</td>\n",
       "      <td>147.71</td>\n",
       "      <td>2227.04</td>\n",
       "      <td>6899.73</td>\n",
       "      <td>51525.92</td>\n",
       "      <td>83834.82</td>\n",
       "    </tr>\n",
       "    <tr>\n",
       "      <th>57</th>\n",
       "      <td>58</td>\n",
       "      <td>2374.75</td>\n",
       "      <td>111.66</td>\n",
       "      <td>2263.09</td>\n",
       "      <td>4636.64</td>\n",
       "      <td>51637.58</td>\n",
       "      <td>86097.91</td>\n",
       "    </tr>\n",
       "    <tr>\n",
       "      <th>58</th>\n",
       "      <td>59</td>\n",
       "      <td>2374.75</td>\n",
       "      <td>75.04</td>\n",
       "      <td>2299.71</td>\n",
       "      <td>2336.93</td>\n",
       "      <td>51712.62</td>\n",
       "      <td>88397.62</td>\n",
       "    </tr>\n",
       "    <tr>\n",
       "      <th>59</th>\n",
       "      <td>60</td>\n",
       "      <td>2374.75</td>\n",
       "      <td>37.82</td>\n",
       "      <td>2336.93</td>\n",
       "      <td>-0.00</td>\n",
       "      <td>51750.44</td>\n",
       "      <td>90734.55</td>\n",
       "    </tr>\n",
       "  </tbody>\n",
       "</table>\n",
       "</div>"
      ],
      "text/plain": [
       "    Mês  Prestação Mensal (R$)  Parcela de Juros (R$)  \\\n",
       "0     1                2374.75                1468.43   \n",
       "1     2                2374.75                1453.76   \n",
       "2     3                2374.75                1438.86   \n",
       "3     4                2374.75                1423.71   \n",
       "4     5                2374.75                1408.32   \n",
       "5     6                2374.75                1392.68   \n",
       "6     7                2374.75                1376.78   \n",
       "7     8                2374.75                1360.63   \n",
       "8     9                2374.75                1344.22   \n",
       "9    10                2374.75                1327.54   \n",
       "10   11                2374.75                1310.59   \n",
       "11   12                2374.75                1293.37   \n",
       "12   13                2374.75                1275.87   \n",
       "13   14                2374.75                1258.09   \n",
       "14   15                2374.75                1240.02   \n",
       "15   16                2374.75                1221.65   \n",
       "16   17                2374.75                1202.99   \n",
       "17   18                2374.75                1184.03   \n",
       "18   19                2374.75                1164.76   \n",
       "19   20                2374.75                1145.17   \n",
       "20   21                2374.75                1125.28   \n",
       "21   22                2374.75                1105.05   \n",
       "22   23                2374.75                1084.51   \n",
       "23   24                2374.75                1063.62   \n",
       "24   25                2374.75                1042.41   \n",
       "25   26                2374.75                1020.84   \n",
       "26   27                2374.75                 998.93   \n",
       "27   28                2374.75                 976.67   \n",
       "28   29                2374.75                 954.04   \n",
       "29   30                2374.75                 931.05   \n",
       "30   31                2374.75                 907.68   \n",
       "31   32                2374.75                 883.94   \n",
       "32   33                2374.75                 859.81   \n",
       "33   34                2374.75                 835.30   \n",
       "34   35                2374.75                 810.38   \n",
       "35   36                2374.75                 785.06   \n",
       "36   37                2374.75                 759.34   \n",
       "37   38                2374.75                 733.19   \n",
       "38   39                2374.75                 706.63   \n",
       "39   40                2374.75                 679.63   \n",
       "40   41                2374.75                 652.20   \n",
       "41   42                2374.75                 624.32   \n",
       "42   43                2374.75                 595.99   \n",
       "43   44                2374.75                 567.20   \n",
       "44   45                2374.75                 537.95   \n",
       "45   46                2374.75                 508.22   \n",
       "46   47                2374.75                 478.02   \n",
       "47   48                2374.75                 447.32   \n",
       "48   49                2374.75                 416.13   \n",
       "49   50                2374.75                 384.43   \n",
       "50   51                2374.75                 352.22   \n",
       "51   52                2374.75                 319.49   \n",
       "52   53                2374.75                 286.22   \n",
       "53   54                2374.75                 252.42   \n",
       "54   55                2374.75                 218.08   \n",
       "55   56                2374.75                 183.17   \n",
       "56   57                2374.75                 147.71   \n",
       "57   58                2374.75                 111.66   \n",
       "58   59                2374.75                  75.04   \n",
       "59   60                2374.75                  37.82   \n",
       "\n",
       "    Amortização do Principal (R$)  Saldo Devedor (R$)  Juros Acumulados (R$)  \\\n",
       "0                          906.32            89828.24                1468.43   \n",
       "1                          920.99            88907.25                2922.19   \n",
       "2                          935.89            87971.35                4361.05   \n",
       "3                          951.04            87020.31                5784.76   \n",
       "4                          966.43            86053.88                7193.08   \n",
       "5                          982.07            85071.81                8585.76   \n",
       "6                          997.97            84073.84                9962.54   \n",
       "7                         1014.12            83059.72               11323.17   \n",
       "8                         1030.53            82029.20               12667.39   \n",
       "9                         1047.21            80981.99               13994.93   \n",
       "10                        1064.15            79917.83               15305.52   \n",
       "11                        1081.38            78836.46               16598.89   \n",
       "12                        1098.88            77737.58               17874.76   \n",
       "13                        1116.66            76620.92               19132.85   \n",
       "14                        1134.73            75486.18               20372.87   \n",
       "15                        1153.10            74333.08               21594.52   \n",
       "16                        1171.76            73161.33               22797.51   \n",
       "17                        1190.72            71970.60               23981.54   \n",
       "18                        1209.99            70760.61               25146.30   \n",
       "19                        1229.58            69531.03               26291.47   \n",
       "20                        1249.47            68281.56               27416.75   \n",
       "21                        1269.70            67011.86               28521.80   \n",
       "22                        1290.24            65721.62               29606.31   \n",
       "23                        1311.13            64410.49               30669.93   \n",
       "24                        1332.34            63078.15               31712.34   \n",
       "25                        1353.91            61724.24               32733.18   \n",
       "26                        1375.82            60348.42               33732.11   \n",
       "27                        1398.08            58950.34               34708.78   \n",
       "28                        1420.71            57529.63               35662.82   \n",
       "29                        1443.70            56085.93               36593.87   \n",
       "30                        1467.07            54618.86               37501.55   \n",
       "31                        1490.81            53128.05               38385.49   \n",
       "32                        1514.94            51613.11               39245.30   \n",
       "33                        1539.45            50073.66               40080.60   \n",
       "34                        1564.37            48509.29               40890.98   \n",
       "35                        1589.69            46919.60               41676.04   \n",
       "36                        1615.41            45304.19               42435.38   \n",
       "37                        1641.56            43662.63               43168.57   \n",
       "38                        1668.12            41994.51               43875.20   \n",
       "39                        1695.12            40299.39               44554.83   \n",
       "40                        1722.55            38576.84               45207.03   \n",
       "41                        1750.43            36826.40               45831.35   \n",
       "42                        1778.76            35047.65               46427.34   \n",
       "43                        1807.55            33240.10               46994.54   \n",
       "44                        1836.80            31403.30               47532.49   \n",
       "45                        1866.53            29536.77               48040.71   \n",
       "46                        1896.73            27640.04               48518.73   \n",
       "47                        1927.43            25712.61               48966.05   \n",
       "48                        1958.62            23753.99               49382.18   \n",
       "49                        1990.32            21763.67               49766.61   \n",
       "50                        2022.53            19741.14               50118.83   \n",
       "51                        2055.26            17685.87               50438.32   \n",
       "52                        2088.53            15597.35               50724.54   \n",
       "53                        2122.33            13475.02               50976.96   \n",
       "54                        2156.67            11318.35               51195.04   \n",
       "55                        2191.58             9126.77               51378.21   \n",
       "56                        2227.04             6899.73               51525.92   \n",
       "57                        2263.09             4636.64               51637.58   \n",
       "58                        2299.71             2336.93               51712.62   \n",
       "59                        2336.93               -0.00               51750.44   \n",
       "\n",
       "    Amortização Acumulada (R$)  \n",
       "0                       906.32  \n",
       "1                      1827.31  \n",
       "2                      2763.20  \n",
       "3                      3714.24  \n",
       "4                      4680.67  \n",
       "5                      5662.74  \n",
       "6                      6660.71  \n",
       "7                      7674.83  \n",
       "8                      8705.36  \n",
       "9                      9752.57  \n",
       "10                    10816.72  \n",
       "11                    11898.10  \n",
       "12                    12996.98  \n",
       "13                    14113.64  \n",
       "14                    15248.37  \n",
       "15                    16401.47  \n",
       "16                    17573.23  \n",
       "17                    18763.95  \n",
       "18                    19973.94  \n",
       "19                    21203.52  \n",
       "20                    22452.99  \n",
       "21                    23722.69  \n",
       "22                    25012.93  \n",
       "23                    26324.06  \n",
       "24                    27656.40  \n",
       "25                    29010.31  \n",
       "26                    30386.13  \n",
       "27                    31784.21  \n",
       "28                    33204.92  \n",
       "29                    34648.62  \n",
       "30                    36115.69  \n",
       "31                    37606.50  \n",
       "32                    39121.44  \n",
       "33                    40660.89  \n",
       "34                    42225.26  \n",
       "35                    43814.95  \n",
       "36                    45430.36  \n",
       "37                    47071.92  \n",
       "38                    48740.04  \n",
       "39                    50435.16  \n",
       "40                    52157.71  \n",
       "41                    53908.14  \n",
       "42                    55686.90  \n",
       "43                    57494.45  \n",
       "44                    59331.25  \n",
       "45                    61197.78  \n",
       "46                    63094.51  \n",
       "47                    65021.94  \n",
       "48                    66980.56  \n",
       "49                    68970.88  \n",
       "50                    70993.41  \n",
       "51                    73048.67  \n",
       "52                    75137.20  \n",
       "53                    77259.53  \n",
       "54                    79416.20  \n",
       "55                    81607.78  \n",
       "56                    83834.82  \n",
       "57                    86097.91  \n",
       "58                    88397.62  \n",
       "59                    90734.55  "
      ]
     },
     "execution_count": 5,
     "metadata": {},
     "output_type": "execute_result"
    }
   ],
   "source": [
    "simulador_carro(r=anual_efetiva, t=60, valor_total_bem=109_710, entrada_percentual=0.2)"
   ]
  },
  {
   "cell_type": "markdown",
   "metadata": {},
   "source": [
    "# Questão 2:"
   ]
  },
  {
   "cell_type": "markdown",
   "metadata": {},
   "source": [
    "### 2)\n",
    "- FINANCIAMENTO DE IMÓVEL VIA TABELA SAC COM A ENTRADA MÍNIMA EXIGIDA PELA INSTITUIÇÃO.\n",
    "- ANALISAR O TOTAL DE JUROS PAGOS\n",
    "- ANALISAR O PROPORCIONAL DE QUANTAS VEZES SE PAGA SOBRE O VALOR A VISTA\n",
    "- COMPROVAR A FONTE DOS DADOS NO RELATÓRIO\n"
   ]
  },
  {
   "cell_type": "code",
   "execution_count": null,
   "metadata": {},
   "outputs": [
    {
     "name": "stdout",
     "output_type": "stream",
     "text": [
      "Valor total do bem: R$300000.00\n",
      "Entrada (10.0%): R$30000.00\n"
     ]
    },
    {
     "data": {
      "application/vnd.plotly.v1+json": {
       "config": {
        "plotlyServerURL": "https://plot.ly"
       },
       "data": [
        {
         "hovertemplate": "Categoria=Juros Acumulados (R$)<br>Mês=%{x}<br>Valor (R$)=%{y}<extra></extra>",
         "legendgroup": "Juros Acumulados (R$)",
         "line": {
          "color": "green",
          "dash": "solid"
         },
         "marker": {
          "symbol": "circle"
         },
         "mode": "lines",
         "name": "Juros Acumulados (R$)",
         "orientation": "v",
         "showlegend": true,
         "type": "scatter",
         "x": {
          "bdata": "AQIDBAUGBwgJCgsMDQ4PEBESExQVFhcYGRobHB0eHyAhIiMkJSYnKCkqKywtLi8wMTIzNDU2Nzg5Ojs8PT4/QEFCQ0RFRkdISUpLTE1OT1BRUlNUVVZXWFlaW1xdXl9gYWJjZGVmZ2hpamtsbW5vcHFyc3R1dnd4",
          "dtype": "i1"
         },
         "xaxis": "x",
         "y": {
          "bdata": "AAAAAABeqkCF61G43kG6QML1KFxPnMNAhOtRuJ4JykDC9ShcbzTQQKNwPQoHXdNAo3A9Cpd+1kCE61G4HpnZQITrUbierNxAZWZmZha530AyMzMzQ1/hQKNwPQp33uJAo3A9Cida5EAUrkfhUtLlQBSuR+H6RudAhetRuB646ECF61G4viXqQPYoXI/aj+tA9ihcj3L27EBnZmZmhlnuQGdmZmYWue9A7FG4HpGK8EDsUbge1TbxQKRwPQpX4fFApHA9CheK8kDsUbgeFTHzQOxRuB5R1vNApHA9Cst59ECkcD0Kgxv1QOxRuB55u/VA7FG4Hq1Z9kCkcD0KH/b2QKRwPQrPkPdA7FG4Hr0p+EDsUbge6cD4QKRwPQpTVvlApHA9Cvvp+UDsUbge4Xv6QOxRuB4FDPtApHA9Cmea+0CkcD0KByf8QOxRuB7lsfxA7FG4HgE7/UCkcD0KW8L9QKRwPQrzR/5A7FG4HsnL/kDsUbge3U3/QKRwPQovzv9AUrgehV8mAEGuR+F6xmQAQa5H4XpMogBBCtejcPHeAEEK16NwtRoBQWZmZmaYVQFBZmZmZpqPAUHC9Shcu8gBQcL1KFz7AAJBHoXrUVo4AkEehetR2G4CQXoUrkd1pAJBehSuRzHZAkHWo3A9DA0DQdajcD0GQANBMjMzMx9yA0EyMzMzV6MDQY7C9Siu0wNBjsL1KCQDBEHqUbgeuTEEQepRuB5tXwRBRuF6FECMBEFG4XoUMrgEQaJwPQpD4wRBonA9CnMNBUFG4XoUwjYFQUbhehQwXwVBonA9Cr2GBUGicD0Kaa0FQUbhehQ00wVBRuF6FB74BUGicD0KJxwGQaJwPQpPPwZBRuF6FJZhBkFG4XoU/IIGQaJwPQqBowZBonA9CiXDBkH+////5+EGQf7////J/wZBWo/C9cocB0Faj8L16jgHQbYehespVAdBth6F64duB0ESrkfhBIgHQRKuR+GgoAdBbj0K11u4B0FuPQrXNc8HQcrMzMwu5QdByszMzEb6B0FuPQrXfQ4IQW49CtfTIQhByszMzEg0CEHKzMzM3EUIQW49CtePVghBbj0K12FmCEHKzMzMUnUIQcrMzMxigwhBJlyPwpGQCEEmXI/C35wIQYLrUbhMqAhBgutRuNiyCEEmXI/Cg7wIQSZcj8JNxQhBgutRuDbNCEGC61G4PtQIQd56FK5l2ghB3noUrqvfCEE6CtejEOQIQToK16OU5whB3noUrjfqCEHeehSu+esIQToK16Pa7AhB",
          "dtype": "f8"
         },
         "yaxis": "y"
        },
        {
         "hovertemplate": "Categoria=Amortização Acumulada (R$)<br>Mês=%{x}<br>Valor (R$)=%{y}<extra></extra>",
         "legendgroup": "Amortização Acumulada (R$)",
         "line": {
          "color": "blue",
          "dash": "solid"
         },
         "marker": {
          "symbol": "circle"
         },
         "mode": "lines",
         "name": "Amortização Acumulada (R$)",
         "orientation": "v",
         "showlegend": true,
         "type": "scatter",
         "x": {
          "bdata": "AQIDBAUGBwgJCgsMDQ4PEBESExQVFhcYGRobHB0eHyAhIiMkJSYnKCkqKywtLi8wMTIzNDU2Nzg5Ojs8PT4/QEFCQ0RFRkdISUpLTE1OT1BRUlNUVVZXWFlaW1xdXl9gYWJjZGVmZ2hpamtsbW5vcHFyc3R1dnd4",
          "dtype": "i1"
         },
         "xaxis": "x",
         "y": {
          "bdata": "AAAAAACUoUAAAAAAAJSxQAAAAAAAXrpAAAAAAACUwUAAAAAAAPnFQAAAAAAAXspAAAAAAADDzkAAAAAAAJTRQAAAAACAxtNAAAAAAAD51UAAAAAAgCvYQAAAAAAAXtpAAAAAAICQ3EAAAAAAAMPeQAAAAADAeuBAAAAAAACU4UAAAAAAQK3iQAAAAACAxuNAAAAAAMDf5EAAAAAAAPnlQAAAAABAEudAAAAAAIAr6EAAAAAAwETpQAAAAAAAXupAAAAAAEB360AAAAAAgJDsQAAAAADAqe1AAAAAAADD7kAAAAAAQNzvQAAAAADAevBAAAAAAGAH8UAAAAAAAJTxQAAAAACgIPJAAAAAAECt8kAAAAAA4DnzQAAAAACAxvNAAAAAACBT9EAAAAAAwN/0QAAAAABgbPVAAAAAAAD59UAAAAAAoIX2QAAAAABAEvdAAAAAAOCe90AAAAAAgCv4QAAAAAAguPhAAAAAAMBE+UAAAAAAYNH5QAAAAAAAXvpAAAAAAKDq+kAAAAAAQHf7QAAAAADgA/xAAAAAAICQ/EAAAAAAIB39QAAAAADAqf1AAAAAAGA2/kAAAAAAAMP+QAAAAACgT/9AAAAAAEDc/0AAAAAAcDQAQQAAAADAegBBAAAAABDBAEEAAAAAYAcBQQAAAACwTQFBAAAAAACUAUEAAAAAUNoBQQAAAACgIAJBAAAAAPBmAkEAAAAAQK0CQQAAAACQ8wJBAAAAAOA5A0EAAAAAMIADQQAAAACAxgNBAAAAANAMBEEAAAAAIFMEQQAAAABwmQRBAAAAAMDfBEEAAAAAECYFQQAAAABgbAVBAAAAALCyBUEAAAAAAPkFQQAAAABQPwZBAAAAAKCFBkEAAAAA8MsGQQAAAABAEgdBAAAAAJBYB0EAAAAA4J4HQQAAAAAw5QdBAAAAAIArCEEAAAAA0HEIQQAAAAAguAhBAAAAAHD+CEEAAAAAwEQJQQAAAAAQiwlBAAAAAGDRCUEAAAAAsBcKQQAAAAAAXgpBAAAAAFCkCkEAAAAAoOoKQQAAAADwMAtBAAAAAEB3C0EAAAAAkL0LQQAAAADgAwxBAAAAADBKDEEAAAAAgJAMQQAAAADQ1gxBAAAAACAdDUEAAAAAcGMNQQAAAADAqQ1BAAAAABDwDUEAAAAAYDYOQQAAAACwfA5BAAAAAADDDkEAAAAAUAkPQQAAAACgTw9BAAAAAPCVD0EAAAAAQNwPQQAAAABIERBBAAAAAHA0EEEAAAAAmFcQQQAAAADAehBB",
          "dtype": "f8"
         },
         "yaxis": "y"
        },
        {
         "hovertemplate": "Categoria=Saldo Devedor (R$)<br>Mês=%{x}<br>Valor (R$)=%{y}<extra></extra>",
         "legendgroup": "Saldo Devedor (R$)",
         "line": {
          "color": "red",
          "dash": "solid"
         },
         "marker": {
          "symbol": "circle"
         },
         "mode": "lines",
         "name": "Saldo Devedor (R$)",
         "orientation": "v",
         "showlegend": true,
         "type": "scatter",
         "x": {
          "bdata": "AQIDBAUGBwgJCgsMDQ4PEBESExQVFhcYGRobHB0eHyAhIiMkJSYnKCkqKywtLi8wMTIzNDU2Nzg5Ojs8PT4/QEFCQ0RFRkdISUpLTE1OT1BRUlNUVVZXWFlaW1xdXl9gYWJjZGVmZ2hpamtsbW5vcHFyc3R1dnd4",
          "dtype": "i1"
         },
         "xaxis": "x",
         "y": {
          "bdata": "AAAAAMB6EEEAAAAAmFcQQQAAAABwNBBBAAAAAEgREEEAAAAAQNwPQQAAAADwlQ9BAAAAAKBPD0EAAAAAUAkPQQAAAAAAww5BAAAAALB8DkEAAAAAYDYOQQAAAAAQ8A1BAAAAAMCpDUEAAAAAcGMNQQAAAAAgHQ1BAAAAANDWDEEAAAAAgJAMQQAAAAAwSgxBAAAAAOADDEEAAAAAkL0LQQAAAABAdwtBAAAAAPAwC0EAAAAAoOoKQQAAAABQpApBAAAAAABeCkEAAAAAsBcKQQAAAABg0QlBAAAAABCLCUEAAAAAwEQJQQAAAABw/ghBAAAAACC4CEEAAAAA0HEIQQAAAACAKwhBAAAAADDlB0EAAAAA4J4HQQAAAACQWAdBAAAAAEASB0EAAAAA8MsGQQAAAACghQZBAAAAAFA/BkEAAAAAAPkFQQAAAACwsgVBAAAAAGBsBUEAAAAAECYFQQAAAADA3wRBAAAAAHCZBEEAAAAAIFMEQQAAAADQDARBAAAAAIDGA0EAAAAAMIADQQAAAADgOQNBAAAAAJDzAkEAAAAAQK0CQQAAAADwZgJBAAAAAKAgAkEAAAAAUNoBQQAAAAAAlAFBAAAAALBNAUEAAAAAYAcBQQAAAAAQwQBBAAAAAMB6AEEAAAAAcDQAQQAAAABA3P9AAAAAAKBP/0AAAAAAAMP+QAAAAABgNv5AAAAAAMCp/UAAAAAAIB39QAAAAACAkPxAAAAAAOAD/EAAAAAAQHf7QAAAAACg6vpAAAAAAABe+kAAAAAAYNH5QAAAAADARPlAAAAAACC4+EAAAAAAgCv4QAAAAADgnvdAAAAAAEAS90AAAAAAoIX2QAAAAAAA+fVAAAAAAGBs9UAAAAAAwN/0QAAAAAAgU/RAAAAAAIDG80AAAAAA4DnzQAAAAABArfJAAAAAAKAg8kAAAAAAAJTxQAAAAABgB/FAAAAAAMB68EAAAAAAQNzvQAAAAAAAw+5AAAAAAMCp7UAAAAAAgJDsQAAAAABAd+tAAAAAAABe6kAAAAAAwETpQAAAAACAK+hAAAAAAEAS50AAAAAAAPnlQAAAAADA3+RAAAAAAIDG40AAAAAAQK3iQAAAAAAAlOFAAAAAAMB64EAAAAAAAMPeQAAAAACAkNxAAAAAAABe2kAAAAAAgCvYQAAAAAAA+dVAAAAAAIDG00AAAAAAAJTRQAAAAAAAw85AAAAAAABeykAAAAAAAPnFQAAAAAAAlMFAAAAAAABeukAAAAAAAJSxQAAAAAAAlKFA",
          "dtype": "f8"
         },
         "yaxis": "y"
        }
       ],
       "layout": {
        "legend": {
         "title": {
          "text": "Categoria"
         },
         "tracegroupgap": 0
        },
        "template": {
         "data": {
          "bar": [
           {
            "error_x": {
             "color": "#2a3f5f"
            },
            "error_y": {
             "color": "#2a3f5f"
            },
            "marker": {
             "line": {
              "color": "#E5ECF6",
              "width": 0.5
             },
             "pattern": {
              "fillmode": "overlay",
              "size": 10,
              "solidity": 0.2
             }
            },
            "type": "bar"
           }
          ],
          "barpolar": [
           {
            "marker": {
             "line": {
              "color": "#E5ECF6",
              "width": 0.5
             },
             "pattern": {
              "fillmode": "overlay",
              "size": 10,
              "solidity": 0.2
             }
            },
            "type": "barpolar"
           }
          ],
          "carpet": [
           {
            "aaxis": {
             "endlinecolor": "#2a3f5f",
             "gridcolor": "white",
             "linecolor": "white",
             "minorgridcolor": "white",
             "startlinecolor": "#2a3f5f"
            },
            "baxis": {
             "endlinecolor": "#2a3f5f",
             "gridcolor": "white",
             "linecolor": "white",
             "minorgridcolor": "white",
             "startlinecolor": "#2a3f5f"
            },
            "type": "carpet"
           }
          ],
          "choropleth": [
           {
            "colorbar": {
             "outlinewidth": 0,
             "ticks": ""
            },
            "type": "choropleth"
           }
          ],
          "contour": [
           {
            "colorbar": {
             "outlinewidth": 0,
             "ticks": ""
            },
            "colorscale": [
             [
              0,
              "#0d0887"
             ],
             [
              0.1111111111111111,
              "#46039f"
             ],
             [
              0.2222222222222222,
              "#7201a8"
             ],
             [
              0.3333333333333333,
              "#9c179e"
             ],
             [
              0.4444444444444444,
              "#bd3786"
             ],
             [
              0.5555555555555556,
              "#d8576b"
             ],
             [
              0.6666666666666666,
              "#ed7953"
             ],
             [
              0.7777777777777778,
              "#fb9f3a"
             ],
             [
              0.8888888888888888,
              "#fdca26"
             ],
             [
              1,
              "#f0f921"
             ]
            ],
            "type": "contour"
           }
          ],
          "contourcarpet": [
           {
            "colorbar": {
             "outlinewidth": 0,
             "ticks": ""
            },
            "type": "contourcarpet"
           }
          ],
          "heatmap": [
           {
            "colorbar": {
             "outlinewidth": 0,
             "ticks": ""
            },
            "colorscale": [
             [
              0,
              "#0d0887"
             ],
             [
              0.1111111111111111,
              "#46039f"
             ],
             [
              0.2222222222222222,
              "#7201a8"
             ],
             [
              0.3333333333333333,
              "#9c179e"
             ],
             [
              0.4444444444444444,
              "#bd3786"
             ],
             [
              0.5555555555555556,
              "#d8576b"
             ],
             [
              0.6666666666666666,
              "#ed7953"
             ],
             [
              0.7777777777777778,
              "#fb9f3a"
             ],
             [
              0.8888888888888888,
              "#fdca26"
             ],
             [
              1,
              "#f0f921"
             ]
            ],
            "type": "heatmap"
           }
          ],
          "histogram": [
           {
            "marker": {
             "pattern": {
              "fillmode": "overlay",
              "size": 10,
              "solidity": 0.2
             }
            },
            "type": "histogram"
           }
          ],
          "histogram2d": [
           {
            "colorbar": {
             "outlinewidth": 0,
             "ticks": ""
            },
            "colorscale": [
             [
              0,
              "#0d0887"
             ],
             [
              0.1111111111111111,
              "#46039f"
             ],
             [
              0.2222222222222222,
              "#7201a8"
             ],
             [
              0.3333333333333333,
              "#9c179e"
             ],
             [
              0.4444444444444444,
              "#bd3786"
             ],
             [
              0.5555555555555556,
              "#d8576b"
             ],
             [
              0.6666666666666666,
              "#ed7953"
             ],
             [
              0.7777777777777778,
              "#fb9f3a"
             ],
             [
              0.8888888888888888,
              "#fdca26"
             ],
             [
              1,
              "#f0f921"
             ]
            ],
            "type": "histogram2d"
           }
          ],
          "histogram2dcontour": [
           {
            "colorbar": {
             "outlinewidth": 0,
             "ticks": ""
            },
            "colorscale": [
             [
              0,
              "#0d0887"
             ],
             [
              0.1111111111111111,
              "#46039f"
             ],
             [
              0.2222222222222222,
              "#7201a8"
             ],
             [
              0.3333333333333333,
              "#9c179e"
             ],
             [
              0.4444444444444444,
              "#bd3786"
             ],
             [
              0.5555555555555556,
              "#d8576b"
             ],
             [
              0.6666666666666666,
              "#ed7953"
             ],
             [
              0.7777777777777778,
              "#fb9f3a"
             ],
             [
              0.8888888888888888,
              "#fdca26"
             ],
             [
              1,
              "#f0f921"
             ]
            ],
            "type": "histogram2dcontour"
           }
          ],
          "mesh3d": [
           {
            "colorbar": {
             "outlinewidth": 0,
             "ticks": ""
            },
            "type": "mesh3d"
           }
          ],
          "parcoords": [
           {
            "line": {
             "colorbar": {
              "outlinewidth": 0,
              "ticks": ""
             }
            },
            "type": "parcoords"
           }
          ],
          "pie": [
           {
            "automargin": true,
            "type": "pie"
           }
          ],
          "scatter": [
           {
            "fillpattern": {
             "fillmode": "overlay",
             "size": 10,
             "solidity": 0.2
            },
            "type": "scatter"
           }
          ],
          "scatter3d": [
           {
            "line": {
             "colorbar": {
              "outlinewidth": 0,
              "ticks": ""
             }
            },
            "marker": {
             "colorbar": {
              "outlinewidth": 0,
              "ticks": ""
             }
            },
            "type": "scatter3d"
           }
          ],
          "scattercarpet": [
           {
            "marker": {
             "colorbar": {
              "outlinewidth": 0,
              "ticks": ""
             }
            },
            "type": "scattercarpet"
           }
          ],
          "scattergeo": [
           {
            "marker": {
             "colorbar": {
              "outlinewidth": 0,
              "ticks": ""
             }
            },
            "type": "scattergeo"
           }
          ],
          "scattergl": [
           {
            "marker": {
             "colorbar": {
              "outlinewidth": 0,
              "ticks": ""
             }
            },
            "type": "scattergl"
           }
          ],
          "scattermap": [
           {
            "marker": {
             "colorbar": {
              "outlinewidth": 0,
              "ticks": ""
             }
            },
            "type": "scattermap"
           }
          ],
          "scattermapbox": [
           {
            "marker": {
             "colorbar": {
              "outlinewidth": 0,
              "ticks": ""
             }
            },
            "type": "scattermapbox"
           }
          ],
          "scatterpolar": [
           {
            "marker": {
             "colorbar": {
              "outlinewidth": 0,
              "ticks": ""
             }
            },
            "type": "scatterpolar"
           }
          ],
          "scatterpolargl": [
           {
            "marker": {
             "colorbar": {
              "outlinewidth": 0,
              "ticks": ""
             }
            },
            "type": "scatterpolargl"
           }
          ],
          "scatterternary": [
           {
            "marker": {
             "colorbar": {
              "outlinewidth": 0,
              "ticks": ""
             }
            },
            "type": "scatterternary"
           }
          ],
          "surface": [
           {
            "colorbar": {
             "outlinewidth": 0,
             "ticks": ""
            },
            "colorscale": [
             [
              0,
              "#0d0887"
             ],
             [
              0.1111111111111111,
              "#46039f"
             ],
             [
              0.2222222222222222,
              "#7201a8"
             ],
             [
              0.3333333333333333,
              "#9c179e"
             ],
             [
              0.4444444444444444,
              "#bd3786"
             ],
             [
              0.5555555555555556,
              "#d8576b"
             ],
             [
              0.6666666666666666,
              "#ed7953"
             ],
             [
              0.7777777777777778,
              "#fb9f3a"
             ],
             [
              0.8888888888888888,
              "#fdca26"
             ],
             [
              1,
              "#f0f921"
             ]
            ],
            "type": "surface"
           }
          ],
          "table": [
           {
            "cells": {
             "fill": {
              "color": "#EBF0F8"
             },
             "line": {
              "color": "white"
             }
            },
            "header": {
             "fill": {
              "color": "#C8D4E3"
             },
             "line": {
              "color": "white"
             }
            },
            "type": "table"
           }
          ]
         },
         "layout": {
          "annotationdefaults": {
           "arrowcolor": "#2a3f5f",
           "arrowhead": 0,
           "arrowwidth": 1
          },
          "autotypenumbers": "strict",
          "coloraxis": {
           "colorbar": {
            "outlinewidth": 0,
            "ticks": ""
           }
          },
          "colorscale": {
           "diverging": [
            [
             0,
             "#8e0152"
            ],
            [
             0.1,
             "#c51b7d"
            ],
            [
             0.2,
             "#de77ae"
            ],
            [
             0.3,
             "#f1b6da"
            ],
            [
             0.4,
             "#fde0ef"
            ],
            [
             0.5,
             "#f7f7f7"
            ],
            [
             0.6,
             "#e6f5d0"
            ],
            [
             0.7,
             "#b8e186"
            ],
            [
             0.8,
             "#7fbc41"
            ],
            [
             0.9,
             "#4d9221"
            ],
            [
             1,
             "#276419"
            ]
           ],
           "sequential": [
            [
             0,
             "#0d0887"
            ],
            [
             0.1111111111111111,
             "#46039f"
            ],
            [
             0.2222222222222222,
             "#7201a8"
            ],
            [
             0.3333333333333333,
             "#9c179e"
            ],
            [
             0.4444444444444444,
             "#bd3786"
            ],
            [
             0.5555555555555556,
             "#d8576b"
            ],
            [
             0.6666666666666666,
             "#ed7953"
            ],
            [
             0.7777777777777778,
             "#fb9f3a"
            ],
            [
             0.8888888888888888,
             "#fdca26"
            ],
            [
             1,
             "#f0f921"
            ]
           ],
           "sequentialminus": [
            [
             0,
             "#0d0887"
            ],
            [
             0.1111111111111111,
             "#46039f"
            ],
            [
             0.2222222222222222,
             "#7201a8"
            ],
            [
             0.3333333333333333,
             "#9c179e"
            ],
            [
             0.4444444444444444,
             "#bd3786"
            ],
            [
             0.5555555555555556,
             "#d8576b"
            ],
            [
             0.6666666666666666,
             "#ed7953"
            ],
            [
             0.7777777777777778,
             "#fb9f3a"
            ],
            [
             0.8888888888888888,
             "#fdca26"
            ],
            [
             1,
             "#f0f921"
            ]
           ]
          },
          "colorway": [
           "#636efa",
           "#EF553B",
           "#00cc96",
           "#ab63fa",
           "#FFA15A",
           "#19d3f3",
           "#FF6692",
           "#B6E880",
           "#FF97FF",
           "#FECB52"
          ],
          "font": {
           "color": "#2a3f5f"
          },
          "geo": {
           "bgcolor": "white",
           "lakecolor": "white",
           "landcolor": "#E5ECF6",
           "showlakes": true,
           "showland": true,
           "subunitcolor": "white"
          },
          "hoverlabel": {
           "align": "left"
          },
          "hovermode": "closest",
          "mapbox": {
           "style": "light"
          },
          "paper_bgcolor": "white",
          "plot_bgcolor": "#E5ECF6",
          "polar": {
           "angularaxis": {
            "gridcolor": "white",
            "linecolor": "white",
            "ticks": ""
           },
           "bgcolor": "#E5ECF6",
           "radialaxis": {
            "gridcolor": "white",
            "linecolor": "white",
            "ticks": ""
           }
          },
          "scene": {
           "xaxis": {
            "backgroundcolor": "#E5ECF6",
            "gridcolor": "white",
            "gridwidth": 2,
            "linecolor": "white",
            "showbackground": true,
            "ticks": "",
            "zerolinecolor": "white"
           },
           "yaxis": {
            "backgroundcolor": "#E5ECF6",
            "gridcolor": "white",
            "gridwidth": 2,
            "linecolor": "white",
            "showbackground": true,
            "ticks": "",
            "zerolinecolor": "white"
           },
           "zaxis": {
            "backgroundcolor": "#E5ECF6",
            "gridcolor": "white",
            "gridwidth": 2,
            "linecolor": "white",
            "showbackground": true,
            "ticks": "",
            "zerolinecolor": "white"
           }
          },
          "shapedefaults": {
           "line": {
            "color": "#2a3f5f"
           }
          },
          "ternary": {
           "aaxis": {
            "gridcolor": "white",
            "linecolor": "white",
            "ticks": ""
           },
           "baxis": {
            "gridcolor": "white",
            "linecolor": "white",
            "ticks": ""
           },
           "bgcolor": "#E5ECF6",
           "caxis": {
            "gridcolor": "white",
            "linecolor": "white",
            "ticks": ""
           }
          },
          "title": {
           "x": 0.05
          },
          "xaxis": {
           "automargin": true,
           "gridcolor": "white",
           "linecolor": "white",
           "ticks": "",
           "title": {
            "standoff": 15
           },
           "zerolinecolor": "white",
           "zerolinewidth": 2
          },
          "yaxis": {
           "automargin": true,
           "gridcolor": "white",
           "linecolor": "white",
           "ticks": "",
           "title": {
            "standoff": 15
           },
           "zerolinecolor": "white",
           "zerolinewidth": 2
          }
         }
        },
        "title": {
         "text": "Evolução do Financiamento (SAC)"
        },
        "xaxis": {
         "anchor": "y",
         "domain": [
          0,
          1
         ],
         "title": {
          "text": "Mês"
         }
        },
        "yaxis": {
         "anchor": "x",
         "domain": [
          0,
          1
         ],
         "title": {
          "text": "Valor (R$)"
         }
        }
       }
      }
     },
     "metadata": {},
     "output_type": "display_data"
    },
    {
     "data": {
      "image/png": "[encoded data removed]",
      "text/plain": [
       "<Figure size 1200x600 with 1 Axes>"
      ]
     },
     "metadata": {},
     "output_type": "display_data"
    },
    {
     "name": "stdout",
     "output_type": "stream",
     "text": [
      "Total pago em prestações: R$474187.50\n",
      "Valor total pago (incluindo entrada): R$504187.50\n",
      "Relação (Total pago / Valor do bem): 1.68\n"
     ]
    },
    {
     "data": {
      "text/html": [
       "<div>\n",
       "<style scoped>\n",
       "    .dataframe tbody tr th:only-of-type {\n",
       "        vertical-align: middle;\n",
       "    }\n",
       "\n",
       "    .dataframe tbody tr th {\n",
       "        vertical-align: top;\n",
       "    }\n",
       "\n",
       "    .dataframe thead th {\n",
       "        text-align: right;\n",
       "    }\n",
       "</style>\n",
       "<table border=\"1\" class=\"dataframe\">\n",
       "  <thead>\n",
       "    <tr style=\"text-align: right;\">\n",
       "      <th></th>\n",
       "      <th>Mês</th>\n",
       "      <th>Prestação Mensal (R$)</th>\n",
       "      <th>Parcela de Juros (R$)</th>\n",
       "      <th>Amortização do Principal (R$)</th>\n",
       "      <th>Saldo Devedor (R$)</th>\n",
       "      <th>Juros Acumulados (R$)</th>\n",
       "      <th>Amortização Acumulada (R$)</th>\n",
       "    </tr>\n",
       "  </thead>\n",
       "  <tbody>\n",
       "    <tr>\n",
       "      <th>0</th>\n",
       "      <td>1</td>\n",
       "      <td>5625.00</td>\n",
       "      <td>3375.00</td>\n",
       "      <td>2250.0</td>\n",
       "      <td>270000.0</td>\n",
       "      <td>3375.00</td>\n",
       "      <td>2250.0</td>\n",
       "    </tr>\n",
       "    <tr>\n",
       "      <th>1</th>\n",
       "      <td>2</td>\n",
       "      <td>5596.88</td>\n",
       "      <td>3346.87</td>\n",
       "      <td>2250.0</td>\n",
       "      <td>267750.0</td>\n",
       "      <td>6721.87</td>\n",
       "      <td>4500.0</td>\n",
       "    </tr>\n",
       "    <tr>\n",
       "      <th>2</th>\n",
       "      <td>3</td>\n",
       "      <td>5568.75</td>\n",
       "      <td>3318.75</td>\n",
       "      <td>2250.0</td>\n",
       "      <td>265500.0</td>\n",
       "      <td>10040.62</td>\n",
       "      <td>6750.0</td>\n",
       "    </tr>\n",
       "    <tr>\n",
       "      <th>3</th>\n",
       "      <td>4</td>\n",
       "      <td>5540.62</td>\n",
       "      <td>3290.62</td>\n",
       "      <td>2250.0</td>\n",
       "      <td>263250.0</td>\n",
       "      <td>13331.24</td>\n",
       "      <td>9000.0</td>\n",
       "    </tr>\n",
       "    <tr>\n",
       "      <th>4</th>\n",
       "      <td>5</td>\n",
       "      <td>5512.50</td>\n",
       "      <td>3262.50</td>\n",
       "      <td>2250.0</td>\n",
       "      <td>261000.0</td>\n",
       "      <td>16593.74</td>\n",
       "      <td>11250.0</td>\n",
       "    </tr>\n",
       "    <tr>\n",
       "      <th>...</th>\n",
       "      <td>...</td>\n",
       "      <td>...</td>\n",
       "      <td>...</td>\n",
       "      <td>...</td>\n",
       "      <td>...</td>\n",
       "      <td>...</td>\n",
       "      <td>...</td>\n",
       "    </tr>\n",
       "    <tr>\n",
       "      <th>115</th>\n",
       "      <td>116</td>\n",
       "      <td>2390.62</td>\n",
       "      <td>140.62</td>\n",
       "      <td>2250.0</td>\n",
       "      <td>11250.0</td>\n",
       "      <td>203906.08</td>\n",
       "      <td>261000.0</td>\n",
       "    </tr>\n",
       "    <tr>\n",
       "      <th>116</th>\n",
       "      <td>117</td>\n",
       "      <td>2362.50</td>\n",
       "      <td>112.50</td>\n",
       "      <td>2250.0</td>\n",
       "      <td>9000.0</td>\n",
       "      <td>204018.58</td>\n",
       "      <td>263250.0</td>\n",
       "    </tr>\n",
       "    <tr>\n",
       "      <th>117</th>\n",
       "      <td>118</td>\n",
       "      <td>2334.38</td>\n",
       "      <td>84.38</td>\n",
       "      <td>2250.0</td>\n",
       "      <td>6750.0</td>\n",
       "      <td>204102.96</td>\n",
       "      <td>265500.0</td>\n",
       "    </tr>\n",
       "    <tr>\n",
       "      <th>118</th>\n",
       "      <td>119</td>\n",
       "      <td>2306.25</td>\n",
       "      <td>56.25</td>\n",
       "      <td>2250.0</td>\n",
       "      <td>4500.0</td>\n",
       "      <td>204159.21</td>\n",
       "      <td>267750.0</td>\n",
       "    </tr>\n",
       "    <tr>\n",
       "      <th>119</th>\n",
       "      <td>120</td>\n",
       "      <td>2278.12</td>\n",
       "      <td>28.12</td>\n",
       "      <td>2250.0</td>\n",
       "      <td>2250.0</td>\n",
       "      <td>204187.33</td>\n",
       "      <td>270000.0</td>\n",
       "    </tr>\n",
       "  </tbody>\n",
       "</table>\n",
       "<p>120 rows × 7 columns</p>\n",
       "</div>"
      ],
      "text/plain": [
       "     Mês  Prestação Mensal (R$)  Parcela de Juros (R$)  \\\n",
       "0      1                5625.00                3375.00   \n",
       "1      2                5596.88                3346.87   \n",
       "2      3                5568.75                3318.75   \n",
       "3      4                5540.62                3290.62   \n",
       "4      5                5512.50                3262.50   \n",
       "..   ...                    ...                    ...   \n",
       "115  116                2390.62                 140.62   \n",
       "116  117                2362.50                 112.50   \n",
       "117  118                2334.38                  84.38   \n",
       "118  119                2306.25                  56.25   \n",
       "119  120                2278.12                  28.12   \n",
       "\n",
       "     Amortização do Principal (R$)  Saldo Devedor (R$)  Juros Acumulados (R$)  \\\n",
       "0                           2250.0            270000.0                3375.00   \n",
       "1                           2250.0            267750.0                6721.87   \n",
       "2                           2250.0            265500.0               10040.62   \n",
       "3                           2250.0            263250.0               13331.24   \n",
       "4                           2250.0            261000.0               16593.74   \n",
       "..                             ...                 ...                    ...   \n",
       "115                         2250.0             11250.0              203906.08   \n",
       "116                         2250.0              9000.0              204018.58   \n",
       "117                         2250.0              6750.0              204102.96   \n",
       "118                         2250.0              4500.0              204159.21   \n",
       "119                         2250.0              2250.0              204187.33   \n",
       "\n",
       "     Amortização Acumulada (R$)  \n",
       "0                        2250.0  \n",
       "1                        4500.0  \n",
       "2                        6750.0  \n",
       "3                        9000.0  \n",
       "4                       11250.0  \n",
       "..                          ...  \n",
       "115                    261000.0  \n",
       "116                    263250.0  \n",
       "117                    265500.0  \n",
       "118                    267750.0  \n",
       "119                    270000.0  \n",
       "\n",
       "[120 rows x 7 columns]"
      ]
     },
     "execution_count": 4,
     "metadata": {},
     "output_type": "execute_result"
    }
   ],
   "source": [
    "simulador_casa(r=0.15, t=1204, valor_total_bem=300_000, entrada_percentual=0.1)"
   ]
  }
 ],
 "metadata": {
  "kernelspec": {
   "display_name": "Python 3",
   "language": "python",
   "name": "python3"
  },
  "language_info": {
   "codemirror_mode": {
    "name": "ipython",
    "version": 3
   },
   "file_extension": ".py",
   "mimetype": "text/x-python",
   "name": "python",
   "nbconvert_exporter": "python",
   "pygments_lexer": "ipython3",
   "version": "3.12.0"
  }
 },
 "nbformat": 4,
 "nbformat_minor": 2
}
