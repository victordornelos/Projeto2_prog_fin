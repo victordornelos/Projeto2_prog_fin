{
 "cells": [
  {
   "cell_type": "markdown",
   "metadata": {},
   "source": [
    "# AVALIAÇÃO 2 - PROGRAMAÇÃO EM FINANÇAS\n",
    "#### Professor: Julio Russo\n",
    "#### Disciplina: Programação em Finanças\n",
    "#### Turma: 2025.1\n",
    "#### Alunos: Lucas dos Santos Marques, Luiz Fernando M. Meirinho , Victor A. S. de Souza e Victor Flávio P. Dornelos\n",
    "#### Data: 05/06/2025"
   ]
  },
  {
   "cell_type": "code",
   "execution_count": 1,
   "metadata": {},
   "outputs": [],
   "source": [
    "#pip install -r requirements.txt"
   ]
  },
  {
   "cell_type": "code",
   "execution_count": 2,
   "metadata": {},
   "outputs": [],
   "source": [
    "# Bibliotecas necessárias\n",
    "import pandas as pd\n",
    "import numpy as np\n",
    "import matplotlib.pyplot as plt\n",
    "import seaborn as sns\n",
    "import plotly.express as px\n",
    "from IPython.display import display, Markdown\n",
    "from tabulate import tabulate\n",
    "import numpy_financial as npf\n",
    "from help import simulador_carro\n",
    "from help import simulador_casa\n"
   ]
  },
  {
   "cell_type": "markdown",
   "metadata": {},
   "source": [
    "# Questão 1:"
   ]
  },
  {
   "cell_type": "markdown",
   "metadata": {},
   "source": [
    "### 1)\n",
    "- FINANCIAMENTO DE AUTOMÓVEL (USADO OU ZEROKM)\n",
    "VIA TABELA PRICE COM A ENTRADA MÍNIMA EXIGIDA\n",
    "PELA INSTITUIÇÃO.\n",
    "- ANALISAR O TOTAL DE JUROS PAGOS\n",
    "- ANALISAR O PROPORCIONAL DE QUANTAS VEZES SE\n",
    "PAGA SOBRE O VALOR A VISTA\n",
    "- COMPROVAR A FONTE DOS DADOS NO RELATÓRIO"
   ]
  },
  {
   "cell_type": "code",
   "execution_count": 3,
   "metadata": {},
   "outputs": [
    {
     "name": "stdout",
     "output_type": "stream",
     "text": [
      "Valor total do bem: R$100000.00\n",
      "Entrada (10.0%): R$10000.00\n"
     ]
    },
    {
     "data": {
      "application/vnd.plotly.v1+json": {
       "config": {
        "plotlyServerURL": "https://plot.ly"
       },
       "data": [
        {
         "hovertemplate": "Categoria=Juros Acumulados (R$)<br>Mês=%{x}<br>Valor (R$)=%{y}<extra></extra>",
         "legendgroup": "Juros Acumulados (R$)",
         "line": {
          "color": "green",
          "dash": "solid"
         },
         "marker": {
          "symbol": "circle"
         },
         "mode": "lines",
         "name": "Juros Acumulados (R$)",
         "orientation": "v",
         "showlegend": true,
         "type": "scatter",
         "x": {
          "bdata": "AQIDBAUGBwgJCgsMDQ4PEBESExQVFhcYGRobHB0eHyAhIiMkJSYnKCkqKywtLi8wMTIzNDU2Nzg5Ojs8",
          "dtype": "i1"
         },
         "xaxis": "x",
         "y": {
          "bdata": "AAAAAACUkUCamZmZmXqhQBWuR+F6EapAXI/C9ShHsUBwPQrXY3i1QOF6FK5HnLlAZmZmZqayvUBSuB6Fq93AQClcj8IV28JAj8L1KHzRxEBcj8L1yMDGQOtRuB7lqMhAmZmZmbmJykDC9ShcL2PMQEfhehQuNc5ACtejcJ3/z0AzMzMzM+HQQB+F61G4vtFAexSuR1GY0kC4HoXr8W3TQMzMzMyMP9RAKFyPwhUN1UDC9Shcf9bVQMzMzMy8m9ZAPQrXo8Bc10AK16NwfRnYQOtRuB7l0dhA16NwPeqF2UBI4XoUfjXaQDQzMzOT4NpAFa5H4RqH20BnZmZmBincQKRwPQpHxtxASOF6FM5e3UDNzMzMjPLdQDMzMzNzgd5AuB6F63EL30CZmZmZeZDfQMzMzMw8COBAehSuR7FF4EC3HoXrkYDgQITrUbjWuOBAo3A9Cnfu4ED1KFyPaiHhQD0K16OoUeFAPQrXoyh/4UC4HoXr4anhQFK4HoXL0eFAj8L1KNz24UAzMzMzCxniQKRwPQpPOOJAZ2ZmZp5U4kABAAAA8G3iQNijcD06hOJANDMzM3OX4kB8FK5HkafiQPcoXI+KtOJAzszMzFS+4kBJ4XoU5sTiQHI9CtczyOJA",
          "dtype": "f8"
         },
         "yaxis": "y"
        },
        {
         "hovertemplate": "Categoria=Amortização Acumulada (R$)<br>Mês=%{x}<br>Valor (R$)=%{y}<extra></extra>",
         "legendgroup": "Amortização Acumulada (R$)",
         "line": {
          "color": "blue",
          "dash": "solid"
         },
         "marker": {
          "symbol": "circle"
         },
         "mode": "lines",
         "name": "Amortização Acumulada (R$)",
         "orientation": "v",
         "showlegend": true,
         "type": "scatter",
         "x": {
          "bdata": "AQIDBAUGBwgJCgsMDQ4PEBESExQVFhcYGRobHB0eHyAhIiMkJSYnKCkqKywtLi8wMTIzNDU2Nzg5Ojs8",
          "dtype": "i1"
         },
         "xaxis": "x",
         "y": {
          "bdata": "H4XrUbjAj0DsUbgehfOfQMP1KFwPHahAKVyPwjUtsEC4HoXrEVm0QOF6FK5HkrhAAAAAAADZvECuR+F6tJbAQClcj8LVx8JAFK5H4fr/xECZmZmZOT/HQFyPwvWohclAexSuR2HTy0AfhetReCjOQDMzMzODQtBAexSuR5F00UD2KFyPcqrSQHE9Ctcz5NNAPgrXo+Ah1UBnZmZmhmPWQHwUrkcxqddASeF6FO7y2EDYo3A9ykDaQPcoXI/SkttAr0fhehTp3EBJ4XoUnkPeQJHC9Sh8ot9AhutRuN6C4EDiehSutzbhQB+F61HQ7OFA4noUri+l4kDOzMzM3F/jQMT1KFzfHORAh+tRuD7c5ED4KFyPAp7lQNmjcD0yYuZAK1yPwtUo50DuUbge9fHnQAIAAACYvehAaGZmZsaL6UA/CtejiFzqQKVwPQrnL+tAm5mZmekF7EB8FK5Hmd7sQEnhehT+ue1AXY/C9SCY7kAVrkfhCnnvQNejcD1iLvBAw/UoXKuh8EAL16NwZRbxQF2PwvWUjPFAhutRuD4E8kDD9ShcZ33yQOJ6FK4T+PJAPgrXo0h080CkcD0KC/LzQHE9CtdfcfRAkML1KEzy9EBdj8L11HT1QFO4HoX/+PVA",
          "dtype": "f8"
         },
         "yaxis": "y"
        },
        {
         "hovertemplate": "Categoria=Saldo Devedor (R$)<br>Mês=%{x}<br>Valor (R$)=%{y}<extra></extra>",
         "legendgroup": "Saldo Devedor (R$)",
         "line": {
          "color": "red",
          "dash": "solid"
         },
         "marker": {
          "symbol": "circle"
         },
         "mode": "lines",
         "name": "Saldo Devedor (R$)",
         "orientation": "v",
         "showlegend": true,
         "type": "scatter",
         "x": {
          "bdata": "AQIDBAUGBwgJCgsMDQ4PEBESExQVFhcYGRobHB0eHyAhIiMkJSYnKCkqKywtLi8wMTIzNDU2Nzg5Ojs8",
          "dtype": "i1"
         },
         "xaxis": "x",
         "y": {
          "bdata": "9ihcj3659UApXI/CMXn1QMP1KFwXOPVArkfheiz29ECF61G4brP0QMP1KFzbb/RAcT0K128r9EAK16NwKebzQHsUrkcFoPNAPQrXowBZ80A9CtejGBHzQIXrUbhKyPJA4XoUrpN+8kDNzMzM8DPyQDMzMzNf6PFA4XoUrtub8UDD9ShcY07xQKRwPQrz//BAcT0K14ew8EBmZmZmHmDwQOF6FK6zDvBAXI/C9Yh470AUrkfhmtHuQGZmZmaWKO5ACtejcHV97UA9CtejMNDsQJqZmZnBIOxAXI/C9SBv60AAAAAASLvqQMP1KFwvBepAH4XrUdBM6UAUrkfhIpLoQB+F61Eg1edAXI/C9cAV50DsUbge/VPmQArXo3DNj+VAuB6F6ynJ5ED2KFyPCgDkQOF6FK5nNONAexSuRzlm4kCF61G4dpXhQD0K16MYwuBAUrgehSvY30DNzMzMzCbeQPYoXI8CcNxAzczMzLyz2kBcj8L16PHYQGZmZmZ2KtdAexSuR1Fd1UCamZmZaYrTQBSuR+GqsdFA4XoUrgemz0D2KFyPwtzLQAAAAABgB8hAH4XrUbglxEDsUbgepTfAQBSuR+H6ebhAKVyPwjVrsEC4HoXrUYWgQAAAAAAAAACA",
          "dtype": "f8"
         },
         "yaxis": "y"
        }
       ],
       "layout": {
        "legend": {
         "title": {
          "text": "Categoria"
         },
         "tracegroupgap": 0
        },
        "template": {
         "data": {
          "bar": [
           {
            "error_x": {
             "color": "#2a3f5f"
            },
            "error_y": {
             "color": "#2a3f5f"
            },
            "marker": {
             "line": {
              "color": "#E5ECF6",
              "width": 0.5
             },
             "pattern": {
              "fillmode": "overlay",
              "size": 10,
              "solidity": 0.2
             }
            },
            "type": "bar"
           }
          ],
          "barpolar": [
           {
            "marker": {
             "line": {
              "color": "#E5ECF6",
              "width": 0.5
             },
             "pattern": {
              "fillmode": "overlay",
              "size": 10,
              "solidity": 0.2
             }
            },
            "type": "barpolar"
           }
          ],
          "carpet": [
           {
            "aaxis": {
             "endlinecolor": "#2a3f5f",
             "gridcolor": "white",
             "linecolor": "white",
             "minorgridcolor": "white",
             "startlinecolor": "#2a3f5f"
            },
            "baxis": {
             "endlinecolor": "#2a3f5f",
             "gridcolor": "white",
             "linecolor": "white",
             "minorgridcolor": "white",
             "startlinecolor": "#2a3f5f"
            },
            "type": "carpet"
           }
          ],
          "choropleth": [
           {
            "colorbar": {
             "outlinewidth": 0,
             "ticks": ""
            },
            "type": "choropleth"
           }
          ],
          "contour": [
           {
            "colorbar": {
             "outlinewidth": 0,
             "ticks": ""
            },
            "colorscale": [
             [
              0,
              "#0d0887"
             ],
             [
              0.1111111111111111,
              "#46039f"
             ],
             [
              0.2222222222222222,
              "#7201a8"
             ],
             [
              0.3333333333333333,
              "#9c179e"
             ],
             [
              0.4444444444444444,
              "#bd3786"
             ],
             [
              0.5555555555555556,
              "#d8576b"
             ],
             [
              0.6666666666666666,
              "#ed7953"
             ],
             [
              0.7777777777777778,
              "#fb9f3a"
             ],
             [
              0.8888888888888888,
              "#fdca26"
             ],
             [
              1,
              "#f0f921"
             ]
            ],
            "type": "contour"
           }
          ],
          "contourcarpet": [
           {
            "colorbar": {
             "outlinewidth": 0,
             "ticks": ""
            },
            "type": "contourcarpet"
           }
          ],
          "heatmap": [
           {
            "colorbar": {
             "outlinewidth": 0,
             "ticks": ""
            },
            "colorscale": [
             [
              0,
              "#0d0887"
             ],
             [
              0.1111111111111111,
              "#46039f"
             ],
             [
              0.2222222222222222,
              "#7201a8"
             ],
             [
              0.3333333333333333,
              "#9c179e"
             ],
             [
              0.4444444444444444,
              "#bd3786"
             ],
             [
              0.5555555555555556,
              "#d8576b"
             ],
             [
              0.6666666666666666,
              "#ed7953"
             ],
             [
              0.7777777777777778,
              "#fb9f3a"
             ],
             [
              0.8888888888888888,
              "#fdca26"
             ],
             [
              1,
              "#f0f921"
             ]
            ],
            "type": "heatmap"
           }
          ],
          "histogram": [
           {
            "marker": {
             "pattern": {
              "fillmode": "overlay",
              "size": 10,
              "solidity": 0.2
             }
            },
            "type": "histogram"
           }
          ],
          "histogram2d": [
           {
            "colorbar": {
             "outlinewidth": 0,
             "ticks": ""
            },
            "colorscale": [
             [
              0,
              "#0d0887"
             ],
             [
              0.1111111111111111,
              "#46039f"
             ],
             [
              0.2222222222222222,
              "#7201a8"
             ],
             [
              0.3333333333333333,
              "#9c179e"
             ],
             [
              0.4444444444444444,
              "#bd3786"
             ],
             [
              0.5555555555555556,
              "#d8576b"
             ],
             [
              0.6666666666666666,
              "#ed7953"
             ],
             [
              0.7777777777777778,
              "#fb9f3a"
             ],
             [
              0.8888888888888888,
              "#fdca26"
             ],
             [
              1,
              "#f0f921"
             ]
            ],
            "type": "histogram2d"
           }
          ],
          "histogram2dcontour": [
           {
            "colorbar": {
             "outlinewidth": 0,
             "ticks": ""
            },
            "colorscale": [
             [
              0,
              "#0d0887"
             ],
             [
              0.1111111111111111,
              "#46039f"
             ],
             [
              0.2222222222222222,
              "#7201a8"
             ],
             [
              0.3333333333333333,
              "#9c179e"
             ],
             [
              0.4444444444444444,
              "#bd3786"
             ],
             [
              0.5555555555555556,
              "#d8576b"
             ],
             [
              0.6666666666666666,
              "#ed7953"
             ],
             [
              0.7777777777777778,
              "#fb9f3a"
             ],
             [
              0.8888888888888888,
              "#fdca26"
             ],
             [
              1,
              "#f0f921"
             ]
            ],
            "type": "histogram2dcontour"
           }
          ],
          "mesh3d": [
           {
            "colorbar": {
             "outlinewidth": 0,
             "ticks": ""
            },
            "type": "mesh3d"
           }
          ],
          "parcoords": [
           {
            "line": {
             "colorbar": {
              "outlinewidth": 0,
              "ticks": ""
             }
            },
            "type": "parcoords"
           }
          ],
          "pie": [
           {
            "automargin": true,
            "type": "pie"
           }
          ],
          "scatter": [
           {
            "fillpattern": {
             "fillmode": "overlay",
             "size": 10,
             "solidity": 0.2
            },
            "type": "scatter"
           }
          ],
          "scatter3d": [
           {
            "line": {
             "colorbar": {
              "outlinewidth": 0,
              "ticks": ""
             }
            },
            "marker": {
             "colorbar": {
              "outlinewidth": 0,
              "ticks": ""
             }
            },
            "type": "scatter3d"
           }
          ],
          "scattercarpet": [
           {
            "marker": {
             "colorbar": {
              "outlinewidth": 0,
              "ticks": ""
             }
            },
            "type": "scattercarpet"
           }
          ],
          "scattergeo": [
           {
            "marker": {
             "colorbar": {
              "outlinewidth": 0,
              "ticks": ""
             }
            },
            "type": "scattergeo"
           }
          ],
          "scattergl": [
           {
            "marker": {
             "colorbar": {
              "outlinewidth": 0,
              "ticks": ""
             }
            },
            "type": "scattergl"
           }
          ],
          "scattermap": [
           {
            "marker": {
             "colorbar": {
              "outlinewidth": 0,
              "ticks": ""
             }
            },
            "type": "scattermap"
           }
          ],
          "scattermapbox": [
           {
            "marker": {
             "colorbar": {
              "outlinewidth": 0,
              "ticks": ""
             }
            },
            "type": "scattermapbox"
           }
          ],
          "scatterpolar": [
           {
            "marker": {
             "colorbar": {
              "outlinewidth": 0,
              "ticks": ""
             }
            },
            "type": "scatterpolar"
           }
          ],
          "scatterpolargl": [
           {
            "marker": {
             "colorbar": {
              "outlinewidth": 0,
              "ticks": ""
             }
            },
            "type": "scatterpolargl"
           }
          ],
          "scatterternary": [
           {
            "marker": {
             "colorbar": {
              "outlinewidth": 0,
              "ticks": ""
             }
            },
            "type": "scatterternary"
           }
          ],
          "surface": [
           {
            "colorbar": {
             "outlinewidth": 0,
             "ticks": ""
            },
            "colorscale": [
             [
              0,
              "#0d0887"
             ],
             [
              0.1111111111111111,
              "#46039f"
             ],
             [
              0.2222222222222222,
              "#7201a8"
             ],
             [
              0.3333333333333333,
              "#9c179e"
             ],
             [
              0.4444444444444444,
              "#bd3786"
             ],
             [
              0.5555555555555556,
              "#d8576b"
             ],
             [
              0.6666666666666666,
              "#ed7953"
             ],
             [
              0.7777777777777778,
              "#fb9f3a"
             ],
             [
              0.8888888888888888,
              "#fdca26"
             ],
             [
              1,
              "#f0f921"
             ]
            ],
            "type": "surface"
           }
          ],
          "table": [
           {
            "cells": {
             "fill": {
              "color": "#EBF0F8"
             },
             "line": {
              "color": "white"
             }
            },
            "header": {
             "fill": {
              "color": "#C8D4E3"
             },
             "line": {
              "color": "white"
             }
            },
            "type": "table"
           }
          ]
         },
         "layout": {
          "annotationdefaults": {
           "arrowcolor": "#2a3f5f",
           "arrowhead": 0,
           "arrowwidth": 1
          },
          "autotypenumbers": "strict",
          "coloraxis": {
           "colorbar": {
            "outlinewidth": 0,
            "ticks": ""
           }
          },
          "colorscale": {
           "diverging": [
            [
             0,
             "#8e0152"
            ],
            [
             0.1,
             "#c51b7d"
            ],
            [
             0.2,
             "#de77ae"
            ],
            [
             0.3,
             "#f1b6da"
            ],
            [
             0.4,
             "#fde0ef"
            ],
            [
             0.5,
             "#f7f7f7"
            ],
            [
             0.6,
             "#e6f5d0"
            ],
            [
             0.7,
             "#b8e186"
            ],
            [
             0.8,
             "#7fbc41"
            ],
            [
             0.9,
             "#4d9221"
            ],
            [
             1,
             "#276419"
            ]
           ],
           "sequential": [
            [
             0,
             "#0d0887"
            ],
            [
             0.1111111111111111,
             "#46039f"
            ],
            [
             0.2222222222222222,
             "#7201a8"
            ],
            [
             0.3333333333333333,
             "#9c179e"
            ],
            [
             0.4444444444444444,
             "#bd3786"
            ],
            [
             0.5555555555555556,
             "#d8576b"
            ],
            [
             0.6666666666666666,
             "#ed7953"
            ],
            [
             0.7777777777777778,
             "#fb9f3a"
            ],
            [
             0.8888888888888888,
             "#fdca26"
            ],
            [
             1,
             "#f0f921"
            ]
           ],
           "sequentialminus": [
            [
             0,
             "#0d0887"
            ],
            [
             0.1111111111111111,
             "#46039f"
            ],
            [
             0.2222222222222222,
             "#7201a8"
            ],
            [
             0.3333333333333333,
             "#9c179e"
            ],
            [
             0.4444444444444444,
             "#bd3786"
            ],
            [
             0.5555555555555556,
             "#d8576b"
            ],
            [
             0.6666666666666666,
             "#ed7953"
            ],
            [
             0.7777777777777778,
             "#fb9f3a"
            ],
            [
             0.8888888888888888,
             "#fdca26"
            ],
            [
             1,
             "#f0f921"
            ]
           ]
          },
          "colorway": [
           "#636efa",
           "#EF553B",
           "#00cc96",
           "#ab63fa",
           "#FFA15A",
           "#19d3f3",
           "#FF6692",
           "#B6E880",
           "#FF97FF",
           "#FECB52"
          ],
          "font": {
           "color": "#2a3f5f"
          },
          "geo": {
           "bgcolor": "white",
           "lakecolor": "white",
           "landcolor": "#E5ECF6",
           "showlakes": true,
           "showland": true,
           "subunitcolor": "white"
          },
          "hoverlabel": {
           "align": "left"
          },
          "hovermode": "closest",
          "mapbox": {
           "style": "light"
          },
          "paper_bgcolor": "white",
          "plot_bgcolor": "#E5ECF6",
          "polar": {
           "angularaxis": {
            "gridcolor": "white",
            "linecolor": "white",
            "ticks": ""
           },
           "bgcolor": "#E5ECF6",
           "radialaxis": {
            "gridcolor": "white",
            "linecolor": "white",
            "ticks": ""
           }
          },
          "scene": {
           "xaxis": {
            "backgroundcolor": "#E5ECF6",
            "gridcolor": "white",
            "gridwidth": 2,
            "linecolor": "white",
            "showbackground": true,
            "ticks": "",
            "zerolinecolor": "white"
           },
           "yaxis": {
            "backgroundcolor": "#E5ECF6",
            "gridcolor": "white",
            "gridwidth": 2,
            "linecolor": "white",
            "showbackground": true,
            "ticks": "",
            "zerolinecolor": "white"
           },
           "zaxis": {
            "backgroundcolor": "#E5ECF6",
            "gridcolor": "white",
            "gridwidth": 2,
            "linecolor": "white",
            "showbackground": true,
            "ticks": "",
            "zerolinecolor": "white"
           }
          },
          "shapedefaults": {
           "line": {
            "color": "#2a3f5f"
           }
          },
          "ternary": {
           "aaxis": {
            "gridcolor": "white",
            "linecolor": "white",
            "ticks": ""
           },
           "baxis": {
            "gridcolor": "white",
            "linecolor": "white",
            "ticks": ""
           },
           "bgcolor": "#E5ECF6",
           "caxis": {
            "gridcolor": "white",
            "linecolor": "white",
            "ticks": ""
           }
          },
          "title": {
           "x": 0.05
          },
          "xaxis": {
           "automargin": true,
           "gridcolor": "white",
           "linecolor": "white",
           "ticks": "",
           "title": {
            "standoff": 15
           },
           "zerolinecolor": "white",
           "zerolinewidth": 2
          },
          "yaxis": {
           "automargin": true,
           "gridcolor": "white",
           "linecolor": "white",
           "ticks": "",
           "title": {
            "standoff": 15
           },
           "zerolinecolor": "white",
           "zerolinewidth": 2
          }
         }
        },
        "title": {
         "text": "Evolução do Financiamento"
        },
        "xaxis": {
         "anchor": "y",
         "domain": [
          0,
          1
         ],
         "title": {
          "text": "Mês"
         }
        },
        "yaxis": {
         "anchor": "x",
         "domain": [
          0,
          1
         ],
         "title": {
          "text": "Valor (R$)"
         }
        }
       }
      }
     },
     "metadata": {},
     "output_type": "display_data"
    },
    {
     "data": {
      "image/png": "[encoded data removed]",
      "text/plain": [
       "<Figure size 1200x600 with 1 Axes>"
      ]
     },
     "metadata": {},
     "output_type": "display_data"
    },
    {
     "name": "stdout",
     "output_type": "stream",
     "text": [
      "Total pago em prestações: R$128465.40\n",
      "Valor total pago (incluindo entrada): R$138465.40\n",
      "Relação (Total pago / Valor do carro): 1.38\n"
     ]
    },
    {
     "data": {
      "text/html": [
       "<div>\n",
       "<style scoped>\n",
       "    .dataframe tbody tr th:only-of-type {\n",
       "        vertical-align: middle;\n",
       "    }\n",
       "\n",
       "    .dataframe tbody tr th {\n",
       "        vertical-align: top;\n",
       "    }\n",
       "\n",
       "    .dataframe thead th {\n",
       "        text-align: right;\n",
       "    }\n",
       "</style>\n",
       "<table border=\"1\" class=\"dataframe\">\n",
       "  <thead>\n",
       "    <tr style=\"text-align: right;\">\n",
       "      <th></th>\n",
       "      <th>Mês</th>\n",
       "      <th>Prestação Mensal (R$)</th>\n",
       "      <th>Parcela de Juros (R$)</th>\n",
       "      <th>Amortização do Principal (R$)</th>\n",
       "      <th>Saldo Devedor (R$)</th>\n",
       "      <th>Juros Acumulados (R$)</th>\n",
       "      <th>Amortização Acumulada (R$)</th>\n",
       "    </tr>\n",
       "  </thead>\n",
       "  <tbody>\n",
       "    <tr>\n",
       "      <th>0</th>\n",
       "      <td>1</td>\n",
       "      <td>2141.09</td>\n",
       "      <td>1125.00</td>\n",
       "      <td>1016.09</td>\n",
       "      <td>88983.91</td>\n",
       "      <td>1125.00</td>\n",
       "      <td>1016.09</td>\n",
       "    </tr>\n",
       "    <tr>\n",
       "      <th>1</th>\n",
       "      <td>2</td>\n",
       "      <td>2141.09</td>\n",
       "      <td>1112.30</td>\n",
       "      <td>1028.79</td>\n",
       "      <td>87955.11</td>\n",
       "      <td>2237.30</td>\n",
       "      <td>2044.88</td>\n",
       "    </tr>\n",
       "    <tr>\n",
       "      <th>2</th>\n",
       "      <td>3</td>\n",
       "      <td>2141.09</td>\n",
       "      <td>1099.44</td>\n",
       "      <td>1041.65</td>\n",
       "      <td>86913.46</td>\n",
       "      <td>3336.74</td>\n",
       "      <td>3086.53</td>\n",
       "    </tr>\n",
       "    <tr>\n",
       "      <th>3</th>\n",
       "      <td>4</td>\n",
       "      <td>2141.09</td>\n",
       "      <td>1086.42</td>\n",
       "      <td>1054.68</td>\n",
       "      <td>85858.78</td>\n",
       "      <td>4423.16</td>\n",
       "      <td>4141.21</td>\n",
       "    </tr>\n",
       "    <tr>\n",
       "      <th>4</th>\n",
       "      <td>5</td>\n",
       "      <td>2141.09</td>\n",
       "      <td>1073.23</td>\n",
       "      <td>1067.86</td>\n",
       "      <td>84790.92</td>\n",
       "      <td>5496.39</td>\n",
       "      <td>5209.07</td>\n",
       "    </tr>\n",
       "    <tr>\n",
       "      <th>5</th>\n",
       "      <td>6</td>\n",
       "      <td>2141.09</td>\n",
       "      <td>1059.89</td>\n",
       "      <td>1081.21</td>\n",
       "      <td>83709.71</td>\n",
       "      <td>6556.28</td>\n",
       "      <td>6290.28</td>\n",
       "    </tr>\n",
       "    <tr>\n",
       "      <th>6</th>\n",
       "      <td>7</td>\n",
       "      <td>2141.09</td>\n",
       "      <td>1046.37</td>\n",
       "      <td>1094.72</td>\n",
       "      <td>82614.99</td>\n",
       "      <td>7602.65</td>\n",
       "      <td>7385.00</td>\n",
       "    </tr>\n",
       "    <tr>\n",
       "      <th>7</th>\n",
       "      <td>8</td>\n",
       "      <td>2141.09</td>\n",
       "      <td>1032.69</td>\n",
       "      <td>1108.41</td>\n",
       "      <td>81506.59</td>\n",
       "      <td>8635.34</td>\n",
       "      <td>8493.41</td>\n",
       "    </tr>\n",
       "    <tr>\n",
       "      <th>8</th>\n",
       "      <td>9</td>\n",
       "      <td>2141.09</td>\n",
       "      <td>1018.83</td>\n",
       "      <td>1122.26</td>\n",
       "      <td>80384.33</td>\n",
       "      <td>9654.17</td>\n",
       "      <td>9615.67</td>\n",
       "    </tr>\n",
       "    <tr>\n",
       "      <th>9</th>\n",
       "      <td>10</td>\n",
       "      <td>2141.09</td>\n",
       "      <td>1004.80</td>\n",
       "      <td>1136.29</td>\n",
       "      <td>79248.04</td>\n",
       "      <td>10658.97</td>\n",
       "      <td>10751.96</td>\n",
       "    </tr>\n",
       "    <tr>\n",
       "      <th>10</th>\n",
       "      <td>11</td>\n",
       "      <td>2141.09</td>\n",
       "      <td>990.60</td>\n",
       "      <td>1150.49</td>\n",
       "      <td>78097.54</td>\n",
       "      <td>11649.57</td>\n",
       "      <td>11902.45</td>\n",
       "    </tr>\n",
       "    <tr>\n",
       "      <th>11</th>\n",
       "      <td>12</td>\n",
       "      <td>2141.09</td>\n",
       "      <td>976.22</td>\n",
       "      <td>1164.87</td>\n",
       "      <td>76932.67</td>\n",
       "      <td>12625.79</td>\n",
       "      <td>13067.32</td>\n",
       "    </tr>\n",
       "    <tr>\n",
       "      <th>12</th>\n",
       "      <td>13</td>\n",
       "      <td>2141.09</td>\n",
       "      <td>961.66</td>\n",
       "      <td>1179.44</td>\n",
       "      <td>75753.23</td>\n",
       "      <td>13587.45</td>\n",
       "      <td>14246.76</td>\n",
       "    </tr>\n",
       "    <tr>\n",
       "      <th>13</th>\n",
       "      <td>14</td>\n",
       "      <td>2141.09</td>\n",
       "      <td>946.92</td>\n",
       "      <td>1194.18</td>\n",
       "      <td>74559.05</td>\n",
       "      <td>14534.37</td>\n",
       "      <td>15440.94</td>\n",
       "    </tr>\n",
       "    <tr>\n",
       "      <th>14</th>\n",
       "      <td>15</td>\n",
       "      <td>2141.09</td>\n",
       "      <td>931.99</td>\n",
       "      <td>1209.11</td>\n",
       "      <td>73349.95</td>\n",
       "      <td>15466.36</td>\n",
       "      <td>16650.05</td>\n",
       "    </tr>\n",
       "    <tr>\n",
       "      <th>15</th>\n",
       "      <td>16</td>\n",
       "      <td>2141.09</td>\n",
       "      <td>916.87</td>\n",
       "      <td>1224.22</td>\n",
       "      <td>72125.73</td>\n",
       "      <td>16383.23</td>\n",
       "      <td>17874.27</td>\n",
       "    </tr>\n",
       "    <tr>\n",
       "      <th>16</th>\n",
       "      <td>17</td>\n",
       "      <td>2141.09</td>\n",
       "      <td>901.57</td>\n",
       "      <td>1239.52</td>\n",
       "      <td>70886.21</td>\n",
       "      <td>17284.80</td>\n",
       "      <td>19113.79</td>\n",
       "    </tr>\n",
       "    <tr>\n",
       "      <th>17</th>\n",
       "      <td>18</td>\n",
       "      <td>2141.09</td>\n",
       "      <td>886.08</td>\n",
       "      <td>1255.02</td>\n",
       "      <td>69631.19</td>\n",
       "      <td>18170.88</td>\n",
       "      <td>20368.81</td>\n",
       "    </tr>\n",
       "    <tr>\n",
       "      <th>18</th>\n",
       "      <td>19</td>\n",
       "      <td>2141.09</td>\n",
       "      <td>870.39</td>\n",
       "      <td>1270.70</td>\n",
       "      <td>68360.49</td>\n",
       "      <td>19041.27</td>\n",
       "      <td>21639.51</td>\n",
       "    </tr>\n",
       "    <tr>\n",
       "      <th>19</th>\n",
       "      <td>20</td>\n",
       "      <td>2141.09</td>\n",
       "      <td>854.51</td>\n",
       "      <td>1286.59</td>\n",
       "      <td>67073.90</td>\n",
       "      <td>19895.78</td>\n",
       "      <td>22926.10</td>\n",
       "    </tr>\n",
       "    <tr>\n",
       "      <th>20</th>\n",
       "      <td>21</td>\n",
       "      <td>2141.09</td>\n",
       "      <td>838.42</td>\n",
       "      <td>1302.67</td>\n",
       "      <td>65771.23</td>\n",
       "      <td>20734.20</td>\n",
       "      <td>24228.77</td>\n",
       "    </tr>\n",
       "    <tr>\n",
       "      <th>21</th>\n",
       "      <td>22</td>\n",
       "      <td>2141.09</td>\n",
       "      <td>822.14</td>\n",
       "      <td>1318.95</td>\n",
       "      <td>64452.28</td>\n",
       "      <td>21556.34</td>\n",
       "      <td>25547.72</td>\n",
       "    </tr>\n",
       "    <tr>\n",
       "      <th>22</th>\n",
       "      <td>23</td>\n",
       "      <td>2141.09</td>\n",
       "      <td>805.65</td>\n",
       "      <td>1335.44</td>\n",
       "      <td>63116.84</td>\n",
       "      <td>22361.99</td>\n",
       "      <td>26883.16</td>\n",
       "    </tr>\n",
       "    <tr>\n",
       "      <th>23</th>\n",
       "      <td>24</td>\n",
       "      <td>2141.09</td>\n",
       "      <td>788.96</td>\n",
       "      <td>1352.13</td>\n",
       "      <td>61764.70</td>\n",
       "      <td>23150.95</td>\n",
       "      <td>28235.29</td>\n",
       "    </tr>\n",
       "    <tr>\n",
       "      <th>24</th>\n",
       "      <td>25</td>\n",
       "      <td>2141.09</td>\n",
       "      <td>772.06</td>\n",
       "      <td>1369.03</td>\n",
       "      <td>60395.67</td>\n",
       "      <td>23923.01</td>\n",
       "      <td>29604.32</td>\n",
       "    </tr>\n",
       "    <tr>\n",
       "      <th>25</th>\n",
       "      <td>26</td>\n",
       "      <td>2141.09</td>\n",
       "      <td>754.95</td>\n",
       "      <td>1386.15</td>\n",
       "      <td>59009.52</td>\n",
       "      <td>24677.96</td>\n",
       "      <td>30990.47</td>\n",
       "    </tr>\n",
       "    <tr>\n",
       "      <th>26</th>\n",
       "      <td>27</td>\n",
       "      <td>2141.09</td>\n",
       "      <td>737.62</td>\n",
       "      <td>1403.47</td>\n",
       "      <td>57606.05</td>\n",
       "      <td>25415.58</td>\n",
       "      <td>32393.94</td>\n",
       "    </tr>\n",
       "    <tr>\n",
       "      <th>27</th>\n",
       "      <td>28</td>\n",
       "      <td>2141.09</td>\n",
       "      <td>720.08</td>\n",
       "      <td>1421.02</td>\n",
       "      <td>56185.03</td>\n",
       "      <td>26135.66</td>\n",
       "      <td>33814.96</td>\n",
       "    </tr>\n",
       "    <tr>\n",
       "      <th>28</th>\n",
       "      <td>29</td>\n",
       "      <td>2141.09</td>\n",
       "      <td>702.31</td>\n",
       "      <td>1438.78</td>\n",
       "      <td>54746.25</td>\n",
       "      <td>26837.97</td>\n",
       "      <td>35253.74</td>\n",
       "    </tr>\n",
       "    <tr>\n",
       "      <th>29</th>\n",
       "      <td>30</td>\n",
       "      <td>2141.09</td>\n",
       "      <td>684.33</td>\n",
       "      <td>1456.77</td>\n",
       "      <td>53289.48</td>\n",
       "      <td>27522.30</td>\n",
       "      <td>36710.51</td>\n",
       "    </tr>\n",
       "    <tr>\n",
       "      <th>30</th>\n",
       "      <td>31</td>\n",
       "      <td>2141.09</td>\n",
       "      <td>666.12</td>\n",
       "      <td>1474.98</td>\n",
       "      <td>51814.51</td>\n",
       "      <td>28188.42</td>\n",
       "      <td>38185.49</td>\n",
       "    </tr>\n",
       "    <tr>\n",
       "      <th>31</th>\n",
       "      <td>32</td>\n",
       "      <td>2141.09</td>\n",
       "      <td>647.68</td>\n",
       "      <td>1493.41</td>\n",
       "      <td>50321.09</td>\n",
       "      <td>28836.10</td>\n",
       "      <td>39678.90</td>\n",
       "    </tr>\n",
       "    <tr>\n",
       "      <th>32</th>\n",
       "      <td>33</td>\n",
       "      <td>2141.09</td>\n",
       "      <td>629.01</td>\n",
       "      <td>1512.08</td>\n",
       "      <td>48809.01</td>\n",
       "      <td>29465.11</td>\n",
       "      <td>41190.98</td>\n",
       "    </tr>\n",
       "    <tr>\n",
       "      <th>33</th>\n",
       "      <td>34</td>\n",
       "      <td>2141.09</td>\n",
       "      <td>610.11</td>\n",
       "      <td>1530.98</td>\n",
       "      <td>47278.03</td>\n",
       "      <td>30075.22</td>\n",
       "      <td>42721.96</td>\n",
       "    </tr>\n",
       "    <tr>\n",
       "      <th>34</th>\n",
       "      <td>35</td>\n",
       "      <td>2141.09</td>\n",
       "      <td>590.98</td>\n",
       "      <td>1550.12</td>\n",
       "      <td>45727.91</td>\n",
       "      <td>30666.20</td>\n",
       "      <td>44272.08</td>\n",
       "    </tr>\n",
       "    <tr>\n",
       "      <th>35</th>\n",
       "      <td>36</td>\n",
       "      <td>2141.09</td>\n",
       "      <td>571.60</td>\n",
       "      <td>1569.49</td>\n",
       "      <td>44158.42</td>\n",
       "      <td>31237.80</td>\n",
       "      <td>45841.57</td>\n",
       "    </tr>\n",
       "    <tr>\n",
       "      <th>36</th>\n",
       "      <td>37</td>\n",
       "      <td>2141.09</td>\n",
       "      <td>551.98</td>\n",
       "      <td>1589.11</td>\n",
       "      <td>42569.31</td>\n",
       "      <td>31789.78</td>\n",
       "      <td>47430.68</td>\n",
       "    </tr>\n",
       "    <tr>\n",
       "      <th>37</th>\n",
       "      <td>38</td>\n",
       "      <td>2141.09</td>\n",
       "      <td>532.12</td>\n",
       "      <td>1608.98</td>\n",
       "      <td>40960.33</td>\n",
       "      <td>32321.90</td>\n",
       "      <td>49039.66</td>\n",
       "    </tr>\n",
       "    <tr>\n",
       "      <th>38</th>\n",
       "      <td>39</td>\n",
       "      <td>2141.09</td>\n",
       "      <td>512.00</td>\n",
       "      <td>1629.09</td>\n",
       "      <td>39331.24</td>\n",
       "      <td>32833.90</td>\n",
       "      <td>50668.75</td>\n",
       "    </tr>\n",
       "    <tr>\n",
       "      <th>39</th>\n",
       "      <td>40</td>\n",
       "      <td>2141.09</td>\n",
       "      <td>491.64</td>\n",
       "      <td>1649.45</td>\n",
       "      <td>37681.79</td>\n",
       "      <td>33325.54</td>\n",
       "      <td>52318.20</td>\n",
       "    </tr>\n",
       "    <tr>\n",
       "      <th>40</th>\n",
       "      <td>41</td>\n",
       "      <td>2141.09</td>\n",
       "      <td>471.02</td>\n",
       "      <td>1670.07</td>\n",
       "      <td>36011.71</td>\n",
       "      <td>33796.56</td>\n",
       "      <td>53988.27</td>\n",
       "    </tr>\n",
       "    <tr>\n",
       "      <th>41</th>\n",
       "      <td>42</td>\n",
       "      <td>2141.09</td>\n",
       "      <td>450.15</td>\n",
       "      <td>1690.95</td>\n",
       "      <td>34320.77</td>\n",
       "      <td>34246.71</td>\n",
       "      <td>55679.22</td>\n",
       "    </tr>\n",
       "    <tr>\n",
       "      <th>42</th>\n",
       "      <td>43</td>\n",
       "      <td>2141.09</td>\n",
       "      <td>429.01</td>\n",
       "      <td>1712.08</td>\n",
       "      <td>32608.68</td>\n",
       "      <td>34675.72</td>\n",
       "      <td>57391.30</td>\n",
       "    </tr>\n",
       "    <tr>\n",
       "      <th>43</th>\n",
       "      <td>44</td>\n",
       "      <td>2141.09</td>\n",
       "      <td>407.61</td>\n",
       "      <td>1733.49</td>\n",
       "      <td>30875.20</td>\n",
       "      <td>35083.33</td>\n",
       "      <td>59124.79</td>\n",
       "    </tr>\n",
       "    <tr>\n",
       "      <th>44</th>\n",
       "      <td>45</td>\n",
       "      <td>2141.09</td>\n",
       "      <td>385.94</td>\n",
       "      <td>1755.15</td>\n",
       "      <td>29120.04</td>\n",
       "      <td>35469.27</td>\n",
       "      <td>60879.94</td>\n",
       "    </tr>\n",
       "    <tr>\n",
       "      <th>45</th>\n",
       "      <td>46</td>\n",
       "      <td>2141.09</td>\n",
       "      <td>364.00</td>\n",
       "      <td>1777.09</td>\n",
       "      <td>27342.95</td>\n",
       "      <td>35833.27</td>\n",
       "      <td>62657.03</td>\n",
       "    </tr>\n",
       "    <tr>\n",
       "      <th>46</th>\n",
       "      <td>47</td>\n",
       "      <td>2141.09</td>\n",
       "      <td>341.79</td>\n",
       "      <td>1799.31</td>\n",
       "      <td>25543.64</td>\n",
       "      <td>36175.06</td>\n",
       "      <td>64456.34</td>\n",
       "    </tr>\n",
       "    <tr>\n",
       "      <th>47</th>\n",
       "      <td>48</td>\n",
       "      <td>2141.09</td>\n",
       "      <td>319.30</td>\n",
       "      <td>1821.80</td>\n",
       "      <td>23721.85</td>\n",
       "      <td>36494.36</td>\n",
       "      <td>66278.14</td>\n",
       "    </tr>\n",
       "    <tr>\n",
       "      <th>48</th>\n",
       "      <td>49</td>\n",
       "      <td>2141.09</td>\n",
       "      <td>296.52</td>\n",
       "      <td>1844.57</td>\n",
       "      <td>21877.27</td>\n",
       "      <td>36790.88</td>\n",
       "      <td>68122.71</td>\n",
       "    </tr>\n",
       "    <tr>\n",
       "      <th>49</th>\n",
       "      <td>50</td>\n",
       "      <td>2141.09</td>\n",
       "      <td>273.47</td>\n",
       "      <td>1867.63</td>\n",
       "      <td>20009.65</td>\n",
       "      <td>37064.35</td>\n",
       "      <td>69990.34</td>\n",
       "    </tr>\n",
       "    <tr>\n",
       "      <th>50</th>\n",
       "      <td>51</td>\n",
       "      <td>2141.09</td>\n",
       "      <td>250.12</td>\n",
       "      <td>1890.97</td>\n",
       "      <td>18118.67</td>\n",
       "      <td>37314.47</td>\n",
       "      <td>71881.31</td>\n",
       "    </tr>\n",
       "    <tr>\n",
       "      <th>51</th>\n",
       "      <td>52</td>\n",
       "      <td>2141.09</td>\n",
       "      <td>226.48</td>\n",
       "      <td>1914.61</td>\n",
       "      <td>16204.06</td>\n",
       "      <td>37540.95</td>\n",
       "      <td>73795.92</td>\n",
       "    </tr>\n",
       "    <tr>\n",
       "      <th>52</th>\n",
       "      <td>53</td>\n",
       "      <td>2141.09</td>\n",
       "      <td>202.55</td>\n",
       "      <td>1938.54</td>\n",
       "      <td>14265.52</td>\n",
       "      <td>37743.50</td>\n",
       "      <td>75734.46</td>\n",
       "    </tr>\n",
       "    <tr>\n",
       "      <th>53</th>\n",
       "      <td>54</td>\n",
       "      <td>2141.09</td>\n",
       "      <td>178.32</td>\n",
       "      <td>1962.77</td>\n",
       "      <td>12302.75</td>\n",
       "      <td>37921.82</td>\n",
       "      <td>77697.23</td>\n",
       "    </tr>\n",
       "    <tr>\n",
       "      <th>54</th>\n",
       "      <td>55</td>\n",
       "      <td>2141.09</td>\n",
       "      <td>153.78</td>\n",
       "      <td>1987.31</td>\n",
       "      <td>10315.44</td>\n",
       "      <td>38075.60</td>\n",
       "      <td>79684.54</td>\n",
       "    </tr>\n",
       "    <tr>\n",
       "      <th>55</th>\n",
       "      <td>56</td>\n",
       "      <td>2141.09</td>\n",
       "      <td>128.94</td>\n",
       "      <td>2012.15</td>\n",
       "      <td>8303.29</td>\n",
       "      <td>38204.54</td>\n",
       "      <td>81696.69</td>\n",
       "    </tr>\n",
       "    <tr>\n",
       "      <th>56</th>\n",
       "      <td>57</td>\n",
       "      <td>2141.09</td>\n",
       "      <td>103.79</td>\n",
       "      <td>2037.30</td>\n",
       "      <td>6265.98</td>\n",
       "      <td>38308.33</td>\n",
       "      <td>83733.99</td>\n",
       "    </tr>\n",
       "    <tr>\n",
       "      <th>57</th>\n",
       "      <td>58</td>\n",
       "      <td>2141.09</td>\n",
       "      <td>78.32</td>\n",
       "      <td>2062.77</td>\n",
       "      <td>4203.21</td>\n",
       "      <td>38386.65</td>\n",
       "      <td>85796.76</td>\n",
       "    </tr>\n",
       "    <tr>\n",
       "      <th>58</th>\n",
       "      <td>59</td>\n",
       "      <td>2141.09</td>\n",
       "      <td>52.54</td>\n",
       "      <td>2088.55</td>\n",
       "      <td>2114.66</td>\n",
       "      <td>38439.19</td>\n",
       "      <td>87885.31</td>\n",
       "    </tr>\n",
       "    <tr>\n",
       "      <th>59</th>\n",
       "      <td>60</td>\n",
       "      <td>2141.09</td>\n",
       "      <td>26.43</td>\n",
       "      <td>2114.66</td>\n",
       "      <td>-0.00</td>\n",
       "      <td>38465.62</td>\n",
       "      <td>89999.97</td>\n",
       "    </tr>\n",
       "  </tbody>\n",
       "</table>\n",
       "</div>"
      ],
      "text/plain": [
       "    Mês  Prestação Mensal (R$)  Parcela de Juros (R$)  \\\n",
       "0     1                2141.09                1125.00   \n",
       "1     2                2141.09                1112.30   \n",
       "2     3                2141.09                1099.44   \n",
       "3     4                2141.09                1086.42   \n",
       "4     5                2141.09                1073.23   \n",
       "5     6                2141.09                1059.89   \n",
       "6     7                2141.09                1046.37   \n",
       "7     8                2141.09                1032.69   \n",
       "8     9                2141.09                1018.83   \n",
       "9    10                2141.09                1004.80   \n",
       "10   11                2141.09                 990.60   \n",
       "11   12                2141.09                 976.22   \n",
       "12   13                2141.09                 961.66   \n",
       "13   14                2141.09                 946.92   \n",
       "14   15                2141.09                 931.99   \n",
       "15   16                2141.09                 916.87   \n",
       "16   17                2141.09                 901.57   \n",
       "17   18                2141.09                 886.08   \n",
       "18   19                2141.09                 870.39   \n",
       "19   20                2141.09                 854.51   \n",
       "20   21                2141.09                 838.42   \n",
       "21   22                2141.09                 822.14   \n",
       "22   23                2141.09                 805.65   \n",
       "23   24                2141.09                 788.96   \n",
       "24   25                2141.09                 772.06   \n",
       "25   26                2141.09                 754.95   \n",
       "26   27                2141.09                 737.62   \n",
       "27   28                2141.09                 720.08   \n",
       "28   29                2141.09                 702.31   \n",
       "29   30                2141.09                 684.33   \n",
       "30   31                2141.09                 666.12   \n",
       "31   32                2141.09                 647.68   \n",
       "32   33                2141.09                 629.01   \n",
       "33   34                2141.09                 610.11   \n",
       "34   35                2141.09                 590.98   \n",
       "35   36                2141.09                 571.60   \n",
       "36   37                2141.09                 551.98   \n",
       "37   38                2141.09                 532.12   \n",
       "38   39                2141.09                 512.00   \n",
       "39   40                2141.09                 491.64   \n",
       "40   41                2141.09                 471.02   \n",
       "41   42                2141.09                 450.15   \n",
       "42   43                2141.09                 429.01   \n",
       "43   44                2141.09                 407.61   \n",
       "44   45                2141.09                 385.94   \n",
       "45   46                2141.09                 364.00   \n",
       "46   47                2141.09                 341.79   \n",
       "47   48                2141.09                 319.30   \n",
       "48   49                2141.09                 296.52   \n",
       "49   50                2141.09                 273.47   \n",
       "50   51                2141.09                 250.12   \n",
       "51   52                2141.09                 226.48   \n",
       "52   53                2141.09                 202.55   \n",
       "53   54                2141.09                 178.32   \n",
       "54   55                2141.09                 153.78   \n",
       "55   56                2141.09                 128.94   \n",
       "56   57                2141.09                 103.79   \n",
       "57   58                2141.09                  78.32   \n",
       "58   59                2141.09                  52.54   \n",
       "59   60                2141.09                  26.43   \n",
       "\n",
       "    Amortização do Principal (R$)  Saldo Devedor (R$)  Juros Acumulados (R$)  \\\n",
       "0                         1016.09            88983.91                1125.00   \n",
       "1                         1028.79            87955.11                2237.30   \n",
       "2                         1041.65            86913.46                3336.74   \n",
       "3                         1054.68            85858.78                4423.16   \n",
       "4                         1067.86            84790.92                5496.39   \n",
       "5                         1081.21            83709.71                6556.28   \n",
       "6                         1094.72            82614.99                7602.65   \n",
       "7                         1108.41            81506.59                8635.34   \n",
       "8                         1122.26            80384.33                9654.17   \n",
       "9                         1136.29            79248.04               10658.97   \n",
       "10                        1150.49            78097.54               11649.57   \n",
       "11                        1164.87            76932.67               12625.79   \n",
       "12                        1179.44            75753.23               13587.45   \n",
       "13                        1194.18            74559.05               14534.37   \n",
       "14                        1209.11            73349.95               15466.36   \n",
       "15                        1224.22            72125.73               16383.23   \n",
       "16                        1239.52            70886.21               17284.80   \n",
       "17                        1255.02            69631.19               18170.88   \n",
       "18                        1270.70            68360.49               19041.27   \n",
       "19                        1286.59            67073.90               19895.78   \n",
       "20                        1302.67            65771.23               20734.20   \n",
       "21                        1318.95            64452.28               21556.34   \n",
       "22                        1335.44            63116.84               22361.99   \n",
       "23                        1352.13            61764.70               23150.95   \n",
       "24                        1369.03            60395.67               23923.01   \n",
       "25                        1386.15            59009.52               24677.96   \n",
       "26                        1403.47            57606.05               25415.58   \n",
       "27                        1421.02            56185.03               26135.66   \n",
       "28                        1438.78            54746.25               26837.97   \n",
       "29                        1456.77            53289.48               27522.30   \n",
       "30                        1474.98            51814.51               28188.42   \n",
       "31                        1493.41            50321.09               28836.10   \n",
       "32                        1512.08            48809.01               29465.11   \n",
       "33                        1530.98            47278.03               30075.22   \n",
       "34                        1550.12            45727.91               30666.20   \n",
       "35                        1569.49            44158.42               31237.80   \n",
       "36                        1589.11            42569.31               31789.78   \n",
       "37                        1608.98            40960.33               32321.90   \n",
       "38                        1629.09            39331.24               32833.90   \n",
       "39                        1649.45            37681.79               33325.54   \n",
       "40                        1670.07            36011.71               33796.56   \n",
       "41                        1690.95            34320.77               34246.71   \n",
       "42                        1712.08            32608.68               34675.72   \n",
       "43                        1733.49            30875.20               35083.33   \n",
       "44                        1755.15            29120.04               35469.27   \n",
       "45                        1777.09            27342.95               35833.27   \n",
       "46                        1799.31            25543.64               36175.06   \n",
       "47                        1821.80            23721.85               36494.36   \n",
       "48                        1844.57            21877.27               36790.88   \n",
       "49                        1867.63            20009.65               37064.35   \n",
       "50                        1890.97            18118.67               37314.47   \n",
       "51                        1914.61            16204.06               37540.95   \n",
       "52                        1938.54            14265.52               37743.50   \n",
       "53                        1962.77            12302.75               37921.82   \n",
       "54                        1987.31            10315.44               38075.60   \n",
       "55                        2012.15             8303.29               38204.54   \n",
       "56                        2037.30             6265.98               38308.33   \n",
       "57                        2062.77             4203.21               38386.65   \n",
       "58                        2088.55             2114.66               38439.19   \n",
       "59                        2114.66               -0.00               38465.62   \n",
       "\n",
       "    Amortização Acumulada (R$)  \n",
       "0                      1016.09  \n",
       "1                      2044.88  \n",
       "2                      3086.53  \n",
       "3                      4141.21  \n",
       "4                      5209.07  \n",
       "5                      6290.28  \n",
       "6                      7385.00  \n",
       "7                      8493.41  \n",
       "8                      9615.67  \n",
       "9                     10751.96  \n",
       "10                    11902.45  \n",
       "11                    13067.32  \n",
       "12                    14246.76  \n",
       "13                    15440.94  \n",
       "14                    16650.05  \n",
       "15                    17874.27  \n",
       "16                    19113.79  \n",
       "17                    20368.81  \n",
       "18                    21639.51  \n",
       "19                    22926.10  \n",
       "20                    24228.77  \n",
       "21                    25547.72  \n",
       "22                    26883.16  \n",
       "23                    28235.29  \n",
       "24                    29604.32  \n",
       "25                    30990.47  \n",
       "26                    32393.94  \n",
       "27                    33814.96  \n",
       "28                    35253.74  \n",
       "29                    36710.51  \n",
       "30                    38185.49  \n",
       "31                    39678.90  \n",
       "32                    41190.98  \n",
       "33                    42721.96  \n",
       "34                    44272.08  \n",
       "35                    45841.57  \n",
       "36                    47430.68  \n",
       "37                    49039.66  \n",
       "38                    50668.75  \n",
       "39                    52318.20  \n",
       "40                    53988.27  \n",
       "41                    55679.22  \n",
       "42                    57391.30  \n",
       "43                    59124.79  \n",
       "44                    60879.94  \n",
       "45                    62657.03  \n",
       "46                    64456.34  \n",
       "47                    66278.14  \n",
       "48                    68122.71  \n",
       "49                    69990.34  \n",
       "50                    71881.31  \n",
       "51                    73795.92  \n",
       "52                    75734.46  \n",
       "53                    77697.23  \n",
       "54                    79684.54  \n",
       "55                    81696.69  \n",
       "56                    83733.99  \n",
       "57                    85796.76  \n",
       "58                    87885.31  \n",
       "59                    89999.97  "
      ]
     },
     "execution_count": 3,
     "metadata": {},
     "output_type": "execute_result"
    }
   ],
   "source": [
    "simulador_carro(r=0.15, t=60, valor_total_bem=100000, entrada_percentual=0.1)"
   ]
  },
  {
   "cell_type": "markdown",
   "metadata": {},
   "source": [
    "# Questão 2:"
   ]
  },
  {
   "cell_type": "markdown",
   "metadata": {},
   "source": [
    "### 2)\n",
    "- FINANCIAMENTO DE IMÓVEL VIA TABELA SAC COM A ENTRADA MÍNIMA EXIGIDA PELA INSTITUIÇÃO.\n",
    "- ANALISAR O TOTAL DE JUROS PAGOS\n",
    "- ANALISAR O PROPORCIONAL DE QUANTAS VEZES SE PAGA SOBRE O VALOR A VISTA\n",
    "- COMPROVAR A FONTE DOS DADOS NO RELATÓRIO"
   ]
  },
  {
   "cell_type": "code",
   "execution_count": null,
   "metadata": {},
   "outputs": [
    {
     "name": "stdout",
     "output_type": "stream",
     "text": [
      "Valor total do bem: R$300000.00\n",
      "Entrada (10.0%): R$30000.00\n"
     ]
    },
    {
     "data": {
      "application/vnd.plotly.v1+json": {
       "config": {
        "plotlyServerURL": "https://plot.ly"
       },
       "data": [
        {
         "hovertemplate": "Categoria=Juros Acumulados (R$)<br>Mês=%{x}<br>Valor (R$)=%{y}<extra></extra>",
         "legendgroup": "Juros Acumulados (R$)",
         "line": {
          "color": "green",
          "dash": "solid"
         },
         "marker": {
          "symbol": "circle"
         },
         "mode": "lines",
         "name": "Juros Acumulados (R$)",
         "orientation": "v",
         "showlegend": true,
         "type": "scatter",
         "x": {
          "bdata": "AQIDBAUGBwgJCgsMDQ4PEBESExQVFhcYGRobHB0eHyAhIiMkJSYnKCkqKywtLi8wMTIzNDU2Nzg5Ojs8PT4/QEFCQ0RFRkdISUpLTE1OT1BRUlNUVVZXWFlaW1xdXl9gYWJjZGVmZ2hpamtsbW5vcHFyc3R1dnd4",
          "dtype": "i1"
         },
         "xaxis": "x",
         "y": {
          "bdata": "AAAAAABeqkCF61G43kG6QML1KFxPnMNAhOtRuJ4JykDC9ShcbzTQQKNwPQoHXdNAo3A9Cpd+1kCE61G4HpnZQITrUbierNxAZWZmZha530AyMzMzQ1/hQKNwPQp33uJAo3A9Cida5EAUrkfhUtLlQBSuR+H6RudAhetRuB646ECF61G4viXqQPYoXI/aj+tA9ihcj3L27EBnZmZmhlnuQGdmZmYWue9A7FG4HpGK8EDsUbge1TbxQKRwPQpX4fFApHA9CheK8kDsUbgeFTHzQOxRuB5R1vNApHA9Cst59ECkcD0Kgxv1QOxRuB55u/VA7FG4Hq1Z9kCkcD0KH/b2QKRwPQrPkPdA7FG4Hr0p+EDsUbge6cD4QKRwPQpTVvlApHA9Cvvp+UDsUbge4Xv6QOxRuB4FDPtApHA9Cmea+0CkcD0KByf8QOxRuB7lsfxA7FG4HgE7/UCkcD0KW8L9QKRwPQrzR/5A7FG4HsnL/kDsUbge3U3/QKRwPQovzv9AUrgehV8mAEGuR+F6xmQAQa5H4XpMogBBCtejcPHeAEEK16NwtRoBQWZmZmaYVQFBZmZmZpqPAUHC9Shcu8gBQcL1KFz7AAJBHoXrUVo4AkEehetR2G4CQXoUrkd1pAJBehSuRzHZAkHWo3A9DA0DQdajcD0GQANBMjMzMx9yA0EyMzMzV6MDQY7C9Siu0wNBjsL1KCQDBEHqUbgeuTEEQepRuB5tXwRBRuF6FECMBEFG4XoUMrgEQaJwPQpD4wRBonA9CnMNBUFG4XoUwjYFQUbhehQwXwVBonA9Cr2GBUGicD0Kaa0FQUbhehQ00wVBRuF6FB74BUGicD0KJxwGQaJwPQpPPwZBRuF6FJZhBkFG4XoU/IIGQaJwPQqBowZBonA9CiXDBkH+////5+EGQf7////J/wZBWo/C9cocB0Faj8L16jgHQbYehespVAdBth6F64duB0ESrkfhBIgHQRKuR+GgoAdBbj0K11u4B0FuPQrXNc8HQcrMzMwu5QdByszMzEb6B0FuPQrXfQ4IQW49CtfTIQhByszMzEg0CEHKzMzM3EUIQW49CtePVghBbj0K12FmCEHKzMzMUnUIQcrMzMxigwhBJlyPwpGQCEEmXI/C35wIQYLrUbhMqAhBgutRuNiyCEEmXI/Cg7wIQSZcj8JNxQhBgutRuDbNCEGC61G4PtQIQd56FK5l2ghB3noUrqvfCEE6CtejEOQIQToK16OU5whB3noUrjfqCEHeehSu+esIQToK16Pa7AhB",
          "dtype": "f8"
         },
         "yaxis": "y"
        },
        {
         "hovertemplate": "Categoria=Amortização Acumulada (R$)<br>Mês=%{x}<br>Valor (R$)=%{y}<extra></extra>",
         "legendgroup": "Amortização Acumulada (R$)",
         "line": {
          "color": "blue",
          "dash": "solid"
         },
         "marker": {
          "symbol": "circle"
         },
         "mode": "lines",
         "name": "Amortização Acumulada (R$)",
         "orientation": "v",
         "showlegend": true,
         "type": "scatter",
         "x": {
          "bdata": "AQIDBAUGBwgJCgsMDQ4PEBESExQVFhcYGRobHB0eHyAhIiMkJSYnKCkqKywtLi8wMTIzNDU2Nzg5Ojs8PT4/QEFCQ0RFRkdISUpLTE1OT1BRUlNUVVZXWFlaW1xdXl9gYWJjZGVmZ2hpamtsbW5vcHFyc3R1dnd4",
          "dtype": "i1"
         },
         "xaxis": "x",
         "y": {
          "bdata": "AAAAAACUoUAAAAAAAJSxQAAAAAAAXrpAAAAAAACUwUAAAAAAAPnFQAAAAAAAXspAAAAAAADDzkAAAAAAAJTRQAAAAACAxtNAAAAAAAD51UAAAAAAgCvYQAAAAAAAXtpAAAAAAICQ3EAAAAAAAMPeQAAAAADAeuBAAAAAAACU4UAAAAAAQK3iQAAAAACAxuNAAAAAAMDf5EAAAAAAAPnlQAAAAABAEudAAAAAAIAr6EAAAAAAwETpQAAAAAAAXupAAAAAAEB360AAAAAAgJDsQAAAAADAqe1AAAAAAADD7kAAAAAAQNzvQAAAAADAevBAAAAAAGAH8UAAAAAAAJTxQAAAAACgIPJAAAAAAECt8kAAAAAA4DnzQAAAAACAxvNAAAAAACBT9EAAAAAAwN/0QAAAAABgbPVAAAAAAAD59UAAAAAAoIX2QAAAAABAEvdAAAAAAOCe90AAAAAAgCv4QAAAAAAguPhAAAAAAMBE+UAAAAAAYNH5QAAAAAAAXvpAAAAAAKDq+kAAAAAAQHf7QAAAAADgA/xAAAAAAICQ/EAAAAAAIB39QAAAAADAqf1AAAAAAGA2/kAAAAAAAMP+QAAAAACgT/9AAAAAAEDc/0AAAAAAcDQAQQAAAADAegBBAAAAABDBAEEAAAAAYAcBQQAAAACwTQFBAAAAAACUAUEAAAAAUNoBQQAAAACgIAJBAAAAAPBmAkEAAAAAQK0CQQAAAACQ8wJBAAAAAOA5A0EAAAAAMIADQQAAAACAxgNBAAAAANAMBEEAAAAAIFMEQQAAAABwmQRBAAAAAMDfBEEAAAAAECYFQQAAAABgbAVBAAAAALCyBUEAAAAAAPkFQQAAAABQPwZBAAAAAKCFBkEAAAAA8MsGQQAAAABAEgdBAAAAAJBYB0EAAAAA4J4HQQAAAAAw5QdBAAAAAIArCEEAAAAA0HEIQQAAAAAguAhBAAAAAHD+CEEAAAAAwEQJQQAAAAAQiwlBAAAAAGDRCUEAAAAAsBcKQQAAAAAAXgpBAAAAAFCkCkEAAAAAoOoKQQAAAADwMAtBAAAAAEB3C0EAAAAAkL0LQQAAAADgAwxBAAAAADBKDEEAAAAAgJAMQQAAAADQ1gxBAAAAACAdDUEAAAAAcGMNQQAAAADAqQ1BAAAAABDwDUEAAAAAYDYOQQAAAACwfA5BAAAAAADDDkEAAAAAUAkPQQAAAACgTw9BAAAAAPCVD0EAAAAAQNwPQQAAAABIERBBAAAAAHA0EEEAAAAAmFcQQQAAAADAehBB",
          "dtype": "f8"
         },
         "yaxis": "y"
        },
        {
         "hovertemplate": "Categoria=Saldo Devedor (R$)<br>Mês=%{x}<br>Valor (R$)=%{y}<extra></extra>",
         "legendgroup": "Saldo Devedor (R$)",
         "line": {
          "color": "red",
          "dash": "solid"
         },
         "marker": {
          "symbol": "circle"
         },
         "mode": "lines",
         "name": "Saldo Devedor (R$)",
         "orientation": "v",
         "showlegend": true,
         "type": "scatter",
         "x": {
          "bdata": "AQIDBAUGBwgJCgsMDQ4PEBESExQVFhcYGRobHB0eHyAhIiMkJSYnKCkqKywtLi8wMTIzNDU2Nzg5Ojs8PT4/QEFCQ0RFRkdISUpLTE1OT1BRUlNUVVZXWFlaW1xdXl9gYWJjZGVmZ2hpamtsbW5vcHFyc3R1dnd4",
          "dtype": "i1"
         },
         "xaxis": "x",
         "y": {
          "bdata": "AAAAAMB6EEEAAAAAmFcQQQAAAABwNBBBAAAAAEgREEEAAAAAQNwPQQAAAADwlQ9BAAAAAKBPD0EAAAAAUAkPQQAAAAAAww5BAAAAALB8DkEAAAAAYDYOQQAAAAAQ8A1BAAAAAMCpDUEAAAAAcGMNQQAAAAAgHQ1BAAAAANDWDEEAAAAAgJAMQQAAAAAwSgxBAAAAAOADDEEAAAAAkL0LQQAAAABAdwtBAAAAAPAwC0EAAAAAoOoKQQAAAABQpApBAAAAAABeCkEAAAAAsBcKQQAAAABg0QlBAAAAABCLCUEAAAAAwEQJQQAAAABw/ghBAAAAACC4CEEAAAAA0HEIQQAAAACAKwhBAAAAADDlB0EAAAAA4J4HQQAAAACQWAdBAAAAAEASB0EAAAAA8MsGQQAAAACghQZBAAAAAFA/BkEAAAAAAPkFQQAAAACwsgVBAAAAAGBsBUEAAAAAECYFQQAAAADA3wRBAAAAAHCZBEEAAAAAIFMEQQAAAADQDARBAAAAAIDGA0EAAAAAMIADQQAAAADgOQNBAAAAAJDzAkEAAAAAQK0CQQAAAADwZgJBAAAAAKAgAkEAAAAAUNoBQQAAAAAAlAFBAAAAALBNAUEAAAAAYAcBQQAAAAAQwQBBAAAAAMB6AEEAAAAAcDQAQQAAAABA3P9AAAAAAKBP/0AAAAAAAMP+QAAAAABgNv5AAAAAAMCp/UAAAAAAIB39QAAAAACAkPxAAAAAAOAD/EAAAAAAQHf7QAAAAACg6vpAAAAAAABe+kAAAAAAYNH5QAAAAADARPlAAAAAACC4+EAAAAAAgCv4QAAAAADgnvdAAAAAAEAS90AAAAAAoIX2QAAAAAAA+fVAAAAAAGBs9UAAAAAAwN/0QAAAAAAgU/RAAAAAAIDG80AAAAAA4DnzQAAAAABArfJAAAAAAKAg8kAAAAAAAJTxQAAAAABgB/FAAAAAAMB68EAAAAAAQNzvQAAAAAAAw+5AAAAAAMCp7UAAAAAAgJDsQAAAAABAd+tAAAAAAABe6kAAAAAAwETpQAAAAACAK+hAAAAAAEAS50AAAAAAAPnlQAAAAADA3+RAAAAAAIDG40AAAAAAQK3iQAAAAAAAlOFAAAAAAMB64EAAAAAAAMPeQAAAAACAkNxAAAAAAABe2kAAAAAAgCvYQAAAAAAA+dVAAAAAAIDG00AAAAAAAJTRQAAAAAAAw85AAAAAAABeykAAAAAAAPnFQAAAAAAAlMFAAAAAAABeukAAAAAAAJSxQAAAAAAAlKFA",
          "dtype": "f8"
         },
         "yaxis": "y"
        }
       ],
       "layout": {
        "legend": {
         "title": {
          "text": "Categoria"
         },
         "tracegroupgap": 0
        },
        "template": {
         "data": {
          "bar": [
           {
            "error_x": {
             "color": "#2a3f5f"
            },
            "error_y": {
             "color": "#2a3f5f"
            },
            "marker": {
             "line": {
              "color": "#E5ECF6",
              "width": 0.5
             },
             "pattern": {
              "fillmode": "overlay",
              "size": 10,
              "solidity": 0.2
             }
            },
            "type": "bar"
           }
          ],
          "barpolar": [
           {
            "marker": {
             "line": {
              "color": "#E5ECF6",
              "width": 0.5
             },
             "pattern": {
              "fillmode": "overlay",
              "size": 10,
              "solidity": 0.2
             }
            },
            "type": "barpolar"
           }
          ],
          "carpet": [
           {
            "aaxis": {
             "endlinecolor": "#2a3f5f",
             "gridcolor": "white",
             "linecolor": "white",
             "minorgridcolor": "white",
             "startlinecolor": "#2a3f5f"
            },
            "baxis": {
             "endlinecolor": "#2a3f5f",
             "gridcolor": "white",
             "linecolor": "white",
             "minorgridcolor": "white",
             "startlinecolor": "#2a3f5f"
            },
            "type": "carpet"
           }
          ],
          "choropleth": [
           {
            "colorbar": {
             "outlinewidth": 0,
             "ticks": ""
            },
            "type": "choropleth"
           }
          ],
          "contour": [
           {
            "colorbar": {
             "outlinewidth": 0,
             "ticks": ""
            },
            "colorscale": [
             [
              0,
              "#0d0887"
             ],
             [
              0.1111111111111111,
              "#46039f"
             ],
             [
              0.2222222222222222,
              "#7201a8"
             ],
             [
              0.3333333333333333,
              "#9c179e"
             ],
             [
              0.4444444444444444,
              "#bd3786"
             ],
             [
              0.5555555555555556,
              "#d8576b"
             ],
             [
              0.6666666666666666,
              "#ed7953"
             ],
             [
              0.7777777777777778,
              "#fb9f3a"
             ],
             [
              0.8888888888888888,
              "#fdca26"
             ],
             [
              1,
              "#f0f921"
             ]
            ],
            "type": "contour"
           }
          ],
          "contourcarpet": [
           {
            "colorbar": {
             "outlinewidth": 0,
             "ticks": ""
            },
            "type": "contourcarpet"
           }
          ],
          "heatmap": [
           {
            "colorbar": {
             "outlinewidth": 0,
             "ticks": ""
            },
            "colorscale": [
             [
              0,
              "#0d0887"
             ],
             [
              0.1111111111111111,
              "#46039f"
             ],
             [
              0.2222222222222222,
              "#7201a8"
             ],
             [
              0.3333333333333333,
              "#9c179e"
             ],
             [
              0.4444444444444444,
              "#bd3786"
             ],
             [
              0.5555555555555556,
              "#d8576b"
             ],
             [
              0.6666666666666666,
              "#ed7953"
             ],
             [
              0.7777777777777778,
              "#fb9f3a"
             ],
             [
              0.8888888888888888,
              "#fdca26"
             ],
             [
              1,
              "#f0f921"
             ]
            ],
            "type": "heatmap"
           }
          ],
          "histogram": [
           {
            "marker": {
             "pattern": {
              "fillmode": "overlay",
              "size": 10,
              "solidity": 0.2
             }
            },
            "type": "histogram"
           }
          ],
          "histogram2d": [
           {
            "colorbar": {
             "outlinewidth": 0,
             "ticks": ""
            },
            "colorscale": [
             [
              0,
              "#0d0887"
             ],
             [
              0.1111111111111111,
              "#46039f"
             ],
             [
              0.2222222222222222,
              "#7201a8"
             ],
             [
              0.3333333333333333,
              "#9c179e"
             ],
             [
              0.4444444444444444,
              "#bd3786"
             ],
             [
              0.5555555555555556,
              "#d8576b"
             ],
             [
              0.6666666666666666,
              "#ed7953"
             ],
             [
              0.7777777777777778,
              "#fb9f3a"
             ],
             [
              0.8888888888888888,
              "#fdca26"
             ],
             [
              1,
              "#f0f921"
             ]
            ],
            "type": "histogram2d"
           }
          ],
          "histogram2dcontour": [
           {
            "colorbar": {
             "outlinewidth": 0,
             "ticks": ""
            },
            "colorscale": [
             [
              0,
              "#0d0887"
             ],
             [
              0.1111111111111111,
              "#46039f"
             ],
             [
              0.2222222222222222,
              "#7201a8"
             ],
             [
              0.3333333333333333,
              "#9c179e"
             ],
             [
              0.4444444444444444,
              "#bd3786"
             ],
             [
              0.5555555555555556,
              "#d8576b"
             ],
             [
              0.6666666666666666,
              "#ed7953"
             ],
             [
              0.7777777777777778,
              "#fb9f3a"
             ],
             [
              0.8888888888888888,
              "#fdca26"
             ],
             [
              1,
              "#f0f921"
             ]
            ],
            "type": "histogram2dcontour"
           }
          ],
          "mesh3d": [
           {
            "colorbar": {
             "outlinewidth": 0,
             "ticks": ""
            },
            "type": "mesh3d"
           }
          ],
          "parcoords": [
           {
            "line": {
             "colorbar": {
              "outlinewidth": 0,
              "ticks": ""
             }
            },
            "type": "parcoords"
           }
          ],
          "pie": [
           {
            "automargin": true,
            "type": "pie"
           }
          ],
          "scatter": [
           {
            "fillpattern": {
             "fillmode": "overlay",
             "size": 10,
             "solidity": 0.2
            },
            "type": "scatter"
           }
          ],
          "scatter3d": [
           {
            "line": {
             "colorbar": {
              "outlinewidth": 0,
              "ticks": ""
             }
            },
            "marker": {
             "colorbar": {
              "outlinewidth": 0,
              "ticks": ""
             }
            },
            "type": "scatter3d"
           }
          ],
          "scattercarpet": [
           {
            "marker": {
             "colorbar": {
              "outlinewidth": 0,
              "ticks": ""
             }
            },
            "type": "scattercarpet"
           }
          ],
          "scattergeo": [
           {
            "marker": {
             "colorbar": {
              "outlinewidth": 0,
              "ticks": ""
             }
            },
            "type": "scattergeo"
           }
          ],
          "scattergl": [
           {
            "marker": {
             "colorbar": {
              "outlinewidth": 0,
              "ticks": ""
             }
            },
            "type": "scattergl"
           }
          ],
          "scattermap": [
           {
            "marker": {
             "colorbar": {
              "outlinewidth": 0,
              "ticks": ""
             }
            },
            "type": "scattermap"
           }
          ],
          "scattermapbox": [
           {
            "marker": {
             "colorbar": {
              "outlinewidth": 0,
              "ticks": ""
             }
            },
            "type": "scattermapbox"
           }
          ],
          "scatterpolar": [
           {
            "marker": {
             "colorbar": {
              "outlinewidth": 0,
              "ticks": ""
             }
            },
            "type": "scatterpolar"
           }
          ],
          "scatterpolargl": [
           {
            "marker": {
             "colorbar": {
              "outlinewidth": 0,
              "ticks": ""
             }
            },
            "type": "scatterpolargl"
           }
          ],
          "scatterternary": [
           {
            "marker": {
             "colorbar": {
              "outlinewidth": 0,
              "ticks": ""
             }
            },
            "type": "scatterternary"
           }
          ],
          "surface": [
           {
            "colorbar": {
             "outlinewidth": 0,
             "ticks": ""
            },
            "colorscale": [
             [
              0,
              "#0d0887"
             ],
             [
              0.1111111111111111,
              "#46039f"
             ],
             [
              0.2222222222222222,
              "#7201a8"
             ],
             [
              0.3333333333333333,
              "#9c179e"
             ],
             [
              0.4444444444444444,
              "#bd3786"
             ],
             [
              0.5555555555555556,
              "#d8576b"
             ],
             [
              0.6666666666666666,
              "#ed7953"
             ],
             [
              0.7777777777777778,
              "#fb9f3a"
             ],
             [
              0.8888888888888888,
              "#fdca26"
             ],
             [
              1,
              "#f0f921"
             ]
            ],
            "type": "surface"
           }
          ],
          "table": [
           {
            "cells": {
             "fill": {
              "color": "#EBF0F8"
             },
             "line": {
              "color": "white"
             }
            },
            "header": {
             "fill": {
              "color": "#C8D4E3"
             },
             "line": {
              "color": "white"
             }
            },
            "type": "table"
           }
          ]
         },
         "layout": {
          "annotationdefaults": {
           "arrowcolor": "#2a3f5f",
           "arrowhead": 0,
           "arrowwidth": 1
          },
          "autotypenumbers": "strict",
          "coloraxis": {
           "colorbar": {
            "outlinewidth": 0,
            "ticks": ""
           }
          },
          "colorscale": {
           "diverging": [
            [
             0,
             "#8e0152"
            ],
            [
             0.1,
             "#c51b7d"
            ],
            [
             0.2,
             "#de77ae"
            ],
            [
             0.3,
             "#f1b6da"
            ],
            [
             0.4,
             "#fde0ef"
            ],
            [
             0.5,
             "#f7f7f7"
            ],
            [
             0.6,
             "#e6f5d0"
            ],
            [
             0.7,
             "#b8e186"
            ],
            [
             0.8,
             "#7fbc41"
            ],
            [
             0.9,
             "#4d9221"
            ],
            [
             1,
             "#276419"
            ]
           ],
           "sequential": [
            [
             0,
             "#0d0887"
            ],
            [
             0.1111111111111111,
             "#46039f"
            ],
            [
             0.2222222222222222,
             "#7201a8"
            ],
            [
             0.3333333333333333,
             "#9c179e"
            ],
            [
             0.4444444444444444,
             "#bd3786"
            ],
            [
             0.5555555555555556,
             "#d8576b"
            ],
            [
             0.6666666666666666,
             "#ed7953"
            ],
            [
             0.7777777777777778,
             "#fb9f3a"
            ],
            [
             0.8888888888888888,
             "#fdca26"
            ],
            [
             1,
             "#f0f921"
            ]
           ],
           "sequentialminus": [
            [
             0,
             "#0d0887"
            ],
            [
             0.1111111111111111,
             "#46039f"
            ],
            [
             0.2222222222222222,
             "#7201a8"
            ],
            [
             0.3333333333333333,
             "#9c179e"
            ],
            [
             0.4444444444444444,
             "#bd3786"
            ],
            [
             0.5555555555555556,
             "#d8576b"
            ],
            [
             0.6666666666666666,
             "#ed7953"
            ],
            [
             0.7777777777777778,
             "#fb9f3a"
            ],
            [
             0.8888888888888888,
             "#fdca26"
            ],
            [
             1,
             "#f0f921"
            ]
           ]
          },
          "colorway": [
           "#636efa",
           "#EF553B",
           "#00cc96",
           "#ab63fa",
           "#FFA15A",
           "#19d3f3",
           "#FF6692",
           "#B6E880",
           "#FF97FF",
           "#FECB52"
          ],
          "font": {
           "color": "#2a3f5f"
          },
          "geo": {
           "bgcolor": "white",
           "lakecolor": "white",
           "landcolor": "#E5ECF6",
           "showlakes": true,
           "showland": true,
           "subunitcolor": "white"
          },
          "hoverlabel": {
           "align": "left"
          },
          "hovermode": "closest",
          "mapbox": {
           "style": "light"
          },
          "paper_bgcolor": "white",
          "plot_bgcolor": "#E5ECF6",
          "polar": {
           "angularaxis": {
            "gridcolor": "white",
            "linecolor": "white",
            "ticks": ""
           },
           "bgcolor": "#E5ECF6",
           "radialaxis": {
            "gridcolor": "white",
            "linecolor": "white",
            "ticks": ""
           }
          },
          "scene": {
           "xaxis": {
            "backgroundcolor": "#E5ECF6",
            "gridcolor": "white",
            "gridwidth": 2,
            "linecolor": "white",
            "showbackground": true,
            "ticks": "",
            "zerolinecolor": "white"
           },
           "yaxis": {
            "backgroundcolor": "#E5ECF6",
            "gridcolor": "white",
            "gridwidth": 2,
            "linecolor": "white",
            "showbackground": true,
            "ticks": "",
            "zerolinecolor": "white"
           },
           "zaxis": {
            "backgroundcolor": "#E5ECF6",
            "gridcolor": "white",
            "gridwidth": 2,
            "linecolor": "white",
            "showbackground": true,
            "ticks": "",
            "zerolinecolor": "white"
           }
          },
          "shapedefaults": {
           "line": {
            "color": "#2a3f5f"
           }
          },
          "ternary": {
           "aaxis": {
            "gridcolor": "white",
            "linecolor": "white",
            "ticks": ""
           },
           "baxis": {
            "gridcolor": "white",
            "linecolor": "white",
            "ticks": ""
           },
           "bgcolor": "#E5ECF6",
           "caxis": {
            "gridcolor": "white",
            "linecolor": "white",
            "ticks": ""
           }
          },
          "title": {
           "x": 0.05
          },
          "xaxis": {
           "automargin": true,
           "gridcolor": "white",
           "linecolor": "white",
           "ticks": "",
           "title": {
            "standoff": 15
           },
           "zerolinecolor": "white",
           "zerolinewidth": 2
          },
          "yaxis": {
           "automargin": true,
           "gridcolor": "white",
           "linecolor": "white",
           "ticks": "",
           "title": {
            "standoff": 15
           },
           "zerolinecolor": "white",
           "zerolinewidth": 2
          }
         }
        },
        "title": {
         "text": "Evolução do Financiamento (SAC)"
        },
        "xaxis": {
         "anchor": "y",
         "domain": [
          0,
          1
         ],
         "title": {
          "text": "Mês"
         }
        },
        "yaxis": {
         "anchor": "x",
         "domain": [
          0,
          1
         ],
         "title": {
          "text": "Valor (R$)"
         }
        }
       }
      }
     },
     "metadata": {},
     "output_type": "display_data"
    },
    {
     "data": {
      "image/png": "[encoded data removed]",
      "text/plain": [
       "<Figure size 1200x600 with 1 Axes>"
      ]
     },
     "metadata": {},
     "output_type": "display_data"
    },
    {
     "name": "stdout",
     "output_type": "stream",
     "text": [
      "Total pago em prestações: R$474187.50\n",
      "Valor total pago (incluindo entrada): R$504187.50\n",
      "Relação (Total pago / Valor do bem): 1.68\n"
     ]
    },
    {
     "data": {
      "text/html": [
       "<div>\n",
       "<style scoped>\n",
       "    .dataframe tbody tr th:only-of-type {\n",
       "        vertical-align: middle;\n",
       "    }\n",
       "\n",
       "    .dataframe tbody tr th {\n",
       "        vertical-align: top;\n",
       "    }\n",
       "\n",
       "    .dataframe thead th {\n",
       "        text-align: right;\n",
       "    }\n",
       "</style>\n",
       "<table border=\"1\" class=\"dataframe\">\n",
       "  <thead>\n",
       "    <tr style=\"text-align: right;\">\n",
       "      <th></th>\n",
       "      <th>Mês</th>\n",
       "      <th>Prestação Mensal (R$)</th>\n",
       "      <th>Parcela de Juros (R$)</th>\n",
       "      <th>Amortização do Principal (R$)</th>\n",
       "      <th>Saldo Devedor (R$)</th>\n",
       "      <th>Juros Acumulados (R$)</th>\n",
       "      <th>Amortização Acumulada (R$)</th>\n",
       "    </tr>\n",
       "  </thead>\n",
       "  <tbody>\n",
       "    <tr>\n",
       "      <th>0</th>\n",
       "      <td>1</td>\n",
       "      <td>5625.00</td>\n",
       "      <td>3375.00</td>\n",
       "      <td>2250.0</td>\n",
       "      <td>270000.0</td>\n",
       "      <td>3375.00</td>\n",
       "      <td>2250.0</td>\n",
       "    </tr>\n",
       "    <tr>\n",
       "      <th>1</th>\n",
       "      <td>2</td>\n",
       "      <td>5596.88</td>\n",
       "      <td>3346.87</td>\n",
       "      <td>2250.0</td>\n",
       "      <td>267750.0</td>\n",
       "      <td>6721.87</td>\n",
       "      <td>4500.0</td>\n",
       "    </tr>\n",
       "    <tr>\n",
       "      <th>2</th>\n",
       "      <td>3</td>\n",
       "      <td>5568.75</td>\n",
       "      <td>3318.75</td>\n",
       "      <td>2250.0</td>\n",
       "      <td>265500.0</td>\n",
       "      <td>10040.62</td>\n",
       "      <td>6750.0</td>\n",
       "    </tr>\n",
       "    <tr>\n",
       "      <th>3</th>\n",
       "      <td>4</td>\n",
       "      <td>5540.62</td>\n",
       "      <td>3290.62</td>\n",
       "      <td>2250.0</td>\n",
       "      <td>263250.0</td>\n",
       "      <td>13331.24</td>\n",
       "      <td>9000.0</td>\n",
       "    </tr>\n",
       "    <tr>\n",
       "      <th>4</th>\n",
       "      <td>5</td>\n",
       "      <td>5512.50</td>\n",
       "      <td>3262.50</td>\n",
       "      <td>2250.0</td>\n",
       "      <td>261000.0</td>\n",
       "      <td>16593.74</td>\n",
       "      <td>11250.0</td>\n",
       "    </tr>\n",
       "    <tr>\n",
       "      <th>...</th>\n",
       "      <td>...</td>\n",
       "      <td>...</td>\n",
       "      <td>...</td>\n",
       "      <td>...</td>\n",
       "      <td>...</td>\n",
       "      <td>...</td>\n",
       "      <td>...</td>\n",
       "    </tr>\n",
       "    <tr>\n",
       "      <th>115</th>\n",
       "      <td>116</td>\n",
       "      <td>2390.62</td>\n",
       "      <td>140.62</td>\n",
       "      <td>2250.0</td>\n",
       "      <td>11250.0</td>\n",
       "      <td>203906.08</td>\n",
       "      <td>261000.0</td>\n",
       "    </tr>\n",
       "    <tr>\n",
       "      <th>116</th>\n",
       "      <td>117</td>\n",
       "      <td>2362.50</td>\n",
       "      <td>112.50</td>\n",
       "      <td>2250.0</td>\n",
       "      <td>9000.0</td>\n",
       "      <td>204018.58</td>\n",
       "      <td>263250.0</td>\n",
       "    </tr>\n",
       "    <tr>\n",
       "      <th>117</th>\n",
       "      <td>118</td>\n",
       "      <td>2334.38</td>\n",
       "      <td>84.38</td>\n",
       "      <td>2250.0</td>\n",
       "      <td>6750.0</td>\n",
       "      <td>204102.96</td>\n",
       "      <td>265500.0</td>\n",
       "    </tr>\n",
       "    <tr>\n",
       "      <th>118</th>\n",
       "      <td>119</td>\n",
       "      <td>2306.25</td>\n",
       "      <td>56.25</td>\n",
       "      <td>2250.0</td>\n",
       "      <td>4500.0</td>\n",
       "      <td>204159.21</td>\n",
       "      <td>267750.0</td>\n",
       "    </tr>\n",
       "    <tr>\n",
       "      <th>119</th>\n",
       "      <td>120</td>\n",
       "      <td>2278.12</td>\n",
       "      <td>28.12</td>\n",
       "      <td>2250.0</td>\n",
       "      <td>2250.0</td>\n",
       "      <td>204187.33</td>\n",
       "      <td>270000.0</td>\n",
       "    </tr>\n",
       "  </tbody>\n",
       "</table>\n",
       "<p>120 rows × 7 columns</p>\n",
       "</div>"
      ],
      "text/plain": [
       "     Mês  Prestação Mensal (R$)  Parcela de Juros (R$)  \\\n",
       "0      1                5625.00                3375.00   \n",
       "1      2                5596.88                3346.87   \n",
       "2      3                5568.75                3318.75   \n",
       "3      4                5540.62                3290.62   \n",
       "4      5                5512.50                3262.50   \n",
       "..   ...                    ...                    ...   \n",
       "115  116                2390.62                 140.62   \n",
       "116  117                2362.50                 112.50   \n",
       "117  118                2334.38                  84.38   \n",
       "118  119                2306.25                  56.25   \n",
       "119  120                2278.12                  28.12   \n",
       "\n",
       "     Amortização do Principal (R$)  Saldo Devedor (R$)  Juros Acumulados (R$)  \\\n",
       "0                           2250.0            270000.0                3375.00   \n",
       "1                           2250.0            267750.0                6721.87   \n",
       "2                           2250.0            265500.0               10040.62   \n",
       "3                           2250.0            263250.0               13331.24   \n",
       "4                           2250.0            261000.0               16593.74   \n",
       "..                             ...                 ...                    ...   \n",
       "115                         2250.0             11250.0              203906.08   \n",
       "116                         2250.0              9000.0              204018.58   \n",
       "117                         2250.0              6750.0              204102.96   \n",
       "118                         2250.0              4500.0              204159.21   \n",
       "119                         2250.0              2250.0              204187.33   \n",
       "\n",
       "     Amortização Acumulada (R$)  \n",
       "0                        2250.0  \n",
       "1                        4500.0  \n",
       "2                        6750.0  \n",
       "3                        9000.0  \n",
       "4                       11250.0  \n",
       "..                          ...  \n",
       "115                    261000.0  \n",
       "116                    263250.0  \n",
       "117                    265500.0  \n",
       "118                    267750.0  \n",
       "119                    270000.0  \n",
       "\n",
       "[120 rows x 7 columns]"
      ]
     },
     "execution_count": 4,
     "metadata": {},
     "output_type": "execute_result"
    }
   ],
   "source": [
    "simulador_casa(r=0.15, t=1204, valor_total_bem=300_000, entrada_percentual=0.1)"
   ]
  }
 ],
 "metadata": {
  "kernelspec": {
   "display_name": ".venv",
   "language": "python",
   "name": "python3"
  },
  "language_info": {
   "codemirror_mode": {
    "name": "ipython",
    "version": 3
   },
   "file_extension": ".py",
   "mimetype": "text/x-python",
   "name": "python",
   "nbconvert_exporter": "python",
   "pygments_lexer": "ipython3",
   "version": "3.13.2"
  }
 },
 "nbformat": 4,
 "nbformat_minor": 2
}
