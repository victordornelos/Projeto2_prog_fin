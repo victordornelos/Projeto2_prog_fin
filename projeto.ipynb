{
 "cells": [
  {
   "cell_type": "markdown",
   "metadata": {},
   "source": [
    "# AVALIAÇÃO 2 - PROGRAMAÇÃO EM FINANÇAS\n",
    "#### Professor: Julio Russo\n",
    "#### Disciplina: Programação em Finanças\n",
    "#### Turma: 2025.1\n",
    "#### Alunos: Lucas dos Santos Marques, Luiz Fernando M. Meirinho , Victor A. S. de Souza e Victor Flávio P. Dornelos\n",
    "#### Data: 04/06/2025"
   ]
  },
  {
   "cell_type": "code",
   "metadata": {
    "ExecuteTime": {
     "end_time": "2025-06-02T02:14:12.737815Z",
     "start_time": "2025-06-02T02:14:12.734267Z"
    }
   },
   "source": [
    "#pip install -r requirements.txt"
   ],
   "outputs": [],
   "execution_count": 1
  },
  {
   "cell_type": "code",
   "metadata": {
    "ExecuteTime": {
     "end_time": "2025-06-02T02:14:12.828425Z",
     "start_time": "2025-06-02T02:14:12.754343Z"
    }
   },
   "source": [
    "# Bibliotecas necessárias\n",
    "import pandas as pd\n",
    "import numpy as np\n",
    "import matplotlib.pyplot as plt\n",
    "import seaborn as sns\n",
    "import plotly.express as px\n",
    "from IPython.display import display, Markdown\n",
    "from tabulate import tabulate\n",
    "import numpy_financial as npf\n",
    "from help import simulador_carro\n",
    "from help import simulador_casa\n"
   ],
   "outputs": [],
   "execution_count": 2
  },
  {
   "cell_type": "markdown",
   "metadata": {},
   "source": [
    "# Questão 1:"
   ]
  },
  {
   "cell_type": "markdown",
   "metadata": {},
   "source": [
    "### 1)\n",
    "- FINANCIAMENTO DE AUTOMÓVEL (USADO OU ZEROKM)\n",
    "VIA TABELA PRICE COM A ENTRADA MÍNIMA EXIGIDA\n",
    "PELA INSTITUIÇÃO.\n",
    "- ANALISAR O TOTAL DE JUROS PAGOS\n",
    "- ANALISAR O PROPORCIONAL DE QUANTAS VEZES SE\n",
    "PAGA SOBRE O VALOR A VISTA\n",
    "- COMPROVAR A FONTE DOS DADOS NO RELATÓRIO\n",
    "\n",
    "##### Premissas:\n",
    "- Carro: Polo Sense \n",
    "- Banco  de financiamento: Caixa econômica\n",
    "- Juros: 1,49 % a.m\n",
    "- IOF: 3,8%\n",
    "- Entrada: 20%\n",
    "- Parcelas: 60 meses\n",
    "\n",
    "Fonte carro: https://www.vw.com.br/pt/configurador.html/__app/polo/polo-sense.app?---=%7B%22configuration-step-navigation-service%22%3A%22%2F%3FconfigStep%3D%257B%2522context%2522%253A%252230318-34579-Polo%2BSense%2522%252C%2522selectedStep%2522%253A%2522summary%2522%257D%22%7D&carlineId-app=30318&modelId-app=BZ3SK3&modelVersion-app=0&modelYear-app=2026&salesGroupId-app=34579&category-app=private&trimName-app=Polo+Sense&exteriorId-app=F14+A1A1&interiorId-app=F56+++++WK&options-app=GPR5PR5&buildabilityStatus-app=buildable\n",
    "\n",
    "Fonte financiamento: https://www.caixa.gov.br/voce/credito-financiamento/financiamentos/Paginas/default.aspx"
   ]
  },
  {
   "cell_type": "code",
   "metadata": {
    "ExecuteTime": {
     "end_time": "2025-06-02T02:14:13.022569Z",
     "start_time": "2025-06-02T02:14:13.020463Z"
    }
   },
   "source": "mensal = 0.0149",
   "outputs": [],
   "execution_count": 3
  },
  {
   "cell_type": "code",
   "metadata": {
    "ExecuteTime": {
     "end_time": "2025-06-02T02:14:13.602755Z",
     "start_time": "2025-06-02T02:14:13.034293Z"
    }
   },
   "source": "simulador_carro(r=mensal, t=60, valor_total_bem=109_710, entrada_percentual=0.2)",
   "outputs": [
    {
     "name": "stdout",
     "output_type": "stream",
     "text": [
      "Valor total do bem: R$109710.00\n",
      "Entrada (20.0%): R$21942.00\n",
      "IOF Total aplicado: R$2966.56 (3.38%)\n",
      "Valor financiado com IOF: R$90734.56\n"
     ]
    },
    {
     "data": {
      "application/vnd.plotly.v1+json": {
       "data": [
        {
         "hovertemplate": "Categoria=Juros Acumulados (R$)<br>Mês=%{x}<br>Valor (R$)=%{y}<extra></extra>",
         "legendgroup": "Juros Acumulados (R$)",
         "line": {
          "color": "green",
          "dash": "solid"
         },
         "marker": {
          "symbol": "circle"
         },
         "mode": "lines",
         "name": "Juros Acumulados (R$)",
         "orientation": "v",
         "showlegend": true,
         "x": {
          "dtype": "i1",
          "bdata": "AQIDBAUGBwgJCgsMDQ4PEBESExQVFhcYGRobHB0eHyAhIiMkJSYnKCkqKywtLi8wMTIzNDU2Nzg5Ojs8"
         },
         "xaxis": "x",
         "y": {
          "dtype": "f8",
          "bdata": "9ihcj8IflUCuR+F6lAOlQFyPwvWoWq9AmpmZmVnKtEB7FK5Hodi5QDMzMzPz175AUrgehQvkwUBcj8L1aFTEQClcj8L1vMZAMzMzM5MdyUD2KFyPInbLQGdmZmaGxs1Aw/UoXE8H0EApXI/CJSfRQGZmZma2QtJAehSuR/FZ00AoXI/CxWzUQDIzMzMje9VAHoXrUfiE1kBwPQrXM4rXQK1H4XrEithAHoXrUZiG2UAK16NwnX3aQHsUrkfBb9tAexSuR/Fc3EDXo3A9GkXdQFyPwvUoKN5A16NwPQoG30AUrkfhqt7fQBSuR+H6WOBAUbgeheu/4EDrUbgeHSThQOtRuB6FheFAXI/C9Rjk4UApXI/CzT/iQD0K16OYmOJAZmZmZm7u4kBwPQrXQ0HjQChcj8INkeNA/////7/d40CjcD0KTyfkQKNwPQqvbeRAcD0K19Ow5EBcj8L1sPDkQLgehes5LeVAuB6F62Fm5UCPwvUoHJzlQFK4HoVbzuVAFa5H4RL95UDNzMzMNCjmQFK4HoWzT+ZAXI/C9YBz5kDC9Shcj5PmQB6F61HQr+ZA61G4HjXI5kDC9Shcr9zmQP////8v7eZA4HoUrqf55kCjcD0KBwLnQITrUbg+BudA"
         },
         "yaxis": "y",
         "type": "scatter"
        },
        {
         "hovertemplate": "Categoria=Amortização Acumulada (R$)<br>Mês=%{x}<br>Valor (R$)=%{y}<extra></extra>",
         "legendgroup": "Amortização Acumulada (R$)",
         "line": {
          "color": "blue",
          "dash": "solid"
         },
         "marker": {
          "symbol": "circle"
         },
         "mode": "lines",
         "name": "Amortização Acumulada (R$)",
         "orientation": "v",
         "showlegend": true,
         "x": {
          "dtype": "i1",
          "bdata": "AQIDBAUGBwgJCgsMDQ4PEBESExQVFhcYGRobHB0eHyAhIiMkJSYnKCkqKywtLi8wMTIzNDU2Nzg5Ojs8"
         },
         "xaxis": "x",
         "y": {
          "dtype": "f8",
          "bdata": "mpmZmZmRjUAAAAAAAMqdQDMzMzMzgqZAKVyPwnU8rkCkcD0KFwqzQFyPwvXoBLdAXI/C9egOu0C4HoXrUSi/QEjhehSuqMFA9ihcjyLFw0DsUbgepenFQDQzMzNTFshAzszMzExLykC6HoXrsYjMQPgoXI+izs5AxPUoXJ+O0EByPQrXU7rRQMT1KFx/6tJANTMzMzMf1EA/CtejgFjVQF6PwvV4ltZASuF6FC7Z10D4KFyPsiDZQCGF61EYbdpAux6F63G+20C7HoXr0RTdQJLC9ShMcN5Acz0K1/PQ30BoZmZmbpvgQAzXo3ANUeFAfRSuR2EJ4kCRwvUodMTiQD8K16NQguNAfBSuRwFD5EBdj8L1kAblQPcoXI8KzeVAfBSuR3mW5kAghetR6GLnQDQzMzNjMuhAC9ejcPUE6UAVrkfhqtrpQMP1KFyPs+pAw/UoXK+P60CG61G4Fm/sQNijcD3SUe1AhutRuO437kBdj8L1eCHvQKRwPQo/B/BAmpmZmYV/8ECkcD0Kl/nwQEjhehR6dfFAmpmZmTXz8UDNzMzM0HLyQIXrUbhS9PJA9ihcj8J380BxPQrXJ/3zQLkeheuJhPRAH4XrUfAN9UAVrkfhYpn1QHsUrkfpJvZA"
         },
         "yaxis": "y",
         "type": "scatter"
        },
        {
         "hovertemplate": "Categoria=Saldo Devedor (R$)<br>Mês=%{x}<br>Valor (R$)=%{y}<extra></extra>",
         "legendgroup": "Saldo Devedor (R$)",
         "line": {
          "color": "red",
          "dash": "solid"
         },
         "marker": {
          "symbol": "circle"
         },
         "mode": "lines",
         "name": "Saldo Devedor (R$)",
         "orientation": "v",
         "showlegend": true,
         "x": {
          "dtype": "i1",
          "bdata": "AQIDBAUGBwgJCgsMDQ4PEBESExQVFhcYGRobHB0eHyAhIiMkJSYnKCkqKywtLi8wMTIzNDU2Nzg5Ojs8"
         },
         "xaxis": "x",
         "y": {
          "dtype": "f8",
          "bdata": "KVyPwsXr9UDsUbgewa/1QMP1KFzXcvVACtejcAU19UBSuB6FR/b0QGZmZmaatvRAZmZmZvp19EBxPQrXYzT0QDMzMzPT8fNArkfhekSu80CPwvUotGnzQGZmZmYeJPNApHA9Cn/d8kBmZmZm0pXyQB+F61EUTfJAXI/C9UAD8kBxPQrXU7jxQM3MzMxIbPFAcT0K1xsf8UCuR+F6yNDwQGZmZmZKgfBA7FG4Hp0w8EAAAAAAeL3vQArXo3BFF+9APQrXo5hu7kA9CtejaMPtQFK4HoWrFe1A4XoUrldl7EAzMzMzY7LrQI/C9SjE/OpAPQrXo3BE6kApXI/CXYnpQHsUrkeBy+hAPQrXo9AK6EBcj8L1QEfnQMP1KFzHgOZAPQrXo1i35UCamZmZ6erkQKRwPQpvG+RAzczMzNxI40DD9ShcJ3PiQBSuR+FCmuFAFK5H4SK+4ECkcD0Kd73fQMP1KFz/991AZmZmZsYr3EC4HoXrsVjaQOF6FK6nfthACtejcI2d1kAfhetRSLXUQI/C9Si8xdJASOF6FM7O0ED2KFyPwqDNQK5H4Xq0lMlAKVyPwjV5xUBSuB6FC07BQClcj8L1JbpAw/UoXI+PsUDNzMzMzLChQAAAAAAAAACA"
         },
         "yaxis": "y",
         "type": "scatter"
        }
       ],
       "layout": {
        "template": {
         "data": {
          "histogram2dcontour": [
           {
            "type": "histogram2dcontour",
            "colorbar": {
             "outlinewidth": 0,
             "ticks": ""
            },
            "colorscale": [
             [
              0.0,
              "#0d0887"
             ],
             [
              0.1111111111111111,
              "#46039f"
             ],
             [
              0.2222222222222222,
              "#7201a8"
             ],
             [
              0.3333333333333333,
              "#9c179e"
             ],
             [
              0.4444444444444444,
              "#bd3786"
             ],
             [
              0.5555555555555556,
              "#d8576b"
             ],
             [
              0.6666666666666666,
              "#ed7953"
             ],
             [
              0.7777777777777778,
              "#fb9f3a"
             ],
             [
              0.8888888888888888,
              "#fdca26"
             ],
             [
              1.0,
              "#f0f921"
             ]
            ]
           }
          ],
          "choropleth": [
           {
            "type": "choropleth",
            "colorbar": {
             "outlinewidth": 0,
             "ticks": ""
            }
           }
          ],
          "histogram2d": [
           {
            "type": "histogram2d",
            "colorbar": {
             "outlinewidth": 0,
             "ticks": ""
            },
            "colorscale": [
             [
              0.0,
              "#0d0887"
             ],
             [
              0.1111111111111111,
              "#46039f"
             ],
             [
              0.2222222222222222,
              "#7201a8"
             ],
             [
              0.3333333333333333,
              "#9c179e"
             ],
             [
              0.4444444444444444,
              "#bd3786"
             ],
             [
              0.5555555555555556,
              "#d8576b"
             ],
             [
              0.6666666666666666,
              "#ed7953"
             ],
             [
              0.7777777777777778,
              "#fb9f3a"
             ],
             [
              0.8888888888888888,
              "#fdca26"
             ],
             [
              1.0,
              "#f0f921"
             ]
            ]
           }
          ],
          "heatmap": [
           {
            "type": "heatmap",
            "colorbar": {
             "outlinewidth": 0,
             "ticks": ""
            },
            "colorscale": [
             [
              0.0,
              "#0d0887"
             ],
             [
              0.1111111111111111,
              "#46039f"
             ],
             [
              0.2222222222222222,
              "#7201a8"
             ],
             [
              0.3333333333333333,
              "#9c179e"
             ],
             [
              0.4444444444444444,
              "#bd3786"
             ],
             [
              0.5555555555555556,
              "#d8576b"
             ],
             [
              0.6666666666666666,
              "#ed7953"
             ],
             [
              0.7777777777777778,
              "#fb9f3a"
             ],
             [
              0.8888888888888888,
              "#fdca26"
             ],
             [
              1.0,
              "#f0f921"
             ]
            ]
           }
          ],
          "contourcarpet": [
           {
            "type": "contourcarpet",
            "colorbar": {
             "outlinewidth": 0,
             "ticks": ""
            }
           }
          ],
          "contour": [
           {
            "type": "contour",
            "colorbar": {
             "outlinewidth": 0,
             "ticks": ""
            },
            "colorscale": [
             [
              0.0,
              "#0d0887"
             ],
             [
              0.1111111111111111,
              "#46039f"
             ],
             [
              0.2222222222222222,
              "#7201a8"
             ],
             [
              0.3333333333333333,
              "#9c179e"
             ],
             [
              0.4444444444444444,
              "#bd3786"
             ],
             [
              0.5555555555555556,
              "#d8576b"
             ],
             [
              0.6666666666666666,
              "#ed7953"
             ],
             [
              0.7777777777777778,
              "#fb9f3a"
             ],
             [
              0.8888888888888888,
              "#fdca26"
             ],
             [
              1.0,
              "#f0f921"
             ]
            ]
           }
          ],
          "surface": [
           {
            "type": "surface",
            "colorbar": {
             "outlinewidth": 0,
             "ticks": ""
            },
            "colorscale": [
             [
              0.0,
              "#0d0887"
             ],
             [
              0.1111111111111111,
              "#46039f"
             ],
             [
              0.2222222222222222,
              "#7201a8"
             ],
             [
              0.3333333333333333,
              "#9c179e"
             ],
             [
              0.4444444444444444,
              "#bd3786"
             ],
             [
              0.5555555555555556,
              "#d8576b"
             ],
             [
              0.6666666666666666,
              "#ed7953"
             ],
             [
              0.7777777777777778,
              "#fb9f3a"
             ],
             [
              0.8888888888888888,
              "#fdca26"
             ],
             [
              1.0,
              "#f0f921"
             ]
            ]
           }
          ],
          "mesh3d": [
           {
            "type": "mesh3d",
            "colorbar": {
             "outlinewidth": 0,
             "ticks": ""
            }
           }
          ],
          "scatter": [
           {
            "marker": {
             "line": {
              "color": "#283442"
             }
            },
            "type": "scatter"
           }
          ],
          "parcoords": [
           {
            "type": "parcoords",
            "line": {
             "colorbar": {
              "outlinewidth": 0,
              "ticks": ""
             }
            }
           }
          ],
          "scatterpolargl": [
           {
            "type": "scatterpolargl",
            "marker": {
             "colorbar": {
              "outlinewidth": 0,
              "ticks": ""
             }
            }
           }
          ],
          "bar": [
           {
            "error_x": {
             "color": "#f2f5fa"
            },
            "error_y": {
             "color": "#f2f5fa"
            },
            "marker": {
             "line": {
              "color": "rgb(17,17,17)",
              "width": 0.5
             },
             "pattern": {
              "fillmode": "overlay",
              "size": 10,
              "solidity": 0.2
             }
            },
            "type": "bar"
           }
          ],
          "scattergeo": [
           {
            "type": "scattergeo",
            "marker": {
             "colorbar": {
              "outlinewidth": 0,
              "ticks": ""
             }
            }
           }
          ],
          "scatterpolar": [
           {
            "type": "scatterpolar",
            "marker": {
             "colorbar": {
              "outlinewidth": 0,
              "ticks": ""
             }
            }
           }
          ],
          "histogram": [
           {
            "marker": {
             "pattern": {
              "fillmode": "overlay",
              "size": 10,
              "solidity": 0.2
             }
            },
            "type": "histogram"
           }
          ],
          "scattergl": [
           {
            "marker": {
             "line": {
              "color": "#283442"
             }
            },
            "type": "scattergl"
           }
          ],
          "scatter3d": [
           {
            "type": "scatter3d",
            "line": {
             "colorbar": {
              "outlinewidth": 0,
              "ticks": ""
             }
            },
            "marker": {
             "colorbar": {
              "outlinewidth": 0,
              "ticks": ""
             }
            }
           }
          ],
          "scattermap": [
           {
            "type": "scattermap",
            "marker": {
             "colorbar": {
              "outlinewidth": 0,
              "ticks": ""
             }
            }
           }
          ],
          "scattermapbox": [
           {
            "type": "scattermapbox",
            "marker": {
             "colorbar": {
              "outlinewidth": 0,
              "ticks": ""
             }
            }
           }
          ],
          "scatterternary": [
           {
            "type": "scatterternary",
            "marker": {
             "colorbar": {
              "outlinewidth": 0,
              "ticks": ""
             }
            }
           }
          ],
          "scattercarpet": [
           {
            "type": "scattercarpet",
            "marker": {
             "colorbar": {
              "outlinewidth": 0,
              "ticks": ""
             }
            }
           }
          ],
          "carpet": [
           {
            "aaxis": {
             "endlinecolor": "#A2B1C6",
             "gridcolor": "#506784",
             "linecolor": "#506784",
             "minorgridcolor": "#506784",
             "startlinecolor": "#A2B1C6"
            },
            "baxis": {
             "endlinecolor": "#A2B1C6",
             "gridcolor": "#506784",
             "linecolor": "#506784",
             "minorgridcolor": "#506784",
             "startlinecolor": "#A2B1C6"
            },
            "type": "carpet"
           }
          ],
          "table": [
           {
            "cells": {
             "fill": {
              "color": "#506784"
             },
             "line": {
              "color": "rgb(17,17,17)"
             }
            },
            "header": {
             "fill": {
              "color": "#2a3f5f"
             },
             "line": {
              "color": "rgb(17,17,17)"
             }
            },
            "type": "table"
           }
          ],
          "barpolar": [
           {
            "marker": {
             "line": {
              "color": "rgb(17,17,17)",
              "width": 0.5
             },
             "pattern": {
              "fillmode": "overlay",
              "size": 10,
              "solidity": 0.2
             }
            },
            "type": "barpolar"
           }
          ],
          "pie": [
           {
            "automargin": true,
            "type": "pie"
           }
          ]
         },
         "layout": {
          "autotypenumbers": "strict",
          "colorway": [
           "#636efa",
           "#EF553B",
           "#00cc96",
           "#ab63fa",
           "#FFA15A",
           "#19d3f3",
           "#FF6692",
           "#B6E880",
           "#FF97FF",
           "#FECB52"
          ],
          "font": {
           "color": "#f2f5fa"
          },
          "hovermode": "closest",
          "hoverlabel": {
           "align": "left"
          },
          "paper_bgcolor": "rgb(17,17,17)",
          "plot_bgcolor": "rgb(17,17,17)",
          "polar": {
           "bgcolor": "rgb(17,17,17)",
           "angularaxis": {
            "gridcolor": "#506784",
            "linecolor": "#506784",
            "ticks": ""
           },
           "radialaxis": {
            "gridcolor": "#506784",
            "linecolor": "#506784",
            "ticks": ""
           }
          },
          "ternary": {
           "bgcolor": "rgb(17,17,17)",
           "aaxis": {
            "gridcolor": "#506784",
            "linecolor": "#506784",
            "ticks": ""
           },
           "baxis": {
            "gridcolor": "#506784",
            "linecolor": "#506784",
            "ticks": ""
           },
           "caxis": {
            "gridcolor": "#506784",
            "linecolor": "#506784",
            "ticks": ""
           }
          },
          "coloraxis": {
           "colorbar": {
            "outlinewidth": 0,
            "ticks": ""
           }
          },
          "colorscale": {
           "sequential": [
            [
             0.0,
             "#0d0887"
            ],
            [
             0.1111111111111111,
             "#46039f"
            ],
            [
             0.2222222222222222,
             "#7201a8"
            ],
            [
             0.3333333333333333,
             "#9c179e"
            ],
            [
             0.4444444444444444,
             "#bd3786"
            ],
            [
             0.5555555555555556,
             "#d8576b"
            ],
            [
             0.6666666666666666,
             "#ed7953"
            ],
            [
             0.7777777777777778,
             "#fb9f3a"
            ],
            [
             0.8888888888888888,
             "#fdca26"
            ],
            [
             1.0,
             "#f0f921"
            ]
           ],
           "sequentialminus": [
            [
             0.0,
             "#0d0887"
            ],
            [
             0.1111111111111111,
             "#46039f"
            ],
            [
             0.2222222222222222,
             "#7201a8"
            ],
            [
             0.3333333333333333,
             "#9c179e"
            ],
            [
             0.4444444444444444,
             "#bd3786"
            ],
            [
             0.5555555555555556,
             "#d8576b"
            ],
            [
             0.6666666666666666,
             "#ed7953"
            ],
            [
             0.7777777777777778,
             "#fb9f3a"
            ],
            [
             0.8888888888888888,
             "#fdca26"
            ],
            [
             1.0,
             "#f0f921"
            ]
           ],
           "diverging": [
            [
             0,
             "#8e0152"
            ],
            [
             0.1,
             "#c51b7d"
            ],
            [
             0.2,
             "#de77ae"
            ],
            [
             0.3,
             "#f1b6da"
            ],
            [
             0.4,
             "#fde0ef"
            ],
            [
             0.5,
             "#f7f7f7"
            ],
            [
             0.6,
             "#e6f5d0"
            ],
            [
             0.7,
             "#b8e186"
            ],
            [
             0.8,
             "#7fbc41"
            ],
            [
             0.9,
             "#4d9221"
            ],
            [
             1,
             "#276419"
            ]
           ]
          },
          "xaxis": {
           "gridcolor": "#283442",
           "linecolor": "#506784",
           "ticks": "",
           "title": {
            "standoff": 15
           },
           "zerolinecolor": "#283442",
           "automargin": true,
           "zerolinewidth": 2
          },
          "yaxis": {
           "gridcolor": "#283442",
           "linecolor": "#506784",
           "ticks": "",
           "title": {
            "standoff": 15
           },
           "zerolinecolor": "#283442",
           "automargin": true,
           "zerolinewidth": 2
          },
          "scene": {
           "xaxis": {
            "backgroundcolor": "rgb(17,17,17)",
            "gridcolor": "#506784",
            "linecolor": "#506784",
            "showbackground": true,
            "ticks": "",
            "zerolinecolor": "#C8D4E3",
            "gridwidth": 2
           },
           "yaxis": {
            "backgroundcolor": "rgb(17,17,17)",
            "gridcolor": "#506784",
            "linecolor": "#506784",
            "showbackground": true,
            "ticks": "",
            "zerolinecolor": "#C8D4E3",
            "gridwidth": 2
           },
           "zaxis": {
            "backgroundcolor": "rgb(17,17,17)",
            "gridcolor": "#506784",
            "linecolor": "#506784",
            "showbackground": true,
            "ticks": "",
            "zerolinecolor": "#C8D4E3",
            "gridwidth": 2
           }
          },
          "shapedefaults": {
           "line": {
            "color": "#f2f5fa"
           }
          },
          "annotationdefaults": {
           "arrowcolor": "#f2f5fa",
           "arrowhead": 0,
           "arrowwidth": 1
          },
          "geo": {
           "bgcolor": "rgb(17,17,17)",
           "landcolor": "rgb(17,17,17)",
           "subunitcolor": "#506784",
           "showland": true,
           "showlakes": true,
           "lakecolor": "rgb(17,17,17)"
          },
          "title": {
           "x": 0.05
          },
          "updatemenudefaults": {
           "bgcolor": "#506784",
           "borderwidth": 0
          },
          "sliderdefaults": {
           "bgcolor": "#C8D4E3",
           "borderwidth": 1,
           "bordercolor": "rgb(17,17,17)",
           "tickwidth": 0
          },
          "mapbox": {
           "style": "dark"
          }
         }
        },
        "xaxis": {
         "anchor": "y",
         "domain": [
          0.0,
          1.0
         ],
         "title": {
          "text": "Mês"
         }
        },
        "yaxis": {
         "anchor": "x",
         "domain": [
          0.0,
          1.0
         ],
         "title": {
          "text": "Valor (R$)"
         }
        },
        "legend": {
         "title": {
          "text": "Categoria"
         },
         "tracegroupgap": 0
        },
        "title": {
         "text": "Evolução do Financiamento com IOF"
        }
       },
       "config": {
        "plotlyServerURL": "https://plot.ly"
       }
      }
     },
     "metadata": {},
     "output_type": "display_data"
    },
    {
     "data": {
      "text/plain": [
       "<Figure size 1200x600 with 1 Axes>"
      ],
      "image/png": "[encoded data removed]"
     },
     "metadata": {},
     "output_type": "display_data"
    },
    {
     "name": "stdout",
     "output_type": "stream",
     "text": [
      "Total pago em prestações: R$137888.40\n",
      "Valor total pago (incluindo entrada): R$159830.40\n",
      "Relação (Total pago / Valor do bem à vista): 1.46\n",
      "Tabela salva como 'simulador_carro_com_iof.xlsx'.\n"
     ]
    },
    {
     "data": {
      "text/plain": [
       "    Mês  Prestação Mensal (R$)  Parcela de Juros (R$)  \\\n",
       "0     1                2298.14                1351.94   \n",
       "1     2                2298.14                1337.85   \n",
       "2     3                2298.14                1323.54   \n",
       "3     4                2298.14                1309.02   \n",
       "4     5                2298.14                1294.28   \n",
       "5     6                2298.14                1279.32   \n",
       "6     7                2298.14                1264.14   \n",
       "7     8                2298.14                1248.73   \n",
       "8     9                2298.14                1233.10   \n",
       "9    10                2298.14                1217.23   \n",
       "10   11                2298.14                1201.12   \n",
       "11   12                2298.14                1184.78   \n",
       "12   13                2298.14                1168.19   \n",
       "13   14                2298.14                1151.35   \n",
       "14   15                2298.14                1134.26   \n",
       "15   16                2298.14                1116.92   \n",
       "16   17                2298.14                1099.32   \n",
       "17   18                2298.14                1081.46   \n",
       "18   19                2298.14                1063.33   \n",
       "19   20                2298.14                1044.93   \n",
       "20   21                2298.14                1026.26   \n",
       "21   22                2298.14                1007.31   \n",
       "22   23                2298.14                 988.08   \n",
       "23   24                2298.14                 968.56   \n",
       "24   25                2298.14                 948.75   \n",
       "25   26                2298.14                 928.64   \n",
       "26   27                2298.14                 908.23   \n",
       "27   28                2298.14                 887.52   \n",
       "28   29                2298.14                 866.51   \n",
       "29   30                2298.14                 845.17   \n",
       "30   31                2298.14                 823.52   \n",
       "31   32                2298.14                 801.55   \n",
       "32   33                2298.14                 779.25   \n",
       "33   34                2298.14                 756.62   \n",
       "34   35                2298.14                 733.65   \n",
       "35   36                2298.14                 710.34   \n",
       "36   37                2298.14                 686.68   \n",
       "37   38                2298.14                 662.67   \n",
       "38   39                2298.14                 638.31   \n",
       "39   40                2298.14                 613.57   \n",
       "40   41                2298.14                 588.47   \n",
       "41   42                2298.14                 563.00   \n",
       "42   43                2298.14                 537.15   \n",
       "43   44                2298.14                 510.91   \n",
       "44   45                2298.14                 484.28   \n",
       "45   46                2298.14                 457.25   \n",
       "46   47                2298.14                 429.82   \n",
       "47   48                2298.14                 401.98   \n",
       "48   49                2298.14                 373.73   \n",
       "49   50                2298.14                 345.06   \n",
       "50   51                2298.14                 315.96   \n",
       "51   52                2298.14                 286.42   \n",
       "52   53                2298.14                 256.45   \n",
       "53   54                2298.14                 226.03   \n",
       "54   55                2298.14                 195.15   \n",
       "55   56                2298.14                 163.82   \n",
       "56   57                2298.14                 132.02   \n",
       "57   58                2298.14                  99.74   \n",
       "58   59                2298.14                  66.98   \n",
       "59   60                2298.14                  33.74   \n",
       "\n",
       "    Amortização do Principal (R$)  Saldo Devedor (R$)  Juros Acumulados (R$)  \\\n",
       "0                          946.20            89788.36                1351.94   \n",
       "1                          960.30            88828.07                2689.79   \n",
       "2                          974.60            87853.46                4013.33   \n",
       "3                          989.13            86864.34                5322.35   \n",
       "4                         1003.86            85860.47                6616.63   \n",
       "5                         1018.82            84841.65                7895.95   \n",
       "6                         1034.00            83807.65                9160.09   \n",
       "7                         1049.41            82758.24               10408.82   \n",
       "8                         1065.04            81693.20               11641.92   \n",
       "9                         1080.91            80612.28               12859.15   \n",
       "10                        1097.02            79515.26               14060.27   \n",
       "11                        1113.36            78401.90               15245.05   \n",
       "12                        1129.95            77271.94               16413.24   \n",
       "13                        1146.79            76125.15               17564.59   \n",
       "14                        1163.88            74961.27               18698.85   \n",
       "15                        1181.22            73780.06               19815.77   \n",
       "16                        1198.82            72581.24               20915.09   \n",
       "17                        1216.68            71364.55               21996.55   \n",
       "18                        1234.81            70129.74               23059.88   \n",
       "19                        1253.21            68876.53               24104.81   \n",
       "20                        1271.88            67604.65               25131.07   \n",
       "21                        1290.83            66313.82               26138.38   \n",
       "22                        1310.07            65003.75               27126.46   \n",
       "23                        1329.59            63674.17               28095.02   \n",
       "24                        1349.40            62324.77               29043.77   \n",
       "25                        1369.50            60955.27               29972.41   \n",
       "26                        1389.91            59565.36               30880.64   \n",
       "27                        1410.62            58154.74               31768.16   \n",
       "28                        1431.64            56723.10               32634.67   \n",
       "29                        1452.97            55270.13               33479.84   \n",
       "30                        1474.62            53795.52               34303.36   \n",
       "31                        1496.59            52298.93               35104.91   \n",
       "32                        1518.89            50780.04               35884.16   \n",
       "33                        1541.52            49238.52               36640.78   \n",
       "34                        1564.49            47674.03               37374.43   \n",
       "35                        1587.80            46086.23               38084.77   \n",
       "36                        1611.46            44474.77               38771.45   \n",
       "37                        1635.47            42839.30               39434.12   \n",
       "38                        1659.84            41179.47               40072.43   \n",
       "39                        1684.57            39494.90               40686.00   \n",
       "40                        1709.67            37785.23               41274.47   \n",
       "41                        1735.14            36050.09               41837.47   \n",
       "42                        1761.00            34289.09               42374.62   \n",
       "43                        1787.23            32501.86               42885.53   \n",
       "44                        1813.86            30687.99               43369.81   \n",
       "45                        1840.89            28847.10               43827.06   \n",
       "46                        1868.32            26978.78               44256.88   \n",
       "47                        1896.16            25082.62               44658.86   \n",
       "48                        1924.41            23158.21               45032.59   \n",
       "49                        1953.09            21205.13               45377.65   \n",
       "50                        1982.19            19222.94               45693.61   \n",
       "51                        2011.72            17211.22               45980.03   \n",
       "52                        2041.70            15169.52               46236.48   \n",
       "53                        2072.12            13097.41               46462.51   \n",
       "54                        2102.99            10994.42               46657.66   \n",
       "55                        2134.33             8860.09               46821.48   \n",
       "56                        2166.13             6693.96               46953.50   \n",
       "57                        2198.40             4495.56               47053.24   \n",
       "58                        2231.16             2264.40               47120.22   \n",
       "59                        2264.40               -0.00               47153.96   \n",
       "\n",
       "    Amortização Acumulada (R$)  \n",
       "0                       946.20  \n",
       "1                      1906.50  \n",
       "2                      2881.10  \n",
       "3                      3870.23  \n",
       "4                      4874.09  \n",
       "5                      5892.91  \n",
       "6                      6926.91  \n",
       "7                      7976.32  \n",
       "8                      9041.36  \n",
       "9                     10122.27  \n",
       "10                    11219.29  \n",
       "11                    12332.65  \n",
       "12                    13462.60  \n",
       "13                    14609.39  \n",
       "14                    15773.27  \n",
       "15                    16954.49  \n",
       "16                    18153.31  \n",
       "17                    19369.99  \n",
       "18                    20604.80  \n",
       "19                    21858.01  \n",
       "20                    23129.89  \n",
       "21                    24420.72  \n",
       "22                    25730.79  \n",
       "23                    27060.38  \n",
       "24                    28409.78  \n",
       "25                    29779.28  \n",
       "26                    31169.19  \n",
       "27                    32579.81  \n",
       "28                    34011.45  \n",
       "29                    35464.42  \n",
       "30                    36939.04  \n",
       "31                    38435.63  \n",
       "32                    39954.52  \n",
       "33                    41496.04  \n",
       "34                    43060.53  \n",
       "35                    44648.33  \n",
       "36                    46259.79  \n",
       "37                    47895.26  \n",
       "38                    49555.10  \n",
       "39                    51239.67  \n",
       "40                    52949.34  \n",
       "41                    54684.48  \n",
       "42                    56445.48  \n",
       "43                    58232.71  \n",
       "44                    60046.57  \n",
       "45                    61887.46  \n",
       "46                    63755.78  \n",
       "47                    65651.94  \n",
       "48                    67576.35  \n",
       "49                    69529.44  \n",
       "50                    71511.63  \n",
       "51                    73523.35  \n",
       "52                    75565.05  \n",
       "53                    77637.17  \n",
       "54                    79740.16  \n",
       "55                    81874.49  \n",
       "56                    84040.62  \n",
       "57                    86239.02  \n",
       "58                    88470.18  \n",
       "59                    90734.58  "
      ],
      "text/html": [
       "<div>\n",
       "<style scoped>\n",
       "    .dataframe tbody tr th:only-of-type {\n",
       "        vertical-align: middle;\n",
       "    }\n",
       "\n",
       "    .dataframe tbody tr th {\n",
       "        vertical-align: top;\n",
       "    }\n",
       "\n",
       "    .dataframe thead th {\n",
       "        text-align: right;\n",
       "    }\n",
       "</style>\n",
       "<table border=\"1\" class=\"dataframe\">\n",
       "  <thead>\n",
       "    <tr style=\"text-align: right;\">\n",
       "      <th></th>\n",
       "      <th>Mês</th>\n",
       "      <th>Prestação Mensal (R$)</th>\n",
       "      <th>Parcela de Juros (R$)</th>\n",
       "      <th>Amortização do Principal (R$)</th>\n",
       "      <th>Saldo Devedor (R$)</th>\n",
       "      <th>Juros Acumulados (R$)</th>\n",
       "      <th>Amortização Acumulada (R$)</th>\n",
       "    </tr>\n",
       "  </thead>\n",
       "  <tbody>\n",
       "    <tr>\n",
       "      <th>0</th>\n",
       "      <td>1</td>\n",
       "      <td>2298.14</td>\n",
       "      <td>1351.94</td>\n",
       "      <td>946.20</td>\n",
       "      <td>89788.36</td>\n",
       "      <td>1351.94</td>\n",
       "      <td>946.20</td>\n",
       "    </tr>\n",
       "    <tr>\n",
       "      <th>1</th>\n",
       "      <td>2</td>\n",
       "      <td>2298.14</td>\n",
       "      <td>1337.85</td>\n",
       "      <td>960.30</td>\n",
       "      <td>88828.07</td>\n",
       "      <td>2689.79</td>\n",
       "      <td>1906.50</td>\n",
       "    </tr>\n",
       "    <tr>\n",
       "      <th>2</th>\n",
       "      <td>3</td>\n",
       "      <td>2298.14</td>\n",
       "      <td>1323.54</td>\n",
       "      <td>974.60</td>\n",
       "      <td>87853.46</td>\n",
       "      <td>4013.33</td>\n",
       "      <td>2881.10</td>\n",
       "    </tr>\n",
       "    <tr>\n",
       "      <th>3</th>\n",
       "      <td>4</td>\n",
       "      <td>2298.14</td>\n",
       "      <td>1309.02</td>\n",
       "      <td>989.13</td>\n",
       "      <td>86864.34</td>\n",
       "      <td>5322.35</td>\n",
       "      <td>3870.23</td>\n",
       "    </tr>\n",
       "    <tr>\n",
       "      <th>4</th>\n",
       "      <td>5</td>\n",
       "      <td>2298.14</td>\n",
       "      <td>1294.28</td>\n",
       "      <td>1003.86</td>\n",
       "      <td>85860.47</td>\n",
       "      <td>6616.63</td>\n",
       "      <td>4874.09</td>\n",
       "    </tr>\n",
       "    <tr>\n",
       "      <th>5</th>\n",
       "      <td>6</td>\n",
       "      <td>2298.14</td>\n",
       "      <td>1279.32</td>\n",
       "      <td>1018.82</td>\n",
       "      <td>84841.65</td>\n",
       "      <td>7895.95</td>\n",
       "      <td>5892.91</td>\n",
       "    </tr>\n",
       "    <tr>\n",
       "      <th>6</th>\n",
       "      <td>7</td>\n",
       "      <td>2298.14</td>\n",
       "      <td>1264.14</td>\n",
       "      <td>1034.00</td>\n",
       "      <td>83807.65</td>\n",
       "      <td>9160.09</td>\n",
       "      <td>6926.91</td>\n",
       "    </tr>\n",
       "    <tr>\n",
       "      <th>7</th>\n",
       "      <td>8</td>\n",
       "      <td>2298.14</td>\n",
       "      <td>1248.73</td>\n",
       "      <td>1049.41</td>\n",
       "      <td>82758.24</td>\n",
       "      <td>10408.82</td>\n",
       "      <td>7976.32</td>\n",
       "    </tr>\n",
       "    <tr>\n",
       "      <th>8</th>\n",
       "      <td>9</td>\n",
       "      <td>2298.14</td>\n",
       "      <td>1233.10</td>\n",
       "      <td>1065.04</td>\n",
       "      <td>81693.20</td>\n",
       "      <td>11641.92</td>\n",
       "      <td>9041.36</td>\n",
       "    </tr>\n",
       "    <tr>\n",
       "      <th>9</th>\n",
       "      <td>10</td>\n",
       "      <td>2298.14</td>\n",
       "      <td>1217.23</td>\n",
       "      <td>1080.91</td>\n",
       "      <td>80612.28</td>\n",
       "      <td>12859.15</td>\n",
       "      <td>10122.27</td>\n",
       "    </tr>\n",
       "    <tr>\n",
       "      <th>10</th>\n",
       "      <td>11</td>\n",
       "      <td>2298.14</td>\n",
       "      <td>1201.12</td>\n",
       "      <td>1097.02</td>\n",
       "      <td>79515.26</td>\n",
       "      <td>14060.27</td>\n",
       "      <td>11219.29</td>\n",
       "    </tr>\n",
       "    <tr>\n",
       "      <th>11</th>\n",
       "      <td>12</td>\n",
       "      <td>2298.14</td>\n",
       "      <td>1184.78</td>\n",
       "      <td>1113.36</td>\n",
       "      <td>78401.90</td>\n",
       "      <td>15245.05</td>\n",
       "      <td>12332.65</td>\n",
       "    </tr>\n",
       "    <tr>\n",
       "      <th>12</th>\n",
       "      <td>13</td>\n",
       "      <td>2298.14</td>\n",
       "      <td>1168.19</td>\n",
       "      <td>1129.95</td>\n",
       "      <td>77271.94</td>\n",
       "      <td>16413.24</td>\n",
       "      <td>13462.60</td>\n",
       "    </tr>\n",
       "    <tr>\n",
       "      <th>13</th>\n",
       "      <td>14</td>\n",
       "      <td>2298.14</td>\n",
       "      <td>1151.35</td>\n",
       "      <td>1146.79</td>\n",
       "      <td>76125.15</td>\n",
       "      <td>17564.59</td>\n",
       "      <td>14609.39</td>\n",
       "    </tr>\n",
       "    <tr>\n",
       "      <th>14</th>\n",
       "      <td>15</td>\n",
       "      <td>2298.14</td>\n",
       "      <td>1134.26</td>\n",
       "      <td>1163.88</td>\n",
       "      <td>74961.27</td>\n",
       "      <td>18698.85</td>\n",
       "      <td>15773.27</td>\n",
       "    </tr>\n",
       "    <tr>\n",
       "      <th>15</th>\n",
       "      <td>16</td>\n",
       "      <td>2298.14</td>\n",
       "      <td>1116.92</td>\n",
       "      <td>1181.22</td>\n",
       "      <td>73780.06</td>\n",
       "      <td>19815.77</td>\n",
       "      <td>16954.49</td>\n",
       "    </tr>\n",
       "    <tr>\n",
       "      <th>16</th>\n",
       "      <td>17</td>\n",
       "      <td>2298.14</td>\n",
       "      <td>1099.32</td>\n",
       "      <td>1198.82</td>\n",
       "      <td>72581.24</td>\n",
       "      <td>20915.09</td>\n",
       "      <td>18153.31</td>\n",
       "    </tr>\n",
       "    <tr>\n",
       "      <th>17</th>\n",
       "      <td>18</td>\n",
       "      <td>2298.14</td>\n",
       "      <td>1081.46</td>\n",
       "      <td>1216.68</td>\n",
       "      <td>71364.55</td>\n",
       "      <td>21996.55</td>\n",
       "      <td>19369.99</td>\n",
       "    </tr>\n",
       "    <tr>\n",
       "      <th>18</th>\n",
       "      <td>19</td>\n",
       "      <td>2298.14</td>\n",
       "      <td>1063.33</td>\n",
       "      <td>1234.81</td>\n",
       "      <td>70129.74</td>\n",
       "      <td>23059.88</td>\n",
       "      <td>20604.80</td>\n",
       "    </tr>\n",
       "    <tr>\n",
       "      <th>19</th>\n",
       "      <td>20</td>\n",
       "      <td>2298.14</td>\n",
       "      <td>1044.93</td>\n",
       "      <td>1253.21</td>\n",
       "      <td>68876.53</td>\n",
       "      <td>24104.81</td>\n",
       "      <td>21858.01</td>\n",
       "    </tr>\n",
       "    <tr>\n",
       "      <th>20</th>\n",
       "      <td>21</td>\n",
       "      <td>2298.14</td>\n",
       "      <td>1026.26</td>\n",
       "      <td>1271.88</td>\n",
       "      <td>67604.65</td>\n",
       "      <td>25131.07</td>\n",
       "      <td>23129.89</td>\n",
       "    </tr>\n",
       "    <tr>\n",
       "      <th>21</th>\n",
       "      <td>22</td>\n",
       "      <td>2298.14</td>\n",
       "      <td>1007.31</td>\n",
       "      <td>1290.83</td>\n",
       "      <td>66313.82</td>\n",
       "      <td>26138.38</td>\n",
       "      <td>24420.72</td>\n",
       "    </tr>\n",
       "    <tr>\n",
       "      <th>22</th>\n",
       "      <td>23</td>\n",
       "      <td>2298.14</td>\n",
       "      <td>988.08</td>\n",
       "      <td>1310.07</td>\n",
       "      <td>65003.75</td>\n",
       "      <td>27126.46</td>\n",
       "      <td>25730.79</td>\n",
       "    </tr>\n",
       "    <tr>\n",
       "      <th>23</th>\n",
       "      <td>24</td>\n",
       "      <td>2298.14</td>\n",
       "      <td>968.56</td>\n",
       "      <td>1329.59</td>\n",
       "      <td>63674.17</td>\n",
       "      <td>28095.02</td>\n",
       "      <td>27060.38</td>\n",
       "    </tr>\n",
       "    <tr>\n",
       "      <th>24</th>\n",
       "      <td>25</td>\n",
       "      <td>2298.14</td>\n",
       "      <td>948.75</td>\n",
       "      <td>1349.40</td>\n",
       "      <td>62324.77</td>\n",
       "      <td>29043.77</td>\n",
       "      <td>28409.78</td>\n",
       "    </tr>\n",
       "    <tr>\n",
       "      <th>25</th>\n",
       "      <td>26</td>\n",
       "      <td>2298.14</td>\n",
       "      <td>928.64</td>\n",
       "      <td>1369.50</td>\n",
       "      <td>60955.27</td>\n",
       "      <td>29972.41</td>\n",
       "      <td>29779.28</td>\n",
       "    </tr>\n",
       "    <tr>\n",
       "      <th>26</th>\n",
       "      <td>27</td>\n",
       "      <td>2298.14</td>\n",
       "      <td>908.23</td>\n",
       "      <td>1389.91</td>\n",
       "      <td>59565.36</td>\n",
       "      <td>30880.64</td>\n",
       "      <td>31169.19</td>\n",
       "    </tr>\n",
       "    <tr>\n",
       "      <th>27</th>\n",
       "      <td>28</td>\n",
       "      <td>2298.14</td>\n",
       "      <td>887.52</td>\n",
       "      <td>1410.62</td>\n",
       "      <td>58154.74</td>\n",
       "      <td>31768.16</td>\n",
       "      <td>32579.81</td>\n",
       "    </tr>\n",
       "    <tr>\n",
       "      <th>28</th>\n",
       "      <td>29</td>\n",
       "      <td>2298.14</td>\n",
       "      <td>866.51</td>\n",
       "      <td>1431.64</td>\n",
       "      <td>56723.10</td>\n",
       "      <td>32634.67</td>\n",
       "      <td>34011.45</td>\n",
       "    </tr>\n",
       "    <tr>\n",
       "      <th>29</th>\n",
       "      <td>30</td>\n",
       "      <td>2298.14</td>\n",
       "      <td>845.17</td>\n",
       "      <td>1452.97</td>\n",
       "      <td>55270.13</td>\n",
       "      <td>33479.84</td>\n",
       "      <td>35464.42</td>\n",
       "    </tr>\n",
       "    <tr>\n",
       "      <th>30</th>\n",
       "      <td>31</td>\n",
       "      <td>2298.14</td>\n",
       "      <td>823.52</td>\n",
       "      <td>1474.62</td>\n",
       "      <td>53795.52</td>\n",
       "      <td>34303.36</td>\n",
       "      <td>36939.04</td>\n",
       "    </tr>\n",
       "    <tr>\n",
       "      <th>31</th>\n",
       "      <td>32</td>\n",
       "      <td>2298.14</td>\n",
       "      <td>801.55</td>\n",
       "      <td>1496.59</td>\n",
       "      <td>52298.93</td>\n",
       "      <td>35104.91</td>\n",
       "      <td>38435.63</td>\n",
       "    </tr>\n",
       "    <tr>\n",
       "      <th>32</th>\n",
       "      <td>33</td>\n",
       "      <td>2298.14</td>\n",
       "      <td>779.25</td>\n",
       "      <td>1518.89</td>\n",
       "      <td>50780.04</td>\n",
       "      <td>35884.16</td>\n",
       "      <td>39954.52</td>\n",
       "    </tr>\n",
       "    <tr>\n",
       "      <th>33</th>\n",
       "      <td>34</td>\n",
       "      <td>2298.14</td>\n",
       "      <td>756.62</td>\n",
       "      <td>1541.52</td>\n",
       "      <td>49238.52</td>\n",
       "      <td>36640.78</td>\n",
       "      <td>41496.04</td>\n",
       "    </tr>\n",
       "    <tr>\n",
       "      <th>34</th>\n",
       "      <td>35</td>\n",
       "      <td>2298.14</td>\n",
       "      <td>733.65</td>\n",
       "      <td>1564.49</td>\n",
       "      <td>47674.03</td>\n",
       "      <td>37374.43</td>\n",
       "      <td>43060.53</td>\n",
       "    </tr>\n",
       "    <tr>\n",
       "      <th>35</th>\n",
       "      <td>36</td>\n",
       "      <td>2298.14</td>\n",
       "      <td>710.34</td>\n",
       "      <td>1587.80</td>\n",
       "      <td>46086.23</td>\n",
       "      <td>38084.77</td>\n",
       "      <td>44648.33</td>\n",
       "    </tr>\n",
       "    <tr>\n",
       "      <th>36</th>\n",
       "      <td>37</td>\n",
       "      <td>2298.14</td>\n",
       "      <td>686.68</td>\n",
       "      <td>1611.46</td>\n",
       "      <td>44474.77</td>\n",
       "      <td>38771.45</td>\n",
       "      <td>46259.79</td>\n",
       "    </tr>\n",
       "    <tr>\n",
       "      <th>37</th>\n",
       "      <td>38</td>\n",
       "      <td>2298.14</td>\n",
       "      <td>662.67</td>\n",
       "      <td>1635.47</td>\n",
       "      <td>42839.30</td>\n",
       "      <td>39434.12</td>\n",
       "      <td>47895.26</td>\n",
       "    </tr>\n",
       "    <tr>\n",
       "      <th>38</th>\n",
       "      <td>39</td>\n",
       "      <td>2298.14</td>\n",
       "      <td>638.31</td>\n",
       "      <td>1659.84</td>\n",
       "      <td>41179.47</td>\n",
       "      <td>40072.43</td>\n",
       "      <td>49555.10</td>\n",
       "    </tr>\n",
       "    <tr>\n",
       "      <th>39</th>\n",
       "      <td>40</td>\n",
       "      <td>2298.14</td>\n",
       "      <td>613.57</td>\n",
       "      <td>1684.57</td>\n",
       "      <td>39494.90</td>\n",
       "      <td>40686.00</td>\n",
       "      <td>51239.67</td>\n",
       "    </tr>\n",
       "    <tr>\n",
       "      <th>40</th>\n",
       "      <td>41</td>\n",
       "      <td>2298.14</td>\n",
       "      <td>588.47</td>\n",
       "      <td>1709.67</td>\n",
       "      <td>37785.23</td>\n",
       "      <td>41274.47</td>\n",
       "      <td>52949.34</td>\n",
       "    </tr>\n",
       "    <tr>\n",
       "      <th>41</th>\n",
       "      <td>42</td>\n",
       "      <td>2298.14</td>\n",
       "      <td>563.00</td>\n",
       "      <td>1735.14</td>\n",
       "      <td>36050.09</td>\n",
       "      <td>41837.47</td>\n",
       "      <td>54684.48</td>\n",
       "    </tr>\n",
       "    <tr>\n",
       "      <th>42</th>\n",
       "      <td>43</td>\n",
       "      <td>2298.14</td>\n",
       "      <td>537.15</td>\n",
       "      <td>1761.00</td>\n",
       "      <td>34289.09</td>\n",
       "      <td>42374.62</td>\n",
       "      <td>56445.48</td>\n",
       "    </tr>\n",
       "    <tr>\n",
       "      <th>43</th>\n",
       "      <td>44</td>\n",
       "      <td>2298.14</td>\n",
       "      <td>510.91</td>\n",
       "      <td>1787.23</td>\n",
       "      <td>32501.86</td>\n",
       "      <td>42885.53</td>\n",
       "      <td>58232.71</td>\n",
       "    </tr>\n",
       "    <tr>\n",
       "      <th>44</th>\n",
       "      <td>45</td>\n",
       "      <td>2298.14</td>\n",
       "      <td>484.28</td>\n",
       "      <td>1813.86</td>\n",
       "      <td>30687.99</td>\n",
       "      <td>43369.81</td>\n",
       "      <td>60046.57</td>\n",
       "    </tr>\n",
       "    <tr>\n",
       "      <th>45</th>\n",
       "      <td>46</td>\n",
       "      <td>2298.14</td>\n",
       "      <td>457.25</td>\n",
       "      <td>1840.89</td>\n",
       "      <td>28847.10</td>\n",
       "      <td>43827.06</td>\n",
       "      <td>61887.46</td>\n",
       "    </tr>\n",
       "    <tr>\n",
       "      <th>46</th>\n",
       "      <td>47</td>\n",
       "      <td>2298.14</td>\n",
       "      <td>429.82</td>\n",
       "      <td>1868.32</td>\n",
       "      <td>26978.78</td>\n",
       "      <td>44256.88</td>\n",
       "      <td>63755.78</td>\n",
       "    </tr>\n",
       "    <tr>\n",
       "      <th>47</th>\n",
       "      <td>48</td>\n",
       "      <td>2298.14</td>\n",
       "      <td>401.98</td>\n",
       "      <td>1896.16</td>\n",
       "      <td>25082.62</td>\n",
       "      <td>44658.86</td>\n",
       "      <td>65651.94</td>\n",
       "    </tr>\n",
       "    <tr>\n",
       "      <th>48</th>\n",
       "      <td>49</td>\n",
       "      <td>2298.14</td>\n",
       "      <td>373.73</td>\n",
       "      <td>1924.41</td>\n",
       "      <td>23158.21</td>\n",
       "      <td>45032.59</td>\n",
       "      <td>67576.35</td>\n",
       "    </tr>\n",
       "    <tr>\n",
       "      <th>49</th>\n",
       "      <td>50</td>\n",
       "      <td>2298.14</td>\n",
       "      <td>345.06</td>\n",
       "      <td>1953.09</td>\n",
       "      <td>21205.13</td>\n",
       "      <td>45377.65</td>\n",
       "      <td>69529.44</td>\n",
       "    </tr>\n",
       "    <tr>\n",
       "      <th>50</th>\n",
       "      <td>51</td>\n",
       "      <td>2298.14</td>\n",
       "      <td>315.96</td>\n",
       "      <td>1982.19</td>\n",
       "      <td>19222.94</td>\n",
       "      <td>45693.61</td>\n",
       "      <td>71511.63</td>\n",
       "    </tr>\n",
       "    <tr>\n",
       "      <th>51</th>\n",
       "      <td>52</td>\n",
       "      <td>2298.14</td>\n",
       "      <td>286.42</td>\n",
       "      <td>2011.72</td>\n",
       "      <td>17211.22</td>\n",
       "      <td>45980.03</td>\n",
       "      <td>73523.35</td>\n",
       "    </tr>\n",
       "    <tr>\n",
       "      <th>52</th>\n",
       "      <td>53</td>\n",
       "      <td>2298.14</td>\n",
       "      <td>256.45</td>\n",
       "      <td>2041.70</td>\n",
       "      <td>15169.52</td>\n",
       "      <td>46236.48</td>\n",
       "      <td>75565.05</td>\n",
       "    </tr>\n",
       "    <tr>\n",
       "      <th>53</th>\n",
       "      <td>54</td>\n",
       "      <td>2298.14</td>\n",
       "      <td>226.03</td>\n",
       "      <td>2072.12</td>\n",
       "      <td>13097.41</td>\n",
       "      <td>46462.51</td>\n",
       "      <td>77637.17</td>\n",
       "    </tr>\n",
       "    <tr>\n",
       "      <th>54</th>\n",
       "      <td>55</td>\n",
       "      <td>2298.14</td>\n",
       "      <td>195.15</td>\n",
       "      <td>2102.99</td>\n",
       "      <td>10994.42</td>\n",
       "      <td>46657.66</td>\n",
       "      <td>79740.16</td>\n",
       "    </tr>\n",
       "    <tr>\n",
       "      <th>55</th>\n",
       "      <td>56</td>\n",
       "      <td>2298.14</td>\n",
       "      <td>163.82</td>\n",
       "      <td>2134.33</td>\n",
       "      <td>8860.09</td>\n",
       "      <td>46821.48</td>\n",
       "      <td>81874.49</td>\n",
       "    </tr>\n",
       "    <tr>\n",
       "      <th>56</th>\n",
       "      <td>57</td>\n",
       "      <td>2298.14</td>\n",
       "      <td>132.02</td>\n",
       "      <td>2166.13</td>\n",
       "      <td>6693.96</td>\n",
       "      <td>46953.50</td>\n",
       "      <td>84040.62</td>\n",
       "    </tr>\n",
       "    <tr>\n",
       "      <th>57</th>\n",
       "      <td>58</td>\n",
       "      <td>2298.14</td>\n",
       "      <td>99.74</td>\n",
       "      <td>2198.40</td>\n",
       "      <td>4495.56</td>\n",
       "      <td>47053.24</td>\n",
       "      <td>86239.02</td>\n",
       "    </tr>\n",
       "    <tr>\n",
       "      <th>58</th>\n",
       "      <td>59</td>\n",
       "      <td>2298.14</td>\n",
       "      <td>66.98</td>\n",
       "      <td>2231.16</td>\n",
       "      <td>2264.40</td>\n",
       "      <td>47120.22</td>\n",
       "      <td>88470.18</td>\n",
       "    </tr>\n",
       "    <tr>\n",
       "      <th>59</th>\n",
       "      <td>60</td>\n",
       "      <td>2298.14</td>\n",
       "      <td>33.74</td>\n",
       "      <td>2264.40</td>\n",
       "      <td>-0.00</td>\n",
       "      <td>47153.96</td>\n",
       "      <td>90734.58</td>\n",
       "    </tr>\n",
       "  </tbody>\n",
       "</table>\n",
       "</div>"
      ]
     },
     "execution_count": 4,
     "metadata": {},
     "output_type": "execute_result"
    }
   ],
   "execution_count": 4
  },
  {
   "cell_type": "markdown",
   "metadata": {},
   "source": [
    "# Questão 2:"
   ]
  },
  {
   "cell_type": "markdown",
   "metadata": {},
   "source": [
    "### 2)\n",
    "- FINANCIAMENTO DE IMÓVEL VIA TABELA SAC COM A ENTRADA MÍNIMA EXIGIDA PELA INSTITUIÇÃO.\n",
    "- ANALISAR O TOTAL DE JUROS PAGOS\n",
    "- ANALISAR O PROPORCIONAL DE QUANTAS VEZES SE PAGA SOBRE O VALOR A VISTA\n",
    "- COMPROVAR A FONTE DOS DADOS NO RELATÓRIO\n",
    "\n",
    "##### Premissas:\n",
    "- Apartamento de 60 metros quadrados, centro do rio\n",
    "- Banco  de financiamento: Santander\n",
    "- Juros: 9,10% anual\n",
    "- CET: 9,77% anual\n",
    "- TR: 1% anual\n",
    "- Entrada: 20%\n",
    "- Periodo: 240 meses\n",
    "\n",
    "Fonte casa: https://www.quintoandar.com.br/imovel/893665808/comprar/apartamento-2-quartos-centro-rio-de-janeiro?from_route=%22search_results%22&house_tags=buyRented&house_tags=visualized&search_id=%22d4746a94-fb59-4f3f-b1e3-a10bc0e9e74a%22&search_rank=%7B%22sortMode%22%3A%22relevance%22%2C%22searchMode%22%3A%22list%22%2C%22resultsOrigin%22%3A%22search%22%2C%22personalization%22%3Atrue%7D\n",
    "\n",
    "Fonte financiamento: https://www.financiamento.com.br/simulador/index.php#\n"
   ]
  },
  {
   "cell_type": "code",
   "metadata": {
    "ExecuteTime": {
     "end_time": "2025-06-02T02:14:13.990270Z",
     "start_time": "2025-06-02T02:14:13.650723Z"
    }
   },
   "source": [
    "simulador_casa(cet_anual=0.0977, t=240, valor_total_bem=315000, entrada_percentual=0.2,taxa_tr_anual=0.01)"
   ],
   "outputs": [
    {
     "name": "stdout",
     "output_type": "stream",
     "text": [
      "--- Resumo da Simulação de Financiamento Imobiliário (Amortização Recalculada com CET e TR) ---\n",
      "Valor total do bem: R$315,000.00\n",
      "Entrada (20.0%): R$63,000.00\n",
      "Valor Financiado (PV): R$252,000.00\n",
      "Custo Efetivo Total (CET) Anual: 9.77% a.a.\n",
      "Taxa Referencial (TR) Anual: 1.00% a.a.\n",
      "Prazo do Financiamento: 240 meses\n",
      "--------------------------------------------------------------------\n",
      "Taxa CET Mensal (calculada): 0.779834% a.m.\n",
      "Taxa TR Mensal (calculada): 0.082954% a.m.\n",
      "--------------------------------------------------------------------\n",
      "\n",
      "Gerando gráficos da evolução do financiamento...\n"
     ]
    },
    {
     "data": {
      "application/vnd.plotly.v1+json": {
       "data": [
        {
         "hovertemplate": "Legenda=Juros Acumulados (R$)<br>Mês=%{x}<br>Valor (R$)=%{y}<extra></extra>",
         "legendgroup": "Juros Acumulados (R$)",
         "line": {
          "color": "green",
          "dash": "solid"
         },
         "marker": {
          "symbol": "circle"
         },
         "mode": "lines",
         "name": "Juros Acumulados (R$)",
         "orientation": "v",
         "showlegend": true,
         "x": {
          "dtype": "i2",
          "bdata": "AQACAAMABAAFAAYABwAIAAkACgALAAwADQAOAA8AEAARABIAEwAUABUAFgAXABgAGQAaABsAHAAdAB4AHwAgACEAIgAjACQAJQAmACcAKAApACoAKwAsAC0ALgAvADAAMQAyADMANAA1ADYANwA4ADkAOgA7ADwAPQA+AD8AQABBAEIAQwBEAEUARgBHAEgASQBKAEsATABNAE4ATwBQAFEAUgBTAFQAVQBWAFcAWABZAFoAWwBcAF0AXgBfAGAAYQBiAGMAZABlAGYAZwBoAGkAagBrAGwAbQBuAG8AcABxAHIAcwB0AHUAdgB3AHgAeQB6AHsAfAB9AH4AfwCAAIEAggCDAIQAhQCGAIcAiACJAIoAiwCMAI0AjgCPAJAAkQCSAJMAlACVAJYAlwCYAJkAmgCbAJwAnQCeAJ8AoAChAKIAowCkAKUApgCnAKgAqQCqAKsArACtAK4ArwCwALEAsgCzALQAtQC2ALcAuAC5ALoAuwC8AL0AvgC/AMAAwQDCAMMAxADFAMYAxwDIAMkAygDLAMwAzQDOAM8A0ADRANIA0wDUANUA1gDXANgA2QDaANsA3ADdAN4A3wDgAOEA4gDjAOQA5QDmAOcA6ADpAOoA6wDsAO0A7gDvAPAA"
         },
         "xaxis": "x",
         "y": {
          "dtype": "f8",
          "bdata": "CtejcD27nkCamZmZGa6uQClcj8K1+LZA7FG4HsWTvkAK16NwHRTDQFyPwvUI28ZAcD0K16OeykBRuB6F617OQAAAAADwDdFAw/UoXL/q0kA0MzMz48XUQNijcD1an9ZAr0fheiR32EA+CtejQE3aQEjhehSuIdxAUrgehWv03UBcj8L1eMXfQPYoXI9qyuBA4noUrj+x4UBTuB6FO5fiQAvXo3BdfONA7FG4HqVg5EDYo3A9EkTlQK9H4XqkJuZANDMzM1sI50BI4XoUNunnQM3MzMw0yehApHA9Cleo6UCQwvUonIbqQHE9CtcDZOtAKVyPwo1A7EB7FK5HORztQGdmZmYG9+1AkML1KPTQ7kD2KFyPAqrvQD4K16MYQfBAcT0K17+s8ECF61G49hfxQFyPwvW8gvFAZmZmZhLt8UAUrkfh9lbyQNejcD1qwPJAj8L1KGwp80A9Ctej/JHzQDMzMzMb+vNAcD0K18dh9EDWo3A9Asn0QNajcD3KL/VA4HoUrh+W9UDWo3A9Avz1QChcj8JxYfZAR+F6FG7G9kAUrkfh9ir3QAAAAAAMj/dAexSuR63y90D2KFyP2lX4QFK4HoWTuPhAAAAAANga+UDhehSup3z5QPUoXI8C3vlAj8L1KOg++kCuR+F6WJ/6QDMzMzNT//pAj8L1KNhe+0AzMzMz5737QAAAAACAHPxAZmZmZqJ6/EDXo3A9Ttj8QDMzMzODNf1A61G4HkGS/UBwPQrXh+79QKNwPQpXSv5A9Shcj66l/kBH4XoUjgD/QJmZmZn1Wv9APQrXo+S0/0CZmZmZLQcAQa1H4XqsMwBBE65H4e5fAEGE61G49IsAQXA9Cte9twBBj8L1KErjAEFSuB6FmQ4BQXE9CterOQFBpHA9CoFkAUFcj8L1GI8BQVK4HoVzuQFBPgrXo5DjAUGQwvUocA0CQQEAAAASNwJBAQAAAHZgAkFJ4XoUnIkCQZHC9SiEsgJBkcL1KC7bAkG6HoXrmQMDQX0UrkfHKwNB2aNwPbZTA0H4KFyPZnsDQdmjcD3YogNB7VG4HgvKA0HtUbge//ADQUnhehS0FwRBuh6F6yk+BEGwR+F6YGQEQStcj8JXigRBVLgehQ+wBEErXI/Ch9UEQSGF61HA+gRBpnA9CrkfBUFzPQrXcUQFQUAK16PqaAVBfRSuRyONBUHjehSuG7EFQStcj8LT1AVBxfUoXEv4BUEhhetRghsGQfgoXI94PgZBAgAAAC5hBkH4KFyPooMGQUrhehTWpQZBaWZmZsjHBkEN16NweekGQe5RuB7pCgdBfRSuRxcsB0FzPQrXA00HQUAK16OubQdBnJmZmReOB0FACtejPq4HQZyZmZkjzgdBaWZmZsbtB0EXrkfhJg0IQV+PwvVELAhBsUfheiBLCEHF9ShcuWkIQQ3Xo3APiAhBQArXoyKmCEEXrkfh8sMIQQMAAACA4QhBdD0K18n+CEEihetR0BsJQcb1KFyTOAlB0MzMzBJVCUH5KFyPTnEJQbFH4XpGjQlBsUfhevqoCUFpZmZmasQJQZLC9SiW3wlB5HoUrn36CUHQzMzMIBUKQcb1KFx/LwpBfhSuR5lJCkFqZmZmbmMKQUEK16P+fApBvB6F60mWCkFL4XoUUK8KQadwPQoRyApBQQrXo4zgCkGJ61G4wvgKQTczMzOzEAtBBAAAAF4oC0Fgj8L1wj8LQbwehevhVgtB0MzMzLptC0FVuB6FTYQLQbseheuZmgtBcz0K15+wC0E2MzMzX8YLQbsehevX2wtBcz0K1wnxC0HPzMzM9AUMQYfrUbiYGgxBVLgehfUuDEGmcD0KC0MMQe5RuB7ZVgxB5HoUrl9qDEH4KFyPnn0MQeR6FK6VkAxBX4/C9USjDEGSwvUorLUMQX4UrkfLxwxBS+F6FKLZDEGxR+F6MOsMQWlmZmZ2/AxB5HoUrnMNDUHao3A9KB4NQXQ9CteTLg1BsUfherY+DUEDAAAAkE4NQdqjcD0gXg1B7lG4HmdtDUGxR+F6ZHwNQdqjcD0Yiw1B2qNwPYKZDUEihetRoqcNQWpmZmZ4tQ1BamZmZgTDDUGTwvUoRtANQVa4HoU93Q1BamZmZurpDUFBCtejTPYNQUvhehRkAg5BQQrXozAODkHbo3A9shkOQUEK16PoJA5BdD0K19MvDkGdmZmZczoOQXQ9CtfHRA5BsUfhetBODkHF9ShcjVgOQSGF61H+YQ5BfRSuRyNrDkFK4XoU/HMOQfgoXI+IfA5BQArXo8iEDkGSwvUovIwOQaZwPQpjlA5B7lG4Hr2bDkHao3A9yqIOQSKF61GKqQ5BNjMzM/2vDkHQzMzMIrYOQV+PwvX6uw5BVbgehYXBDkFpZmZmwsYOQQ3Xo3Cxyw5B+Shcj1LQDkGdmZmZpdQOQWpmZmaq2A5BGK5H4WDcDkEYrkfhyN8OQdujcD3i4g5BGK5H4azlDkFBCtejKOgOQcb1KFxV6g5BYI/C9TLsDkF/FK5Hwe0OQdujcD0A7w5BnpmZme/vDkHH9Shcj/AOQX8Urkff8A5B"
         },
         "yaxis": "y",
         "type": "scatter"
        },
        {
         "hovertemplate": "Legenda=Amortização Acumulada (R$)<br>Mês=%{x}<br>Valor (R$)=%{y}<extra></extra>",
         "legendgroup": "Amortização Acumulada (R$)",
         "line": {
          "color": "blue",
          "dash": "solid"
         },
         "marker": {
          "symbol": "circle"
         },
         "mode": "lines",
         "name": "Amortização Acumulada (R$)",
         "orientation": "v",
         "showlegend": true,
         "x": {
          "dtype": "i2",
          "bdata": "AQACAAMABAAFAAYABwAIAAkACgALAAwADQAOAA8AEAARABIAEwAUABUAFgAXABgAGQAaABsAHAAdAB4AHwAgACEAIgAjACQAJQAmACcAKAApACoAKwAsAC0ALgAvADAAMQAyADMANAA1ADYANwA4ADkAOgA7ADwAPQA+AD8AQABBAEIAQwBEAEUARgBHAEgASQBKAEsATABNAE4ATwBQAFEAUgBTAFQAVQBWAFcAWABZAFoAWwBcAF0AXgBfAGAAYQBiAGMAZABlAGYAZwBoAGkAagBrAGwAbQBuAG8AcABxAHIAcwB0AHUAdgB3AHgAeQB6AHsAfAB9AH4AfwCAAIEAggCDAIQAhQCGAIcAiACJAIoAiwCMAI0AjgCPAJAAkQCSAJMAlACVAJYAlwCYAJkAmgCbAJwAnQCeAJ8AoAChAKIAowCkAKUApgCnAKgAqQCqAKsArACtAK4ArwCwALEAsgCzALQAtQC2ALcAuAC5ALoAuwC8AL0AvgC/AMAAwQDCAMMAxADFAMYAxwDIAMkAygDLAMwAzQDOAM8A0ADRANIA0wDUANUA1gDXANgA2QDaANsA3ADdAN4A3wDgAOEA4gDjAOQA5QDmAOcA6ADpAOoA6wDsAO0A7gDvAPAA"
         },
         "xaxis": "x",
         "y": {
          "dtype": "f8",
          "bdata": "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"
         },
         "yaxis": "y",
         "type": "scatter"
        },
        {
         "hovertemplate": "Legenda=Correção TR Acumulada (R$)<br>Mês=%{x}<br>Valor (R$)=%{y}<extra></extra>",
         "legendgroup": "Correção TR Acumulada (R$)",
         "line": {
          "color": "orange",
          "dash": "solid"
         },
         "marker": {
          "symbol": "circle"
         },
         "mode": "lines",
         "name": "Correção TR Acumulada (R$)",
         "orientation": "v",
         "showlegend": true,
         "x": {
          "dtype": "i2",
          "bdata": "AQACAAMABAAFAAYABwAIAAkACgALAAwADQAOAA8AEAARABIAEwAUABUAFgAXABgAGQAaABsAHAAdAB4AHwAgACEAIgAjACQAJQAmACcAKAApACoAKwAsAC0ALgAvADAAMQAyADMANAA1ADYANwA4ADkAOgA7ADwAPQA+AD8AQABBAEIAQwBEAEUARgBHAEgASQBKAEsATABNAE4ATwBQAFEAUgBTAFQAVQBWAFcAWABZAFoAWwBcAF0AXgBfAGAAYQBiAGMAZABlAGYAZwBoAGkAagBrAGwAbQBuAG8AcABxAHIAcwB0AHUAdgB3AHgAeQB6AHsAfAB9AH4AfwCAAIEAggCDAIQAhQCGAIcAiACJAIoAiwCMAI0AjgCPAJAAkQCSAJMAlACVAJYAlwCYAJkAmgCbAJwAnQCeAJ8AoAChAKIAowCkAKUApgCnAKgAqQCqAKsArACtAK4ArwCwALEAsgCzALQAtQC2ALcAuAC5ALoAuwC8AL0AvgC/AMAAwQDCAMMAxADFAMYAxwDIAMkAygDLAMwAzQDOAM8A0ADRANIA0wDUANUA1gDXANgA2QDaANsA3ADdAN4A3wDgAOEA4gDjAOQA5QDmAOcA6ADpAOoA6wDsAO0A7gDvAPAA"
         },
         "xaxis": "x",
         "y": {
          "dtype": "f8",
          "bdata": "4XoUrkchakAK16NwPRZ6QLgehetRiINApHA9Ctf/iUB7FK5H4TiQQNejcD0Kb5NAj8L1KFyilkB6FK5H4dKZQML1KFyPAJ1AMzMzM7MVoEAzMzMzs6mhQOF6FK5HPKNAPQrXo3DNpEBcj8L1KF2mQClcj8J166dAuB6F61F4qUAK16NwvQOrQB6F61G4jaxA9Shcj0IWrkCPwvUoXJ2vQPYoXI+CkbBAkML1KJxTsUAL16Nw/RSyQHE9Ctej1bJAw/UoXI+Vs0AAAAAAwFS0QClcj8I1E7VAPQrXo/DQtUBH4XoU7o22QD0K16MwSrdAKVyPwrUFuEAK16NwfcC4QOF6FK6HerlArkfhetQzukBxPQrXY+y6QClcj8I1pLtA4XoUrkdbvECZmZmZmRG9QEfhehQux71A9ShcjwJ8vkCjcD0KFzC/QFG4HoVr479AhetRuP5KwEDhehSu56PAQML1KFxv/MBAo3A9CpdUwUAJ16NwXazBQPUoXI/CA8JAZmZmZsZawkDhehSuZ7HCQOF6FK6nB8NA61G4HoVdw0B6FK5HAbPDQBSuR+EaCMRAuB6F69FcxEBmZmZmJrHEQKNwPQoXBcVA61G4HqVYxUA9Ctej0KvFQB6F61GY/sVAj8L1KPxQxkCPwvUo/KLGQB6F61GY9MZAPQrXo9BFx0BwPQrXo5bHQDMzMzMT58dACtejcB03yED2KFyPwobIQPYoXI8C1shACtejcN0kyUAzMzMzU3PJQHA9CtdjwclAR+F6FA4PykAzMzMzU1zKQLgehesxqcpA16NwPar1ykCPwvUovEHLQOF6FK5njctAUrgehavYy0Bcj8L1iCPMQIXrUbj+bcxAzczMzAy4zEAzMzMzswHNQLgehevxSs1AXI/C9ciTzUAfhetRONzNQIXrUbg+JM5Aj8L1KNxrzkC4HoXrEbPOQIXrUbje+c5A9ihcj0JAz0CQwvUoPIbPQM3MzMzMy89AmpmZmXkI0EAfhetR2CrQQLkehesBTdBAZ2ZmZvZu0EAqXI/CtZDQQMT1KFw/stBAcj0K15PT0ED3KFyPsvTQQJHC9SicFdFAAgAAAFA20UBK4XoUzlbRQGlmZmYWd9FAIYXrUSiX0UCwR+F6BLfRQNmjcD2q1tFA2aNwPRr20UBzPQrXUxXSQKZwPQpXNNJANTMzMyNT0kBej8L1uHHSQON6FK4XkNJAAgAAAECu0kB9FK5HMczSQFS4HoXr6dJAh+tRuG4H00AWrkfhuiTTQMT1KFzPQdNAzszMzKxe00D3KFyPUnvTQD8K16PAl9NApXA9Cvez00AqXI/C9c/TQM7MzMy869NAU7gehUsH1EC5HoXroSLUQD4K16PAPdRApHA9CqdY1EDsUbgeVXPUQNijcD3KjdRApXA9Cgeo1EAWrkfhCsLUQGhmZmbW29RAXo/C9Wj11ED4KFyPwg7VQDUzMzPjJ9VA2aNwPcpA1UAhhetReFnVQM/MzMzscdVAIYXrUSiK1UDZo3A9KqLVQLoehevxudVAAgAAAIDR1UCwR+F61OjVQIfrUbju/9VAxPUoXM8W1kAqXI/CdS3WQLkehevhQ9ZANDMzMxNa1kDYo3A9CnDWQKVwPQrHhdZAXY/C9Uib1kABAAAAkLDWQJDC9SicxdZAC9ejcG3a1kBxPQrXA+/WQIXrUbheA9dASOF6FH4X10D2KFyPYivXQFK4HoULP9dAXI/C9XhS10DXo3A9qmXXQAAAAACgeNdAmpmZmVmL10DiehSu153XQJqZmZkZsNdAw/UoXB/C10AfhetR6NPXQOxRuB515ddAKVyPwsX210CamZmZ2QfYQD4K16OwGNhAFa5H4Uop2EAfhetRqDnYQB+F61HISdhAUrgehatZ2EB7FK5HUWnYQJqZmZm5eNhArkfheuSH2EC4HoXr0ZbYQLgeheuBpdhAcD0K1/Oz2EAehetRKMLYQITrUbge0NhAo3A9Ctfd2EB6FK5HUevYQMzMzMyM+NhA1qNwPYoF2UBbj8L1SBLZQFuPwvXIHtlA1qNwPQor2UDMzMzMDDfZQD0K16PQQtlA61G4HlVO2UAUrkfhmlnZQHoUrkehZNlAHoXrUWhv2UD/////73nZQB6F61E4hNlAPQrXo0CO2UBcj8L1CJjZQLgeheuRodlAFK5H4dqq2UAzMzMz47PZQFK4HoWrvNlAcT0K1zPF2UBSuB6Fe83ZQPYoXI+C1dlAXI/C9Ujd2UCF61G4zuTZQHE9CtcT7NlA4noUrhfz2UDYo3A92vnZQFO4HoVbANpAU7gehZsG2kDYo3A9mgzaQOJ6FK5XEtpANDMzM9MX2kAL16NwDR3aQCpcj8IFItpAkML1KLwm2kABAAAAMCvaQLkehethL9pAfBSuR1Ez2kCG61G4/jbaQJqZmZlpOtpAuR6F65E92kClcD0Kd0DaQJuZmZkZQ9pAXo/C9XhF2kArXI/ClUfaQMX1KFxvSdpAK1yPwgVL2kAhhetRWEzaQOR6FK5nTdpANjMzMzNO2kAXrkfhuk7aQIjrUbj+TtpA"
         },
         "yaxis": "y",
         "type": "scatter"
        },
        {
         "hovertemplate": "Legenda=Saldo Devedor Final (R$)<br>Mês=%{x}<br>Valor (R$)=%{y}<extra></extra>",
         "legendgroup": "Saldo Devedor Final (R$)",
         "line": {
          "color": "red",
          "dash": "solid"
         },
         "marker": {
          "symbol": "circle"
         },
         "mode": "lines",
         "name": "Saldo Devedor Final (R$)",
         "orientation": "v",
         "showlegend": true,
         "x": {
          "dtype": "i2",
          "bdata": "AQACAAMABAAFAAYABwAIAAkACgALAAwADQAOAA8AEAARABIAEwAUABUAFgAXABgAGQAaABsAHAAdAB4AHwAgACEAIgAjACQAJQAmACcAKAApACoAKwAsAC0ALgAvADAAMQAyADMANAA1ADYANwA4ADkAOgA7ADwAPQA+AD8AQABBAEIAQwBEAEUARgBHAEgASQBKAEsATABNAE4ATwBQAFEAUgBTAFQAVQBWAFcAWABZAFoAWwBcAF0AXgBfAGAAYQBiAGMAZABlAGYAZwBoAGkAagBrAGwAbQBuAG8AcABxAHIAcwB0AHUAdgB3AHgAeQB6AHsAfAB9AH4AfwCAAIEAggCDAIQAhQCGAIcAiACJAIoAiwCMAI0AjgCPAJAAkQCSAJMAlACVAJYAlwCYAJkAmgCbAJwAnQCeAJ8AoAChAKIAowCkAKUApgCnAKgAqQCqAKsArACtAK4ArwCwALEAsgCzALQAtQC2ALcAuAC5ALoAuwC8AL0AvgC/AMAAwQDCAMMAxADFAMYAxwDIAMkAygDLAMwAzQDOAM8A0ADRANIA0wDUANUA1gDXANgA2QDaANsA3ADdAN4A3wDgAOEA4gDjAOQA5QDmAOcA6ADpAOoA6wDsAO0A7gDvAPAA"
         },
         "xaxis": "x",
         "y": {
          "dtype": "f8",
          "bdata": "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"
         },
         "yaxis": "y",
         "type": "scatter"
        }
       ],
       "layout": {
        "template": {
         "data": {
          "histogram2dcontour": [
           {
            "type": "histogram2dcontour",
            "colorbar": {
             "outlinewidth": 0,
             "ticks": ""
            },
            "colorscale": [
             [
              0.0,
              "#0d0887"
             ],
             [
              0.1111111111111111,
              "#46039f"
             ],
             [
              0.2222222222222222,
              "#7201a8"
             ],
             [
              0.3333333333333333,
              "#9c179e"
             ],
             [
              0.4444444444444444,
              "#bd3786"
             ],
             [
              0.5555555555555556,
              "#d8576b"
             ],
             [
              0.6666666666666666,
              "#ed7953"
             ],
             [
              0.7777777777777778,
              "#fb9f3a"
             ],
             [
              0.8888888888888888,
              "#fdca26"
             ],
             [
              1.0,
              "#f0f921"
             ]
            ]
           }
          ],
          "choropleth": [
           {
            "type": "choropleth",
            "colorbar": {
             "outlinewidth": 0,
             "ticks": ""
            }
           }
          ],
          "histogram2d": [
           {
            "type": "histogram2d",
            "colorbar": {
             "outlinewidth": 0,
             "ticks": ""
            },
            "colorscale": [
             [
              0.0,
              "#0d0887"
             ],
             [
              0.1111111111111111,
              "#46039f"
             ],
             [
              0.2222222222222222,
              "#7201a8"
             ],
             [
              0.3333333333333333,
              "#9c179e"
             ],
             [
              0.4444444444444444,
              "#bd3786"
             ],
             [
              0.5555555555555556,
              "#d8576b"
             ],
             [
              0.6666666666666666,
              "#ed7953"
             ],
             [
              0.7777777777777778,
              "#fb9f3a"
             ],
             [
              0.8888888888888888,
              "#fdca26"
             ],
             [
              1.0,
              "#f0f921"
             ]
            ]
           }
          ],
          "heatmap": [
           {
            "type": "heatmap",
            "colorbar": {
             "outlinewidth": 0,
             "ticks": ""
            },
            "colorscale": [
             [
              0.0,
              "#0d0887"
             ],
             [
              0.1111111111111111,
              "#46039f"
             ],
             [
              0.2222222222222222,
              "#7201a8"
             ],
             [
              0.3333333333333333,
              "#9c179e"
             ],
             [
              0.4444444444444444,
              "#bd3786"
             ],
             [
              0.5555555555555556,
              "#d8576b"
             ],
             [
              0.6666666666666666,
              "#ed7953"
             ],
             [
              0.7777777777777778,
              "#fb9f3a"
             ],
             [
              0.8888888888888888,
              "#fdca26"
             ],
             [
              1.0,
              "#f0f921"
             ]
            ]
           }
          ],
          "contourcarpet": [
           {
            "type": "contourcarpet",
            "colorbar": {
             "outlinewidth": 0,
             "ticks": ""
            }
           }
          ],
          "contour": [
           {
            "type": "contour",
            "colorbar": {
             "outlinewidth": 0,
             "ticks": ""
            },
            "colorscale": [
             [
              0.0,
              "#0d0887"
             ],
             [
              0.1111111111111111,
              "#46039f"
             ],
             [
              0.2222222222222222,
              "#7201a8"
             ],
             [
              0.3333333333333333,
              "#9c179e"
             ],
             [
              0.4444444444444444,
              "#bd3786"
             ],
             [
              0.5555555555555556,
              "#d8576b"
             ],
             [
              0.6666666666666666,
              "#ed7953"
             ],
             [
              0.7777777777777778,
              "#fb9f3a"
             ],
             [
              0.8888888888888888,
              "#fdca26"
             ],
             [
              1.0,
              "#f0f921"
             ]
            ]
           }
          ],
          "surface": [
           {
            "type": "surface",
            "colorbar": {
             "outlinewidth": 0,
             "ticks": ""
            },
            "colorscale": [
             [
              0.0,
              "#0d0887"
             ],
             [
              0.1111111111111111,
              "#46039f"
             ],
             [
              0.2222222222222222,
              "#7201a8"
             ],
             [
              0.3333333333333333,
              "#9c179e"
             ],
             [
              0.4444444444444444,
              "#bd3786"
             ],
             [
              0.5555555555555556,
              "#d8576b"
             ],
             [
              0.6666666666666666,
              "#ed7953"
             ],
             [
              0.7777777777777778,
              "#fb9f3a"
             ],
             [
              0.8888888888888888,
              "#fdca26"
             ],
             [
              1.0,
              "#f0f921"
             ]
            ]
           }
          ],
          "mesh3d": [
           {
            "type": "mesh3d",
            "colorbar": {
             "outlinewidth": 0,
             "ticks": ""
            }
           }
          ],
          "scatter": [
           {
            "marker": {
             "line": {
              "color": "#283442"
             }
            },
            "type": "scatter"
           }
          ],
          "parcoords": [
           {
            "type": "parcoords",
            "line": {
             "colorbar": {
              "outlinewidth": 0,
              "ticks": ""
             }
            }
           }
          ],
          "scatterpolargl": [
           {
            "type": "scatterpolargl",
            "marker": {
             "colorbar": {
              "outlinewidth": 0,
              "ticks": ""
             }
            }
           }
          ],
          "bar": [
           {
            "error_x": {
             "color": "#f2f5fa"
            },
            "error_y": {
             "color": "#f2f5fa"
            },
            "marker": {
             "line": {
              "color": "rgb(17,17,17)",
              "width": 0.5
             },
             "pattern": {
              "fillmode": "overlay",
              "size": 10,
              "solidity": 0.2
             }
            },
            "type": "bar"
           }
          ],
          "scattergeo": [
           {
            "type": "scattergeo",
            "marker": {
             "colorbar": {
              "outlinewidth": 0,
              "ticks": ""
             }
            }
           }
          ],
          "scatterpolar": [
           {
            "type": "scatterpolar",
            "marker": {
             "colorbar": {
              "outlinewidth": 0,
              "ticks": ""
             }
            }
           }
          ],
          "histogram": [
           {
            "marker": {
             "pattern": {
              "fillmode": "overlay",
              "size": 10,
              "solidity": 0.2
             }
            },
            "type": "histogram"
           }
          ],
          "scattergl": [
           {
            "marker": {
             "line": {
              "color": "#283442"
             }
            },
            "type": "scattergl"
           }
          ],
          "scatter3d": [
           {
            "type": "scatter3d",
            "line": {
             "colorbar": {
              "outlinewidth": 0,
              "ticks": ""
             }
            },
            "marker": {
             "colorbar": {
              "outlinewidth": 0,
              "ticks": ""
             }
            }
           }
          ],
          "scattermap": [
           {
            "type": "scattermap",
            "marker": {
             "colorbar": {
              "outlinewidth": 0,
              "ticks": ""
             }
            }
           }
          ],
          "scattermapbox": [
           {
            "type": "scattermapbox",
            "marker": {
             "colorbar": {
              "outlinewidth": 0,
              "ticks": ""
             }
            }
           }
          ],
          "scatterternary": [
           {
            "type": "scatterternary",
            "marker": {
             "colorbar": {
              "outlinewidth": 0,
              "ticks": ""
             }
            }
           }
          ],
          "scattercarpet": [
           {
            "type": "scattercarpet",
            "marker": {
             "colorbar": {
              "outlinewidth": 0,
              "ticks": ""
             }
            }
           }
          ],
          "carpet": [
           {
            "aaxis": {
             "endlinecolor": "#A2B1C6",
             "gridcolor": "#506784",
             "linecolor": "#506784",
             "minorgridcolor": "#506784",
             "startlinecolor": "#A2B1C6"
            },
            "baxis": {
             "endlinecolor": "#A2B1C6",
             "gridcolor": "#506784",
             "linecolor": "#506784",
             "minorgridcolor": "#506784",
             "startlinecolor": "#A2B1C6"
            },
            "type": "carpet"
           }
          ],
          "table": [
           {
            "cells": {
             "fill": {
              "color": "#506784"
             },
             "line": {
              "color": "rgb(17,17,17)"
             }
            },
            "header": {
             "fill": {
              "color": "#2a3f5f"
             },
             "line": {
              "color": "rgb(17,17,17)"
             }
            },
            "type": "table"
           }
          ],
          "barpolar": [
           {
            "marker": {
             "line": {
              "color": "rgb(17,17,17)",
              "width": 0.5
             },
             "pattern": {
              "fillmode": "overlay",
              "size": 10,
              "solidity": 0.2
             }
            },
            "type": "barpolar"
           }
          ],
          "pie": [
           {
            "automargin": true,
            "type": "pie"
           }
          ]
         },
         "layout": {
          "autotypenumbers": "strict",
          "colorway": [
           "#636efa",
           "#EF553B",
           "#00cc96",
           "#ab63fa",
           "#FFA15A",
           "#19d3f3",
           "#FF6692",
           "#B6E880",
           "#FF97FF",
           "#FECB52"
          ],
          "font": {
           "color": "#f2f5fa"
          },
          "hovermode": "closest",
          "hoverlabel": {
           "align": "left"
          },
          "paper_bgcolor": "rgb(17,17,17)",
          "plot_bgcolor": "rgb(17,17,17)",
          "polar": {
           "bgcolor": "rgb(17,17,17)",
           "angularaxis": {
            "gridcolor": "#506784",
            "linecolor": "#506784",
            "ticks": ""
           },
           "radialaxis": {
            "gridcolor": "#506784",
            "linecolor": "#506784",
            "ticks": ""
           }
          },
          "ternary": {
           "bgcolor": "rgb(17,17,17)",
           "aaxis": {
            "gridcolor": "#506784",
            "linecolor": "#506784",
            "ticks": ""
           },
           "baxis": {
            "gridcolor": "#506784",
            "linecolor": "#506784",
            "ticks": ""
           },
           "caxis": {
            "gridcolor": "#506784",
            "linecolor": "#506784",
            "ticks": ""
           }
          },
          "coloraxis": {
           "colorbar": {
            "outlinewidth": 0,
            "ticks": ""
           }
          },
          "colorscale": {
           "sequential": [
            [
             0.0,
             "#0d0887"
            ],
            [
             0.1111111111111111,
             "#46039f"
            ],
            [
             0.2222222222222222,
             "#7201a8"
            ],
            [
             0.3333333333333333,
             "#9c179e"
            ],
            [
             0.4444444444444444,
             "#bd3786"
            ],
            [
             0.5555555555555556,
             "#d8576b"
            ],
            [
             0.6666666666666666,
             "#ed7953"
            ],
            [
             0.7777777777777778,
             "#fb9f3a"
            ],
            [
             0.8888888888888888,
             "#fdca26"
            ],
            [
             1.0,
             "#f0f921"
            ]
           ],
           "sequentialminus": [
            [
             0.0,
             "#0d0887"
            ],
            [
             0.1111111111111111,
             "#46039f"
            ],
            [
             0.2222222222222222,
             "#7201a8"
            ],
            [
             0.3333333333333333,
             "#9c179e"
            ],
            [
             0.4444444444444444,
             "#bd3786"
            ],
            [
             0.5555555555555556,
             "#d8576b"
            ],
            [
             0.6666666666666666,
             "#ed7953"
            ],
            [
             0.7777777777777778,
             "#fb9f3a"
            ],
            [
             0.8888888888888888,
             "#fdca26"
            ],
            [
             1.0,
             "#f0f921"
            ]
           ],
           "diverging": [
            [
             0,
             "#8e0152"
            ],
            [
             0.1,
             "#c51b7d"
            ],
            [
             0.2,
             "#de77ae"
            ],
            [
             0.3,
             "#f1b6da"
            ],
            [
             0.4,
             "#fde0ef"
            ],
            [
             0.5,
             "#f7f7f7"
            ],
            [
             0.6,
             "#e6f5d0"
            ],
            [
             0.7,
             "#b8e186"
            ],
            [
             0.8,
             "#7fbc41"
            ],
            [
             0.9,
             "#4d9221"
            ],
            [
             1,
             "#276419"
            ]
           ]
          },
          "xaxis": {
           "gridcolor": "#283442",
           "linecolor": "#506784",
           "ticks": "",
           "title": {
            "standoff": 15
           },
           "zerolinecolor": "#283442",
           "automargin": true,
           "zerolinewidth": 2
          },
          "yaxis": {
           "gridcolor": "#283442",
           "linecolor": "#506784",
           "ticks": "",
           "title": {
            "standoff": 15
           },
           "zerolinecolor": "#283442",
           "automargin": true,
           "zerolinewidth": 2
          },
          "scene": {
           "xaxis": {
            "backgroundcolor": "rgb(17,17,17)",
            "gridcolor": "#506784",
            "linecolor": "#506784",
            "showbackground": true,
            "ticks": "",
            "zerolinecolor": "#C8D4E3",
            "gridwidth": 2
           },
           "yaxis": {
            "backgroundcolor": "rgb(17,17,17)",
            "gridcolor": "#506784",
            "linecolor": "#506784",
            "showbackground": true,
            "ticks": "",
            "zerolinecolor": "#C8D4E3",
            "gridwidth": 2
           },
           "zaxis": {
            "backgroundcolor": "rgb(17,17,17)",
            "gridcolor": "#506784",
            "linecolor": "#506784",
            "showbackground": true,
            "ticks": "",
            "zerolinecolor": "#C8D4E3",
            "gridwidth": 2
           }
          },
          "shapedefaults": {
           "line": {
            "color": "#f2f5fa"
           }
          },
          "annotationdefaults": {
           "arrowcolor": "#f2f5fa",
           "arrowhead": 0,
           "arrowwidth": 1
          },
          "geo": {
           "bgcolor": "rgb(17,17,17)",
           "landcolor": "rgb(17,17,17)",
           "subunitcolor": "#506784",
           "showland": true,
           "showlakes": true,
           "lakecolor": "rgb(17,17,17)"
          },
          "title": {
           "x": 0.05
          },
          "updatemenudefaults": {
           "bgcolor": "#506784",
           "borderwidth": 0
          },
          "sliderdefaults": {
           "bgcolor": "#C8D4E3",
           "borderwidth": 1,
           "bordercolor": "rgb(17,17,17)",
           "tickwidth": 0
          },
          "mapbox": {
           "style": "dark"
          }
         }
        },
        "xaxis": {
         "anchor": "y",
         "domain": [
          0.0,
          1.0
         ],
         "title": {
          "text": "Mês"
         }
        },
        "yaxis": {
         "anchor": "x",
         "domain": [
          0.0,
          1.0
         ],
         "title": {
          "text": "Valor (R$)"
         }
        },
        "legend": {
         "title": {
          "text": "Legenda"
         },
         "tracegroupgap": 0
        },
        "title": {
         "text": "Evolução do Financiamento (SAC com TR)"
        }
       },
       "config": {
        "plotlyServerURL": "https://plot.ly"
       }
      }
     },
     "metadata": {},
     "output_type": "display_data"
    },
    {
     "data": {
      "text/plain": [
       "<Figure size 1400x700 with 1 Axes>"
      ],
      "image/png": "[encoded data removed]"
     },
     "metadata": {},
     "output_type": "display_data"
    },
    {
     "name": "stdout",
     "output_type": "stream",
     "text": [
      "\n",
      "--- Resultados Finais da Simulação ---\n",
      "Total pago em prestações: R$532,407.82\n",
      "Valor total pago (incluindo entrada): R$595,407.82\n",
      "Relação (Total pago / Valor do bem): 1.89\n",
      "O financiamento foi quitado ao final do período.\n",
      "--------------------------------------\n",
      "\n",
      "Tabela detalhada salva como 'simulador_casa.xlsx'.\n"
     ]
    },
    {
     "data": {
      "text/plain": [
       "     Mês  Saldo Devedor Inicial (R$)  Correção TR (R$)  \\\n",
       "0      1                   252000.00            209.04   \n",
       "1      2                   251158.17            208.35   \n",
       "2      3                   250314.78            207.65   \n",
       "3      4                   249469.81            206.94   \n",
       "4      5                   248623.26            206.24   \n",
       "..   ...                         ...               ...   \n",
       "235  236                     6379.49              5.29   \n",
       "236  237                     5107.83              4.24   \n",
       "237  238                     3834.05              3.18   \n",
       "238  239                     2558.15              2.12   \n",
       "239  240                     1280.14              1.06   \n",
       "\n",
       "     Saldo Devedor Pós-TR (R$)  Parcela de Juros (R$)  \\\n",
       "0                    252209.04                1966.81   \n",
       "1                    251366.52                1960.24   \n",
       "2                    250522.42                1953.66   \n",
       "3                    249676.75                1947.06   \n",
       "4                    248829.50                1940.46   \n",
       "..                         ...                    ...   \n",
       "235                    6384.79                  49.79   \n",
       "236                    5112.07                  39.87   \n",
       "237                    3837.23                  29.92   \n",
       "238                    2560.28                  19.97   \n",
       "239                    1281.20                   9.99   \n",
       "\n",
       "     Amortização do Principal (R$)  Prestação Mensal (R$)  \\\n",
       "0                          1050.87                3017.68   \n",
       "1                          1051.74                3011.98   \n",
       "2                          1052.62                3006.27   \n",
       "3                          1053.49                3000.55   \n",
       "4                          1054.36                2994.82   \n",
       "..                             ...                    ...   \n",
       "235                        1276.96                1326.75   \n",
       "236                        1278.02                1317.88   \n",
       "237                        1279.08                1309.00   \n",
       "238                        1280.14                1300.10   \n",
       "239                        1281.20                1291.19   \n",
       "\n",
       "     Saldo Devedor Final (R$)  Juros Acumulados (R$)  \\\n",
       "0                   251158.17                1966.81   \n",
       "1                   250314.78                3927.05   \n",
       "2                   249469.81                5880.71   \n",
       "3                   248623.26                7827.77   \n",
       "4                   247775.14                9768.23   \n",
       "..                        ...                    ...   \n",
       "235                   5107.83              253368.16   \n",
       "236                   3834.05              253408.03   \n",
       "237                   2558.15              253437.95   \n",
       "238                   1280.14              253457.92   \n",
       "239                      0.00              253467.91   \n",
       "\n",
       "     Amortização Acumulada (R$)  Correção TR Acumulada (R$)  \n",
       "0                       1050.87                      209.04  \n",
       "1                       2102.61                      417.39  \n",
       "2                       3155.23                      625.04  \n",
       "3                       4208.72                      831.98  \n",
       "4                       5263.08                     1038.22  \n",
       "..                          ...                         ...  \n",
       "235                   273821.52                    26929.38  \n",
       "236                   275099.54                    26933.62  \n",
       "237                   276378.62                    26936.80  \n",
       "238                   277658.76                    26938.92  \n",
       "239                   278939.96                    26939.98  \n",
       "\n",
       "[240 rows x 11 columns]"
      ],
      "text/html": [
       "<div>\n",
       "<style scoped>\n",
       "    .dataframe tbody tr th:only-of-type {\n",
       "        vertical-align: middle;\n",
       "    }\n",
       "\n",
       "    .dataframe tbody tr th {\n",
       "        vertical-align: top;\n",
       "    }\n",
       "\n",
       "    .dataframe thead th {\n",
       "        text-align: right;\n",
       "    }\n",
       "</style>\n",
       "<table border=\"1\" class=\"dataframe\">\n",
       "  <thead>\n",
       "    <tr style=\"text-align: right;\">\n",
       "      <th></th>\n",
       "      <th>Mês</th>\n",
       "      <th>Saldo Devedor Inicial (R$)</th>\n",
       "      <th>Correção TR (R$)</th>\n",
       "      <th>Saldo Devedor Pós-TR (R$)</th>\n",
       "      <th>Parcela de Juros (R$)</th>\n",
       "      <th>Amortização do Principal (R$)</th>\n",
       "      <th>Prestação Mensal (R$)</th>\n",
       "      <th>Saldo Devedor Final (R$)</th>\n",
       "      <th>Juros Acumulados (R$)</th>\n",
       "      <th>Amortização Acumulada (R$)</th>\n",
       "      <th>Correção TR Acumulada (R$)</th>\n",
       "    </tr>\n",
       "  </thead>\n",
       "  <tbody>\n",
       "    <tr>\n",
       "      <th>0</th>\n",
       "      <td>1</td>\n",
       "      <td>252000.00</td>\n",
       "      <td>209.04</td>\n",
       "      <td>252209.04</td>\n",
       "      <td>1966.81</td>\n",
       "      <td>1050.87</td>\n",
       "      <td>3017.68</td>\n",
       "      <td>251158.17</td>\n",
       "      <td>1966.81</td>\n",
       "      <td>1050.87</td>\n",
       "      <td>209.04</td>\n",
       "    </tr>\n",
       "    <tr>\n",
       "      <th>1</th>\n",
       "      <td>2</td>\n",
       "      <td>251158.17</td>\n",
       "      <td>208.35</td>\n",
       "      <td>251366.52</td>\n",
       "      <td>1960.24</td>\n",
       "      <td>1051.74</td>\n",
       "      <td>3011.98</td>\n",
       "      <td>250314.78</td>\n",
       "      <td>3927.05</td>\n",
       "      <td>2102.61</td>\n",
       "      <td>417.39</td>\n",
       "    </tr>\n",
       "    <tr>\n",
       "      <th>2</th>\n",
       "      <td>3</td>\n",
       "      <td>250314.78</td>\n",
       "      <td>207.65</td>\n",
       "      <td>250522.42</td>\n",
       "      <td>1953.66</td>\n",
       "      <td>1052.62</td>\n",
       "      <td>3006.27</td>\n",
       "      <td>249469.81</td>\n",
       "      <td>5880.71</td>\n",
       "      <td>3155.23</td>\n",
       "      <td>625.04</td>\n",
       "    </tr>\n",
       "    <tr>\n",
       "      <th>3</th>\n",
       "      <td>4</td>\n",
       "      <td>249469.81</td>\n",
       "      <td>206.94</td>\n",
       "      <td>249676.75</td>\n",
       "      <td>1947.06</td>\n",
       "      <td>1053.49</td>\n",
       "      <td>3000.55</td>\n",
       "      <td>248623.26</td>\n",
       "      <td>7827.77</td>\n",
       "      <td>4208.72</td>\n",
       "      <td>831.98</td>\n",
       "    </tr>\n",
       "    <tr>\n",
       "      <th>4</th>\n",
       "      <td>5</td>\n",
       "      <td>248623.26</td>\n",
       "      <td>206.24</td>\n",
       "      <td>248829.50</td>\n",
       "      <td>1940.46</td>\n",
       "      <td>1054.36</td>\n",
       "      <td>2994.82</td>\n",
       "      <td>247775.14</td>\n",
       "      <td>9768.23</td>\n",
       "      <td>5263.08</td>\n",
       "      <td>1038.22</td>\n",
       "    </tr>\n",
       "    <tr>\n",
       "      <th>...</th>\n",
       "      <td>...</td>\n",
       "      <td>...</td>\n",
       "      <td>...</td>\n",
       "      <td>...</td>\n",
       "      <td>...</td>\n",
       "      <td>...</td>\n",
       "      <td>...</td>\n",
       "      <td>...</td>\n",
       "      <td>...</td>\n",
       "      <td>...</td>\n",
       "      <td>...</td>\n",
       "    </tr>\n",
       "    <tr>\n",
       "      <th>235</th>\n",
       "      <td>236</td>\n",
       "      <td>6379.49</td>\n",
       "      <td>5.29</td>\n",
       "      <td>6384.79</td>\n",
       "      <td>49.79</td>\n",
       "      <td>1276.96</td>\n",
       "      <td>1326.75</td>\n",
       "      <td>5107.83</td>\n",
       "      <td>253368.16</td>\n",
       "      <td>273821.52</td>\n",
       "      <td>26929.38</td>\n",
       "    </tr>\n",
       "    <tr>\n",
       "      <th>236</th>\n",
       "      <td>237</td>\n",
       "      <td>5107.83</td>\n",
       "      <td>4.24</td>\n",
       "      <td>5112.07</td>\n",
       "      <td>39.87</td>\n",
       "      <td>1278.02</td>\n",
       "      <td>1317.88</td>\n",
       "      <td>3834.05</td>\n",
       "      <td>253408.03</td>\n",
       "      <td>275099.54</td>\n",
       "      <td>26933.62</td>\n",
       "    </tr>\n",
       "    <tr>\n",
       "      <th>237</th>\n",
       "      <td>238</td>\n",
       "      <td>3834.05</td>\n",
       "      <td>3.18</td>\n",
       "      <td>3837.23</td>\n",
       "      <td>29.92</td>\n",
       "      <td>1279.08</td>\n",
       "      <td>1309.00</td>\n",
       "      <td>2558.15</td>\n",
       "      <td>253437.95</td>\n",
       "      <td>276378.62</td>\n",
       "      <td>26936.80</td>\n",
       "    </tr>\n",
       "    <tr>\n",
       "      <th>238</th>\n",
       "      <td>239</td>\n",
       "      <td>2558.15</td>\n",
       "      <td>2.12</td>\n",
       "      <td>2560.28</td>\n",
       "      <td>19.97</td>\n",
       "      <td>1280.14</td>\n",
       "      <td>1300.10</td>\n",
       "      <td>1280.14</td>\n",
       "      <td>253457.92</td>\n",
       "      <td>277658.76</td>\n",
       "      <td>26938.92</td>\n",
       "    </tr>\n",
       "    <tr>\n",
       "      <th>239</th>\n",
       "      <td>240</td>\n",
       "      <td>1280.14</td>\n",
       "      <td>1.06</td>\n",
       "      <td>1281.20</td>\n",
       "      <td>9.99</td>\n",
       "      <td>1281.20</td>\n",
       "      <td>1291.19</td>\n",
       "      <td>0.00</td>\n",
       "      <td>253467.91</td>\n",
       "      <td>278939.96</td>\n",
       "      <td>26939.98</td>\n",
       "    </tr>\n",
       "  </tbody>\n",
       "</table>\n",
       "<p>240 rows × 11 columns</p>\n",
       "</div>"
      ]
     },
     "execution_count": 5,
     "metadata": {},
     "output_type": "execute_result"
    }
   ],
   "execution_count": 5
  }
 ],
 "metadata": {
  "kernelspec": {
   "display_name": "Python 3",
   "language": "python",
   "name": "python3"
  },
  "language_info": {
   "codemirror_mode": {
    "name": "ipython",
    "version": 3
   },
   "file_extension": ".py",
   "mimetype": "text/x-python",
   "name": "python",
   "nbconvert_exporter": "python",
   "pygments_lexer": "ipython3",
   "version": "3.12.0"
  }
 },
 "nbformat": 4,
 "nbformat_minor": 2
}
