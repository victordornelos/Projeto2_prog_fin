{
 "cells": [
  {
   "cell_type": "markdown",
   "metadata": {},
   "source": [
    "# AVALIAÇÃO 2 - PROGRAMAÇÃO EM FINANÇAS\n",
    "#### Professor: Julio Russo\n",
    "#### Disciplina: Programação em Finanças\n",
    "#### Turma: 2025.1\n",
    "#### Alunos: Lucas dos Santos Marques, Luiz Fernando M. Meirinho , Victor A. S. de Souza e Victor Flávio P. Dornelos\n",
    "#### Data: 04/06/2025"
   ]
  },
  {
   "cell_type": "code",
   "execution_count": 1,
   "metadata": {
    "ExecuteTime": {
     "end_time": "2025-06-01T19:02:32.065013Z",
     "start_time": "2025-06-01T19:02:32.061936Z"
    }
   },
   "outputs": [],
   "source": [
    "#pip install -r requirements.txt"
   ]
  },
  {
   "cell_type": "code",
   "execution_count": 1,
   "metadata": {
    "ExecuteTime": {
     "end_time": "2025-06-01T19:02:32.139724Z",
     "start_time": "2025-06-01T19:02:32.068022Z"
    }
   },
   "outputs": [],
   "source": [
    "# Bibliotecas necessárias\n",
    "import pandas as pd\n",
    "import numpy as np\n",
    "import matplotlib.pyplot as plt\n",
    "import seaborn as sns\n",
    "import plotly.express as px\n",
    "from IPython.display import display, Markdown\n",
    "from tabulate import tabulate\n",
    "import numpy_financial as npf\n",
    "from help import simulador_carro\n",
    "from help import simulador_casa\n"
   ]
  },
  {
   "cell_type": "markdown",
   "metadata": {},
   "source": [
    "# Questão 1:"
   ]
  },
  {
   "cell_type": "markdown",
   "metadata": {},
   "source": [
    "### 1)\n",
    "- FINANCIAMENTO DE AUTOMÓVEL (USADO OU ZEROKM)\n",
    "VIA TABELA PRICE COM A ENTRADA MÍNIMA EXIGIDA\n",
    "PELA INSTITUIÇÃO.\n",
    "- ANALISAR O TOTAL DE JUROS PAGOS\n",
    "- ANALISAR O PROPORCIONAL DE QUANTAS VEZES SE\n",
    "PAGA SOBRE O VALOR A VISTA\n",
    "- COMPROVAR A FONTE DOS DADOS NO RELATÓRIO\n",
    "\n",
    "##### Premissas:\n",
    "- Carro: Polo Sense \n",
    "- Banco  de financiamento: Caixa econômica\n",
    "- Juros: 1,49 % a.m\n",
    "- IOF: 3,8%\n",
    "- Entrada: 20%\n",
    "- Parcelas: 60 meses\n",
    "\n",
    "Fonte carro: https://www.vw.com.br/pt/configurador.html/__app/polo/polo-sense.app?---=%7B%22configuration-step-navigation-service%22%3A%22%2F%3FconfigStep%3D%257B%2522context%2522%253A%252230318-34579-Polo%2BSense%2522%252C%2522selectedStep%2522%253A%2522summary%2522%257D%22%7D&carlineId-app=30318&modelId-app=BZ3SK3&modelVersion-app=0&modelYear-app=2026&salesGroupId-app=34579&category-app=private&trimName-app=Polo+Sense&exteriorId-app=F14+A1A1&interiorId-app=F56+++++WK&options-app=GPR5PR5&buildabilityStatus-app=buildable\n",
    "\n",
    "Fonte financiamento: https://www.caixa.gov.br/voce/credito-financiamento/financiamentos/Paginas/default.aspx"
   ]
  },
  {
   "cell_type": "code",
   "execution_count": 2,
   "metadata": {
    "ExecuteTime": {
     "end_time": "2025-06-01T19:02:32.304499Z",
     "start_time": "2025-06-01T19:02:32.302125Z"
    }
   },
   "outputs": [],
   "source": [
    "mensal = 0.0149\n",
    "anual_efetiva = (1 + mensal)**12 - 1"
   ]
  },
  {
   "cell_type": "code",
   "execution_count": 3,
   "metadata": {
    "ExecuteTime": {
     "end_time": "2025-06-01T19:02:32.835896Z",
     "start_time": "2025-06-01T19:02:32.315055Z"
    }
   },
   "outputs": [
    {
     "name": "stdout",
     "output_type": "stream",
     "text": [
      "Valor total do bem: R$109710.00\n",
      "Entrada (20.0%): R$21942.00\n",
      "IOF Total aplicado: R$2966.56 (3.38%)\n",
      "Valor financiado com IOF: R$90734.56\n"
     ]
    },
    {
     "data": {
      "application/vnd.plotly.v1+json": {
       "config": {
        "plotlyServerURL": "https://plot.ly"
       },
       "data": [
        {
         "hovertemplate": "Categoria=Juros Acumulados (R$)<br>Mês=%{x}<br>Valor (R$)=%{y}<extra></extra>",
         "legendgroup": "Juros Acumulados (R$)",
         "line": {
          "color": "green",
          "dash": "solid"
         },
         "marker": {
          "symbol": "circle"
         },
         "mode": "lines",
         "name": "Juros Acumulados (R$)",
         "orientation": "v",
         "showlegend": true,
         "type": "scatter",
         "x": [
          1,
          2,
          3,
          4,
          5,
          6,
          7,
          8,
          9,
          10,
          11,
          12,
          13,
          14,
          15,
          16,
          17,
          18,
          19,
          20,
          21,
          22,
          23,
          24,
          25,
          26,
          27,
          28,
          29,
          30,
          31,
          32,
          33,
          34,
          35,
          36,
          37,
          38,
          39,
          40,
          41,
          42,
          43,
          44,
          45,
          46,
          47,
          48,
          49,
          50,
          51,
          52,
          53,
          54,
          55,
          56,
          57,
          58,
          59,
          60
         ],
         "xaxis": "x",
         "y": [
          1468.43,
          2922.19,
          4361.05,
          5784.76,
          7193.08,
          8585.76,
          9962.54,
          11323.170000000002,
          12667.390000000001,
          13994.93,
          15305.52,
          16598.89,
          17874.76,
          19132.85,
          20372.87,
          21594.52,
          22797.510000000002,
          23981.54,
          25146.3,
          26291.47,
          27416.75,
          28521.8,
          29606.309999999998,
          30669.929999999997,
          31712.339999999997,
          32733.179999999997,
          33732.10999999999,
          34708.77999999999,
          35662.81999999999,
          36593.869999999995,
          37501.549999999996,
          38385.49,
          39245.299999999996,
          40080.6,
          40890.979999999996,
          41676.03999999999,
          42435.37999999999,
          43168.56999999999,
          43875.19999999999,
          44554.82999999999,
          45207.029999999984,
          45831.349999999984,
          46427.33999999998,
          46994.53999999998,
          47532.489999999976,
          48040.70999999998,
          48518.729999999974,
          48966.049999999974,
          49382.17999999997,
          49766.60999999997,
          50118.82999999997,
          50438.31999999997,
          50724.53999999997,
          50976.95999999997,
          51195.03999999997,
          51378.20999999997,
          51525.91999999997,
          51637.57999999997,
          51712.61999999997,
          51750.43999999997
         ],
         "yaxis": "y"
        },
        {
         "hovertemplate": "Categoria=Amortização Acumulada (R$)<br>Mês=%{x}<br>Valor (R$)=%{y}<extra></extra>",
         "legendgroup": "Amortização Acumulada (R$)",
         "line": {
          "color": "blue",
          "dash": "solid"
         },
         "marker": {
          "symbol": "circle"
         },
         "mode": "lines",
         "name": "Amortização Acumulada (R$)",
         "orientation": "v",
         "showlegend": true,
         "type": "scatter",
         "x": [
          1,
          2,
          3,
          4,
          5,
          6,
          7,
          8,
          9,
          10,
          11,
          12,
          13,
          14,
          15,
          16,
          17,
          18,
          19,
          20,
          21,
          22,
          23,
          24,
          25,
          26,
          27,
          28,
          29,
          30,
          31,
          32,
          33,
          34,
          35,
          36,
          37,
          38,
          39,
          40,
          41,
          42,
          43,
          44,
          45,
          46,
          47,
          48,
          49,
          50,
          51,
          52,
          53,
          54,
          55,
          56,
          57,
          58,
          59,
          60
         ],
         "xaxis": "x",
         "y": [
          906.32,
          1827.31,
          2763.2,
          3714.24,
          4680.67,
          5662.74,
          6660.71,
          7674.83,
          8705.36,
          9752.57,
          10816.72,
          11898.099999999999,
          12996.98,
          14113.64,
          15248.369999999999,
          16401.469999999998,
          17573.229999999996,
          18763.949999999997,
          19973.94,
          21203.519999999997,
          22452.989999999998,
          23722.69,
          25012.93,
          26324.06,
          27656.4,
          29010.31,
          30386.13,
          31784.21,
          33204.92,
          34648.619999999995,
          36115.689999999995,
          37606.49999999999,
          39121.439999999995,
          40660.88999999999,
          42225.259999999995,
          43814.95,
          45430.36,
          47071.92,
          48740.04,
          50435.16,
          52157.71000000001,
          53908.14000000001,
          55686.90000000001,
          57494.45000000001,
          59331.250000000015,
          61197.78000000001,
          63094.51000000002,
          65021.94000000002,
          66980.56000000001,
          68970.88000000002,
          70993.41000000002,
          73048.67000000001,
          75137.20000000001,
          77259.53000000001,
          79416.20000000001,
          81607.78000000001,
          83834.82,
          86097.91,
          88397.62000000001,
          90734.55
         ],
         "yaxis": "y"
        },
        {
         "hovertemplate": "Categoria=Saldo Devedor (R$)<br>Mês=%{x}<br>Valor (R$)=%{y}<extra></extra>",
         "legendgroup": "Saldo Devedor (R$)",
         "line": {
          "color": "red",
          "dash": "solid"
         },
         "marker": {
          "symbol": "circle"
         },
         "mode": "lines",
         "name": "Saldo Devedor (R$)",
         "orientation": "v",
         "showlegend": true,
         "type": "scatter",
         "x": [
          1,
          2,
          3,
          4,
          5,
          6,
          7,
          8,
          9,
          10,
          11,
          12,
          13,
          14,
          15,
          16,
          17,
          18,
          19,
          20,
          21,
          22,
          23,
          24,
          25,
          26,
          27,
          28,
          29,
          30,
          31,
          32,
          33,
          34,
          35,
          36,
          37,
          38,
          39,
          40,
          41,
          42,
          43,
          44,
          45,
          46,
          47,
          48,
          49,
          50,
          51,
          52,
          53,
          54,
          55,
          56,
          57,
          58,
          59,
          60
         ],
         "xaxis": "x",
         "y": [
          89828.24,
          88907.25,
          87971.35,
          87020.31,
          86053.88,
          85071.81,
          84073.84,
          83059.72,
          82029.2,
          80981.99,
          79917.83,
          78836.46,
          77737.58,
          76620.92,
          75486.18,
          74333.08,
          73161.33,
          71970.6,
          70760.61,
          69531.03,
          68281.56,
          67011.86,
          65721.62,
          64410.49,
          63078.15,
          61724.24,
          60348.42,
          58950.34,
          57529.63,
          56085.93,
          54618.86,
          53128.05,
          51613.11,
          50073.66,
          48509.29,
          46919.6,
          45304.19,
          43662.63,
          41994.51,
          40299.39,
          38576.84,
          36826.4,
          35047.65,
          33240.1,
          31403.3,
          29536.77,
          27640.04,
          25712.61,
          23753.99,
          21763.67,
          19741.14,
          17685.87,
          15597.35,
          13475.02,
          11318.35,
          9126.77,
          6899.73,
          4636.64,
          2336.93,
          0
         ],
         "yaxis": "y"
        }
       ],
       "layout": {
        "legend": {
         "title": {
          "text": "Categoria"
         },
         "tracegroupgap": 0
        },
        "template": {
         "data": {
          "bar": [
           {
            "error_x": {
             "color": "#2a3f5f"
            },
            "error_y": {
             "color": "#2a3f5f"
            },
            "marker": {
             "line": {
              "color": "#E5ECF6",
              "width": 0.5
             },
             "pattern": {
              "fillmode": "overlay",
              "size": 10,
              "solidity": 0.2
             }
            },
            "type": "bar"
           }
          ],
          "barpolar": [
           {
            "marker": {
             "line": {
              "color": "#E5ECF6",
              "width": 0.5
             },
             "pattern": {
              "fillmode": "overlay",
              "size": 10,
              "solidity": 0.2
             }
            },
            "type": "barpolar"
           }
          ],
          "carpet": [
           {
            "aaxis": {
             "endlinecolor": "#2a3f5f",
             "gridcolor": "white",
             "linecolor": "white",
             "minorgridcolor": "white",
             "startlinecolor": "#2a3f5f"
            },
            "baxis": {
             "endlinecolor": "#2a3f5f",
             "gridcolor": "white",
             "linecolor": "white",
             "minorgridcolor": "white",
             "startlinecolor": "#2a3f5f"
            },
            "type": "carpet"
           }
          ],
          "choropleth": [
           {
            "colorbar": {
             "outlinewidth": 0,
             "ticks": ""
            },
            "type": "choropleth"
           }
          ],
          "contour": [
           {
            "colorbar": {
             "outlinewidth": 0,
             "ticks": ""
            },
            "colorscale": [
             [
              0,
              "#0d0887"
             ],
             [
              0.1111111111111111,
              "#46039f"
             ],
             [
              0.2222222222222222,
              "#7201a8"
             ],
             [
              0.3333333333333333,
              "#9c179e"
             ],
             [
              0.4444444444444444,
              "#bd3786"
             ],
             [
              0.5555555555555556,
              "#d8576b"
             ],
             [
              0.6666666666666666,
              "#ed7953"
             ],
             [
              0.7777777777777778,
              "#fb9f3a"
             ],
             [
              0.8888888888888888,
              "#fdca26"
             ],
             [
              1,
              "#f0f921"
             ]
            ],
            "type": "contour"
           }
          ],
          "contourcarpet": [
           {
            "colorbar": {
             "outlinewidth": 0,
             "ticks": ""
            },
            "type": "contourcarpet"
           }
          ],
          "heatmap": [
           {
            "colorbar": {
             "outlinewidth": 0,
             "ticks": ""
            },
            "colorscale": [
             [
              0,
              "#0d0887"
             ],
             [
              0.1111111111111111,
              "#46039f"
             ],
             [
              0.2222222222222222,
              "#7201a8"
             ],
             [
              0.3333333333333333,
              "#9c179e"
             ],
             [
              0.4444444444444444,
              "#bd3786"
             ],
             [
              0.5555555555555556,
              "#d8576b"
             ],
             [
              0.6666666666666666,
              "#ed7953"
             ],
             [
              0.7777777777777778,
              "#fb9f3a"
             ],
             [
              0.8888888888888888,
              "#fdca26"
             ],
             [
              1,
              "#f0f921"
             ]
            ],
            "type": "heatmap"
           }
          ],
          "heatmapgl": [
           {
            "colorbar": {
             "outlinewidth": 0,
             "ticks": ""
            },
            "colorscale": [
             [
              0,
              "#0d0887"
             ],
             [
              0.1111111111111111,
              "#46039f"
             ],
             [
              0.2222222222222222,
              "#7201a8"
             ],
             [
              0.3333333333333333,
              "#9c179e"
             ],
             [
              0.4444444444444444,
              "#bd3786"
             ],
             [
              0.5555555555555556,
              "#d8576b"
             ],
             [
              0.6666666666666666,
              "#ed7953"
             ],
             [
              0.7777777777777778,
              "#fb9f3a"
             ],
             [
              0.8888888888888888,
              "#fdca26"
             ],
             [
              1,
              "#f0f921"
             ]
            ],
            "type": "heatmapgl"
           }
          ],
          "histogram": [
           {
            "marker": {
             "pattern": {
              "fillmode": "overlay",
              "size": 10,
              "solidity": 0.2
             }
            },
            "type": "histogram"
           }
          ],
          "histogram2d": [
           {
            "colorbar": {
             "outlinewidth": 0,
             "ticks": ""
            },
            "colorscale": [
             [
              0,
              "#0d0887"
             ],
             [
              0.1111111111111111,
              "#46039f"
             ],
             [
              0.2222222222222222,
              "#7201a8"
             ],
             [
              0.3333333333333333,
              "#9c179e"
             ],
             [
              0.4444444444444444,
              "#bd3786"
             ],
             [
              0.5555555555555556,
              "#d8576b"
             ],
             [
              0.6666666666666666,
              "#ed7953"
             ],
             [
              0.7777777777777778,
              "#fb9f3a"
             ],
             [
              0.8888888888888888,
              "#fdca26"
             ],
             [
              1,
              "#f0f921"
             ]
            ],
            "type": "histogram2d"
           }
          ],
          "histogram2dcontour": [
           {
            "colorbar": {
             "outlinewidth": 0,
             "ticks": ""
            },
            "colorscale": [
             [
              0,
              "#0d0887"
             ],
             [
              0.1111111111111111,
              "#46039f"
             ],
             [
              0.2222222222222222,
              "#7201a8"
             ],
             [
              0.3333333333333333,
              "#9c179e"
             ],
             [
              0.4444444444444444,
              "#bd3786"
             ],
             [
              0.5555555555555556,
              "#d8576b"
             ],
             [
              0.6666666666666666,
              "#ed7953"
             ],
             [
              0.7777777777777778,
              "#fb9f3a"
             ],
             [
              0.8888888888888888,
              "#fdca26"
             ],
             [
              1,
              "#f0f921"
             ]
            ],
            "type": "histogram2dcontour"
           }
          ],
          "mesh3d": [
           {
            "colorbar": {
             "outlinewidth": 0,
             "ticks": ""
            },
            "type": "mesh3d"
           }
          ],
          "parcoords": [
           {
            "line": {
             "colorbar": {
              "outlinewidth": 0,
              "ticks": ""
             }
            },
            "type": "parcoords"
           }
          ],
          "pie": [
           {
            "automargin": true,
            "type": "pie"
           }
          ],
          "scatter": [
           {
            "fillpattern": {
             "fillmode": "overlay",
             "size": 10,
             "solidity": 0.2
            },
            "type": "scatter"
           }
          ],
          "scatter3d": [
           {
            "line": {
             "colorbar": {
              "outlinewidth": 0,
              "ticks": ""
             }
            },
            "marker": {
             "colorbar": {
              "outlinewidth": 0,
              "ticks": ""
             }
            },
            "type": "scatter3d"
           }
          ],
          "scattercarpet": [
           {
            "marker": {
             "colorbar": {
              "outlinewidth": 0,
              "ticks": ""
             }
            },
            "type": "scattercarpet"
           }
          ],
          "scattergeo": [
           {
            "marker": {
             "colorbar": {
              "outlinewidth": 0,
              "ticks": ""
             }
            },
            "type": "scattergeo"
           }
          ],
          "scattergl": [
           {
            "marker": {
             "colorbar": {
              "outlinewidth": 0,
              "ticks": ""
             }
            },
            "type": "scattergl"
           }
          ],
          "scattermapbox": [
           {
            "marker": {
             "colorbar": {
              "outlinewidth": 0,
              "ticks": ""
             }
            },
            "type": "scattermapbox"
           }
          ],
          "scatterpolar": [
           {
            "marker": {
             "colorbar": {
              "outlinewidth": 0,
              "ticks": ""
             }
            },
            "type": "scatterpolar"
           }
          ],
          "scatterpolargl": [
           {
            "marker": {
             "colorbar": {
              "outlinewidth": 0,
              "ticks": ""
             }
            },
            "type": "scatterpolargl"
           }
          ],
          "scatterternary": [
           {
            "marker": {
             "colorbar": {
              "outlinewidth": 0,
              "ticks": ""
             }
            },
            "type": "scatterternary"
           }
          ],
          "surface": [
           {
            "colorbar": {
             "outlinewidth": 0,
             "ticks": ""
            },
            "colorscale": [
             [
              0,
              "#0d0887"
             ],
             [
              0.1111111111111111,
              "#46039f"
             ],
             [
              0.2222222222222222,
              "#7201a8"
             ],
             [
              0.3333333333333333,
              "#9c179e"
             ],
             [
              0.4444444444444444,
              "#bd3786"
             ],
             [
              0.5555555555555556,
              "#d8576b"
             ],
             [
              0.6666666666666666,
              "#ed7953"
             ],
             [
              0.7777777777777778,
              "#fb9f3a"
             ],
             [
              0.8888888888888888,
              "#fdca26"
             ],
             [
              1,
              "#f0f921"
             ]
            ],
            "type": "surface"
           }
          ],
          "table": [
           {
            "cells": {
             "fill": {
              "color": "#EBF0F8"
             },
             "line": {
              "color": "white"
             }
            },
            "header": {
             "fill": {
              "color": "#C8D4E3"
             },
             "line": {
              "color": "white"
             }
            },
            "type": "table"
           }
          ]
         },
         "layout": {
          "annotationdefaults": {
           "arrowcolor": "#2a3f5f",
           "arrowhead": 0,
           "arrowwidth": 1
          },
          "autotypenumbers": "strict",
          "coloraxis": {
           "colorbar": {
            "outlinewidth": 0,
            "ticks": ""
           }
          },
          "colorscale": {
           "diverging": [
            [
             0,
             "#8e0152"
            ],
            [
             0.1,
             "#c51b7d"
            ],
            [
             0.2,
             "#de77ae"
            ],
            [
             0.3,
             "#f1b6da"
            ],
            [
             0.4,
             "#fde0ef"
            ],
            [
             0.5,
             "#f7f7f7"
            ],
            [
             0.6,
             "#e6f5d0"
            ],
            [
             0.7,
             "#b8e186"
            ],
            [
             0.8,
             "#7fbc41"
            ],
            [
             0.9,
             "#4d9221"
            ],
            [
             1,
             "#276419"
            ]
           ],
           "sequential": [
            [
             0,
             "#0d0887"
            ],
            [
             0.1111111111111111,
             "#46039f"
            ],
            [
             0.2222222222222222,
             "#7201a8"
            ],
            [
             0.3333333333333333,
             "#9c179e"
            ],
            [
             0.4444444444444444,
             "#bd3786"
            ],
            [
             0.5555555555555556,
             "#d8576b"
            ],
            [
             0.6666666666666666,
             "#ed7953"
            ],
            [
             0.7777777777777778,
             "#fb9f3a"
            ],
            [
             0.8888888888888888,
             "#fdca26"
            ],
            [
             1,
             "#f0f921"
            ]
           ],
           "sequentialminus": [
            [
             0,
             "#0d0887"
            ],
            [
             0.1111111111111111,
             "#46039f"
            ],
            [
             0.2222222222222222,
             "#7201a8"
            ],
            [
             0.3333333333333333,
             "#9c179e"
            ],
            [
             0.4444444444444444,
             "#bd3786"
            ],
            [
             0.5555555555555556,
             "#d8576b"
            ],
            [
             0.6666666666666666,
             "#ed7953"
            ],
            [
             0.7777777777777778,
             "#fb9f3a"
            ],
            [
             0.8888888888888888,
             "#fdca26"
            ],
            [
             1,
             "#f0f921"
            ]
           ]
          },
          "colorway": [
           "#636efa",
           "#EF553B",
           "#00cc96",
           "#ab63fa",
           "#FFA15A",
           "#19d3f3",
           "#FF6692",
           "#B6E880",
           "#FF97FF",
           "#FECB52"
          ],
          "font": {
           "color": "#2a3f5f"
          },
          "geo": {
           "bgcolor": "white",
           "lakecolor": "white",
           "landcolor": "#E5ECF6",
           "showlakes": true,
           "showland": true,
           "subunitcolor": "white"
          },
          "hoverlabel": {
           "align": "left"
          },
          "hovermode": "closest",
          "mapbox": {
           "style": "light"
          },
          "paper_bgcolor": "white",
          "plot_bgcolor": "#E5ECF6",
          "polar": {
           "angularaxis": {
            "gridcolor": "white",
            "linecolor": "white",
            "ticks": ""
           },
           "bgcolor": "#E5ECF6",
           "radialaxis": {
            "gridcolor": "white",
            "linecolor": "white",
            "ticks": ""
           }
          },
          "scene": {
           "xaxis": {
            "backgroundcolor": "#E5ECF6",
            "gridcolor": "white",
            "gridwidth": 2,
            "linecolor": "white",
            "showbackground": true,
            "ticks": "",
            "zerolinecolor": "white"
           },
           "yaxis": {
            "backgroundcolor": "#E5ECF6",
            "gridcolor": "white",
            "gridwidth": 2,
            "linecolor": "white",
            "showbackground": true,
            "ticks": "",
            "zerolinecolor": "white"
           },
           "zaxis": {
            "backgroundcolor": "#E5ECF6",
            "gridcolor": "white",
            "gridwidth": 2,
            "linecolor": "white",
            "showbackground": true,
            "ticks": "",
            "zerolinecolor": "white"
           }
          },
          "shapedefaults": {
           "line": {
            "color": "#2a3f5f"
           }
          },
          "ternary": {
           "aaxis": {
            "gridcolor": "white",
            "linecolor": "white",
            "ticks": ""
           },
           "baxis": {
            "gridcolor": "white",
            "linecolor": "white",
            "ticks": ""
           },
           "bgcolor": "#E5ECF6",
           "caxis": {
            "gridcolor": "white",
            "linecolor": "white",
            "ticks": ""
           }
          },
          "title": {
           "x": 0.05
          },
          "xaxis": {
           "automargin": true,
           "gridcolor": "white",
           "linecolor": "white",
           "ticks": "",
           "title": {
            "standoff": 15
           },
           "zerolinecolor": "white",
           "zerolinewidth": 2
          },
          "yaxis": {
           "automargin": true,
           "gridcolor": "white",
           "linecolor": "white",
           "ticks": "",
           "title": {
            "standoff": 15
           },
           "zerolinecolor": "white",
           "zerolinewidth": 2
          }
         }
        },
        "title": {
         "text": "Evolução do Financiamento com IOF"
        },
        "xaxis": {
         "anchor": "y",
         "domain": [
          0,
          1
         ],
         "title": {
          "text": "Mês"
         }
        },
        "yaxis": {
         "anchor": "x",
         "domain": [
          0,
          1
         ],
         "title": {
          "text": "Valor (R$)"
         }
        }
       }
      }
     },
     "metadata": {},
     "output_type": "display_data"
    },
    {
     "data": {
      "image/png": "[encoded data removed]",
      "text/plain": [
       "<Figure size 1200x600 with 1 Axes>"
      ]
     },
     "metadata": {},
     "output_type": "display_data"
    },
    {
     "name": "stdout",
     "output_type": "stream",
     "text": [
      "Total pago em prestações: R$142485.00\n",
      "Valor total pago (incluindo entrada): R$164427.00\n",
      "Relação (Total pago / Valor do bem à vista): 1.50\n",
      "Tabela salva como 'simulador_carro_com_iof.xlsx'.\n"
     ]
    },
    {
     "data": {
      "text/html": [
       "<div>\n",
       "<style scoped>\n",
       "    .dataframe tbody tr th:only-of-type {\n",
       "        vertical-align: middle;\n",
       "    }\n",
       "\n",
       "    .dataframe tbody tr th {\n",
       "        vertical-align: top;\n",
       "    }\n",
       "\n",
       "    .dataframe thead th {\n",
       "        text-align: right;\n",
       "    }\n",
       "</style>\n",
       "<table border=\"1\" class=\"dataframe\">\n",
       "  <thead>\n",
       "    <tr style=\"text-align: right;\">\n",
       "      <th></th>\n",
       "      <th>Mês</th>\n",
       "      <th>Prestação Mensal (R$)</th>\n",
       "      <th>Parcela de Juros (R$)</th>\n",
       "      <th>Amortização do Principal (R$)</th>\n",
       "      <th>Saldo Devedor (R$)</th>\n",
       "      <th>Juros Acumulados (R$)</th>\n",
       "      <th>Amortização Acumulada (R$)</th>\n",
       "    </tr>\n",
       "  </thead>\n",
       "  <tbody>\n",
       "    <tr>\n",
       "      <th>0</th>\n",
       "      <td>1</td>\n",
       "      <td>2374.75</td>\n",
       "      <td>1468.43</td>\n",
       "      <td>906.32</td>\n",
       "      <td>89828.24</td>\n",
       "      <td>1468.43</td>\n",
       "      <td>906.32</td>\n",
       "    </tr>\n",
       "    <tr>\n",
       "      <th>1</th>\n",
       "      <td>2</td>\n",
       "      <td>2374.75</td>\n",
       "      <td>1453.76</td>\n",
       "      <td>920.99</td>\n",
       "      <td>88907.25</td>\n",
       "      <td>2922.19</td>\n",
       "      <td>1827.31</td>\n",
       "    </tr>\n",
       "    <tr>\n",
       "      <th>2</th>\n",
       "      <td>3</td>\n",
       "      <td>2374.75</td>\n",
       "      <td>1438.86</td>\n",
       "      <td>935.89</td>\n",
       "      <td>87971.35</td>\n",
       "      <td>4361.05</td>\n",
       "      <td>2763.20</td>\n",
       "    </tr>\n",
       "    <tr>\n",
       "      <th>3</th>\n",
       "      <td>4</td>\n",
       "      <td>2374.75</td>\n",
       "      <td>1423.71</td>\n",
       "      <td>951.04</td>\n",
       "      <td>87020.31</td>\n",
       "      <td>5784.76</td>\n",
       "      <td>3714.24</td>\n",
       "    </tr>\n",
       "    <tr>\n",
       "      <th>4</th>\n",
       "      <td>5</td>\n",
       "      <td>2374.75</td>\n",
       "      <td>1408.32</td>\n",
       "      <td>966.43</td>\n",
       "      <td>86053.88</td>\n",
       "      <td>7193.08</td>\n",
       "      <td>4680.67</td>\n",
       "    </tr>\n",
       "    <tr>\n",
       "      <th>5</th>\n",
       "      <td>6</td>\n",
       "      <td>2374.75</td>\n",
       "      <td>1392.68</td>\n",
       "      <td>982.07</td>\n",
       "      <td>85071.81</td>\n",
       "      <td>8585.76</td>\n",
       "      <td>5662.74</td>\n",
       "    </tr>\n",
       "    <tr>\n",
       "      <th>6</th>\n",
       "      <td>7</td>\n",
       "      <td>2374.75</td>\n",
       "      <td>1376.78</td>\n",
       "      <td>997.97</td>\n",
       "      <td>84073.84</td>\n",
       "      <td>9962.54</td>\n",
       "      <td>6660.71</td>\n",
       "    </tr>\n",
       "    <tr>\n",
       "      <th>7</th>\n",
       "      <td>8</td>\n",
       "      <td>2374.75</td>\n",
       "      <td>1360.63</td>\n",
       "      <td>1014.12</td>\n",
       "      <td>83059.72</td>\n",
       "      <td>11323.17</td>\n",
       "      <td>7674.83</td>\n",
       "    </tr>\n",
       "    <tr>\n",
       "      <th>8</th>\n",
       "      <td>9</td>\n",
       "      <td>2374.75</td>\n",
       "      <td>1344.22</td>\n",
       "      <td>1030.53</td>\n",
       "      <td>82029.20</td>\n",
       "      <td>12667.39</td>\n",
       "      <td>8705.36</td>\n",
       "    </tr>\n",
       "    <tr>\n",
       "      <th>9</th>\n",
       "      <td>10</td>\n",
       "      <td>2374.75</td>\n",
       "      <td>1327.54</td>\n",
       "      <td>1047.21</td>\n",
       "      <td>80981.99</td>\n",
       "      <td>13994.93</td>\n",
       "      <td>9752.57</td>\n",
       "    </tr>\n",
       "    <tr>\n",
       "      <th>10</th>\n",
       "      <td>11</td>\n",
       "      <td>2374.75</td>\n",
       "      <td>1310.59</td>\n",
       "      <td>1064.15</td>\n",
       "      <td>79917.83</td>\n",
       "      <td>15305.52</td>\n",
       "      <td>10816.72</td>\n",
       "    </tr>\n",
       "    <tr>\n",
       "      <th>11</th>\n",
       "      <td>12</td>\n",
       "      <td>2374.75</td>\n",
       "      <td>1293.37</td>\n",
       "      <td>1081.38</td>\n",
       "      <td>78836.46</td>\n",
       "      <td>16598.89</td>\n",
       "      <td>11898.10</td>\n",
       "    </tr>\n",
       "    <tr>\n",
       "      <th>12</th>\n",
       "      <td>13</td>\n",
       "      <td>2374.75</td>\n",
       "      <td>1275.87</td>\n",
       "      <td>1098.88</td>\n",
       "      <td>77737.58</td>\n",
       "      <td>17874.76</td>\n",
       "      <td>12996.98</td>\n",
       "    </tr>\n",
       "    <tr>\n",
       "      <th>13</th>\n",
       "      <td>14</td>\n",
       "      <td>2374.75</td>\n",
       "      <td>1258.09</td>\n",
       "      <td>1116.66</td>\n",
       "      <td>76620.92</td>\n",
       "      <td>19132.85</td>\n",
       "      <td>14113.64</td>\n",
       "    </tr>\n",
       "    <tr>\n",
       "      <th>14</th>\n",
       "      <td>15</td>\n",
       "      <td>2374.75</td>\n",
       "      <td>1240.02</td>\n",
       "      <td>1134.73</td>\n",
       "      <td>75486.18</td>\n",
       "      <td>20372.87</td>\n",
       "      <td>15248.37</td>\n",
       "    </tr>\n",
       "    <tr>\n",
       "      <th>15</th>\n",
       "      <td>16</td>\n",
       "      <td>2374.75</td>\n",
       "      <td>1221.65</td>\n",
       "      <td>1153.10</td>\n",
       "      <td>74333.08</td>\n",
       "      <td>21594.52</td>\n",
       "      <td>16401.47</td>\n",
       "    </tr>\n",
       "    <tr>\n",
       "      <th>16</th>\n",
       "      <td>17</td>\n",
       "      <td>2374.75</td>\n",
       "      <td>1202.99</td>\n",
       "      <td>1171.76</td>\n",
       "      <td>73161.33</td>\n",
       "      <td>22797.51</td>\n",
       "      <td>17573.23</td>\n",
       "    </tr>\n",
       "    <tr>\n",
       "      <th>17</th>\n",
       "      <td>18</td>\n",
       "      <td>2374.75</td>\n",
       "      <td>1184.03</td>\n",
       "      <td>1190.72</td>\n",
       "      <td>71970.60</td>\n",
       "      <td>23981.54</td>\n",
       "      <td>18763.95</td>\n",
       "    </tr>\n",
       "    <tr>\n",
       "      <th>18</th>\n",
       "      <td>19</td>\n",
       "      <td>2374.75</td>\n",
       "      <td>1164.76</td>\n",
       "      <td>1209.99</td>\n",
       "      <td>70760.61</td>\n",
       "      <td>25146.30</td>\n",
       "      <td>19973.94</td>\n",
       "    </tr>\n",
       "    <tr>\n",
       "      <th>19</th>\n",
       "      <td>20</td>\n",
       "      <td>2374.75</td>\n",
       "      <td>1145.17</td>\n",
       "      <td>1229.58</td>\n",
       "      <td>69531.03</td>\n",
       "      <td>26291.47</td>\n",
       "      <td>21203.52</td>\n",
       "    </tr>\n",
       "    <tr>\n",
       "      <th>20</th>\n",
       "      <td>21</td>\n",
       "      <td>2374.75</td>\n",
       "      <td>1125.28</td>\n",
       "      <td>1249.47</td>\n",
       "      <td>68281.56</td>\n",
       "      <td>27416.75</td>\n",
       "      <td>22452.99</td>\n",
       "    </tr>\n",
       "    <tr>\n",
       "      <th>21</th>\n",
       "      <td>22</td>\n",
       "      <td>2374.75</td>\n",
       "      <td>1105.05</td>\n",
       "      <td>1269.70</td>\n",
       "      <td>67011.86</td>\n",
       "      <td>28521.80</td>\n",
       "      <td>23722.69</td>\n",
       "    </tr>\n",
       "    <tr>\n",
       "      <th>22</th>\n",
       "      <td>23</td>\n",
       "      <td>2374.75</td>\n",
       "      <td>1084.51</td>\n",
       "      <td>1290.24</td>\n",
       "      <td>65721.62</td>\n",
       "      <td>29606.31</td>\n",
       "      <td>25012.93</td>\n",
       "    </tr>\n",
       "    <tr>\n",
       "      <th>23</th>\n",
       "      <td>24</td>\n",
       "      <td>2374.75</td>\n",
       "      <td>1063.62</td>\n",
       "      <td>1311.13</td>\n",
       "      <td>64410.49</td>\n",
       "      <td>30669.93</td>\n",
       "      <td>26324.06</td>\n",
       "    </tr>\n",
       "    <tr>\n",
       "      <th>24</th>\n",
       "      <td>25</td>\n",
       "      <td>2374.75</td>\n",
       "      <td>1042.41</td>\n",
       "      <td>1332.34</td>\n",
       "      <td>63078.15</td>\n",
       "      <td>31712.34</td>\n",
       "      <td>27656.40</td>\n",
       "    </tr>\n",
       "    <tr>\n",
       "      <th>25</th>\n",
       "      <td>26</td>\n",
       "      <td>2374.75</td>\n",
       "      <td>1020.84</td>\n",
       "      <td>1353.91</td>\n",
       "      <td>61724.24</td>\n",
       "      <td>32733.18</td>\n",
       "      <td>29010.31</td>\n",
       "    </tr>\n",
       "    <tr>\n",
       "      <th>26</th>\n",
       "      <td>27</td>\n",
       "      <td>2374.75</td>\n",
       "      <td>998.93</td>\n",
       "      <td>1375.82</td>\n",
       "      <td>60348.42</td>\n",
       "      <td>33732.11</td>\n",
       "      <td>30386.13</td>\n",
       "    </tr>\n",
       "    <tr>\n",
       "      <th>27</th>\n",
       "      <td>28</td>\n",
       "      <td>2374.75</td>\n",
       "      <td>976.67</td>\n",
       "      <td>1398.08</td>\n",
       "      <td>58950.34</td>\n",
       "      <td>34708.78</td>\n",
       "      <td>31784.21</td>\n",
       "    </tr>\n",
       "    <tr>\n",
       "      <th>28</th>\n",
       "      <td>29</td>\n",
       "      <td>2374.75</td>\n",
       "      <td>954.04</td>\n",
       "      <td>1420.71</td>\n",
       "      <td>57529.63</td>\n",
       "      <td>35662.82</td>\n",
       "      <td>33204.92</td>\n",
       "    </tr>\n",
       "    <tr>\n",
       "      <th>29</th>\n",
       "      <td>30</td>\n",
       "      <td>2374.75</td>\n",
       "      <td>931.05</td>\n",
       "      <td>1443.70</td>\n",
       "      <td>56085.93</td>\n",
       "      <td>36593.87</td>\n",
       "      <td>34648.62</td>\n",
       "    </tr>\n",
       "    <tr>\n",
       "      <th>30</th>\n",
       "      <td>31</td>\n",
       "      <td>2374.75</td>\n",
       "      <td>907.68</td>\n",
       "      <td>1467.07</td>\n",
       "      <td>54618.86</td>\n",
       "      <td>37501.55</td>\n",
       "      <td>36115.69</td>\n",
       "    </tr>\n",
       "    <tr>\n",
       "      <th>31</th>\n",
       "      <td>32</td>\n",
       "      <td>2374.75</td>\n",
       "      <td>883.94</td>\n",
       "      <td>1490.81</td>\n",
       "      <td>53128.05</td>\n",
       "      <td>38385.49</td>\n",
       "      <td>37606.50</td>\n",
       "    </tr>\n",
       "    <tr>\n",
       "      <th>32</th>\n",
       "      <td>33</td>\n",
       "      <td>2374.75</td>\n",
       "      <td>859.81</td>\n",
       "      <td>1514.94</td>\n",
       "      <td>51613.11</td>\n",
       "      <td>39245.30</td>\n",
       "      <td>39121.44</td>\n",
       "    </tr>\n",
       "    <tr>\n",
       "      <th>33</th>\n",
       "      <td>34</td>\n",
       "      <td>2374.75</td>\n",
       "      <td>835.30</td>\n",
       "      <td>1539.45</td>\n",
       "      <td>50073.66</td>\n",
       "      <td>40080.60</td>\n",
       "      <td>40660.89</td>\n",
       "    </tr>\n",
       "    <tr>\n",
       "      <th>34</th>\n",
       "      <td>35</td>\n",
       "      <td>2374.75</td>\n",
       "      <td>810.38</td>\n",
       "      <td>1564.37</td>\n",
       "      <td>48509.29</td>\n",
       "      <td>40890.98</td>\n",
       "      <td>42225.26</td>\n",
       "    </tr>\n",
       "    <tr>\n",
       "      <th>35</th>\n",
       "      <td>36</td>\n",
       "      <td>2374.75</td>\n",
       "      <td>785.06</td>\n",
       "      <td>1589.69</td>\n",
       "      <td>46919.60</td>\n",
       "      <td>41676.04</td>\n",
       "      <td>43814.95</td>\n",
       "    </tr>\n",
       "    <tr>\n",
       "      <th>36</th>\n",
       "      <td>37</td>\n",
       "      <td>2374.75</td>\n",
       "      <td>759.34</td>\n",
       "      <td>1615.41</td>\n",
       "      <td>45304.19</td>\n",
       "      <td>42435.38</td>\n",
       "      <td>45430.36</td>\n",
       "    </tr>\n",
       "    <tr>\n",
       "      <th>37</th>\n",
       "      <td>38</td>\n",
       "      <td>2374.75</td>\n",
       "      <td>733.19</td>\n",
       "      <td>1641.56</td>\n",
       "      <td>43662.63</td>\n",
       "      <td>43168.57</td>\n",
       "      <td>47071.92</td>\n",
       "    </tr>\n",
       "    <tr>\n",
       "      <th>38</th>\n",
       "      <td>39</td>\n",
       "      <td>2374.75</td>\n",
       "      <td>706.63</td>\n",
       "      <td>1668.12</td>\n",
       "      <td>41994.51</td>\n",
       "      <td>43875.20</td>\n",
       "      <td>48740.04</td>\n",
       "    </tr>\n",
       "    <tr>\n",
       "      <th>39</th>\n",
       "      <td>40</td>\n",
       "      <td>2374.75</td>\n",
       "      <td>679.63</td>\n",
       "      <td>1695.12</td>\n",
       "      <td>40299.39</td>\n",
       "      <td>44554.83</td>\n",
       "      <td>50435.16</td>\n",
       "    </tr>\n",
       "    <tr>\n",
       "      <th>40</th>\n",
       "      <td>41</td>\n",
       "      <td>2374.75</td>\n",
       "      <td>652.20</td>\n",
       "      <td>1722.55</td>\n",
       "      <td>38576.84</td>\n",
       "      <td>45207.03</td>\n",
       "      <td>52157.71</td>\n",
       "    </tr>\n",
       "    <tr>\n",
       "      <th>41</th>\n",
       "      <td>42</td>\n",
       "      <td>2374.75</td>\n",
       "      <td>624.32</td>\n",
       "      <td>1750.43</td>\n",
       "      <td>36826.40</td>\n",
       "      <td>45831.35</td>\n",
       "      <td>53908.14</td>\n",
       "    </tr>\n",
       "    <tr>\n",
       "      <th>42</th>\n",
       "      <td>43</td>\n",
       "      <td>2374.75</td>\n",
       "      <td>595.99</td>\n",
       "      <td>1778.76</td>\n",
       "      <td>35047.65</td>\n",
       "      <td>46427.34</td>\n",
       "      <td>55686.90</td>\n",
       "    </tr>\n",
       "    <tr>\n",
       "      <th>43</th>\n",
       "      <td>44</td>\n",
       "      <td>2374.75</td>\n",
       "      <td>567.20</td>\n",
       "      <td>1807.55</td>\n",
       "      <td>33240.10</td>\n",
       "      <td>46994.54</td>\n",
       "      <td>57494.45</td>\n",
       "    </tr>\n",
       "    <tr>\n",
       "      <th>44</th>\n",
       "      <td>45</td>\n",
       "      <td>2374.75</td>\n",
       "      <td>537.95</td>\n",
       "      <td>1836.80</td>\n",
       "      <td>31403.30</td>\n",
       "      <td>47532.49</td>\n",
       "      <td>59331.25</td>\n",
       "    </tr>\n",
       "    <tr>\n",
       "      <th>45</th>\n",
       "      <td>46</td>\n",
       "      <td>2374.75</td>\n",
       "      <td>508.22</td>\n",
       "      <td>1866.53</td>\n",
       "      <td>29536.77</td>\n",
       "      <td>48040.71</td>\n",
       "      <td>61197.78</td>\n",
       "    </tr>\n",
       "    <tr>\n",
       "      <th>46</th>\n",
       "      <td>47</td>\n",
       "      <td>2374.75</td>\n",
       "      <td>478.02</td>\n",
       "      <td>1896.73</td>\n",
       "      <td>27640.04</td>\n",
       "      <td>48518.73</td>\n",
       "      <td>63094.51</td>\n",
       "    </tr>\n",
       "    <tr>\n",
       "      <th>47</th>\n",
       "      <td>48</td>\n",
       "      <td>2374.75</td>\n",
       "      <td>447.32</td>\n",
       "      <td>1927.43</td>\n",
       "      <td>25712.61</td>\n",
       "      <td>48966.05</td>\n",
       "      <td>65021.94</td>\n",
       "    </tr>\n",
       "    <tr>\n",
       "      <th>48</th>\n",
       "      <td>49</td>\n",
       "      <td>2374.75</td>\n",
       "      <td>416.13</td>\n",
       "      <td>1958.62</td>\n",
       "      <td>23753.99</td>\n",
       "      <td>49382.18</td>\n",
       "      <td>66980.56</td>\n",
       "    </tr>\n",
       "    <tr>\n",
       "      <th>49</th>\n",
       "      <td>50</td>\n",
       "      <td>2374.75</td>\n",
       "      <td>384.43</td>\n",
       "      <td>1990.32</td>\n",
       "      <td>21763.67</td>\n",
       "      <td>49766.61</td>\n",
       "      <td>68970.88</td>\n",
       "    </tr>\n",
       "    <tr>\n",
       "      <th>50</th>\n",
       "      <td>51</td>\n",
       "      <td>2374.75</td>\n",
       "      <td>352.22</td>\n",
       "      <td>2022.53</td>\n",
       "      <td>19741.14</td>\n",
       "      <td>50118.83</td>\n",
       "      <td>70993.41</td>\n",
       "    </tr>\n",
       "    <tr>\n",
       "      <th>51</th>\n",
       "      <td>52</td>\n",
       "      <td>2374.75</td>\n",
       "      <td>319.49</td>\n",
       "      <td>2055.26</td>\n",
       "      <td>17685.87</td>\n",
       "      <td>50438.32</td>\n",
       "      <td>73048.67</td>\n",
       "    </tr>\n",
       "    <tr>\n",
       "      <th>52</th>\n",
       "      <td>53</td>\n",
       "      <td>2374.75</td>\n",
       "      <td>286.22</td>\n",
       "      <td>2088.53</td>\n",
       "      <td>15597.35</td>\n",
       "      <td>50724.54</td>\n",
       "      <td>75137.20</td>\n",
       "    </tr>\n",
       "    <tr>\n",
       "      <th>53</th>\n",
       "      <td>54</td>\n",
       "      <td>2374.75</td>\n",
       "      <td>252.42</td>\n",
       "      <td>2122.33</td>\n",
       "      <td>13475.02</td>\n",
       "      <td>50976.96</td>\n",
       "      <td>77259.53</td>\n",
       "    </tr>\n",
       "    <tr>\n",
       "      <th>54</th>\n",
       "      <td>55</td>\n",
       "      <td>2374.75</td>\n",
       "      <td>218.08</td>\n",
       "      <td>2156.67</td>\n",
       "      <td>11318.35</td>\n",
       "      <td>51195.04</td>\n",
       "      <td>79416.20</td>\n",
       "    </tr>\n",
       "    <tr>\n",
       "      <th>55</th>\n",
       "      <td>56</td>\n",
       "      <td>2374.75</td>\n",
       "      <td>183.17</td>\n",
       "      <td>2191.58</td>\n",
       "      <td>9126.77</td>\n",
       "      <td>51378.21</td>\n",
       "      <td>81607.78</td>\n",
       "    </tr>\n",
       "    <tr>\n",
       "      <th>56</th>\n",
       "      <td>57</td>\n",
       "      <td>2374.75</td>\n",
       "      <td>147.71</td>\n",
       "      <td>2227.04</td>\n",
       "      <td>6899.73</td>\n",
       "      <td>51525.92</td>\n",
       "      <td>83834.82</td>\n",
       "    </tr>\n",
       "    <tr>\n",
       "      <th>57</th>\n",
       "      <td>58</td>\n",
       "      <td>2374.75</td>\n",
       "      <td>111.66</td>\n",
       "      <td>2263.09</td>\n",
       "      <td>4636.64</td>\n",
       "      <td>51637.58</td>\n",
       "      <td>86097.91</td>\n",
       "    </tr>\n",
       "    <tr>\n",
       "      <th>58</th>\n",
       "      <td>59</td>\n",
       "      <td>2374.75</td>\n",
       "      <td>75.04</td>\n",
       "      <td>2299.71</td>\n",
       "      <td>2336.93</td>\n",
       "      <td>51712.62</td>\n",
       "      <td>88397.62</td>\n",
       "    </tr>\n",
       "    <tr>\n",
       "      <th>59</th>\n",
       "      <td>60</td>\n",
       "      <td>2374.75</td>\n",
       "      <td>37.82</td>\n",
       "      <td>2336.93</td>\n",
       "      <td>-0.00</td>\n",
       "      <td>51750.44</td>\n",
       "      <td>90734.55</td>\n",
       "    </tr>\n",
       "  </tbody>\n",
       "</table>\n",
       "</div>"
      ],
      "text/plain": [
       "    Mês  Prestação Mensal (R$)  Parcela de Juros (R$)  \\\n",
       "0     1                2374.75                1468.43   \n",
       "1     2                2374.75                1453.76   \n",
       "2     3                2374.75                1438.86   \n",
       "3     4                2374.75                1423.71   \n",
       "4     5                2374.75                1408.32   \n",
       "5     6                2374.75                1392.68   \n",
       "6     7                2374.75                1376.78   \n",
       "7     8                2374.75                1360.63   \n",
       "8     9                2374.75                1344.22   \n",
       "9    10                2374.75                1327.54   \n",
       "10   11                2374.75                1310.59   \n",
       "11   12                2374.75                1293.37   \n",
       "12   13                2374.75                1275.87   \n",
       "13   14                2374.75                1258.09   \n",
       "14   15                2374.75                1240.02   \n",
       "15   16                2374.75                1221.65   \n",
       "16   17                2374.75                1202.99   \n",
       "17   18                2374.75                1184.03   \n",
       "18   19                2374.75                1164.76   \n",
       "19   20                2374.75                1145.17   \n",
       "20   21                2374.75                1125.28   \n",
       "21   22                2374.75                1105.05   \n",
       "22   23                2374.75                1084.51   \n",
       "23   24                2374.75                1063.62   \n",
       "24   25                2374.75                1042.41   \n",
       "25   26                2374.75                1020.84   \n",
       "26   27                2374.75                 998.93   \n",
       "27   28                2374.75                 976.67   \n",
       "28   29                2374.75                 954.04   \n",
       "29   30                2374.75                 931.05   \n",
       "30   31                2374.75                 907.68   \n",
       "31   32                2374.75                 883.94   \n",
       "32   33                2374.75                 859.81   \n",
       "33   34                2374.75                 835.30   \n",
       "34   35                2374.75                 810.38   \n",
       "35   36                2374.75                 785.06   \n",
       "36   37                2374.75                 759.34   \n",
       "37   38                2374.75                 733.19   \n",
       "38   39                2374.75                 706.63   \n",
       "39   40                2374.75                 679.63   \n",
       "40   41                2374.75                 652.20   \n",
       "41   42                2374.75                 624.32   \n",
       "42   43                2374.75                 595.99   \n",
       "43   44                2374.75                 567.20   \n",
       "44   45                2374.75                 537.95   \n",
       "45   46                2374.75                 508.22   \n",
       "46   47                2374.75                 478.02   \n",
       "47   48                2374.75                 447.32   \n",
       "48   49                2374.75                 416.13   \n",
       "49   50                2374.75                 384.43   \n",
       "50   51                2374.75                 352.22   \n",
       "51   52                2374.75                 319.49   \n",
       "52   53                2374.75                 286.22   \n",
       "53   54                2374.75                 252.42   \n",
       "54   55                2374.75                 218.08   \n",
       "55   56                2374.75                 183.17   \n",
       "56   57                2374.75                 147.71   \n",
       "57   58                2374.75                 111.66   \n",
       "58   59                2374.75                  75.04   \n",
       "59   60                2374.75                  37.82   \n",
       "\n",
       "    Amortização do Principal (R$)  Saldo Devedor (R$)  Juros Acumulados (R$)  \\\n",
       "0                          906.32            89828.24                1468.43   \n",
       "1                          920.99            88907.25                2922.19   \n",
       "2                          935.89            87971.35                4361.05   \n",
       "3                          951.04            87020.31                5784.76   \n",
       "4                          966.43            86053.88                7193.08   \n",
       "5                          982.07            85071.81                8585.76   \n",
       "6                          997.97            84073.84                9962.54   \n",
       "7                         1014.12            83059.72               11323.17   \n",
       "8                         1030.53            82029.20               12667.39   \n",
       "9                         1047.21            80981.99               13994.93   \n",
       "10                        1064.15            79917.83               15305.52   \n",
       "11                        1081.38            78836.46               16598.89   \n",
       "12                        1098.88            77737.58               17874.76   \n",
       "13                        1116.66            76620.92               19132.85   \n",
       "14                        1134.73            75486.18               20372.87   \n",
       "15                        1153.10            74333.08               21594.52   \n",
       "16                        1171.76            73161.33               22797.51   \n",
       "17                        1190.72            71970.60               23981.54   \n",
       "18                        1209.99            70760.61               25146.30   \n",
       "19                        1229.58            69531.03               26291.47   \n",
       "20                        1249.47            68281.56               27416.75   \n",
       "21                        1269.70            67011.86               28521.80   \n",
       "22                        1290.24            65721.62               29606.31   \n",
       "23                        1311.13            64410.49               30669.93   \n",
       "24                        1332.34            63078.15               31712.34   \n",
       "25                        1353.91            61724.24               32733.18   \n",
       "26                        1375.82            60348.42               33732.11   \n",
       "27                        1398.08            58950.34               34708.78   \n",
       "28                        1420.71            57529.63               35662.82   \n",
       "29                        1443.70            56085.93               36593.87   \n",
       "30                        1467.07            54618.86               37501.55   \n",
       "31                        1490.81            53128.05               38385.49   \n",
       "32                        1514.94            51613.11               39245.30   \n",
       "33                        1539.45            50073.66               40080.60   \n",
       "34                        1564.37            48509.29               40890.98   \n",
       "35                        1589.69            46919.60               41676.04   \n",
       "36                        1615.41            45304.19               42435.38   \n",
       "37                        1641.56            43662.63               43168.57   \n",
       "38                        1668.12            41994.51               43875.20   \n",
       "39                        1695.12            40299.39               44554.83   \n",
       "40                        1722.55            38576.84               45207.03   \n",
       "41                        1750.43            36826.40               45831.35   \n",
       "42                        1778.76            35047.65               46427.34   \n",
       "43                        1807.55            33240.10               46994.54   \n",
       "44                        1836.80            31403.30               47532.49   \n",
       "45                        1866.53            29536.77               48040.71   \n",
       "46                        1896.73            27640.04               48518.73   \n",
       "47                        1927.43            25712.61               48966.05   \n",
       "48                        1958.62            23753.99               49382.18   \n",
       "49                        1990.32            21763.67               49766.61   \n",
       "50                        2022.53            19741.14               50118.83   \n",
       "51                        2055.26            17685.87               50438.32   \n",
       "52                        2088.53            15597.35               50724.54   \n",
       "53                        2122.33            13475.02               50976.96   \n",
       "54                        2156.67            11318.35               51195.04   \n",
       "55                        2191.58             9126.77               51378.21   \n",
       "56                        2227.04             6899.73               51525.92   \n",
       "57                        2263.09             4636.64               51637.58   \n",
       "58                        2299.71             2336.93               51712.62   \n",
       "59                        2336.93               -0.00               51750.44   \n",
       "\n",
       "    Amortização Acumulada (R$)  \n",
       "0                       906.32  \n",
       "1                      1827.31  \n",
       "2                      2763.20  \n",
       "3                      3714.24  \n",
       "4                      4680.67  \n",
       "5                      5662.74  \n",
       "6                      6660.71  \n",
       "7                      7674.83  \n",
       "8                      8705.36  \n",
       "9                      9752.57  \n",
       "10                    10816.72  \n",
       "11                    11898.10  \n",
       "12                    12996.98  \n",
       "13                    14113.64  \n",
       "14                    15248.37  \n",
       "15                    16401.47  \n",
       "16                    17573.23  \n",
       "17                    18763.95  \n",
       "18                    19973.94  \n",
       "19                    21203.52  \n",
       "20                    22452.99  \n",
       "21                    23722.69  \n",
       "22                    25012.93  \n",
       "23                    26324.06  \n",
       "24                    27656.40  \n",
       "25                    29010.31  \n",
       "26                    30386.13  \n",
       "27                    31784.21  \n",
       "28                    33204.92  \n",
       "29                    34648.62  \n",
       "30                    36115.69  \n",
       "31                    37606.50  \n",
       "32                    39121.44  \n",
       "33                    40660.89  \n",
       "34                    42225.26  \n",
       "35                    43814.95  \n",
       "36                    45430.36  \n",
       "37                    47071.92  \n",
       "38                    48740.04  \n",
       "39                    50435.16  \n",
       "40                    52157.71  \n",
       "41                    53908.14  \n",
       "42                    55686.90  \n",
       "43                    57494.45  \n",
       "44                    59331.25  \n",
       "45                    61197.78  \n",
       "46                    63094.51  \n",
       "47                    65021.94  \n",
       "48                    66980.56  \n",
       "49                    68970.88  \n",
       "50                    70993.41  \n",
       "51                    73048.67  \n",
       "52                    75137.20  \n",
       "53                    77259.53  \n",
       "54                    79416.20  \n",
       "55                    81607.78  \n",
       "56                    83834.82  \n",
       "57                    86097.91  \n",
       "58                    88397.62  \n",
       "59                    90734.55  "
      ]
     },
     "execution_count": 3,
     "metadata": {},
     "output_type": "execute_result"
    }
   ],
   "source": [
    "simulador_carro(r=anual_efetiva, t=60, valor_total_bem=109_710, entrada_percentual=0.2)"
   ]
  },
  {
   "cell_type": "markdown",
   "metadata": {},
   "source": [
    "# Questão 2:"
   ]
  },
  {
   "cell_type": "markdown",
   "metadata": {},
   "source": [
    "### 2)\n",
    "- FINANCIAMENTO DE IMÓVEL VIA TABELA SAC COM A ENTRADA MÍNIMA EXIGIDA PELA INSTITUIÇÃO.\n",
    "- ANALISAR O TOTAL DE JUROS PAGOS\n",
    "- ANALISAR O PROPORCIONAL DE QUANTAS VEZES SE PAGA SOBRE O VALOR A VISTA\n",
    "- COMPROVAR A FONTE DOS DADOS NO RELATÓRIO\n",
    "\n",
    "##### Premissas:\n",
    "- Apartamento de 60 metros quadrados, centro do rio\n",
    "- Banco  de financiamento: Santander\n",
    "- Juros: 9,10% anual\n",
    "- CET: 9,77% anual\n",
    "- TR: 1% anual\n",
    "- Entrada: 20%\n",
    "- Periodo: 240 meses\n",
    "\n",
    "Fonte casa: https://www.quintoandar.com.br/imovel/893665808/comprar/apartamento-2-quartos-centro-rio-de-janeiro?from_route=%22search_results%22&house_tags=buyRented&house_tags=visualized&search_id=%22d4746a94-fb59-4f3f-b1e3-a10bc0e9e74a%22&search_rank=%7B%22sortMode%22%3A%22relevance%22%2C%22searchMode%22%3A%22list%22%2C%22resultsOrigin%22%3A%22search%22%2C%22personalization%22%3Atrue%7D\n",
    "\n",
    "Fonte financiamento: https://www.financiamento.com.br/simulador/index.php#\n"
   ]
  },
  {
   "cell_type": "code",
   "execution_count": 4,
   "metadata": {
    "ExecuteTime": {
     "end_time": "2025-06-01T19:02:33.121780Z",
     "start_time": "2025-06-01T19:02:32.865521Z"
    }
   },
   "outputs": [
    {
     "name": "stdout",
     "output_type": "stream",
     "text": [
      "--- Resumo da Simulação de Financiamento Imobiliário (Amortização Recalculada com CET e TR) ---\n",
      "Valor total do bem: R$315,000.00\n",
      "Entrada (20.0%): R$63,000.00\n",
      "Valor Financiado (PV): R$252,000.00\n",
      "Custo Efetivo Total (CET) Anual: 9.77% a.a.\n",
      "Taxa Referencial (TR) Anual: 1.00% a.a.\n",
      "Prazo do Financiamento: 240 meses\n",
      "--------------------------------------------------------------------\n",
      "Taxa CET Mensal (calculada): 0.779834% a.m.\n",
      "Taxa TR Mensal (calculada): 0.082954% a.m.\n",
      "--------------------------------------------------------------------\n",
      "\n",
      "Gerando gráficos da evolução do financiamento...\n"
     ]
    },
    {
     "data": {
      "application/vnd.plotly.v1+json": {
       "config": {
        "plotlyServerURL": "https://plot.ly"
       },
       "data": [
        {
         "hovertemplate": "Legenda=Juros Acumulados (R$)<br>Mês=%{x}<br>Valor (R$)=%{y}<extra></extra>",
         "legendgroup": "Juros Acumulados (R$)",
         "line": {
          "color": "green",
          "dash": "solid"
         },
         "marker": {
          "symbol": "circle"
         },
         "mode": "lines",
         "name": "Juros Acumulados (R$)",
         "orientation": "v",
         "showlegend": true,
         "type": "scatter",
         "x": [
          1,
          2,
          3,
          4,
          5,
          6,
          7,
          8,
          9,
          10,
          11,
          12,
          13,
          14,
          15,
          16,
          17,
          18,
          19,
          20,
          21,
          22,
          23,
          24,
          25,
          26,
          27,
          28,
          29,
          30,
          31,
          32,
          33,
          34,
          35,
          36,
          37,
          38,
          39,
          40,
          41,
          42,
          43,
          44,
          45,
          46,
          47,
          48,
          49,
          50,
          51,
          52,
          53,
          54,
          55,
          56,
          57,
          58,
          59,
          60,
          61,
          62,
          63,
          64,
          65,
          66,
          67,
          68,
          69,
          70,
          71,
          72,
          73,
          74,
          75,
          76,
          77,
          78,
          79,
          80,
          81,
          82,
          83,
          84,
          85,
          86,
          87,
          88,
          89,
          90,
          91,
          92,
          93,
          94,
          95,
          96,
          97,
          98,
          99,
          100,
          101,
          102,
          103,
          104,
          105,
          106,
          107,
          108,
          109,
          110,
          111,
          112,
          113,
          114,
          115,
          116,
          117,
          118,
          119,
          120,
          121,
          122,
          123,
          124,
          125,
          126,
          127,
          128,
          129,
          130,
          131,
          132,
          133,
          134,
          135,
          136,
          137,
          138,
          139,
          140,
          141,
          142,
          143,
          144,
          145,
          146,
          147,
          148,
          149,
          150,
          151,
          152,
          153,
          154,
          155,
          156,
          157,
          158,
          159,
          160,
          161,
          162,
          163,
          164,
          165,
          166,
          167,
          168,
          169,
          170,
          171,
          172,
          173,
          174,
          175,
          176,
          177,
          178,
          179,
          180,
          181,
          182,
          183,
          184,
          185,
          186,
          187,
          188,
          189,
          190,
          191,
          192,
          193,
          194,
          195,
          196,
          197,
          198,
          199,
          200,
          201,
          202,
          203,
          204,
          205,
          206,
          207,
          208,
          209,
          210,
          211,
          212,
          213,
          214,
          215,
          216,
          217,
          218,
          219,
          220,
          221,
          222,
          223,
          224,
          225,
          226,
          227,
          228,
          229,
          230,
          231,
          232,
          233,
          234,
          235,
          236,
          237,
          238,
          239,
          240
         ],
         "xaxis": "x",
         "y": [
          1966.81,
          3927.05,
          5880.71,
          7827.77,
          9768.23,
          11702.07,
          13629.279999999999,
          15549.839999999998,
          17463.75,
          19370.99,
          21271.550000000003,
          23165.410000000003,
          25052.570000000003,
          26933.010000000002,
          28806.72,
          30673.68,
          32533.89,
          34387.33,
          36233.990000000005,
          38073.86000000001,
          39906.920000000006,
          41733.16,
          43552.57000000001,
          45365.14000000001,
          47170.850000000006,
          48969.69,
          50761.65,
          52546.72,
          54324.880000000005,
          56096.12,
          57860.43,
          59617.79,
          61368.200000000004,
          63111.630000000005,
          64848.08,
          66577.54000000001,
          68299.99,
          70015.42,
          71723.81,
          73425.15,
          75119.43,
          76806.64,
          78486.76,
          80159.79,
          81825.7,
          83484.48999999999,
          85136.13999999998,
          86780.63999999998,
          88417.97999999998,
          90048.13999999998,
          91671.10999999999,
          93286.87999999999,
          94895.43,
          96496.75,
          98090.83,
          99677.66,
          101257.22,
          102829.5,
          104394.48,
          105952.15999999999,
          107502.51,
          109045.53,
          110581.2,
          112109.51,
          113630.45,
          115144,
          116650.15,
          118148.89,
          119640.2,
          121124.06999999999,
          122600.48999999999,
          124069.43999999999,
          125530.90999999999,
          126984.87999999999,
          128431.34999999999,
          129870.29,
          131301.69999999998,
          132725.55999999997,
          134141.85999999996,
          135550.58999999997,
          136951.72999999998,
          138345.27,
          139731.19,
          141109.48,
          142480.13,
          143843.12,
          145198.44,
          146546.08000000002,
          147886.02000000002,
          149218.25000000003,
          150542.75000000003,
          151859.51000000004,
          153168.52000000005,
          154469.77000000005,
          155763.24000000005,
          157048.91000000006,
          158326.78000000006,
          159596.82000000007,
          160859.03000000006,
          162113.39000000004,
          163359.89000000004,
          164598.51000000004,
          165829.24000000005,
          167052.06000000006,
          168266.97000000006,
          169473.94000000006,
          170672.97000000006,
          171864.04000000007,
          173047.13000000006,
          174222.23000000007,
          175389.33000000007,
          176548.41000000006,
          177699.46000000005,
          178842.47000000006,
          179977.42000000007,
          181104.29000000007,
          182223.07000000007,
          183333.75000000006,
          184436.32000000007,
          185530.76000000007,
          186617.05000000008,
          187695.18000000008,
          188765.14000000007,
          189826.91000000006,
          190880.48000000007,
          191925.83000000007,
          192962.95000000007,
          193991.83000000007,
          195012.45000000007,
          196024.80000000008,
          197028.86000000007,
          198024.62000000008,
          199012.06000000008,
          199991.17000000007,
          200961.93000000008,
          201924.33000000007,
          202878.36000000007,
          203824.0000000001,
          204761.2300000001,
          205690.0400000001,
          206610.4200000001,
          207522.3500000001,
          208425.8200000001,
          209320.81000000008,
          210207.31000000008,
          211085.30000000008,
          211954.77000000008,
          212815.71000000008,
          213668.1000000001,
          214511.9200000001,
          215347.1600000001,
          216173.8000000001,
          216991.8300000001,
          217801.2400000001,
          218602.0100000001,
          219394.1300000001,
          220177.5800000001,
          220952.3400000001,
          221718.4000000001,
          222475.75000000012,
          223224.3700000001,
          223964.2400000001,
          224695.3500000001,
          225417.6900000001,
          226131.24000000008,
          226835.98000000007,
          227531.90000000008,
          228218.99000000008,
          228897.23000000007,
          229566.60000000006,
          230227.09000000005,
          230878.69000000006,
          231521.38000000006,
          232155.14000000007,
          232779.96000000008,
          233395.82000000007,
          234002.71000000008,
          234600.62000000008,
          235189.52000000008,
          235769.4100000001,
          236340.2600000001,
          236902.06000000008,
          237454.80000000008,
          237998.46000000008,
          238533.0300000001,
          239058.4800000001,
          239574.81000000008,
          240082.0000000001,
          240580.0300000001,
          241068.89000000007,
          241548.56000000008,
          242019.0300000001,
          242480.2800000001,
          242932.2900000001,
          243375.0500000001,
          243808.5500000001,
          244232.7700000001,
          244647.69000000012,
          245053.3000000001,
          245449.5800000001,
          245836.5100000001,
          246214.0800000001,
          246582.28000000012,
          246941.0800000001,
          247290.4800000001,
          247630.4500000001,
          247960.9800000001,
          248282.06000000008,
          248593.67000000007,
          248895.79000000007,
          249188.41000000006,
          249471.51000000007,
          249745.07000000007,
          250009.08000000007,
          250263.52000000008,
          250508.38000000006,
          250743.64000000007,
          250969.2800000001,
          251185.2900000001,
          251391.65000000008,
          251588.3500000001,
          251775.37000000008,
          251952.6900000001,
          252120.30000000008,
          252278.18000000008,
          252426.3200000001,
          252564.7000000001,
          252693.3000000001,
          252812.1100000001,
          252921.1100000001,
          253020.28000000012,
          253109.6100000001,
          253189.0800000001,
          253258.6700000001,
          253318.3700000001,
          253368.16000000012,
          253408.03000000012,
          253437.95000000013,
          253457.92000000013,
          253467.91000000012
         ],
         "yaxis": "y"
        },
        {
         "hovertemplate": "Legenda=Amortização Acumulada (R$)<br>Mês=%{x}<br>Valor (R$)=%{y}<extra></extra>",
         "legendgroup": "Amortização Acumulada (R$)",
         "line": {
          "color": "blue",
          "dash": "solid"
         },
         "marker": {
          "symbol": "circle"
         },
         "mode": "lines",
         "name": "Amortização Acumulada (R$)",
         "orientation": "v",
         "showlegend": true,
         "type": "scatter",
         "x": [
          1,
          2,
          3,
          4,
          5,
          6,
          7,
          8,
          9,
          10,
          11,
          12,
          13,
          14,
          15,
          16,
          17,
          18,
          19,
          20,
          21,
          22,
          23,
          24,
          25,
          26,
          27,
          28,
          29,
          30,
          31,
          32,
          33,
          34,
          35,
          36,
          37,
          38,
          39,
          40,
          41,
          42,
          43,
          44,
          45,
          46,
          47,
          48,
          49,
          50,
          51,
          52,
          53,
          54,
          55,
          56,
          57,
          58,
          59,
          60,
          61,
          62,
          63,
          64,
          65,
          66,
          67,
          68,
          69,
          70,
          71,
          72,
          73,
          74,
          75,
          76,
          77,
          78,
          79,
          80,
          81,
          82,
          83,
          84,
          85,
          86,
          87,
          88,
          89,
          90,
          91,
          92,
          93,
          94,
          95,
          96,
          97,
          98,
          99,
          100,
          101,
          102,
          103,
          104,
          105,
          106,
          107,
          108,
          109,
          110,
          111,
          112,
          113,
          114,
          115,
          116,
          117,
          118,
          119,
          120,
          121,
          122,
          123,
          124,
          125,
          126,
          127,
          128,
          129,
          130,
          131,
          132,
          133,
          134,
          135,
          136,
          137,
          138,
          139,
          140,
          141,
          142,
          143,
          144,
          145,
          146,
          147,
          148,
          149,
          150,
          151,
          152,
          153,
          154,
          155,
          156,
          157,
          158,
          159,
          160,
          161,
          162,
          163,
          164,
          165,
          166,
          167,
          168,
          169,
          170,
          171,
          172,
          173,
          174,
          175,
          176,
          177,
          178,
          179,
          180,
          181,
          182,
          183,
          184,
          185,
          186,
          187,
          188,
          189,
          190,
          191,
          192,
          193,
          194,
          195,
          196,
          197,
          198,
          199,
          200,
          201,
          202,
          203,
          204,
          205,
          206,
          207,
          208,
          209,
          210,
          211,
          212,
          213,
          214,
          215,
          216,
          217,
          218,
          219,
          220,
          221,
          222,
          223,
          224,
          225,
          226,
          227,
          228,
          229,
          230,
          231,
          232,
          233,
          234,
          235,
          236,
          237,
          238,
          239,
          240
         ],
         "xaxis": "x",
         "y": [
          1050.87,
          2102.6099999999997,
          3155.2299999999996,
          4208.719999999999,
          5263.079999999999,
          6318.319999999999,
          7374.4299999999985,
          8431.419999999998,
          9489.289999999997,
          10548.029999999997,
          11607.649999999998,
          12668.149999999998,
          13729.529999999999,
          14791.789999999999,
          15854.929999999998,
          16918.949999999997,
          17983.859999999997,
          19049.649999999998,
          20116.32,
          21183.88,
          22252.32,
          23321.65,
          24391.870000000003,
          25462.97,
          26534.960000000003,
          27607.840000000004,
          28681.610000000004,
          29756.270000000004,
          30831.820000000003,
          31908.270000000004,
          32985.61,
          34063.840000000004,
          35142.97,
          36222.99,
          37303.909999999996,
          38385.729999999996,
          39468.439999999995,
          40552.049999999996,
          41636.56,
          42721.97,
          43808.28,
          44895.49,
          45983.6,
          47072.619999999995,
          48162.53999999999,
          49253.35999999999,
          50345.09,
          51437.719999999994,
          52531.259999999995,
          53625.70999999999,
          54721.06999999999,
          55817.329999999994,
          56914.49999999999,
          58012.579999999994,
          59111.56999999999,
          60211.479999999996,
          61312.299999999996,
          62414.03,
          63516.68,
          64620.24,
          65724.72,
          66830.11,
          67936.42,
          69043.65,
          70151.79999999999,
          71260.85999999999,
          72370.83999999998,
          73481.74999999999,
          74593.57999999999,
          75706.32999999999,
          76819.99999999999,
          77934.59999999999,
          79050.12,
          80166.56999999999,
          81283.93999999999,
          82402.23999999999,
          83521.46999999999,
          84641.62999999999,
          85762.70999999999,
          86884.71999999999,
          88007.66999999998,
          89131.54999999999,
          90256.35999999999,
          91382.09999999999,
          92508.77999999998,
          93636.38999999998,
          94764.93999999999,
          95894.41999999998,
          97024.83999999998,
          98156.19999999998,
          99288.49999999999,
          100421.72999999998,
          101555.89999999998,
          102691.01999999997,
          103827.07999999997,
          104964.07999999997,
          106102.01999999997,
          107240.90999999997,
          108380.73999999998,
          109521.51999999997,
          110663.23999999998,
          111805.90999999997,
          112949.52999999997,
          114094.09999999998,
          115239.61999999998,
          116386.08999999998,
          117533.50999999998,
          118681.87999999998,
          119831.19999999998,
          120981.47999999998,
          122132.70999999998,
          123284.88999999997,
          124438.02999999997,
          125592.12999999998,
          126747.17999999998,
          127903.18999999997,
          129060.15999999997,
          130218.08999999997,
          131376.97999999998,
          132536.83,
          133697.65,
          134859.43,
          136022.16999999998,
          137185.87999999998,
          138350.55,
          139516.19,
          140682.8,
          141850.37,
          143018.91,
          144188.42,
          145358.90000000002,
          146530.35000000003,
          147702.77000000005,
          148876.17000000004,
          150050.54000000004,
          151225.88000000003,
          152402.20000000004,
          153579.49000000005,
          154757.76000000004,
          155937.01000000004,
          157117.24000000005,
          158298.45000000004,
          159480.64000000004,
          160663.81000000006,
          161847.96000000005,
          163033.09000000005,
          164219.20000000004,
          165406.30000000005,
          166594.38000000003,
          167783.45000000004,
          168973.50000000003,
          170164.54000000004,
          171356.57000000004,
          172549.59000000003,
          173743.60000000003,
          174938.60000000003,
          176134.59000000003,
          177331.57000000004,
          178529.54000000004,
          179728.51000000004,
          180928.47000000003,
          182129.43000000002,
          183331.38000000003,
          184534.33000000005,
          185738.28000000006,
          186943.23000000007,
          188149.18000000008,
          189356.1300000001,
          190564.0800000001,
          191773.03000000012,
          192982.98000000013,
          194193.94000000012,
          195405.9000000001,
          196618.8700000001,
          197832.8400000001,
          199047.82000000012,
          200263.8100000001,
          201480.8100000001,
          202698.82000000012,
          203917.8400000001,
          205137.8700000001,
          206358.91000000012,
          207580.9600000001,
          208804.03000000012,
          210028.1100000001,
          211253.2100000001,
          212479.3200000001,
          213706.4500000001,
          214934.6000000001,
          216163.7700000001,
          217393.9600000001,
          218625.1700000001,
          219857.4000000001,
          221090.6500000001,
          222324.9200000001,
          223560.2200000001,
          224796.5400000001,
          226033.8900000001,
          227272.2600000001,
          228511.6600000001,
          229752.09000000008,
          230993.55000000008,
          232236.04000000007,
          233479.56000000006,
          234724.11000000004,
          235969.69000000003,
          237216.31000000003,
          238463.96000000002,
          239712.65000000002,
          240962.37000000002,
          242213.13000000003,
          243464.93000000002,
          244717.76,
          245971.63,
          247226.54,
          248482.49000000002,
          249739.49000000002,
          250997.53000000003,
          252256.61000000002,
          253516.74000000002,
          254777.91000000003,
          256040.13000000003,
          257303.40000000002,
          258567.71000000002,
          259833.07,
          261099.48,
          262366.94,
          263635.45,
          264905.02,
          266175.64,
          267447.31,
          268720.04,
          269993.82,
          271268.66000000003,
          272544.56000000006,
          273821.5200000001,
          275099.5400000001,
          276378.6200000001,
          277658.7600000001,
          278939.96000000014
         ],
         "yaxis": "y"
        },
        {
         "hovertemplate": "Legenda=Correção TR Acumulada (R$)<br>Mês=%{x}<br>Valor (R$)=%{y}<extra></extra>",
         "legendgroup": "Correção TR Acumulada (R$)",
         "line": {
          "color": "orange",
          "dash": "solid"
         },
         "marker": {
          "symbol": "circle"
         },
         "mode": "lines",
         "name": "Correção TR Acumulada (R$)",
         "orientation": "v",
         "showlegend": true,
         "type": "scatter",
         "x": [
          1,
          2,
          3,
          4,
          5,
          6,
          7,
          8,
          9,
          10,
          11,
          12,
          13,
          14,
          15,
          16,
          17,
          18,
          19,
          20,
          21,
          22,
          23,
          24,
          25,
          26,
          27,
          28,
          29,
          30,
          31,
          32,
          33,
          34,
          35,
          36,
          37,
          38,
          39,
          40,
          41,
          42,
          43,
          44,
          45,
          46,
          47,
          48,
          49,
          50,
          51,
          52,
          53,
          54,
          55,
          56,
          57,
          58,
          59,
          60,
          61,
          62,
          63,
          64,
          65,
          66,
          67,
          68,
          69,
          70,
          71,
          72,
          73,
          74,
          75,
          76,
          77,
          78,
          79,
          80,
          81,
          82,
          83,
          84,
          85,
          86,
          87,
          88,
          89,
          90,
          91,
          92,
          93,
          94,
          95,
          96,
          97,
          98,
          99,
          100,
          101,
          102,
          103,
          104,
          105,
          106,
          107,
          108,
          109,
          110,
          111,
          112,
          113,
          114,
          115,
          116,
          117,
          118,
          119,
          120,
          121,
          122,
          123,
          124,
          125,
          126,
          127,
          128,
          129,
          130,
          131,
          132,
          133,
          134,
          135,
          136,
          137,
          138,
          139,
          140,
          141,
          142,
          143,
          144,
          145,
          146,
          147,
          148,
          149,
          150,
          151,
          152,
          153,
          154,
          155,
          156,
          157,
          158,
          159,
          160,
          161,
          162,
          163,
          164,
          165,
          166,
          167,
          168,
          169,
          170,
          171,
          172,
          173,
          174,
          175,
          176,
          177,
          178,
          179,
          180,
          181,
          182,
          183,
          184,
          185,
          186,
          187,
          188,
          189,
          190,
          191,
          192,
          193,
          194,
          195,
          196,
          197,
          198,
          199,
          200,
          201,
          202,
          203,
          204,
          205,
          206,
          207,
          208,
          209,
          210,
          211,
          212,
          213,
          214,
          215,
          216,
          217,
          218,
          219,
          220,
          221,
          222,
          223,
          224,
          225,
          226,
          227,
          228,
          229,
          230,
          231,
          232,
          233,
          234,
          235,
          236,
          237,
          238,
          239,
          240
         ],
         "xaxis": "x",
         "y": [
          209.04,
          417.39,
          625.04,
          831.98,
          1038.22,
          1243.76,
          1448.59,
          1652.7199999999998,
          1856.1399999999999,
          2058.85,
          2260.85,
          2462.14,
          2662.72,
          2862.58,
          3061.73,
          3260.16,
          3457.87,
          3654.8599999999997,
          3851.1299999999997,
          4046.68,
          4241.51,
          4435.610000000001,
          4628.990000000001,
          4821.64,
          5013.56,
          5204.75,
          5395.21,
          5584.94,
          5773.929999999999,
          5962.19,
          6149.71,
          6336.49,
          6522.53,
          6707.83,
          6892.39,
          7076.21,
          7259.28,
          7441.599999999999,
          7623.179999999999,
          7804.009999999999,
          7984.089999999999,
          8163.419999999999,
          8341.99,
          8519.81,
          8696.869999999999,
          8873.179999999998,
          9048.729999999998,
          9223.519999999999,
          9397.55,
          9570.81,
          9743.31,
          9915.039999999999,
          10086.009999999998,
          10256.21,
          10425.64,
          10594.3,
          10762.179999999998,
          10929.289999999999,
          11095.63,
          11261.189999999999,
          11425.97,
          11589.97,
          11753.189999999999,
          11915.63,
          12077.279999999999,
          12238.15,
          12398.23,
          12557.52,
          12716.02,
          12873.73,
          13030.65,
          13186.779999999999,
          13342.109999999999,
          13496.65,
          13650.39,
          13803.33,
          13955.47,
          14106.81,
          14257.34,
          14407.07,
          14555.99,
          14704.1,
          14851.4,
          14997.89,
          15143.57,
          15288.44,
          15432.49,
          15575.72,
          15718.14,
          15859.74,
          16000.52,
          16140.470000000001,
          16279.6,
          16417.9,
          16555.38,
          16692.030000000002,
          16827.850000000002,
          16962.840000000004,
          17096.990000000005,
          17230.310000000005,
          17362.790000000005,
          17494.440000000006,
          17625.250000000007,
          17755.22000000001,
          17884.35000000001,
          18012.63000000001,
          18140.070000000007,
          18266.660000000007,
          18392.410000000007,
          18517.31000000001,
          18641.360000000008,
          18764.550000000007,
          18886.890000000007,
          19008.370000000006,
          19129.000000000007,
          19248.770000000008,
          19367.680000000008,
          19485.730000000007,
          19602.920000000006,
          19719.240000000005,
          19834.700000000004,
          19949.290000000005,
          20063.010000000006,
          20175.860000000004,
          20287.840000000004,
          20398.950000000004,
          20509.180000000004,
          20618.530000000002,
          20727.010000000002,
          20834.61,
          20941.33,
          21047.160000000003,
          21152.110000000004,
          21256.170000000006,
          21359.350000000006,
          21461.640000000007,
          21563.040000000008,
          21663.550000000007,
          21763.160000000007,
          21861.88000000001,
          21959.700000000008,
          22056.63000000001,
          22152.660000000007,
          22247.780000000006,
          22342.000000000007,
          22435.320000000007,
          22527.730000000007,
          22619.240000000005,
          22709.840000000004,
          22799.530000000002,
          22888.300000000003,
          22976.160000000003,
          23063.110000000004,
          23149.140000000003,
          23234.250000000004,
          23318.440000000002,
          23401.710000000003,
          23484.06,
          23565.48,
          23645.97,
          23725.54,
          23804.18,
          23881.89,
          23958.66,
          24034.5,
          24109.4,
          24183.370000000003,
          24256.4,
          24328.49,
          24399.63,
          24469.83,
          24539.09,
          24607.4,
          24674.760000000002,
          24741.170000000002,
          24806.63,
          24871.13,
          24934.68,
          24997.27,
          25058.9,
          25119.57,
          25179.28,
          25238.03,
          25295.809999999998,
          25352.629999999997,
          25408.479999999996,
          25463.359999999997,
          25517.269999999997,
          25570.199999999997,
          25622.159999999996,
          25673.139999999996,
          25723.139999999996,
          25772.159999999996,
          25820.199999999997,
          25867.26,
          25913.329999999998,
          25958.42,
          26002.519999999997,
          26045.629999999997,
          26087.749999999996,
          26128.879999999997,
          26169.01,
          26208.14,
          26246.28,
          26283.42,
          26319.55,
          26354.68,
          26388.81,
          26421.93,
          26454.04,
          26485.14,
          26515.23,
          26544.31,
          26572.370000000003,
          26599.410000000003,
          26625.430000000004,
          26650.430000000004,
          26674.410000000003,
          26697.370000000003,
          26719.300000000003,
          26740.210000000003,
          26760.090000000004,
          26778.940000000002,
          26796.750000000004,
          26813.530000000002,
          26829.270000000004,
          26843.980000000003,
          26857.65,
          26870.280000000002,
          26881.860000000004,
          26892.400000000005,
          26901.890000000007,
          26910.340000000007,
          26917.74000000001,
          26924.090000000007,
          26929.38000000001,
          26933.62000000001,
          26936.80000000001,
          26938.92000000001,
          26939.98000000001
         ],
         "yaxis": "y"
        },
        {
         "hovertemplate": "Legenda=Saldo Devedor Final (R$)<br>Mês=%{x}<br>Valor (R$)=%{y}<extra></extra>",
         "legendgroup": "Saldo Devedor Final (R$)",
         "line": {
          "color": "red",
          "dash": "solid"
         },
         "marker": {
          "symbol": "circle"
         },
         "mode": "lines",
         "name": "Saldo Devedor Final (R$)",
         "orientation": "v",
         "showlegend": true,
         "type": "scatter",
         "x": [
          1,
          2,
          3,
          4,
          5,
          6,
          7,
          8,
          9,
          10,
          11,
          12,
          13,
          14,
          15,
          16,
          17,
          18,
          19,
          20,
          21,
          22,
          23,
          24,
          25,
          26,
          27,
          28,
          29,
          30,
          31,
          32,
          33,
          34,
          35,
          36,
          37,
          38,
          39,
          40,
          41,
          42,
          43,
          44,
          45,
          46,
          47,
          48,
          49,
          50,
          51,
          52,
          53,
          54,
          55,
          56,
          57,
          58,
          59,
          60,
          61,
          62,
          63,
          64,
          65,
          66,
          67,
          68,
          69,
          70,
          71,
          72,
          73,
          74,
          75,
          76,
          77,
          78,
          79,
          80,
          81,
          82,
          83,
          84,
          85,
          86,
          87,
          88,
          89,
          90,
          91,
          92,
          93,
          94,
          95,
          96,
          97,
          98,
          99,
          100,
          101,
          102,
          103,
          104,
          105,
          106,
          107,
          108,
          109,
          110,
          111,
          112,
          113,
          114,
          115,
          116,
          117,
          118,
          119,
          120,
          121,
          122,
          123,
          124,
          125,
          126,
          127,
          128,
          129,
          130,
          131,
          132,
          133,
          134,
          135,
          136,
          137,
          138,
          139,
          140,
          141,
          142,
          143,
          144,
          145,
          146,
          147,
          148,
          149,
          150,
          151,
          152,
          153,
          154,
          155,
          156,
          157,
          158,
          159,
          160,
          161,
          162,
          163,
          164,
          165,
          166,
          167,
          168,
          169,
          170,
          171,
          172,
          173,
          174,
          175,
          176,
          177,
          178,
          179,
          180,
          181,
          182,
          183,
          184,
          185,
          186,
          187,
          188,
          189,
          190,
          191,
          192,
          193,
          194,
          195,
          196,
          197,
          198,
          199,
          200,
          201,
          202,
          203,
          204,
          205,
          206,
          207,
          208,
          209,
          210,
          211,
          212,
          213,
          214,
          215,
          216,
          217,
          218,
          219,
          220,
          221,
          222,
          223,
          224,
          225,
          226,
          227,
          228,
          229,
          230,
          231,
          232,
          233,
          234,
          235,
          236,
          237,
          238,
          239,
          240
         ],
         "xaxis": "x",
         "y": [
          251158.17,
          250314.78,
          249469.81,
          248623.26,
          247775.14,
          246925.44,
          246074.17,
          245221.31,
          244366.86,
          243510.83,
          242653.21,
          241794,
          240933.2,
          240070.8,
          239206.81,
          238341.22,
          237474.02,
          236605.23,
          235734.83,
          234862.82,
          233989.2,
          233113.98,
          232237.14,
          231358.68,
          230478.61,
          229596.92,
          228713.6,
          227828.67,
          226942.1,
          226053.91,
          225164.09,
          224272.64,
          223379.56,
          222484.83,
          221588.47,
          220690.47,
          219790.83,
          218889.55,
          217986.61,
          217082.03,
          216175.8,
          215267.91,
          214358.37,
          213447.17,
          212534.32,
          211619.8,
          210703.62,
          209785.77,
          208866.25,
          207945.07,
          207022.21,
          206097.68,
          205171.47,
          204243.59,
          203314.02,
          202382.77,
          201449.83,
          200515.21,
          199578.9,
          198640.9,
          197701.2,
          196759.81,
          195816.72,
          194871.93,
          193925.44,
          192977.25,
          192027.34,
          191075.73,
          190122.41,
          189167.37,
          188210.62,
          187252.15,
          186291.97,
          185330.06,
          184366.42,
          183401.06,
          182433.97,
          181465.15,
          180494.6,
          179522.32,
          178548.29,
          177572.53,
          176595.02,
          175615.77,
          174634.77,
          173652.03,
          172667.54,
          171681.29,
          170693.28,
          169703.52,
          168712,
          167718.72,
          166723.68,
          165726.87,
          164728.29,
          163727.93,
          162725.81,
          161721.91,
          160716.23,
          159708.78,
          158699.54,
          157688.51,
          156675.71,
          155661.11,
          154644.72,
          153626.53,
          152606.56,
          151584.78,
          150561.2,
          149535.82,
          148508.64,
          147479.65,
          146448.85,
          145416.23,
          144381.81,
          143345.57,
          142307.51,
          141267.62,
          140225.92,
          139182.39,
          138137.03,
          137089.84,
          136040.82,
          134989.96,
          133937.27,
          132882.74,
          131826.37,
          130768.15,
          129708.08,
          128646.17,
          127582.41,
          126516.79,
          125449.32,
          124379.99,
          123308.79,
          122235.74,
          121160.82,
          120084.03,
          119005.38,
          117924.85,
          116842.44,
          115758.16,
          114672,
          113583.96,
          112494.04,
          111402.23,
          110308.52,
          109212.93,
          108115.45,
          107016.07,
          105914.79,
          104811.61,
          103706.52,
          102599.53,
          101490.63,
          100379.83,
          99267.11,
          98152.47,
          97035.92,
          95917.45,
          94797.05,
          93674.73,
          92550.48,
          91424.3,
          90296.2,
          89166.15,
          88034.17,
          86900.25,
          85764.39,
          84626.58,
          83486.83,
          82345.13,
          81201.47,
          80055.87,
          78908.3,
          77758.78,
          76607.29,
          75453.84,
          74298.43,
          73141.04,
          71981.69,
          70820.36,
          69657.05,
          68491.77,
          67324.5,
          66155.26,
          64984.02,
          63810.8,
          62635.58,
          61458.37,
          60279.17,
          59097.96,
          57914.76,
          56729.55,
          55542.34,
          54353.11,
          53161.88,
          51968.63,
          50773.36,
          49576.08,
          48376.78,
          47175.45,
          45972.09,
          44766.71,
          43559.29,
          42349.84,
          41138.36,
          39924.83,
          38709.26,
          37491.65,
          36272,
          35050.29,
          33826.53,
          32600.72,
          31372.85,
          30142.92,
          28910.92,
          27676.87,
          26440.74,
          25202.55,
          23962.28,
          22719.94,
          21475.52,
          20229.02,
          18980.44,
          17729.77,
          16477.02,
          15222.17,
          13965.23,
          12706.2,
          11445.06,
          10181.83,
          8916.49,
          7649.05,
          6379.49,
          5107.83,
          3834.05,
          2558.15,
          1280.14,
          0
         ],
         "yaxis": "y"
        }
       ],
       "layout": {
        "legend": {
         "title": {
          "text": "Legenda"
         },
         "tracegroupgap": 0
        },
        "template": {
         "data": {
          "bar": [
           {
            "error_x": {
             "color": "#2a3f5f"
            },
            "error_y": {
             "color": "#2a3f5f"
            },
            "marker": {
             "line": {
              "color": "#E5ECF6",
              "width": 0.5
             },
             "pattern": {
              "fillmode": "overlay",
              "size": 10,
              "solidity": 0.2
             }
            },
            "type": "bar"
           }
          ],
          "barpolar": [
           {
            "marker": {
             "line": {
              "color": "#E5ECF6",
              "width": 0.5
             },
             "pattern": {
              "fillmode": "overlay",
              "size": 10,
              "solidity": 0.2
             }
            },
            "type": "barpolar"
           }
          ],
          "carpet": [
           {
            "aaxis": {
             "endlinecolor": "#2a3f5f",
             "gridcolor": "white",
             "linecolor": "white",
             "minorgridcolor": "white",
             "startlinecolor": "#2a3f5f"
            },
            "baxis": {
             "endlinecolor": "#2a3f5f",
             "gridcolor": "white",
             "linecolor": "white",
             "minorgridcolor": "white",
             "startlinecolor": "#2a3f5f"
            },
            "type": "carpet"
           }
          ],
          "choropleth": [
           {
            "colorbar": {
             "outlinewidth": 0,
             "ticks": ""
            },
            "type": "choropleth"
           }
          ],
          "contour": [
           {
            "colorbar": {
             "outlinewidth": 0,
             "ticks": ""
            },
            "colorscale": [
             [
              0,
              "#0d0887"
             ],
             [
              0.1111111111111111,
              "#46039f"
             ],
             [
              0.2222222222222222,
              "#7201a8"
             ],
             [
              0.3333333333333333,
              "#9c179e"
             ],
             [
              0.4444444444444444,
              "#bd3786"
             ],
             [
              0.5555555555555556,
              "#d8576b"
             ],
             [
              0.6666666666666666,
              "#ed7953"
             ],
             [
              0.7777777777777778,
              "#fb9f3a"
             ],
             [
              0.8888888888888888,
              "#fdca26"
             ],
             [
              1,
              "#f0f921"
             ]
            ],
            "type": "contour"
           }
          ],
          "contourcarpet": [
           {
            "colorbar": {
             "outlinewidth": 0,
             "ticks": ""
            },
            "type": "contourcarpet"
           }
          ],
          "heatmap": [
           {
            "colorbar": {
             "outlinewidth": 0,
             "ticks": ""
            },
            "colorscale": [
             [
              0,
              "#0d0887"
             ],
             [
              0.1111111111111111,
              "#46039f"
             ],
             [
              0.2222222222222222,
              "#7201a8"
             ],
             [
              0.3333333333333333,
              "#9c179e"
             ],
             [
              0.4444444444444444,
              "#bd3786"
             ],
             [
              0.5555555555555556,
              "#d8576b"
             ],
             [
              0.6666666666666666,
              "#ed7953"
             ],
             [
              0.7777777777777778,
              "#fb9f3a"
             ],
             [
              0.8888888888888888,
              "#fdca26"
             ],
             [
              1,
              "#f0f921"
             ]
            ],
            "type": "heatmap"
           }
          ],
          "heatmapgl": [
           {
            "colorbar": {
             "outlinewidth": 0,
             "ticks": ""
            },
            "colorscale": [
             [
              0,
              "#0d0887"
             ],
             [
              0.1111111111111111,
              "#46039f"
             ],
             [
              0.2222222222222222,
              "#7201a8"
             ],
             [
              0.3333333333333333,
              "#9c179e"
             ],
             [
              0.4444444444444444,
              "#bd3786"
             ],
             [
              0.5555555555555556,
              "#d8576b"
             ],
             [
              0.6666666666666666,
              "#ed7953"
             ],
             [
              0.7777777777777778,
              "#fb9f3a"
             ],
             [
              0.8888888888888888,
              "#fdca26"
             ],
             [
              1,
              "#f0f921"
             ]
            ],
            "type": "heatmapgl"
           }
          ],
          "histogram": [
           {
            "marker": {
             "pattern": {
              "fillmode": "overlay",
              "size": 10,
              "solidity": 0.2
             }
            },
            "type": "histogram"
           }
          ],
          "histogram2d": [
           {
            "colorbar": {
             "outlinewidth": 0,
             "ticks": ""
            },
            "colorscale": [
             [
              0,
              "#0d0887"
             ],
             [
              0.1111111111111111,
              "#46039f"
             ],
             [
              0.2222222222222222,
              "#7201a8"
             ],
             [
              0.3333333333333333,
              "#9c179e"
             ],
             [
              0.4444444444444444,
              "#bd3786"
             ],
             [
              0.5555555555555556,
              "#d8576b"
             ],
             [
              0.6666666666666666,
              "#ed7953"
             ],
             [
              0.7777777777777778,
              "#fb9f3a"
             ],
             [
              0.8888888888888888,
              "#fdca26"
             ],
             [
              1,
              "#f0f921"
             ]
            ],
            "type": "histogram2d"
           }
          ],
          "histogram2dcontour": [
           {
            "colorbar": {
             "outlinewidth": 0,
             "ticks": ""
            },
            "colorscale": [
             [
              0,
              "#0d0887"
             ],
             [
              0.1111111111111111,
              "#46039f"
             ],
             [
              0.2222222222222222,
              "#7201a8"
             ],
             [
              0.3333333333333333,
              "#9c179e"
             ],
             [
              0.4444444444444444,
              "#bd3786"
             ],
             [
              0.5555555555555556,
              "#d8576b"
             ],
             [
              0.6666666666666666,
              "#ed7953"
             ],
             [
              0.7777777777777778,
              "#fb9f3a"
             ],
             [
              0.8888888888888888,
              "#fdca26"
             ],
             [
              1,
              "#f0f921"
             ]
            ],
            "type": "histogram2dcontour"
           }
          ],
          "mesh3d": [
           {
            "colorbar": {
             "outlinewidth": 0,
             "ticks": ""
            },
            "type": "mesh3d"
           }
          ],
          "parcoords": [
           {
            "line": {
             "colorbar": {
              "outlinewidth": 0,
              "ticks": ""
             }
            },
            "type": "parcoords"
           }
          ],
          "pie": [
           {
            "automargin": true,
            "type": "pie"
           }
          ],
          "scatter": [
           {
            "fillpattern": {
             "fillmode": "overlay",
             "size": 10,
             "solidity": 0.2
            },
            "type": "scatter"
           }
          ],
          "scatter3d": [
           {
            "line": {
             "colorbar": {
              "outlinewidth": 0,
              "ticks": ""
             }
            },
            "marker": {
             "colorbar": {
              "outlinewidth": 0,
              "ticks": ""
             }
            },
            "type": "scatter3d"
           }
          ],
          "scattercarpet": [
           {
            "marker": {
             "colorbar": {
              "outlinewidth": 0,
              "ticks": ""
             }
            },
            "type": "scattercarpet"
           }
          ],
          "scattergeo": [
           {
            "marker": {
             "colorbar": {
              "outlinewidth": 0,
              "ticks": ""
             }
            },
            "type": "scattergeo"
           }
          ],
          "scattergl": [
           {
            "marker": {
             "colorbar": {
              "outlinewidth": 0,
              "ticks": ""
             }
            },
            "type": "scattergl"
           }
          ],
          "scattermapbox": [
           {
            "marker": {
             "colorbar": {
              "outlinewidth": 0,
              "ticks": ""
             }
            },
            "type": "scattermapbox"
           }
          ],
          "scatterpolar": [
           {
            "marker": {
             "colorbar": {
              "outlinewidth": 0,
              "ticks": ""
             }
            },
            "type": "scatterpolar"
           }
          ],
          "scatterpolargl": [
           {
            "marker": {
             "colorbar": {
              "outlinewidth": 0,
              "ticks": ""
             }
            },
            "type": "scatterpolargl"
           }
          ],
          "scatterternary": [
           {
            "marker": {
             "colorbar": {
              "outlinewidth": 0,
              "ticks": ""
             }
            },
            "type": "scatterternary"
           }
          ],
          "surface": [
           {
            "colorbar": {
             "outlinewidth": 0,
             "ticks": ""
            },
            "colorscale": [
             [
              0,
              "#0d0887"
             ],
             [
              0.1111111111111111,
              "#46039f"
             ],
             [
              0.2222222222222222,
              "#7201a8"
             ],
             [
              0.3333333333333333,
              "#9c179e"
             ],
             [
              0.4444444444444444,
              "#bd3786"
             ],
             [
              0.5555555555555556,
              "#d8576b"
             ],
             [
              0.6666666666666666,
              "#ed7953"
             ],
             [
              0.7777777777777778,
              "#fb9f3a"
             ],
             [
              0.8888888888888888,
              "#fdca26"
             ],
             [
              1,
              "#f0f921"
             ]
            ],
            "type": "surface"
           }
          ],
          "table": [
           {
            "cells": {
             "fill": {
              "color": "#EBF0F8"
             },
             "line": {
              "color": "white"
             }
            },
            "header": {
             "fill": {
              "color": "#C8D4E3"
             },
             "line": {
              "color": "white"
             }
            },
            "type": "table"
           }
          ]
         },
         "layout": {
          "annotationdefaults": {
           "arrowcolor": "#2a3f5f",
           "arrowhead": 0,
           "arrowwidth": 1
          },
          "autotypenumbers": "strict",
          "coloraxis": {
           "colorbar": {
            "outlinewidth": 0,
            "ticks": ""
           }
          },
          "colorscale": {
           "diverging": [
            [
             0,
             "#8e0152"
            ],
            [
             0.1,
             "#c51b7d"
            ],
            [
             0.2,
             "#de77ae"
            ],
            [
             0.3,
             "#f1b6da"
            ],
            [
             0.4,
             "#fde0ef"
            ],
            [
             0.5,
             "#f7f7f7"
            ],
            [
             0.6,
             "#e6f5d0"
            ],
            [
             0.7,
             "#b8e186"
            ],
            [
             0.8,
             "#7fbc41"
            ],
            [
             0.9,
             "#4d9221"
            ],
            [
             1,
             "#276419"
            ]
           ],
           "sequential": [
            [
             0,
             "#0d0887"
            ],
            [
             0.1111111111111111,
             "#46039f"
            ],
            [
             0.2222222222222222,
             "#7201a8"
            ],
            [
             0.3333333333333333,
             "#9c179e"
            ],
            [
             0.4444444444444444,
             "#bd3786"
            ],
            [
             0.5555555555555556,
             "#d8576b"
            ],
            [
             0.6666666666666666,
             "#ed7953"
            ],
            [
             0.7777777777777778,
             "#fb9f3a"
            ],
            [
             0.8888888888888888,
             "#fdca26"
            ],
            [
             1,
             "#f0f921"
            ]
           ],
           "sequentialminus": [
            [
             0,
             "#0d0887"
            ],
            [
             0.1111111111111111,
             "#46039f"
            ],
            [
             0.2222222222222222,
             "#7201a8"
            ],
            [
             0.3333333333333333,
             "#9c179e"
            ],
            [
             0.4444444444444444,
             "#bd3786"
            ],
            [
             0.5555555555555556,
             "#d8576b"
            ],
            [
             0.6666666666666666,
             "#ed7953"
            ],
            [
             0.7777777777777778,
             "#fb9f3a"
            ],
            [
             0.8888888888888888,
             "#fdca26"
            ],
            [
             1,
             "#f0f921"
            ]
           ]
          },
          "colorway": [
           "#636efa",
           "#EF553B",
           "#00cc96",
           "#ab63fa",
           "#FFA15A",
           "#19d3f3",
           "#FF6692",
           "#B6E880",
           "#FF97FF",
           "#FECB52"
          ],
          "font": {
           "color": "#2a3f5f"
          },
          "geo": {
           "bgcolor": "white",
           "lakecolor": "white",
           "landcolor": "#E5ECF6",
           "showlakes": true,
           "showland": true,
           "subunitcolor": "white"
          },
          "hoverlabel": {
           "align": "left"
          },
          "hovermode": "closest",
          "mapbox": {
           "style": "light"
          },
          "paper_bgcolor": "white",
          "plot_bgcolor": "#E5ECF6",
          "polar": {
           "angularaxis": {
            "gridcolor": "white",
            "linecolor": "white",
            "ticks": ""
           },
           "bgcolor": "#E5ECF6",
           "radialaxis": {
            "gridcolor": "white",
            "linecolor": "white",
            "ticks": ""
           }
          },
          "scene": {
           "xaxis": {
            "backgroundcolor": "#E5ECF6",
            "gridcolor": "white",
            "gridwidth": 2,
            "linecolor": "white",
            "showbackground": true,
            "ticks": "",
            "zerolinecolor": "white"
           },
           "yaxis": {
            "backgroundcolor": "#E5ECF6",
            "gridcolor": "white",
            "gridwidth": 2,
            "linecolor": "white",
            "showbackground": true,
            "ticks": "",
            "zerolinecolor": "white"
           },
           "zaxis": {
            "backgroundcolor": "#E5ECF6",
            "gridcolor": "white",
            "gridwidth": 2,
            "linecolor": "white",
            "showbackground": true,
            "ticks": "",
            "zerolinecolor": "white"
           }
          },
          "shapedefaults": {
           "line": {
            "color": "#2a3f5f"
           }
          },
          "ternary": {
           "aaxis": {
            "gridcolor": "white",
            "linecolor": "white",
            "ticks": ""
           },
           "baxis": {
            "gridcolor": "white",
            "linecolor": "white",
            "ticks": ""
           },
           "bgcolor": "#E5ECF6",
           "caxis": {
            "gridcolor": "white",
            "linecolor": "white",
            "ticks": ""
           }
          },
          "title": {
           "x": 0.05
          },
          "xaxis": {
           "automargin": true,
           "gridcolor": "white",
           "linecolor": "white",
           "ticks": "",
           "title": {
            "standoff": 15
           },
           "zerolinecolor": "white",
           "zerolinewidth": 2
          },
          "yaxis": {
           "automargin": true,
           "gridcolor": "white",
           "linecolor": "white",
           "ticks": "",
           "title": {
            "standoff": 15
           },
           "zerolinecolor": "white",
           "zerolinewidth": 2
          }
         }
        },
        "title": {
         "text": "Evolução do Financiamento (SAC com TR)"
        },
        "xaxis": {
         "anchor": "y",
         "domain": [
          0,
          1
         ],
         "title": {
          "text": "Mês"
         }
        },
        "yaxis": {
         "anchor": "x",
         "domain": [
          0,
          1
         ],
         "title": {
          "text": "Valor (R$)"
         }
        }
       }
      }
     },
     "metadata": {},
     "output_type": "display_data"
    },
    {
     "data": {
      "image/png": "[encoded data removed]",
      "text/plain": [
       "<Figure size 1400x700 with 1 Axes>"
      ]
     },
     "metadata": {},
     "output_type": "display_data"
    },
    {
     "name": "stdout",
     "output_type": "stream",
     "text": [
      "\n",
      "--- Resultados Finais da Simulação ---\n",
      "Total pago em prestações: R$532,407.82\n",
      "Valor total pago (incluindo entrada): R$595,407.82\n",
      "Relação (Total pago / Valor do bem): 1.89\n",
      "O financiamento foi quitado ao final do período.\n",
      "--------------------------------------\n",
      "\n",
      "Tabela detalhada salva como 'simulador_casa.xlsx'.\n"
     ]
    },
    {
     "data": {
      "text/html": [
       "<div>\n",
       "<style scoped>\n",
       "    .dataframe tbody tr th:only-of-type {\n",
       "        vertical-align: middle;\n",
       "    }\n",
       "\n",
       "    .dataframe tbody tr th {\n",
       "        vertical-align: top;\n",
       "    }\n",
       "\n",
       "    .dataframe thead th {\n",
       "        text-align: right;\n",
       "    }\n",
       "</style>\n",
       "<table border=\"1\" class=\"dataframe\">\n",
       "  <thead>\n",
       "    <tr style=\"text-align: right;\">\n",
       "      <th></th>\n",
       "      <th>Mês</th>\n",
       "      <th>Saldo Devedor Inicial (R$)</th>\n",
       "      <th>Correção TR (R$)</th>\n",
       "      <th>Saldo Devedor Pós-TR (R$)</th>\n",
       "      <th>Parcela de Juros (R$)</th>\n",
       "      <th>Amortização do Principal (R$)</th>\n",
       "      <th>Prestação Mensal (R$)</th>\n",
       "      <th>Saldo Devedor Final (R$)</th>\n",
       "      <th>Juros Acumulados (R$)</th>\n",
       "      <th>Amortização Acumulada (R$)</th>\n",
       "      <th>Correção TR Acumulada (R$)</th>\n",
       "    </tr>\n",
       "  </thead>\n",
       "  <tbody>\n",
       "    <tr>\n",
       "      <th>0</th>\n",
       "      <td>1</td>\n",
       "      <td>252000.00</td>\n",
       "      <td>209.04</td>\n",
       "      <td>252209.04</td>\n",
       "      <td>1966.81</td>\n",
       "      <td>1050.87</td>\n",
       "      <td>3017.68</td>\n",
       "      <td>251158.17</td>\n",
       "      <td>1966.81</td>\n",
       "      <td>1050.87</td>\n",
       "      <td>209.04</td>\n",
       "    </tr>\n",
       "    <tr>\n",
       "      <th>1</th>\n",
       "      <td>2</td>\n",
       "      <td>251158.17</td>\n",
       "      <td>208.35</td>\n",
       "      <td>251366.52</td>\n",
       "      <td>1960.24</td>\n",
       "      <td>1051.74</td>\n",
       "      <td>3011.98</td>\n",
       "      <td>250314.78</td>\n",
       "      <td>3927.05</td>\n",
       "      <td>2102.61</td>\n",
       "      <td>417.39</td>\n",
       "    </tr>\n",
       "    <tr>\n",
       "      <th>2</th>\n",
       "      <td>3</td>\n",
       "      <td>250314.78</td>\n",
       "      <td>207.65</td>\n",
       "      <td>250522.42</td>\n",
       "      <td>1953.66</td>\n",
       "      <td>1052.62</td>\n",
       "      <td>3006.27</td>\n",
       "      <td>249469.81</td>\n",
       "      <td>5880.71</td>\n",
       "      <td>3155.23</td>\n",
       "      <td>625.04</td>\n",
       "    </tr>\n",
       "    <tr>\n",
       "      <th>3</th>\n",
       "      <td>4</td>\n",
       "      <td>249469.81</td>\n",
       "      <td>206.94</td>\n",
       "      <td>249676.75</td>\n",
       "      <td>1947.06</td>\n",
       "      <td>1053.49</td>\n",
       "      <td>3000.55</td>\n",
       "      <td>248623.26</td>\n",
       "      <td>7827.77</td>\n",
       "      <td>4208.72</td>\n",
       "      <td>831.98</td>\n",
       "    </tr>\n",
       "    <tr>\n",
       "      <th>4</th>\n",
       "      <td>5</td>\n",
       "      <td>248623.26</td>\n",
       "      <td>206.24</td>\n",
       "      <td>248829.50</td>\n",
       "      <td>1940.46</td>\n",
       "      <td>1054.36</td>\n",
       "      <td>2994.82</td>\n",
       "      <td>247775.14</td>\n",
       "      <td>9768.23</td>\n",
       "      <td>5263.08</td>\n",
       "      <td>1038.22</td>\n",
       "    </tr>\n",
       "    <tr>\n",
       "      <th>...</th>\n",
       "      <td>...</td>\n",
       "      <td>...</td>\n",
       "      <td>...</td>\n",
       "      <td>...</td>\n",
       "      <td>...</td>\n",
       "      <td>...</td>\n",
       "      <td>...</td>\n",
       "      <td>...</td>\n",
       "      <td>...</td>\n",
       "      <td>...</td>\n",
       "      <td>...</td>\n",
       "    </tr>\n",
       "    <tr>\n",
       "      <th>235</th>\n",
       "      <td>236</td>\n",
       "      <td>6379.49</td>\n",
       "      <td>5.29</td>\n",
       "      <td>6384.79</td>\n",
       "      <td>49.79</td>\n",
       "      <td>1276.96</td>\n",
       "      <td>1326.75</td>\n",
       "      <td>5107.83</td>\n",
       "      <td>253368.16</td>\n",
       "      <td>273821.52</td>\n",
       "      <td>26929.38</td>\n",
       "    </tr>\n",
       "    <tr>\n",
       "      <th>236</th>\n",
       "      <td>237</td>\n",
       "      <td>5107.83</td>\n",
       "      <td>4.24</td>\n",
       "      <td>5112.07</td>\n",
       "      <td>39.87</td>\n",
       "      <td>1278.02</td>\n",
       "      <td>1317.88</td>\n",
       "      <td>3834.05</td>\n",
       "      <td>253408.03</td>\n",
       "      <td>275099.54</td>\n",
       "      <td>26933.62</td>\n",
       "    </tr>\n",
       "    <tr>\n",
       "      <th>237</th>\n",
       "      <td>238</td>\n",
       "      <td>3834.05</td>\n",
       "      <td>3.18</td>\n",
       "      <td>3837.23</td>\n",
       "      <td>29.92</td>\n",
       "      <td>1279.08</td>\n",
       "      <td>1309.00</td>\n",
       "      <td>2558.15</td>\n",
       "      <td>253437.95</td>\n",
       "      <td>276378.62</td>\n",
       "      <td>26936.80</td>\n",
       "    </tr>\n",
       "    <tr>\n",
       "      <th>238</th>\n",
       "      <td>239</td>\n",
       "      <td>2558.15</td>\n",
       "      <td>2.12</td>\n",
       "      <td>2560.28</td>\n",
       "      <td>19.97</td>\n",
       "      <td>1280.14</td>\n",
       "      <td>1300.10</td>\n",
       "      <td>1280.14</td>\n",
       "      <td>253457.92</td>\n",
       "      <td>277658.76</td>\n",
       "      <td>26938.92</td>\n",
       "    </tr>\n",
       "    <tr>\n",
       "      <th>239</th>\n",
       "      <td>240</td>\n",
       "      <td>1280.14</td>\n",
       "      <td>1.06</td>\n",
       "      <td>1281.20</td>\n",
       "      <td>9.99</td>\n",
       "      <td>1281.20</td>\n",
       "      <td>1291.19</td>\n",
       "      <td>0.00</td>\n",
       "      <td>253467.91</td>\n",
       "      <td>278939.96</td>\n",
       "      <td>26939.98</td>\n",
       "    </tr>\n",
       "  </tbody>\n",
       "</table>\n",
       "<p>240 rows × 11 columns</p>\n",
       "</div>"
      ],
      "text/plain": [
       "     Mês  Saldo Devedor Inicial (R$)  Correção TR (R$)  \\\n",
       "0      1                   252000.00            209.04   \n",
       "1      2                   251158.17            208.35   \n",
       "2      3                   250314.78            207.65   \n",
       "3      4                   249469.81            206.94   \n",
       "4      5                   248623.26            206.24   \n",
       "..   ...                         ...               ...   \n",
       "235  236                     6379.49              5.29   \n",
       "236  237                     5107.83              4.24   \n",
       "237  238                     3834.05              3.18   \n",
       "238  239                     2558.15              2.12   \n",
       "239  240                     1280.14              1.06   \n",
       "\n",
       "     Saldo Devedor Pós-TR (R$)  Parcela de Juros (R$)  \\\n",
       "0                    252209.04                1966.81   \n",
       "1                    251366.52                1960.24   \n",
       "2                    250522.42                1953.66   \n",
       "3                    249676.75                1947.06   \n",
       "4                    248829.50                1940.46   \n",
       "..                         ...                    ...   \n",
       "235                    6384.79                  49.79   \n",
       "236                    5112.07                  39.87   \n",
       "237                    3837.23                  29.92   \n",
       "238                    2560.28                  19.97   \n",
       "239                    1281.20                   9.99   \n",
       "\n",
       "     Amortização do Principal (R$)  Prestação Mensal (R$)  \\\n",
       "0                          1050.87                3017.68   \n",
       "1                          1051.74                3011.98   \n",
       "2                          1052.62                3006.27   \n",
       "3                          1053.49                3000.55   \n",
       "4                          1054.36                2994.82   \n",
       "..                             ...                    ...   \n",
       "235                        1276.96                1326.75   \n",
       "236                        1278.02                1317.88   \n",
       "237                        1279.08                1309.00   \n",
       "238                        1280.14                1300.10   \n",
       "239                        1281.20                1291.19   \n",
       "\n",
       "     Saldo Devedor Final (R$)  Juros Acumulados (R$)  \\\n",
       "0                   251158.17                1966.81   \n",
       "1                   250314.78                3927.05   \n",
       "2                   249469.81                5880.71   \n",
       "3                   248623.26                7827.77   \n",
       "4                   247775.14                9768.23   \n",
       "..                        ...                    ...   \n",
       "235                   5107.83              253368.16   \n",
       "236                   3834.05              253408.03   \n",
       "237                   2558.15              253437.95   \n",
       "238                   1280.14              253457.92   \n",
       "239                      0.00              253467.91   \n",
       "\n",
       "     Amortização Acumulada (R$)  Correção TR Acumulada (R$)  \n",
       "0                       1050.87                      209.04  \n",
       "1                       2102.61                      417.39  \n",
       "2                       3155.23                      625.04  \n",
       "3                       4208.72                      831.98  \n",
       "4                       5263.08                     1038.22  \n",
       "..                          ...                         ...  \n",
       "235                   273821.52                    26929.38  \n",
       "236                   275099.54                    26933.62  \n",
       "237                   276378.62                    26936.80  \n",
       "238                   277658.76                    26938.92  \n",
       "239                   278939.96                    26939.98  \n",
       "\n",
       "[240 rows x 11 columns]"
      ]
     },
     "execution_count": 4,
     "metadata": {},
     "output_type": "execute_result"
    }
   ],
   "source": [
    "simulador_casa(cet_anual=0.0977, t=240, valor_total_bem=315000, entrada_percentual=0.2,taxa_tr_anual=0.01)"
   ]
  }
 ],
 "metadata": {
  "kernelspec": {
   "display_name": "Python 3",
   "language": "python",
   "name": "python3"
  },
  "language_info": {
   "codemirror_mode": {
    "name": "ipython",
    "version": 3
   },
   "file_extension": ".py",
   "mimetype": "text/x-python",
   "name": "python",
   "nbconvert_exporter": "python",
   "pygments_lexer": "ipython3",
   "version": "3.12.0"
  }
 },
 "nbformat": 4,
 "nbformat_minor": 2
}
